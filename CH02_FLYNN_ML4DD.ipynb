{
  "cells": [
    {
      "cell_type": "markdown",
      "metadata": {
        "id": "view-in-github",
        "colab_type": "text"
      },
      "source": [
        "<a href=\"https://colab.research.google.com/github/kasseev/ml-drug-discovery/blob/main/CH02_FLYNN_ML4DD.ipynb\" target=\"_parent\"><img src=\"https://colab.research.google.com/assets/colab-badge.svg\" alt=\"Open In Colab\"/></a>"
      ]
    },
    {
      "cell_type": "markdown",
      "metadata": {
        "id": "1amqCjoSzCMW"
      },
      "source": [
        "# 📚 Chapter 2: Ligand-based Screening: Filtering & Similarity Searching"
      ]
    },
    {
      "cell_type": "markdown",
      "metadata": {
        "id": "G1A_8EKI0J7O"
      },
      "source": [
        "*This notebook contains the code examples in chapter 2. For readability, the chapter notebooks only contain runnable code blocks and section titles. They omit the rest of the material in the book, i.e., text paragraphs, figures (unless generated as part of one of the code blocks), equations, and pseudocode. I recommend reading the notebooks side-by-side with the book!*\n",
        "\n",
        "You can work through this notebook locally as well as via Google Colab:\n",
        "<a target=\"_blank\" href=\"https://colab.research.google.com/github/nrflynn2/ml-drug-discovery/blob/main/CH02_FLYNN_ML4DD.ipynb\">\n",
        "  <img src=\"https://colab.research.google.com/assets/colab-badge.svg\" alt=\"Open In Colab\"/>\n",
        "</a>\n",
        "\n",
        "This chapter covers\n",
        "- Virtual screening taxonomy with focus on ligand-based screening\n",
        "- How to acquire, curate, visualize, and represent molecule datasets\n",
        "- Compound filtering of undesirable properties and substructures\n",
        "- Similarity searching to uncover antimalarial hit compounds"
      ]
    },
    {
      "cell_type": "markdown",
      "metadata": {
        "id": "BK9Rilph0J7P"
      },
      "source": [
        "## <b> <font color='#A20025'> ⚙️ Environment Setup"
      ]
    },
    {
      "cell_type": "markdown",
      "metadata": {
        "id": "L5Q01Bt50J7R"
      },
      "source": [
        "**❗️LOCAL ENVIRONMENT:** If you are running the Python notebook locally on your computer, then we recommend following the README setup instructions on how to use conda (or a similar package) to set up an environment using the file `ml4dd2025.yml`\n",
        "\n",
        "**❗️COLAB ENVIRONMENT:** If you are running the code via an instance on Google Colab, you can download the necessary files and create the environment by running the following cells marked as **Colab users only**."
      ]
    },
    {
      "cell_type": "code",
      "execution_count": null,
      "metadata": {
        "id": "1eJYG5as0J7S"
      },
      "outputs": [],
      "source": [
        "# Colab users only\n",
        "import os\n",
        "CHAPTER = \"ch02\"\n",
        "os.makedirs(f\"artifacts/{CHAPTER}\", exist_ok=True)\n",
        "os.makedirs(f\"data/{CHAPTER}\", exist_ok=True)\n",
        "os.makedirs(f\"figures/{CHAPTER}\", exist_ok=True)\n",
        "!wget \"https://raw.githubusercontent.com/nrflynn2/ml-drug-discovery/main/data/ch02/Specs.sdf.gz\" -O \"data/ch02/Specs.sdf.gz\"\n",
        "!wget \"https://raw.githubusercontent.com/nrflynn2/ml-drug-discovery/main/data/ch02/glaxo_structural_alerts.csv\" -O \"data/ch02/glaxo_structural_alerts.csv\"\n",
        "!wget \"https://raw.githubusercontent.com/nrflynn2/ml-drug-discovery/main/data/ch02/MalariaBox400compoundsDec2014.xls\" -O \"data/ch02/MalariaBox400compoundsDec2014.xls\"\n",
        "!wget \"https://raw.githubusercontent.com/nrflynn2/ml-drug-discovery/main/artifacts/ch02/glaxo_match_df.pkl.gz\" -O \"artifacts/ch02/glaxo_match_df.pkl.gz\"\n",
        "!wget \"https://raw.githubusercontent.com/nrflynn2/ml-drug-discovery/main/artifacts/ch02/specs_filtered.pkl.gz\" -O \"artifacts/ch02/specs_filtered.pkl.gz\"\n",
        "!wget \"https://raw.githubusercontent.com/nrflynn2/ml-drug-discovery/main/artifacts/ch02/specs_ro5_compliant.pkl.gz\" -O \"artifacts/ch02/specs_ro5_compliant.pkl.gz\"\n",
        "!wget \"https://raw.githubusercontent.com/nrflynn2/ml-drug-discovery/main/artifacts/ch02/specs.pkl.gz\" -O \"artifacts/ch02/spec.pkl.gz\"\n",
        "!wget \"https://raw.githubusercontent.com/nrflynn2/ml-drug-discovery/main/artifacts/ch02/specs_ro5_pains_brenk_compliant.pkl.gz\" -O \"artifacts/ch02/specs_ro5_pains_brenk_compliant.pkl.gz\"\n",
        "!wget \"https://raw.githubusercontent.com/nrflynn2/ml-drug-discovery/main/ml4dd2025.yml\" -O \"env.yml\"\n",
        "!wget \"https://raw.githubusercontent.com/nrflynn2/ml-drug-discovery/main/utils.py\" -O \"utils.py\""
      ]
    },
    {
      "cell_type": "code",
      "execution_count": null,
      "metadata": {
        "id": "xiPBTpbY0J7V"
      },
      "outputs": [],
      "source": [
        "# Colab users only\n",
        "!pip install -q condacolab\n",
        "import condacolab\n",
        "condacolab.install() #  The kernel will restart after this cell has run, which is normal."
      ]
    },
    {
      "cell_type": "code",
      "execution_count": null,
      "metadata": {
        "id": "g_pkgmy_0J7W"
      },
      "outputs": [],
      "source": [
        "# Colab users only\n",
        "# Verify condalab installation\n",
        "import condacolab\n",
        "condacolab.check()"
      ]
    },
    {
      "cell_type": "code",
      "execution_count": null,
      "metadata": {
        "id": "MmRIdjvT0J7W"
      },
      "outputs": [],
      "source": [
        "# Colab users only\n",
        "# We can only use the base environment in `condacolab`, so we will update it with the `env.yml` file we downloaded earlier.\n",
        "!mamba env update -n base -f env.yml"
      ]
    },
    {
      "cell_type": "markdown",
      "metadata": {
        "id": "Uz8bXDOU0J7X"
      },
      "source": [
        "### <b> <font color='#A20025'> Prepare Data Files"
      ]
    },
    {
      "cell_type": "markdown",
      "metadata": {
        "id": "A-lUsEgh0J7X"
      },
      "source": [
        "First, we'll make sure our data files are ready. The code below will decompress the SDF file we'll be using."
      ]
    },
    {
      "cell_type": "code",
      "execution_count": null,
      "metadata": {
        "id": "rE1kBSAo0J7Y",
        "outputId": "7da7eea1-b1f8-4db9-c032-6a5ed456840a"
      },
      "outputs": [
        {
          "name": "stdout",
          "output_type": "stream",
          "text": [
            "Decompressing data/ch02/Specs.sdf.gz...\n",
            "✓ Successfully decompressed file to data/ch02/Specs.sdf\n"
          ]
        }
      ],
      "source": [
        "# Check if the file needs to be decompressed\n",
        "import os\n",
        "import subprocess\n",
        "\n",
        "def prepare_data_files():\n",
        "    \"\"\"\n",
        "    Prepare data files for the notebook by decompressing if needed.\n",
        "\n",
        "    Returns:\n",
        "        bool: True if files are ready\n",
        "    \"\"\"\n",
        "    specs_sdf_path = \"data/ch02/Specs.sdf\"\n",
        "    specs_sdf_gz_path = \"data/ch02/Specs.sdf.gz\"\n",
        "\n",
        "    # Check if the decompressed file already exists\n",
        "    if os.path.exists(specs_sdf_path):\n",
        "        print(f\"✓ File already exists: {specs_sdf_path}\")\n",
        "        return True\n",
        "\n",
        "    # Check if the compressed file exists\n",
        "    if not os.path.exists(specs_sdf_gz_path):\n",
        "        print(f\"✗ Compressed file not found: {specs_sdf_gz_path}\")\n",
        "        print(\"Please download the file from the repository or use the provided data.\")\n",
        "        return False\n",
        "\n",
        "    # Decompress the file\n",
        "    print(f\"Decompressing {specs_sdf_gz_path}...\")\n",
        "    try:\n",
        "        subprocess.run(['gzip', '-d', specs_sdf_gz_path], check=True)\n",
        "        print(f\"✓ Successfully decompressed file to {specs_sdf_path}\")\n",
        "        return True\n",
        "    except subprocess.CalledProcessError:\n",
        "        print(\"✗ Failed to decompress file using gzip\")\n",
        "\n",
        "        # Try with Python's gzip module as a fallback\n",
        "        try:\n",
        "            import gzip\n",
        "            import shutil\n",
        "            with gzip.open(specs_sdf_gz_path, 'rb') as f_in:\n",
        "                with open(specs_sdf_path, 'wb') as f_out:\n",
        "                    shutil.copyfileobj(f_in, f_out)\n",
        "            print(f\"✓ Successfully decompressed file to {specs_sdf_path} using Python\")\n",
        "            return True\n",
        "        except Exception as e:\n",
        "            print(f\"✗ Failed to decompress file: {str(e)}\")\n",
        "            return False\n",
        "\n",
        "# Prepare the data files\n",
        "data_ready = prepare_data_files()\n",
        "if not data_ready:\n",
        "    print(\"\\nPlease resolve the data issues before continuing.\")"
      ]
    },
    {
      "cell_type": "markdown",
      "metadata": {
        "id": "G38C-vTv0J7d"
      },
      "source": [
        "### <b> <font color='#A20025'> Import Packages"
      ]
    },
    {
      "cell_type": "markdown",
      "metadata": {
        "id": "oQurglsp0J7e"
      },
      "source": [
        "Now let's import all the packages we'll need for this chapter."
      ]
    },
    {
      "cell_type": "code",
      "execution_count": null,
      "metadata": {
        "id": "-wK64Ozv0J7e"
      },
      "outputs": [],
      "source": [
        "# Core data science packages\n",
        "import numpy as np\n",
        "import pandas as pd\n",
        "import matplotlib.pyplot as plt\n",
        "import matplotlib as mpl\n",
        "import seaborn as sns\n",
        "\n",
        "# Chemical informatics packages\n",
        "from rdkit import Chem\n",
        "from rdkit.Chem import (\n",
        "    AllChem,\n",
        "    Draw,\n",
        "    PandasTools,\n",
        "    FilterCatalog,\n",
        "    Descriptors,\n",
        "    MolFromSmiles,\n",
        "    MolFromSmarts,\n",
        ")\n",
        "from rdkit import DataStructs\n",
        "from rdkit.Chem.rdFingerprintGenerator import AdditionalOutput, GetMorganGenerator\n",
        "\n",
        "# Utility functions\n",
        "from utils import (\n",
        "    save_molecular_dataframe,\n",
        "    load_molecular_dataframe,\n",
        "    list_saved_dataframes,\n",
        ")\n",
        "\n",
        "# Set random seed for reproducibility\n",
        "np.random.seed(42)"
      ]
    },
    {
      "cell_type": "code",
      "execution_count": null,
      "metadata": {
        "id": "Moh4aerG0J7f"
      },
      "outputs": [],
      "source": [
        "# Matplotlib and Seaborn setup for consistent visualizations\n",
        "def setup_visualization_style():\n",
        "    \"\"\"Configure consistent visualization style for the notebook\"\"\"\n",
        "    plt.style.use('seaborn-v0_8-whitegrid')\n",
        "    colors = [\"#A20025\", \"#6C8EBF\"]  # Define a color palette\n",
        "    sns.set_palette(sns.color_palette(colors))\n",
        "    plt.rcParams['axes.titlesize'] = 18\n",
        "    plt.rcParams['axes.labelsize'] = 16\n",
        "\n",
        "setup_visualization_style()\n",
        "%matplotlib inline"
      ]
    },
    {
      "cell_type": "code",
      "execution_count": null,
      "metadata": {
        "id": "JFLJLhPA0J7g"
      },
      "outputs": [],
      "source": [
        "# RDKit drawing setup\n",
        "def setup_rdkit_drawing():\n",
        "    \"\"\"Configure RDKit drawing settings for consistent molecular visualizations\"\"\"\n",
        "    d2d = Draw.MolDraw2DSVG(-1, -1)\n",
        "    dopts = d2d.drawOptions()\n",
        "    dopts.useBWAtomPalette()\n",
        "    dopts.setHighlightColour((.635, .0, .145, .4))\n",
        "    #dopts.baseFontSize = 1.0\n",
        "    dopts.additionalAtomLabelPadding = 0.15\n",
        "    dopts.dotsPerAngstrom = 100\n",
        "    return dopts\n",
        "\n",
        "rdkit_drawing_options = setup_rdkit_drawing()"
      ]
    },
    {
      "cell_type": "markdown",
      "metadata": {
        "id": "s8b0IgzY0J7g"
      },
      "source": [
        "## <b> <font color='#A20025'> 1️⃣ What is Virtual Screening?"
      ]
    },
    {
      "cell_type": "markdown",
      "metadata": {
        "id": "nudcIFCK0J7g"
      },
      "source": [
        "**Companion code does not accompany this section of the book.**\n",
        "\n",
        "Virtual screening is a computational technique used in drug discovery to identify potential drug candidates from large chemical libraries. It can be broadly categorized into two approaches:\n",
        "\n",
        "1. **Structure-based virtual screening**: Uses the 3D structure of the target protein to identify molecules that can bind to it.\n",
        "2. **Ligand-based virtual screening**: Uses the properties of known active compounds to identify similar molecules that might have similar activity.\n",
        "\n",
        "This notebook focuses on **ligand-based virtual screening**, specifically:\n",
        "\n",
        "- Filtering compounds based on physicochemical properties\n",
        "- Removing compounds with problematic substructures\n",
        "- Searching for compounds similar to known active molecules\n",
        "\n",
        "We'll cover these applications in the following sections."
      ]
    },
    {
      "cell_type": "markdown",
      "metadata": {
        "id": "nZ5YHwqf0iTl"
      },
      "source": [
        "## <b> <font color='#A20025'> 2️⃣ Loading a Virtual Screening Library"
      ]
    },
    {
      "cell_type": "markdown",
      "metadata": {
        "id": "mM-x1DS60J7h"
      },
      "source": [
        "First, we'll load a chemical library from a Structure-Data File (SDF), which is a common format for storing chemical structures and associated data."
      ]
    },
    {
      "cell_type": "markdown",
      "metadata": {
        "id": "0w0xnmsl0pie"
      },
      "source": [
        "### <b> <font color='#A20025'> Understanding the Dataset as a Structure Data File"
      ]
    },
    {
      "cell_type": "markdown",
      "metadata": {
        "id": "_uDAGBaG0J7i"
      },
      "source": [
        "SDF (Structure-Data File) is a file format that contains chemical structures and associated data. Each structure in an SDF has:\n",
        "- A molecular structure represented in the Mol format\n",
        "- Optional associated data fields for properties, identifiers, etc.\n",
        "\n",
        "We'll use RDKit's `PandasTools` to load the SDF into a pandas DataFrame. Note that the cell will output a few warnings or errors while processing certain problematic molecules. These are expected and you can ignore them.\n",
        "\n",
        "**😱 Long Running Code Block**\n",
        "\n",
        "The following code block may take a long time to run (10 to 12 minutes). This is a great chance to read the corresponding section in the book! But if you want to save time, you can skip this cell and load the resulting, processed data in the cell that comes afterwards."
      ]
    },
    {
      "cell_type": "code",
      "execution_count": null,
      "metadata": {
        "id": "zCk0s9bP0J7i",
        "outputId": "67571be7-671c-4975-ad93-cb37acb4a4af"
      },
      "outputs": [
        {
          "name": "stdout",
          "output_type": "stream",
          "text": [
            "Loading SDF file: data/ch02/Specs.sdf\n"
          ]
        },
        {
          "name": "stderr",
          "output_type": "stream",
          "text": [
            "[16:33:49] Warning: ambiguous stereochemistry - opposing bonds have opposite wedging - at atom 2 ignored.\n",
            "[16:33:49] Warning: ambiguous stereochemistry - opposing bonds have opposite wedging - at atom 2 ignored.\n",
            "[16:34:16] Explicit valence for atom # 9 N, 4, is greater than permitted\n",
            "[16:34:16] ERROR: Could not sanitize molecule ending on line 6498564\n",
            "[16:34:16] ERROR: Explicit valence for atom # 9 N, 4, is greater than permitted\n",
            "[16:35:03] Explicit valence for atom # 9 N, 4, is greater than permitted\n",
            "[16:35:03] ERROR: Could not sanitize molecule ending on line 8305274\n",
            "[16:35:03] ERROR: Explicit valence for atom # 9 N, 4, is greater than permitted\n",
            "[16:35:03] Explicit valence for atom # 10 N, 4, is greater than permitted\n",
            "[16:35:03] ERROR: Could not sanitize molecule ending on line 8315499\n",
            "[16:35:03] ERROR: Explicit valence for atom # 10 N, 4, is greater than permitted\n",
            "[16:35:31] Warning: ambiguous stereochemistry - opposing bonds have opposite wedging - at atom 3 ignored.\n",
            "[16:35:31] Warning: ambiguous stereochemistry - opposing bonds have opposite wedging - at atom 3 ignored.\n",
            "[16:35:31] Warning: ambiguous stereochemistry - opposing bonds have opposite wedging - at atom 2 ignored.\n",
            "[16:35:31] Warning: ambiguous stereochemistry - opposing bonds have opposite wedging - at atom 2 ignored.\n",
            "[16:36:05] Warning: ambiguous stereochemistry - opposing bonds have opposite wedging - at atom 4 ignored.\n",
            "[16:36:05] Warning: ambiguous stereochemistry - opposing bonds have opposite wedging - at atom 4 ignored.\n",
            "[16:36:05] Warning: ambiguous stereochemistry - opposing bonds have opposite wedging - at atom 4 ignored.\n",
            "[16:36:05] Warning: ambiguous stereochemistry - opposing bonds have opposite wedging - at atom 4 ignored.\n",
            "[16:38:47] Warning: ambiguous stereochemistry - opposing bonds have opposite wedging - at atom 5 ignored.\n",
            "[16:38:47] Warning: ambiguous stereochemistry - opposing bonds have opposite wedging - at atom 5 ignored.\n",
            "[16:38:47] Warning: ambiguous stereochemistry - opposing bonds have opposite wedging - at atom 4 ignored.\n",
            "[16:38:47] Warning: ambiguous stereochemistry - opposing bonds have opposite wedging - at atom 4 ignored.\n",
            "[16:39:58] Explicit valence for atom # 2 N, 4, is greater than permitted\n",
            "[16:39:58] ERROR: Could not sanitize molecule ending on line 20625298\n",
            "[16:39:58] ERROR: Explicit valence for atom # 2 N, 4, is greater than permitted\n"
          ]
        },
        {
          "name": "stdout",
          "output_type": "stream",
          "text": [
            "Adding RDKit molecule objects...\n",
            "Loaded 212670 compounds\n",
            "Valid molecules: 212670\n",
            "Invalid molecules: 0\n",
            "\n",
            "Sample data:\n"
          ]
        },
        {
          "data": {
            "text/html": [
              "<div>\n",
              "<style scoped>\n",
              "    .dataframe tbody tr th:only-of-type {\n",
              "        vertical-align: middle;\n",
              "    }\n",
              "\n",
              "    .dataframe tbody tr th {\n",
              "        vertical-align: top;\n",
              "    }\n",
              "\n",
              "    .dataframe thead th {\n",
              "        text-align: right;\n",
              "    }\n",
              "</style>\n",
              "<table border=\"1\" class=\"dataframe\">\n",
              "  <thead>\n",
              "    <tr style=\"text-align: right;\">\n",
              "      <th></th>\n",
              "      <th>PUBCHEM_SUBSTANCE_ID</th>\n",
              "      <th>smiles</th>\n",
              "      <th>mol</th>\n",
              "    </tr>\n",
              "  </thead>\n",
              "  <tbody>\n",
              "    <tr>\n",
              "      <th>0</th>\n",
              "      <td>469753576</td>\n",
              "      <td>COc1ccc(N2C(=O)CC2(C(=O)Nc2c(C)cccc2C)c2ccc(C)...</td>\n",
              "      <td>&lt;rdkit.Chem.rdchem.Mol object at 0x7f75bf0610e0&gt;</td>\n",
              "    </tr>\n",
              "    <tr>\n",
              "      <th>1</th>\n",
              "      <td>469753575</td>\n",
              "      <td>CCOC(=O)c1ccc(NC2SC(=O)N(Cc3ccc(C(=O)OC)cc3)C2...</td>\n",
              "      <td>&lt;rdkit.Chem.rdchem.Mol object at 0x7f75bf063ed0&gt;</td>\n",
              "    </tr>\n",
              "    <tr>\n",
              "      <th>2</th>\n",
              "      <td>469753574</td>\n",
              "      <td>Cc1cc(Br)cc([N+](=O)[O-])c1N</td>\n",
              "      <td>&lt;rdkit.Chem.rdchem.Mol object at 0x7f75bf063df0&gt;</td>\n",
              "    </tr>\n",
              "  </tbody>\n",
              "</table>\n",
              "</div>"
            ],
            "text/plain": [
              "  PUBCHEM_SUBSTANCE_ID                                             smiles  \\\n",
              "0            469753576  COc1ccc(N2C(=O)CC2(C(=O)Nc2c(C)cccc2C)c2ccc(C)...   \n",
              "1            469753575  CCOC(=O)c1ccc(NC2SC(=O)N(Cc3ccc(C(=O)OC)cc3)C2...   \n",
              "2            469753574                       Cc1cc(Br)cc([N+](=O)[O-])c1N   \n",
              "\n",
              "                                                mol  \n",
              "0  <rdkit.Chem.rdchem.Mol object at 0x7f75bf0610e0>  \n",
              "1  <rdkit.Chem.rdchem.Mol object at 0x7f75bf063ed0>  \n",
              "2  <rdkit.Chem.rdchem.Mol object at 0x7f75bf063df0>  "
            ]
          },
          "metadata": {},
          "output_type": "display_data"
        }
      ],
      "source": [
        "def load_sdf_file(file_path, smiles_name='smiles', mol_col_name='mol'):\n",
        "    \"\"\"\n",
        "    Load an SDF file into a pandas DataFrame using RDKit.\n",
        "\n",
        "    Parameters:\n",
        "    -----------\n",
        "    file_path : str\n",
        "        Path to the SDF file\n",
        "    smiles_name : str\n",
        "        Name to use for the SMILES column\n",
        "    mol_col_name : str\n",
        "        Name to use for the molecule column\n",
        "\n",
        "    Returns:\n",
        "    --------\n",
        "    pandas.DataFrame\n",
        "        DataFrame containing the molecules from the SDF\n",
        "    \"\"\"\n",
        "    try:\n",
        "        # Load SDF file\n",
        "        print(f\"Loading SDF file: {file_path}\")\n",
        "        df = PandasTools.LoadSDF(\n",
        "            file_path,\n",
        "            smilesName=smiles_name,\n",
        "            molColName=None\n",
        "        )\n",
        "\n",
        "        # Keep only essential columns to reduce memory usage\n",
        "        essential_cols = [\"PUBCHEM_SUBSTANCE_ID\", smiles_name]\n",
        "        df = df[essential_cols]\n",
        "\n",
        "        # Add molecule objects\n",
        "        print(\"Adding RDKit molecule objects...\")\n",
        "        PandasTools.AddMoleculeColumnToFrame(df, smiles_name, mol_col_name)\n",
        "\n",
        "        # Report basic statistics\n",
        "        print(f\"Loaded {len(df)} compounds\")\n",
        "        print(f\"Valid molecules: {df[mol_col_name].notnull().sum()}\")\n",
        "        print(f\"Invalid molecules: {df[mol_col_name].isnull().sum()}\")\n",
        "\n",
        "        return df\n",
        "\n",
        "    except Exception as e:\n",
        "        print(f\"Error loading SDF file: {str(e)}\")\n",
        "        return None\n",
        "\n",
        "# Load the Specs SDF file\n",
        "specs = load_sdf_file(\"data/ch02/Specs.sdf\")\n",
        "\n",
        "if specs is None:\n",
        "    print(\"Failed to load the library. Please check the file path and format.\")\n",
        "else:\n",
        "    # Show a sample of the data\n",
        "    print(\"\\nSample data:\")\n",
        "    display(specs.head(3))"
      ]
    },
    {
      "cell_type": "code",
      "execution_count": null,
      "metadata": {
        "id": "LU0drMnD0J7k",
        "outputId": "b9427b83-de45-48db-b909-289d920f2f88"
      },
      "outputs": [
        {
          "name": "stdout",
          "output_type": "stream",
          "text": [
            "Saving dataframe with 212670 rows to data/ch02/artifacts/specs.pkl.gz...\n",
            "Successfully saved dataframe (102.4 MB)\n"
          ]
        },
        {
          "data": {
            "text/plain": [
              "'data/ch02/artifacts/specs.pkl.gz'"
            ]
          },
          "execution_count": 52,
          "metadata": {},
          "output_type": "execute_result"
        }
      ],
      "source": [
        "#save_molecular_dataframe(specs, \"specs\", chapter=\"ch02\")"
      ]
    },
    {
      "cell_type": "markdown",
      "metadata": {
        "id": "HuSjZZx-0J7l"
      },
      "source": [
        "If you skipped the above, long running code block, then you can load the necessary artifact (takes ~30 to 60 seconds) by running the below code block."
      ]
    },
    {
      "cell_type": "code",
      "execution_count": null,
      "metadata": {
        "id": "-cGsC4VQ0J7m"
      },
      "outputs": [],
      "source": [
        "specs = load_molecular_dataframe(\"specs\", chapter=\"ch02\")"
      ]
    },
    {
      "cell_type": "markdown",
      "metadata": {
        "id": "XDngsXtu0J7m"
      },
      "source": [
        "Let's take a closer look at one of the molecules in our dataset:"
      ]
    },
    {
      "cell_type": "code",
      "execution_count": null,
      "metadata": {
        "id": "Gux_vWa_0J7m",
        "outputId": "71159531-d138-417f-a86b-3af31de24464"
      },
      "outputs": [
        {
          "name": "stdout",
          "output_type": "stream",
          "text": [
            "Molecule type: <class 'rdkit.Chem.rdchem.Mol'>\n",
            "Number of atoms: 30\n",
            "Number of bonds: 33\n"
          ]
        },
        {
          "data": {
            "image/svg+xml": [
              "<svg xmlns=\"http://www.w3.org/2000/svg\" xmlns:rdkit=\"http://www.rdkit.org/xml\" xmlns:xlink=\"http://www.w3.org/1999/xlink\" version=\"1.1\" baseProfile=\"full\" xml:space=\"preserve\" width=\"400px\" height=\"300px\" viewBox=\"0 0 400 300\">\n",
              "<!-- END OF HEADER -->\n",
              "<rect style=\"opacity:1.0;fill:#FFFFFF;stroke:none\" width=\"400.0\" height=\"300.0\" x=\"0.0\" y=\"0.0\"> </rect>\n",
              "<path class=\"bond-0 atom-0 atom-1\" d=\"M 377.7,200.7 L 373.7,182.9\" style=\"fill:none;fill-rule:evenodd;stroke:#000000;stroke-width:2.0px;stroke-linecap:butt;stroke-linejoin:miter;stroke-opacity:1\"/>\n",
              "<path class=\"bond-1 atom-1 atom-2\" d=\"M 351.1,157.3 L 332.4,151.4\" style=\"fill:none;fill-rule:evenodd;stroke:#000000;stroke-width:2.0px;stroke-linecap:butt;stroke-linejoin:miter;stroke-opacity:1\"/>\n",
              "<path class=\"bond-2 atom-2 atom-3\" d=\"M 332.4,151.4 L 303.9,177.6\" style=\"fill:none;fill-rule:evenodd;stroke:#000000;stroke-width:2.0px;stroke-linecap:butt;stroke-linejoin:miter;stroke-opacity:1\"/>\n",
              "<path class=\"bond-2 atom-2 atom-3\" d=\"M 326.0,149.4 L 302.5,171.0\" style=\"fill:none;fill-rule:evenodd;stroke:#000000;stroke-width:2.0px;stroke-linecap:butt;stroke-linejoin:miter;stroke-opacity:1\"/>\n",
              "<path class=\"bond-3 atom-3 atom-4\" d=\"M 303.9,177.6 L 267.0,166.0\" style=\"fill:none;fill-rule:evenodd;stroke:#000000;stroke-width:2.0px;stroke-linecap:butt;stroke-linejoin:miter;stroke-opacity:1\"/>\n",
              "<path class=\"bond-4 atom-4 atom-5\" d=\"M 267.0,166.0 L 258.6,128.2\" style=\"fill:none;fill-rule:evenodd;stroke:#000000;stroke-width:2.0px;stroke-linecap:butt;stroke-linejoin:miter;stroke-opacity:1\"/>\n",
              "<path class=\"bond-4 atom-4 atom-5\" d=\"M 272.0,161.5 L 265.0,130.3\" style=\"fill:none;fill-rule:evenodd;stroke:#000000;stroke-width:2.0px;stroke-linecap:butt;stroke-linejoin:miter;stroke-opacity:1\"/>\n",
              "<path class=\"bond-5 atom-5 atom-6\" d=\"M 258.6,128.2 L 237.6,121.7\" style=\"fill:none;fill-rule:evenodd;stroke:#000000;stroke-width:2.0px;stroke-linecap:butt;stroke-linejoin:miter;stroke-opacity:1\"/>\n",
              "<path class=\"bond-6 atom-6 atom-7\" d=\"M 211.6,97.4 L 203.8,82.4\" style=\"fill:none;fill-rule:evenodd;stroke:#000000;stroke-width:2.0px;stroke-linecap:butt;stroke-linejoin:miter;stroke-opacity:1\"/>\n",
              "<path class=\"bond-7 atom-7 atom-8\" d=\"M 205.7,86.0 L 211.9,66.3\" style=\"fill:none;fill-rule:evenodd;stroke:#000000;stroke-width:2.0px;stroke-linecap:butt;stroke-linejoin:miter;stroke-opacity:1\"/>\n",
              "<path class=\"bond-7 atom-7 atom-8\" d=\"M 200.2,84.3 L 206.3,64.6\" style=\"fill:none;fill-rule:evenodd;stroke:#000000;stroke-width:2.0px;stroke-linecap:butt;stroke-linejoin:miter;stroke-opacity:1\"/>\n",
              "<path class=\"bond-8 atom-7 atom-9\" d=\"M 203.8,82.4 L 169.5,100.3\" style=\"fill:none;fill-rule:evenodd;stroke:#000000;stroke-width:2.0px;stroke-linecap:butt;stroke-linejoin:miter;stroke-opacity:1\"/>\n",
              "<path class=\"bond-9 atom-9 atom-10\" d=\"M 169.5,100.3 L 187.4,134.6\" style=\"fill:none;fill-rule:evenodd;stroke:#000000;stroke-width:2.0px;stroke-linecap:butt;stroke-linejoin:miter;stroke-opacity:1\"/>\n",
              "<path class=\"bond-10 atom-10 atom-11\" d=\"M 187.4,134.6 L 153.2,152.5\" style=\"fill:none;fill-rule:evenodd;stroke:#000000;stroke-width:2.0px;stroke-linecap:butt;stroke-linejoin:miter;stroke-opacity:1\"/>\n",
              "<path class=\"bond-11 atom-11 atom-12\" d=\"M 150.3,150.7 L 149.5,171.6\" style=\"fill:none;fill-rule:evenodd;stroke:#000000;stroke-width:2.0px;stroke-linecap:butt;stroke-linejoin:miter;stroke-opacity:1\"/>\n",
              "<path class=\"bond-11 atom-11 atom-12\" d=\"M 156.1,151.0 L 155.3,171.8\" style=\"fill:none;fill-rule:evenodd;stroke:#000000;stroke-width:2.0px;stroke-linecap:butt;stroke-linejoin:miter;stroke-opacity:1\"/>\n",
              "<path class=\"bond-12 atom-11 atom-13\" d=\"M 153.2,152.5 L 136.4,141.9\" style=\"fill:none;fill-rule:evenodd;stroke:#000000;stroke-width:2.0px;stroke-linecap:butt;stroke-linejoin:miter;stroke-opacity:1\"/>\n",
              "<path class=\"bond-13 atom-13 atom-14\" d=\"M 104.6,140.1 L 86.3,149.7\" style=\"fill:none;fill-rule:evenodd;stroke:#000000;stroke-width:2.0px;stroke-linecap:butt;stroke-linejoin:miter;stroke-opacity:1\"/>\n",
              "<path class=\"bond-14 atom-14 atom-15\" d=\"M 86.3,149.7 L 53.6,129.0\" style=\"fill:none;fill-rule:evenodd;stroke:#000000;stroke-width:2.0px;stroke-linecap:butt;stroke-linejoin:miter;stroke-opacity:1\"/>\n",
              "<path class=\"bond-14 atom-14 atom-15\" d=\"M 80.3,152.8 L 53.3,135.7\" style=\"fill:none;fill-rule:evenodd;stroke:#000000;stroke-width:2.0px;stroke-linecap:butt;stroke-linejoin:miter;stroke-opacity:1\"/>\n",
              "<path class=\"bond-15 atom-15 atom-16\" d=\"M 53.6,129.0 L 55.2,90.3\" style=\"fill:none;fill-rule:evenodd;stroke:#000000;stroke-width:2.0px;stroke-linecap:butt;stroke-linejoin:miter;stroke-opacity:1\"/>\n",
              "<path class=\"bond-16 atom-15 atom-17\" d=\"M 53.6,129.0 L 19.3,146.9\" style=\"fill:none;fill-rule:evenodd;stroke:#000000;stroke-width:2.0px;stroke-linecap:butt;stroke-linejoin:miter;stroke-opacity:1\"/>\n",
              "<path class=\"bond-17 atom-17 atom-18\" d=\"M 19.3,146.9 L 17.7,185.5\" style=\"fill:none;fill-rule:evenodd;stroke:#000000;stroke-width:2.0px;stroke-linecap:butt;stroke-linejoin:miter;stroke-opacity:1\"/>\n",
              "<path class=\"bond-17 atom-17 atom-18\" d=\"M 25.0,150.5 L 23.7,182.4\" style=\"fill:none;fill-rule:evenodd;stroke:#000000;stroke-width:2.0px;stroke-linecap:butt;stroke-linejoin:miter;stroke-opacity:1\"/>\n",
              "<path class=\"bond-18 atom-18 atom-19\" d=\"M 17.7,185.5 L 50.4,206.2\" style=\"fill:none;fill-rule:evenodd;stroke:#000000;stroke-width:2.0px;stroke-linecap:butt;stroke-linejoin:miter;stroke-opacity:1\"/>\n",
              "<path class=\"bond-19 atom-19 atom-20\" d=\"M 50.4,206.2 L 84.6,188.3\" style=\"fill:none;fill-rule:evenodd;stroke:#000000;stroke-width:2.0px;stroke-linecap:butt;stroke-linejoin:miter;stroke-opacity:1\"/>\n",
              "<path class=\"bond-19 atom-19 atom-20\" d=\"M 50.6,199.5 L 79.0,184.7\" style=\"fill:none;fill-rule:evenodd;stroke:#000000;stroke-width:2.0px;stroke-linecap:butt;stroke-linejoin:miter;stroke-opacity:1\"/>\n",
              "<path class=\"bond-20 atom-20 atom-21\" d=\"M 84.6,188.3 L 117.3,209.0\" style=\"fill:none;fill-rule:evenodd;stroke:#000000;stroke-width:2.0px;stroke-linecap:butt;stroke-linejoin:miter;stroke-opacity:1\"/>\n",
              "<path class=\"bond-21 atom-10 atom-22\" d=\"M 187.4,134.6 L 205.3,168.9\" style=\"fill:none;fill-rule:evenodd;stroke:#000000;stroke-width:2.0px;stroke-linecap:butt;stroke-linejoin:miter;stroke-opacity:1\"/>\n",
              "<path class=\"bond-22 atom-22 atom-23\" d=\"M 205.3,168.9 L 243.6,174.5\" style=\"fill:none;fill-rule:evenodd;stroke:#000000;stroke-width:2.0px;stroke-linecap:butt;stroke-linejoin:miter;stroke-opacity:1\"/>\n",
              "<path class=\"bond-22 atom-22 atom-23\" d=\"M 208.7,175.2 L 238.6,179.6\" style=\"fill:none;fill-rule:evenodd;stroke:#000000;stroke-width:2.0px;stroke-linecap:butt;stroke-linejoin:miter;stroke-opacity:1\"/>\n",
              "<path class=\"bond-23 atom-23 atom-24\" d=\"M 243.6,174.5 L 250.0,212.6\" style=\"fill:none;fill-rule:evenodd;stroke:#000000;stroke-width:2.0px;stroke-linecap:butt;stroke-linejoin:miter;stroke-opacity:1\"/>\n",
              "<path class=\"bond-24 atom-24 atom-25\" d=\"M 250.0,212.6 L 215.8,230.5\" style=\"fill:none;fill-rule:evenodd;stroke:#000000;stroke-width:2.0px;stroke-linecap:butt;stroke-linejoin:miter;stroke-opacity:1\"/>\n",
              "<path class=\"bond-24 atom-24 atom-25\" d=\"M 243.6,209.5 L 216.8,223.5\" style=\"fill:none;fill-rule:evenodd;stroke:#000000;stroke-width:2.0px;stroke-linecap:butt;stroke-linejoin:miter;stroke-opacity:1\"/>\n",
              "<path class=\"bond-25 atom-25 atom-26\" d=\"M 215.8,230.5 L 210.1,268.8\" style=\"fill:none;fill-rule:evenodd;stroke:#000000;stroke-width:2.0px;stroke-linecap:butt;stroke-linejoin:miter;stroke-opacity:1\"/>\n",
              "<path class=\"bond-26 atom-25 atom-27\" d=\"M 215.8,230.5 L 206.3,221.3\" style=\"fill:none;fill-rule:evenodd;stroke:#000000;stroke-width:2.0px;stroke-linecap:butt;stroke-linejoin:miter;stroke-opacity:1\"/>\n",
              "<path class=\"bond-27 atom-5 atom-28\" d=\"M 258.6,128.2 L 287.1,102.1\" style=\"fill:none;fill-rule:evenodd;stroke:#000000;stroke-width:2.0px;stroke-linecap:butt;stroke-linejoin:miter;stroke-opacity:1\"/>\n",
              "<path class=\"bond-28 atom-28 atom-29\" d=\"M 287.1,102.1 L 324.0,113.6\" style=\"fill:none;fill-rule:evenodd;stroke:#000000;stroke-width:2.0px;stroke-linecap:butt;stroke-linejoin:miter;stroke-opacity:1\"/>\n",
              "<path class=\"bond-28 atom-28 atom-29\" d=\"M 288.5,108.6 L 319.0,118.2\" style=\"fill:none;fill-rule:evenodd;stroke:#000000;stroke-width:2.0px;stroke-linecap:butt;stroke-linejoin:miter;stroke-opacity:1\"/>\n",
              "<path class=\"bond-29 atom-29 atom-2\" d=\"M 324.0,113.6 L 332.4,151.4\" style=\"fill:none;fill-rule:evenodd;stroke:#000000;stroke-width:2.0px;stroke-linecap:butt;stroke-linejoin:miter;stroke-opacity:1\"/>\n",
              "<path class=\"bond-30 atom-10 atom-6\" d=\"M 187.4,134.6 L 205.8,125.0\" style=\"fill:none;fill-rule:evenodd;stroke:#000000;stroke-width:2.0px;stroke-linecap:butt;stroke-linejoin:miter;stroke-opacity:1\"/>\n",
              "<path class=\"bond-31 atom-20 atom-14\" d=\"M 84.6,188.3 L 86.3,149.7\" style=\"fill:none;fill-rule:evenodd;stroke:#000000;stroke-width:2.0px;stroke-linecap:butt;stroke-linejoin:miter;stroke-opacity:1\"/>\n",
              "<path class=\"bond-32 atom-27 atom-22\" d=\"M 197.8,184.0 L 205.3,168.9\" style=\"fill:none;fill-rule:evenodd;stroke:#000000;stroke-width:2.0px;stroke-linecap:butt;stroke-linejoin:miter;stroke-opacity:1\"/>\n",
              "<path d=\"M 305.3,176.2 L 303.9,177.6 L 302.1,177.0\" style=\"fill:none;stroke:#000000;stroke-width:2.0px;stroke-linecap:butt;stroke-linejoin:miter;stroke-opacity:1;\"/>\n",
              "<path d=\"M 268.9,166.6 L 267.0,166.0 L 266.6,164.1\" style=\"fill:none;stroke:#000000;stroke-width:2.0px;stroke-linecap:butt;stroke-linejoin:miter;stroke-opacity:1;\"/>\n",
              "<path d=\"M 204.2,83.2 L 203.8,82.4 L 202.1,83.3\" style=\"fill:none;stroke:#000000;stroke-width:2.0px;stroke-linecap:butt;stroke-linejoin:miter;stroke-opacity:1;\"/>\n",
              "<path d=\"M 171.2,99.4 L 169.5,100.3 L 170.4,102.0\" style=\"fill:none;stroke:#000000;stroke-width:2.0px;stroke-linecap:butt;stroke-linejoin:miter;stroke-opacity:1;\"/>\n",
              "<path d=\"M 154.9,151.6 L 153.2,152.5 L 152.3,152.0\" style=\"fill:none;stroke:#000000;stroke-width:2.0px;stroke-linecap:butt;stroke-linejoin:miter;stroke-opacity:1;\"/>\n",
              "<path d=\"M 21.1,146.0 L 19.3,146.9 L 19.3,148.8\" style=\"fill:none;stroke:#000000;stroke-width:2.0px;stroke-linecap:butt;stroke-linejoin:miter;stroke-opacity:1;\"/>\n",
              "<path d=\"M 17.8,183.6 L 17.7,185.5 L 19.3,186.6\" style=\"fill:none;stroke:#000000;stroke-width:2.0px;stroke-linecap:butt;stroke-linejoin:miter;stroke-opacity:1;\"/>\n",
              "<path d=\"M 48.7,205.2 L 50.4,206.2 L 52.1,205.3\" style=\"fill:none;stroke:#000000;stroke-width:2.0px;stroke-linecap:butt;stroke-linejoin:miter;stroke-opacity:1;\"/>\n",
              "<path d=\"M 241.7,174.2 L 243.6,174.5 L 243.9,176.4\" style=\"fill:none;stroke:#000000;stroke-width:2.0px;stroke-linecap:butt;stroke-linejoin:miter;stroke-opacity:1;\"/>\n",
              "<path d=\"M 249.7,210.7 L 250.0,212.6 L 248.3,213.5\" style=\"fill:none;stroke:#000000;stroke-width:2.0px;stroke-linecap:butt;stroke-linejoin:miter;stroke-opacity:1;\"/>\n",
              "<path d=\"M 285.6,103.4 L 287.1,102.1 L 288.9,102.7\" style=\"fill:none;stroke:#000000;stroke-width:2.0px;stroke-linecap:butt;stroke-linejoin:miter;stroke-opacity:1;\"/>\n",
              "<path d=\"M 322.1,113.1 L 324.0,113.6 L 324.4,115.5\" style=\"fill:none;stroke:#000000;stroke-width:2.0px;stroke-linecap:butt;stroke-linejoin:miter;stroke-opacity:1;\"/>\n",
              "<path class=\"atom-1\" d=\"M 356.3 163.0 Q 356.3 156.2, 359.6 152.4 Q 363.0 148.6, 369.3 148.6 Q 375.6 148.6, 378.9 152.4 Q 382.3 156.2, 382.3 163.0 Q 382.3 169.9, 378.9 173.8 Q 375.5 177.7, 369.3 177.7 Q 363.0 177.7, 359.6 173.8 Q 356.3 169.9, 356.3 163.0 M 369.3 174.5 Q 373.6 174.5, 375.9 171.6 Q 378.3 168.7, 378.3 163.0 Q 378.3 157.5, 375.9 154.7 Q 373.6 151.8, 369.3 151.8 Q 365.0 151.8, 362.6 154.6 Q 360.3 157.4, 360.3 163.0 Q 360.3 168.7, 362.6 171.6 Q 365.0 174.5, 369.3 174.5 \" fill=\"#000000\"/>\n",
              "<path class=\"atom-6\" d=\"M 215.4 102.5 L 224.7 117.5 Q 225.6 119.0, 227.1 121.7 Q 228.6 124.4, 228.7 124.5 L 228.7 102.5 L 232.4 102.5 L 232.4 130.8 L 228.6 130.8 L 218.6 114.4 Q 217.4 112.5, 216.2 110.3 Q 215.0 108.1, 214.6 107.4 L 214.6 130.8 L 211.0 130.8 L 211.0 102.5 L 215.4 102.5 \" fill=\"#000000\"/>\n",
              "<path class=\"atom-8\" d=\"M 202.4 45.6 Q 202.4 38.8, 205.7 35.0 Q 209.1 31.2, 215.4 31.2 Q 221.6 31.2, 225.0 35.0 Q 228.4 38.8, 228.4 45.6 Q 228.4 52.5, 225.0 56.4 Q 221.6 60.3, 215.4 60.3 Q 209.1 60.3, 205.7 56.4 Q 202.4 52.5, 202.4 45.6 M 215.4 57.1 Q 219.7 57.1, 222.0 54.2 Q 224.4 51.3, 224.4 45.6 Q 224.4 40.0, 222.0 37.2 Q 219.7 34.4, 215.4 34.4 Q 211.0 34.4, 208.7 37.2 Q 206.4 40.0, 206.4 45.6 Q 206.4 51.3, 208.7 54.2 Q 211.0 57.1, 215.4 57.1 \" fill=\"#000000\"/>\n",
              "<path class=\"atom-12\" d=\"M 138.5 191.2 Q 138.5 184.4, 141.9 180.6 Q 145.3 176.8, 151.5 176.8 Q 157.8 176.8, 161.2 180.6 Q 164.5 184.4, 164.5 191.2 Q 164.5 198.1, 161.1 202.0 Q 157.7 205.9, 151.5 205.9 Q 145.3 205.9, 141.9 202.0 Q 138.5 198.1, 138.5 191.2 M 151.5 202.7 Q 155.9 202.7, 158.2 199.8 Q 160.5 196.9, 160.5 191.2 Q 160.5 185.7, 158.2 182.9 Q 155.9 180.0, 151.5 180.0 Q 147.2 180.0, 144.9 182.8 Q 142.5 185.6, 142.5 191.2 Q 142.5 196.9, 144.9 199.8 Q 147.2 202.7, 151.5 202.7 \" fill=\"#000000\"/>\n",
              "<path class=\"atom-13\" d=\"M 114.3 117.6 L 123.5 132.6 Q 124.5 134.1, 125.9 136.8 Q 127.4 139.5, 127.5 139.6 L 127.5 117.6 L 131.3 117.6 L 131.3 145.9 L 127.4 145.9 L 117.4 129.5 Q 116.3 127.6, 115.0 125.4 Q 113.8 123.2, 113.5 122.5 L 113.5 145.9 L 109.8 145.9 L 109.8 117.6 L 114.3 117.6 \" fill=\"#000000\"/>\n",
              "<path class=\"atom-13\" d=\"M 109.4 86.5 L 113.3 86.5 L 113.3 98.5 L 127.8 98.5 L 127.8 86.5 L 131.6 86.5 L 131.6 114.8 L 127.8 114.8 L 127.8 101.7 L 113.3 101.7 L 113.3 114.8 L 109.4 114.8 L 109.4 86.5 \" fill=\"#000000\"/>\n",
              "<path class=\"atom-27\" d=\"M 175.1 203.6 Q 175.1 196.8, 178.5 193.0 Q 181.9 189.2, 188.1 189.2 Q 194.4 189.2, 197.8 193.0 Q 201.1 196.8, 201.1 203.6 Q 201.1 210.5, 197.7 214.4 Q 194.3 218.3, 188.1 218.3 Q 181.9 218.3, 178.5 214.4 Q 175.1 210.5, 175.1 203.6 M 188.1 215.1 Q 192.5 215.1, 194.8 212.2 Q 197.1 209.3, 197.1 203.6 Q 197.1 198.0, 194.8 195.2 Q 192.5 192.4, 188.1 192.4 Q 183.8 192.4, 181.5 195.2 Q 179.1 198.0, 179.1 203.6 Q 179.1 209.3, 181.5 212.2 Q 183.8 215.1, 188.1 215.1 \" fill=\"#000000\"/>\n",
              "</svg>"
            ],
            "text/plain": [
              "<IPython.core.display.SVG object>"
            ]
          },
          "metadata": {},
          "output_type": "display_data"
        },
        {
          "name": "stdout",
          "output_type": "stream",
          "text": [
            "Molecule image saved to 'figures/ch02/example_mol.svg'\n"
          ]
        }
      ],
      "source": [
        "def examine_molecule(df, index=0, mol_col='mol', draw=True):\n",
        "    \"\"\"\n",
        "    Examine a single molecule from the dataset.\n",
        "\n",
        "    Parameters:\n",
        "    -----------\n",
        "    df : pandas.DataFrame\n",
        "        DataFrame containing molecules\n",
        "    index : int\n",
        "        Index of the molecule to examine\n",
        "    mol_col : str\n",
        "        Name of the column containing RDKit molecule objects\n",
        "    draw : bool\n",
        "        Whether to draw the molecule\n",
        "\n",
        "    Returns:\n",
        "    --------\n",
        "    rdkit.Chem.rdchem.Mol\n",
        "        RDKit molecule object\n",
        "    \"\"\"\n",
        "    # Get the molecule\n",
        "    mol = df[mol_col].iloc[index]\n",
        "\n",
        "    # Print basic information\n",
        "    print(f\"Molecule type: {type(mol)}\")\n",
        "    print(f\"Number of atoms: {mol.GetNumAtoms()}\")\n",
        "    print(f\"Number of bonds: {mol.GetNumBonds()}\")\n",
        "\n",
        "    # Draw the molecule if requested\n",
        "    if draw:\n",
        "        img = Draw.MolsToGridImage(\n",
        "            mols=[mol],\n",
        "            molsPerRow=1,\n",
        "            subImgSize=(400, 300),\n",
        "            useSVG=True,\n",
        "            drawOptions=rdkit_drawing_options\n",
        "        )\n",
        "        display(img)\n",
        "\n",
        "        # Save the image\n",
        "        with open(\"figures/ch02/example_mol.svg\", \"w\") as f:\n",
        "            f.write(img.data)\n",
        "        print(\"Molecule image saved to 'figures/ch02/example_mol.svg'\")\n",
        "\n",
        "    return mol\n",
        "\n",
        "# Examine the first molecule in the dataset\n",
        "sample_mol = examine_molecule(specs, index=0)"
      ]
    },
    {
      "cell_type": "markdown",
      "metadata": {
        "id": "F-to_j6kgcy2"
      },
      "source": [
        "### <b> <font color='#A20025'> Molecular Descriptors"
      ]
    },
    {
      "cell_type": "markdown",
      "metadata": {
        "id": "qBmFmDKg0J7p"
      },
      "source": [
        "Molecular descriptors are numerical values that characterize properties of molecules. RDKit provides a wide range of descriptors, which we'll use to filter compounds based on Lipinski's Rule of Five (RO5)."
      ]
    },
    {
      "cell_type": "code",
      "execution_count": null,
      "metadata": {
        "id": "mtKWmLZ90J7q",
        "outputId": "43114c91-9e2c-406b-d6f8-8acbbc3b2920"
      },
      "outputs": [
        {
          "name": "stdout",
          "output_type": "stream",
          "text": [
            "RDKit has 210 molecular descriptors available\n",
            "Showing first 10 descriptors:\n",
            "- MaxAbsEStateIndex\n",
            "- MaxEStateIndex\n",
            "- MinAbsEStateIndex\n",
            "- MinEStateIndex\n",
            "- qed\n",
            "- SPS\n",
            "- MolWt\n",
            "- HeavyAtomMolWt\n",
            "- ExactMolWt\n",
            "- NumValenceElectrons\n"
          ]
        }
      ],
      "source": [
        "def list_available_descriptors(limit=10):\n",
        "    \"\"\"\n",
        "    List available molecular descriptors in RDKit.\n",
        "\n",
        "    Parameters:\n",
        "    -----------\n",
        "    limit : int\n",
        "        Number of descriptors to show (0 for all)\n",
        "    \"\"\"\n",
        "    descriptors = Descriptors._descList\n",
        "    print(f\"RDKit has {len(descriptors)} molecular descriptors available\")\n",
        "\n",
        "    if limit > 0:\n",
        "        print(f\"Showing first {min(limit, len(descriptors))} descriptors:\")\n",
        "        for name, func in descriptors[:limit]:\n",
        "            print(f\"- {name}\")\n",
        "\n",
        "    return {desc: func for desc, func in descriptors}\n",
        "\n",
        "# List available descriptors\n",
        "RDKIT_DESCRIPTORS = list_available_descriptors(limit=10)"
      ]
    },
    {
      "cell_type": "markdown",
      "metadata": {
        "id": "VsxFNWuB0J7q"
      },
      "source": [
        "Lipinski's Rule of Five is a set of guidelines for drug-like molecules:\n",
        "1. Molecular weight < 500 Daltons\n",
        "2. Octanol-water partition coefficient (LogP) < 5\n",
        "3. Hydrogen bond donors < 5\n",
        "4. Hydrogen bond acceptors < 10\n",
        "\n",
        "Let's calculate these properties for our molecules:"
      ]
    },
    {
      "cell_type": "code",
      "execution_count": null,
      "metadata": {
        "id": "a6tLyKaO0J7r",
        "outputId": "98a5e3e7-defd-4042-d0a6-02f668bcfe20"
      },
      "outputs": [
        {
          "name": "stdout",
          "output_type": "stream",
          "text": [
            "Calculating molecular descriptors...\n",
            "Removed 0 rows with missing descriptor values\n",
            "Remaining molecules: 212670\n",
            "\n",
            "Summary statistics for RO5 properties:\n"
          ]
        },
        {
          "data": {
            "text/html": [
              "<div>\n",
              "<style scoped>\n",
              "    .dataframe tbody tr th:only-of-type {\n",
              "        vertical-align: middle;\n",
              "    }\n",
              "\n",
              "    .dataframe tbody tr th {\n",
              "        vertical-align: top;\n",
              "    }\n",
              "\n",
              "    .dataframe thead th {\n",
              "        text-align: right;\n",
              "    }\n",
              "</style>\n",
              "<table border=\"1\" class=\"dataframe\">\n",
              "  <thead>\n",
              "    <tr style=\"text-align: right;\">\n",
              "      <th></th>\n",
              "      <th>ExactMolWt</th>\n",
              "      <th>NumHAcceptors</th>\n",
              "      <th>NumHDonors</th>\n",
              "      <th>MolLogP</th>\n",
              "    </tr>\n",
              "  </thead>\n",
              "  <tbody>\n",
              "    <tr>\n",
              "      <th>count</th>\n",
              "      <td>212670.000000</td>\n",
              "      <td>212670.000000</td>\n",
              "      <td>212670.000000</td>\n",
              "      <td>212670.000000</td>\n",
              "    </tr>\n",
              "    <tr>\n",
              "      <th>mean</th>\n",
              "      <td>371.738321</td>\n",
              "      <td>4.512531</td>\n",
              "      <td>0.990046</td>\n",
              "      <td>3.917192</td>\n",
              "    </tr>\n",
              "    <tr>\n",
              "      <th>std</th>\n",
              "      <td>93.585321</td>\n",
              "      <td>1.905391</td>\n",
              "      <td>0.796672</td>\n",
              "      <td>1.587613</td>\n",
              "    </tr>\n",
              "    <tr>\n",
              "      <th>min</th>\n",
              "      <td>68.025421</td>\n",
              "      <td>0.000000</td>\n",
              "      <td>0.000000</td>\n",
              "      <td>-4.195200</td>\n",
              "    </tr>\n",
              "    <tr>\n",
              "      <th>25%</th>\n",
              "      <td>306.136828</td>\n",
              "      <td>3.000000</td>\n",
              "      <td>0.000000</td>\n",
              "      <td>2.885940</td>\n",
              "    </tr>\n",
              "    <tr>\n",
              "      <th>50%</th>\n",
              "      <td>369.020203</td>\n",
              "      <td>4.000000</td>\n",
              "      <td>1.000000</td>\n",
              "      <td>3.855710</td>\n",
              "    </tr>\n",
              "    <tr>\n",
              "      <th>75%</th>\n",
              "      <td>432.133005</td>\n",
              "      <td>6.000000</td>\n",
              "      <td>1.000000</td>\n",
              "      <td>4.923815</td>\n",
              "    </tr>\n",
              "    <tr>\n",
              "      <th>max</th>\n",
              "      <td>1161.548016</td>\n",
              "      <td>21.000000</td>\n",
              "      <td>8.000000</td>\n",
              "      <td>15.329400</td>\n",
              "    </tr>\n",
              "  </tbody>\n",
              "</table>\n",
              "</div>"
            ],
            "text/plain": [
              "          ExactMolWt  NumHAcceptors     NumHDonors        MolLogP\n",
              "count  212670.000000  212670.000000  212670.000000  212670.000000\n",
              "mean      371.738321       4.512531       0.990046       3.917192\n",
              "std        93.585321       1.905391       0.796672       1.587613\n",
              "min        68.025421       0.000000       0.000000      -4.195200\n",
              "25%       306.136828       3.000000       0.000000       2.885940\n",
              "50%       369.020203       4.000000       1.000000       3.855710\n",
              "75%       432.133005       6.000000       1.000000       4.923815\n",
              "max      1161.548016      21.000000       8.000000      15.329400"
            ]
          },
          "metadata": {},
          "output_type": "display_data"
        }
      ],
      "source": [
        "def calculate_ro5_descriptors(df, mol_col='mol'):\n",
        "    \"\"\"\n",
        "    Calculate Lipinski's Rule of Five descriptors for a set of molecules.\n",
        "\n",
        "    Parameters:\n",
        "    -----------\n",
        "    df : pandas.DataFrame\n",
        "        DataFrame containing molecules\n",
        "    mol_col : str\n",
        "        Name of the column containing RDKit molecule objects\n",
        "\n",
        "    Returns:\n",
        "    --------\n",
        "    pandas.DataFrame\n",
        "        DataFrame with added descriptors\n",
        "    \"\"\"\n",
        "    # Define RO5 properties to calculate\n",
        "    RO5_PROPS = ['ExactMolWt', 'NumHAcceptors', 'NumHDonors', 'MolLogP']\n",
        "\n",
        "    # Function to safely compute descriptors\n",
        "    def compute_descriptor(mol, func_name, missing_val=None):\n",
        "        if mol is None:\n",
        "            return missing_val\n",
        "        try:\n",
        "            func = RDKIT_DESCRIPTORS[func_name]\n",
        "            return func(mol)\n",
        "        except:\n",
        "            return missing_val\n",
        "\n",
        "    # Calculate each descriptor\n",
        "    print(\"Calculating molecular descriptors...\")\n",
        "    for desc in RO5_PROPS:\n",
        "        df[desc] = df[mol_col].apply(\n",
        "            lambda x: compute_descriptor(x, desc)\n",
        "        )\n",
        "\n",
        "    # Remove rows with missing values\n",
        "    row_count_before = len(df)\n",
        "    df = df.dropna(subset=RO5_PROPS)\n",
        "    row_count_after = len(df)\n",
        "\n",
        "    print(f\"Removed {row_count_before - row_count_after} rows with missing descriptor values\")\n",
        "    print(f\"Remaining molecules: {row_count_after}\")\n",
        "\n",
        "    return df\n",
        "\n",
        "# Calculate RO5 descriptors\n",
        "specs = calculate_ro5_descriptors(specs)\n",
        "\n",
        "# Show summary statistics\n",
        "print(\"\\nSummary statistics for RO5 properties:\")\n",
        "display(specs[['ExactMolWt', 'NumHAcceptors', 'NumHDonors', 'MolLogP']].describe())"
      ]
    },
    {
      "cell_type": "markdown",
      "metadata": {
        "id": "f2sUkBJ006JI"
      },
      "source": [
        "## <b> <font color='#A20025'> 3️⃣ Compound Filters"
      ]
    },
    {
      "cell_type": "markdown",
      "metadata": {
        "id": "zEpJiBrh0J7u"
      },
      "source": [
        "Now we'll apply filters to our compound library to remove molecules with undesirable properties or substructures."
      ]
    },
    {
      "cell_type": "markdown",
      "metadata": {
        "id": "W7eAtc0G08r-"
      },
      "source": [
        "### <b> <font color='#A20025'> Property-based Filters: Lipinski's Rule of Five"
      ]
    },
    {
      "cell_type": "markdown",
      "metadata": {
        "id": "B2i5AP_T0J7v"
      },
      "source": [
        "We'll filter compounds based on Lipinski's Rule of Five, which states that drug-like molecules should generally have:\n",
        "- Molecular weight ≤ 500\n",
        "- LogP ≤ 5\n",
        "- Hydrogen bond donors ≤ 5\n",
        "- Hydrogen bond acceptors ≤ 10\n",
        "\n",
        "A compound is considered compliant if it violates no more than one rule."
      ]
    },
    {
      "cell_type": "code",
      "execution_count": null,
      "metadata": {
        "id": "06-Vaoqj0J7w",
        "outputId": "9e61d8bb-ddcc-4ca3-a40d-84a35fe54381"
      },
      "outputs": [
        {
          "name": "stdout",
          "output_type": "stream",
          "text": [
            "Compound library size pre-RO5 filter: 212670\n",
            "Compound library size post-RO5 filter: 199481\n",
            "Removed compounds: 13189\n",
            "Percentage of compounds passing the filter: 93.8%\n"
          ]
        }
      ],
      "source": [
        "def apply_lipinski_filter(df):\n",
        "    \"\"\"\n",
        "    Apply Lipinski's Rule of Five filter to a set of molecules.\n",
        "\n",
        "    Parameters:\n",
        "    -----------\n",
        "    df : pandas.DataFrame\n",
        "        DataFrame containing molecules with RO5 descriptors\n",
        "\n",
        "    Returns:\n",
        "    --------\n",
        "    pandas.DataFrame\n",
        "        DataFrame with added RO5 compliance column\n",
        "    \"\"\"\n",
        "    def count_ro5_violations(row):\n",
        "        \"\"\"Count the number of Lipinski's Rule of Five violations for a molecule\"\"\"\n",
        "        violations = 0\n",
        "        if row['ExactMolWt'] > 500: violations += 1\n",
        "        if row['MolLogP'] > 5: violations += 1\n",
        "        if row['NumHDonors'] > 5: violations += 1\n",
        "        if row['NumHAcceptors'] > 10: violations += 1\n",
        "        return violations\n",
        "\n",
        "    # Add columns for RO5 violations and compliance\n",
        "    df['ro5_violations'] = df.apply(count_ro5_violations, axis=1)\n",
        "    df['ro5_compliant'] = df['ro5_violations'] <= 1\n",
        "\n",
        "    # Split into compliant and non-compliant sets\n",
        "    compliant_df = df[df['ro5_compliant']]\n",
        "    violated_df = df[~df['ro5_compliant']]\n",
        "\n",
        "    # Report results\n",
        "    print(f\"Compound library size pre-RO5 filter: {len(df)}\")\n",
        "    print(f\"Compound library size post-RO5 filter: {len(compliant_df)}\")\n",
        "    print(f\"Removed compounds: {len(violated_df)}\")\n",
        "    print(f\"Percentage of compounds passing the filter: {len(compliant_df) / len(df) * 100:.1f}%\")\n",
        "\n",
        "    return df, compliant_df, violated_df\n",
        "\n",
        "# Apply Lipinski's Rule of Five filter\n",
        "specs, specs_ro5_compliant, specs_ro5_violated = apply_lipinski_filter(specs)"
      ]
    },
    {
      "cell_type": "markdown",
      "metadata": {
        "id": "JyyDIMWl0J7x"
      },
      "source": [
        "Let's visualize the effect of Lipinski filtering on our dataset."
      ]
    },
    {
      "cell_type": "code",
      "execution_count": null,
      "metadata": {
        "id": "0WzDmnev0J7y",
        "outputId": "830c7eab-901d-4816-adfa-6203a2bdb417"
      },
      "outputs": [
        {
          "name": "stdout",
          "output_type": "stream",
          "text": [
            "Figure saved to figures/ch02/exactmolwt_dist_exactmolwt.png and figures/ch02/exactmolwt_dist_exactmolwt.pdf\n"
          ]
        },
        {
          "data": {
            "image/png": "[encoded data removed]",
            "text/plain": [
              "<Figure size 1000x600 with 1 Axes>"
            ]
          },
          "metadata": {},
          "output_type": "display_data"
        }
      ],
      "source": [
        "def visualize_property_distribution(df, property_col, hue_col='ro5_compliant',\n",
        "                                   title=None, x_label=None, file_prefix=None):\n",
        "    \"\"\"\n",
        "    Visualize the distribution of a molecular property.\n",
        "\n",
        "    Parameters:\n",
        "    -----------\n",
        "    df : pandas.DataFrame\n",
        "        DataFrame containing molecules\n",
        "    property_col : str\n",
        "        Name of the property column to visualize\n",
        "    hue_col : str\n",
        "        Name of the column to use for coloring\n",
        "    title : str\n",
        "        Title for the plot\n",
        "    x_label : str\n",
        "        Label for the x-axis\n",
        "    file_prefix : str\n",
        "        Prefix for saved files\n",
        "\n",
        "    Returns:\n",
        "    --------\n",
        "    matplotlib.figure.Figure\n",
        "        Figure containing the plot\n",
        "    \"\"\"\n",
        "    plt.figure(figsize=(10, 6))\n",
        "\n",
        "    # Create the distribution plot\n",
        "    ax = sns.histplot(\n",
        "        data=df,\n",
        "        x=property_col,\n",
        "        hue=hue_col,\n",
        "        multiple=\"layer\",\n",
        "        palette=[\"#A20025\", \"#6C8EBF\"],\n",
        "        alpha=0.7,\n",
        "        kde=True\n",
        "    )\n",
        "\n",
        "    # Add title and labels\n",
        "    if title:\n",
        "        ax.set_title(title, fontsize=14)\n",
        "    if x_label:\n",
        "        ax.set_xlabel(x_label, fontsize=12)\n",
        "    ax.set_ylabel(\"Count\", fontsize=12)\n",
        "\n",
        "    # Add a legend with better labels\n",
        "    handles, labels = ax.get_legend_handles_labels()\n",
        "    ax.legend(handles, [\"Non-compliant\", \"RO5 Compliant\"], title=\"Lipinski Status\")\n",
        "\n",
        "    plt.tight_layout()\n",
        "\n",
        "    # Save the figure if requested\n",
        "    if file_prefix:\n",
        "        file_path = f\"figures/ch02/{file_prefix}_{property_col.lower()}.png\"\n",
        "        plt.savefig(file_path, bbox_inches='tight', dpi=600)\n",
        "        pdf_path = f\"figures/ch02/{file_prefix}_{property_col.lower()}.pdf\"\n",
        "        plt.savefig(pdf_path, bbox_inches='tight', dpi=600)\n",
        "        print(f\"Figure saved to {file_path} and {pdf_path}\")\n",
        "\n",
        "    return plt.gcf()\n",
        "\n",
        "# Visualize molecular weight distribution\n",
        "mw_fig = visualize_property_distribution(\n",
        "    specs,\n",
        "    'ExactMolWt',\n",
        "    title='Distribution of Molecular Weight',\n",
        "    x_label='Molecular Weight (Da)',\n",
        "    file_prefix='exactmolwt_dist'\n",
        ")"
      ]
    },
    {
      "cell_type": "markdown",
      "metadata": {
        "id": "XY_y7YT-0J7z"
      },
      "source": [
        "Now we'll compare property differences between RO5 complient and non-compliant compounds"
      ]
    },
    {
      "cell_type": "code",
      "execution_count": null,
      "metadata": {
        "id": "zTz1hWev0J70",
        "outputId": "9edf305a-bd2d-4df4-944f-c8383406272f"
      },
      "outputs": [
        {
          "name": "stdout",
          "output_type": "stream",
          "text": [
            "Property comparison between RO5 compliant and non-compliant compounds:\n"
          ]
        },
        {
          "data": {
            "text/html": [
              "<div>\n",
              "<style scoped>\n",
              "    .dataframe tbody tr th:only-of-type {\n",
              "        vertical-align: middle;\n",
              "    }\n",
              "\n",
              "    .dataframe tbody tr th {\n",
              "        vertical-align: top;\n",
              "    }\n",
              "\n",
              "    .dataframe thead th {\n",
              "        text-align: right;\n",
              "    }\n",
              "</style>\n",
              "<table border=\"1\" class=\"dataframe\">\n",
              "  <thead>\n",
              "    <tr style=\"text-align: right;\">\n",
              "      <th></th>\n",
              "      <th>property</th>\n",
              "      <th>RO5 Compliant Mols</th>\n",
              "      <th>RO5 Violated Mols</th>\n",
              "      <th>rel_change</th>\n",
              "    </tr>\n",
              "  </thead>\n",
              "  <tbody>\n",
              "    <tr>\n",
              "      <th>0</th>\n",
              "      <td>NumHAcceptors</td>\n",
              "      <td>4.398524</td>\n",
              "      <td>6.236864</td>\n",
              "      <td>-29.475388</td>\n",
              "    </tr>\n",
              "    <tr>\n",
              "      <th>1</th>\n",
              "      <td>NumHDonors</td>\n",
              "      <td>0.994050</td>\n",
              "      <td>0.929487</td>\n",
              "      <td>6.946077</td>\n",
              "    </tr>\n",
              "    <tr>\n",
              "      <th>2</th>\n",
              "      <td>MolLogP</td>\n",
              "      <td>3.745281</td>\n",
              "      <td>6.517303</td>\n",
              "      <td>-42.533264</td>\n",
              "    </tr>\n",
              "  </tbody>\n",
              "</table>\n",
              "</div>"
            ],
            "text/plain": [
              "        property  RO5 Compliant Mols  RO5 Violated Mols  rel_change\n",
              "0  NumHAcceptors            4.398524           6.236864  -29.475388\n",
              "1     NumHDonors            0.994050           0.929487    6.946077\n",
              "2        MolLogP            3.745281           6.517303  -42.533264"
            ]
          },
          "metadata": {},
          "output_type": "display_data"
        },
        {
          "data": {
            "image/png": "[encoded data removed]",
            "text/plain": [
              "<Figure size 1000x600 with 1 Axes>"
            ]
          },
          "metadata": {},
          "output_type": "display_data"
        }
      ],
      "source": [
        "def compare_properties_between_groups(compliant_df, violated_df, properties):\n",
        "    \"\"\"\n",
        "    Compare molecular properties between two groups.\n",
        "\n",
        "    Parameters:\n",
        "    -----------\n",
        "    compliant_df : pandas.DataFrame\n",
        "        DataFrame containing the first group\n",
        "    violated_df : pandas.DataFrame\n",
        "        DataFrame containing the second group\n",
        "    properties : list\n",
        "        List of property columns to compare\n",
        "\n",
        "    Returns:\n",
        "    --------\n",
        "    pandas.DataFrame\n",
        "        DataFrame with property differences\n",
        "    \"\"\"\n",
        "    # Calculate mean values for each property in each group\n",
        "    data = []\n",
        "\n",
        "    for prop in properties:\n",
        "        compliant_mean = compliant_df[prop].mean()\n",
        "        violated_mean = violated_df[prop].mean()\n",
        "        rel_change = (compliant_mean - violated_mean) / violated_mean * 100\n",
        "\n",
        "        data.append({\n",
        "            'property': prop,\n",
        "            'RO5 Compliant Mols': compliant_mean,\n",
        "            'RO5 Violated Mols': violated_mean,\n",
        "            'rel_change': rel_change\n",
        "        })\n",
        "\n",
        "    # Create dataframe\n",
        "    comparison_df = pd.DataFrame(data)\n",
        "    return comparison_df\n",
        "\n",
        "def visualize_property_differences(comparison_df):\n",
        "    \"\"\"\n",
        "    Visualize the differences in properties between two groups.\n",
        "\n",
        "    Parameters:\n",
        "    -----------\n",
        "    comparison_df : pandas.DataFrame\n",
        "        DataFrame with property differences\n",
        "\n",
        "    Returns:\n",
        "    --------\n",
        "    matplotlib.figure.Figure\n",
        "        Figure containing the plot\n",
        "    \"\"\"\n",
        "    # Sort by property values\n",
        "    ordered_df = comparison_df.sort_values(by='RO5 Compliant Mols')\n",
        "    my_range = range(1, len(ordered_df.index) + 1)\n",
        "\n",
        "    # Create the plot\n",
        "    fig, ax = plt.subplots(figsize=(10, 6))\n",
        "\n",
        "    # Draw horizontal lines connecting the points\n",
        "    ax.hlines(\n",
        "        y=my_range,\n",
        "        xmin=ordered_df['RO5 Violated Mols'],\n",
        "        xmax=ordered_df['RO5 Compliant Mols'],\n",
        "        color='#B0ABAC',\n",
        "        linewidth=2\n",
        "    )\n",
        "\n",
        "    # Add percentage change annotations\n",
        "    for x, y, ann in zip(ordered_df['RO5 Compliant Mols'], my_range, ordered_df['rel_change']):\n",
        "        if ann < 0:\n",
        "            ax.text(x - 0.1, y, f'{ann:.1f}%', ha='right', va='center', fontsize=12)\n",
        "        else:\n",
        "            ax.text(x + 0.1, y, f'+{ann:.1f}%', ha='left', va='center', fontsize=12)\n",
        "\n",
        "    # Plot data points\n",
        "    ax.scatter(\n",
        "        ordered_df['RO5 Violated Mols'], my_range,\n",
        "        s=150, color='#A20025', label=\"RO5 Violated Mols\",\n",
        "        zorder=3, edgecolor='white', linewidth=1\n",
        "    )\n",
        "    ax.scatter(\n",
        "        ordered_df['RO5 Compliant Mols'], my_range,\n",
        "        s=150, color='#6C8EBF', label=\"RO5 Compliant Mols\",\n",
        "        zorder=3, edgecolor='white', linewidth=1\n",
        "    )\n",
        "\n",
        "    # Configure the plot\n",
        "    ax.set_yticks(my_range)\n",
        "    ax.set_yticklabels(ordered_df['property'], fontsize=12)\n",
        "    ax.set_xlabel('Property Value', fontsize=16)\n",
        "    ax.set_ylabel('Property', fontsize=16)\n",
        "    #ax.set_title('Property Differences Between RO5 Compliant and Non-Compliant Molecules', fontsize=14)\n",
        "\n",
        "    # Remove frame\n",
        "    ax.spines['top'].set_visible(False)\n",
        "    ax.spines['right'].set_visible(False)\n",
        "\n",
        "    # Add legend\n",
        "    ax.legend(ncol=2, bbox_to_anchor=(1., 1.01), loc=\"lower right\", frameon=False, fontsize=16)\n",
        "\n",
        "    plt.tight_layout()\n",
        "\n",
        "    # Save the figure\n",
        "    plt.savefig('figures/ch02/relchange_ro5.png', bbox_inches='tight', dpi=600)\n",
        "    plt.savefig('figures/ch02/relchange_ro5.pdf', bbox_inches='tight', dpi=600)\n",
        "\n",
        "    return fig\n",
        "\n",
        "# Compare RO5 properties between compliant and non-compliant compounds\n",
        "properties_to_compare = ['NumHAcceptors', 'NumHDonors', 'MolLogP']\n",
        "comparison_df = compare_properties_between_groups(\n",
        "    specs_ro5_compliant,\n",
        "    specs_ro5_violated,\n",
        "    properties_to_compare\n",
        ")\n",
        "\n",
        "# Display the comparison\n",
        "print(\"Property comparison between RO5 compliant and non-compliant compounds:\")\n",
        "display(comparison_df)\n",
        "\n",
        "# Visualize the differences\n",
        "diff_fig = visualize_property_differences(comparison_df)"
      ]
    },
    {
      "cell_type": "markdown",
      "metadata": {
        "id": "c1Vp2-S-iism"
      },
      "source": [
        "### <b> <font color='#A20025'> Structure-based Filters"
      ]
    },
    {
      "cell_type": "markdown",
      "metadata": {
        "id": "1io0AfQ10J72"
      },
      "source": [
        "In addition to property-based filters, we can also filter compounds based on structural features. Certain substructures are known to be problematic in drug discovery due to:\n",
        "\n",
        "- **Reactivity**: Compounds that may degrade or react undesirably\n",
        "- **Assay interference**: Compounds that can interfere with biological assays (PAINS: Pan-Assay Interference Compounds)\n",
        "- **Toxicity**: Compounds with potentially harmful effects\n",
        "\n",
        "We'll apply three types of structural filters:\n",
        "1. **PAINS filters**: To remove pan-assay interference compounds that can interfere with biological assays by various mechanisms, leading to false positives.\n",
        "2. **BRENK filters**: To remove compounds with problematic functional groups\n",
        "3. **Glaxo Wellcome filters**: To remove compounds with reactive or toxic groups\n",
        "\n",
        "We'll start by applying PAINS and BRENK filters."
      ]
    },
    {
      "cell_type": "markdown",
      "metadata": {
        "id": "5eEwShFW0J72"
      },
      "source": [
        "**😱 Long Running Code Block**\n",
        "\n",
        "The following code block may take a long time to run (20 to 25 minutes). If you want to save time, you can skip this cell and load the resulting, filtering data in the cell that comes afterwards."
      ]
    },
    {
      "cell_type": "code",
      "execution_count": null,
      "metadata": {
        "id": "Uq8Htns30J72",
        "outputId": "62a5574e-eb2f-46cb-b8a2-a4b585daf553"
      },
      "outputs": [
        {
          "name": "stdout",
          "output_type": "stream",
          "text": [
            "Initializing PAINS and BRENK filters...\n",
            "Applying filters to molecules...\n"
          ]
        },
        {
          "name": "stderr",
          "output_type": "stream",
          "text": [
            "/tmp/ipykernel_2761/4125902353.py:26: SettingWithCopyWarning: \n",
            "A value is trying to be set on a copy of a slice from a DataFrame.\n",
            "Try using .loc[row_indexer,col_indexer] = value instead\n",
            "\n",
            "See the caveats in the documentation: https://pandas.pydata.org/pandas-docs/stable/user_guide/indexing.html#returning-a-view-versus-a-copy\n",
            "  df['PAINS_BRENK_match'] = df[mol_col].apply(catalog.HasMatch)\n",
            "/tmp/ipykernel_2761/4125902353.py:27: SettingWithCopyWarning: \n",
            "A value is trying to be set on a copy of a slice from a DataFrame.\n",
            "Try using .loc[row_indexer,col_indexer] = value instead\n",
            "\n",
            "See the caveats in the documentation: https://pandas.pydata.org/pandas-docs/stable/user_guide/indexing.html#returning-a-view-versus-a-copy\n",
            "  df['PAINS_BRENK_compliant'] = ~df['PAINS_BRENK_match']\n"
          ]
        },
        {
          "name": "stdout",
          "output_type": "stream",
          "text": [
            "Compounds before PAINS/BRENK filter: 199481\n",
            "Compounds failing PAINS/BRENK filter: 93915\n",
            "Compounds after PAINS/BRENK filter: 105566\n",
            "Percentage of compounds passing the filter: 52.9%\n"
          ]
        }
      ],
      "source": [
        "def apply_pains_brenk_filters(df, mol_col='mol'):\n",
        "    \"\"\"\n",
        "    Apply PAINS and BRENK filters to a set of molecules.\n",
        "\n",
        "    Parameters:\n",
        "    -----------\n",
        "    df : pandas.DataFrame\n",
        "        DataFrame containing molecules\n",
        "    mol_col : str\n",
        "        Name of the column containing RDKit molecule objects\n",
        "\n",
        "    Returns:\n",
        "    --------\n",
        "    pandas.DataFrame\n",
        "        DataFrame with added filter compliance column\n",
        "    \"\"\"\n",
        "    # Ensures we're working with a new DataFrame, not a view\n",
        "    df_copy = df.copy()\n",
        "\n",
        "    # Initialize the filter catalog\n",
        "    print(\"Initializing PAINS and BRENK filters...\")\n",
        "    filter_params = FilterCatalog.FilterCatalogParams()\n",
        "    filter_params.AddCatalog(filter_params.FilterCatalogs.PAINS)\n",
        "    filter_params.AddCatalog(filter_params.FilterCatalogs.BRENK)\n",
        "    catalog = FilterCatalog.FilterCatalog(filter_params)\n",
        "\n",
        "    # Apply the filters (HasMatch returns True for problematic compounds)\n",
        "    print(\"Applying filters to molecules...\")\n",
        "    df_copy.loc[:, 'PAINS_BRENK_match'] = df_copy[mol_col].apply(catalog.HasMatch)\n",
        "    df_copy.loc[:, 'PAINS_BRENK_compliant'] = ~df_copy['PAINS_BRENK_match']\n",
        "\n",
        "    # Filter the dataframe\n",
        "    filtered_df = df_copy[df_copy['PAINS_BRENK_compliant']]\n",
        "\n",
        "    # Report results\n",
        "    print(f\"Compounds before PAINS/BRENK filter: {len(df_copy)}\")\n",
        "    print(f\"Compounds failing PAINS/BRENK filter: {len(df_copy) - len(filtered_df)}\")\n",
        "    print(f\"Compounds after PAINS/BRENK filter: {len(filtered_df)}\")\n",
        "    print(f\"Percentage of compounds passing the filter: {len(filtered_df) / len(df_copy) * 100:.1f}%\")\n",
        "\n",
        "    return df_copy, filtered_df\n",
        "\n",
        "# Apply PAINS and BRENK filters to the RO5 compliant compounds\n",
        "specs_ro5_compliant, specs_ro5_pains_brenk_compliant = apply_pains_brenk_filters(specs_ro5_compliant)\n",
        "\n",
        "# After computing RO5 and PAINS/BRENK filters, save the results\n",
        "save_molecular_dataframe(specs_ro5_compliant, \"specs_ro5_compliant\", chapter=\"ch02\")\n",
        "save_molecular_dataframe(specs_ro5_pains_brenk_compliant, \"specs_ro5_pains_brenk_compliant\", chapter=\"ch02\")"
      ]
    },
    {
      "cell_type": "markdown",
      "metadata": {
        "id": "ly85oZlb0J74"
      },
      "source": [
        "If you skipped the above, long running code block, then you can load the necessary artifacts (takes ~30 to 60 seconds) by running the below code block."
      ]
    },
    {
      "cell_type": "code",
      "execution_count": null,
      "metadata": {
        "id": "hyNBAARc0J74",
        "outputId": "47e00d5c-9b28-4897-e869-1c41c52855ee"
      },
      "outputs": [
        {
          "name": "stdout",
          "output_type": "stream",
          "text": [
            "Loading molecular dataframe from data/ch02/artifacts/specs_ro5_compliant.pkl.gz...\n",
            "Successfully loaded dataframe with 199481 rows and 11 columns\n",
            "Loading time: 44.27 seconds\n",
            "Loading molecular dataframe from data/ch02/artifacts/specs_ro5_pains_brenk_compliant.pkl.gz...\n",
            "Successfully loaded dataframe with 105566 rows and 13 columns\n",
            "Loading time: 20.52 seconds\n"
          ]
        }
      ],
      "source": [
        "specs_ro5_compliant = load_molecular_dataframe(\"specs_ro5_compliant\", chapter=\"ch02\")\n",
        "specs_ro5_pains_brenk_compliant = load_molecular_dataframe(\"specs_ro5_pains_brenk_compliant\", chapter=\"ch02\")"
      ]
    },
    {
      "cell_type": "markdown",
      "metadata": {
        "id": "ZZnfKVmt0J75"
      },
      "source": [
        "Now we'll apply the Glaxo Wellcome hard filters, which are a set of substructural filters developed to identify compounds with problematic functionalities. These filters were designed to flag compounds that might:\n",
        "- React with proteins through electrophilic mechanisms\n",
        "- Form reactive metabolites\n",
        "- Cause toxicity through specific mechanisms\n",
        "- Have poor stability or other undesirable properties"
      ]
    },
    {
      "cell_type": "code",
      "execution_count": null,
      "metadata": {
        "id": "I--Jo5S90J76",
        "outputId": "a4305b2c-862e-409c-869a-afaf355bad00"
      },
      "outputs": [
        {
          "name": "stdout",
          "output_type": "stream",
          "text": [
            "Loaded 55 Glaxo Wellcome structural alerts\n",
            "\n",
            "Example structural alerts:\n"
          ]
        },
        {
          "data": {
            "text/html": [
              "<div>\n",
              "<style scoped>\n",
              "    .dataframe tbody tr th:only-of-type {\n",
              "        vertical-align: middle;\n",
              "    }\n",
              "\n",
              "    .dataframe tbody tr th {\n",
              "        vertical-align: top;\n",
              "    }\n",
              "\n",
              "    .dataframe thead th {\n",
              "        text-align: right;\n",
              "    }\n",
              "</style>\n",
              "<table border=\"1\" class=\"dataframe\">\n",
              "  <thead>\n",
              "    <tr style=\"text-align: right;\">\n",
              "      <th></th>\n",
              "      <th>description</th>\n",
              "      <th>smarts</th>\n",
              "    </tr>\n",
              "  </thead>\n",
              "  <tbody>\n",
              "    <tr>\n",
              "      <th>0</th>\n",
              "      <td>Reactive alkyl halides</td>\n",
              "      <td>[Br,Cl,I][CX4;CH,CH2]</td>\n",
              "    </tr>\n",
              "    <tr>\n",
              "      <th>1</th>\n",
              "      <td>Acid halides</td>\n",
              "      <td>[S,C](=[O,S])[F,Br,Cl,I]</td>\n",
              "    </tr>\n",
              "    <tr>\n",
              "      <th>2</th>\n",
              "      <td>Carbazides</td>\n",
              "      <td>O=CN=[N+]=[N-]</td>\n",
              "    </tr>\n",
              "    <tr>\n",
              "      <th>3</th>\n",
              "      <td>Sulphate esters</td>\n",
              "      <td>COS(=O)O[C,c]</td>\n",
              "    </tr>\n",
              "    <tr>\n",
              "      <th>4</th>\n",
              "      <td>Sulphonates</td>\n",
              "      <td>COS(=O)(=O)[C,c]</td>\n",
              "    </tr>\n",
              "  </tbody>\n",
              "</table>\n",
              "</div>"
            ],
            "text/plain": [
              "              description                    smarts\n",
              "0  Reactive alkyl halides     [Br,Cl,I][CX4;CH,CH2]\n",
              "1            Acid halides  [S,C](=[O,S])[F,Br,Cl,I]\n",
              "2              Carbazides            O=CN=[N+]=[N-]\n",
              "3         Sulphate esters             COS(=O)O[C,c]\n",
              "4             Sulphonates          COS(=O)(=O)[C,c]"
            ]
          },
          "metadata": {},
          "output_type": "display_data"
        },
        {
          "data": {
            "image/svg+xml": [
              "<svg xmlns=\"http://www.w3.org/2000/svg\" xmlns:rdkit=\"http://www.rdkit.org/xml\" xmlns:xlink=\"http://www.w3.org/1999/xlink\" version=\"1.1\" baseProfile=\"full\" xml:space=\"preserve\" width=\"600px\" height=\"400px\" viewBox=\"0 0 600 400\">\n",
              "<!-- END OF HEADER -->\n",
              "<rect style=\"opacity:1.0;fill:#FFFFFF;stroke:none\" width=\"600.0\" height=\"400.0\" x=\"0.0\" y=\"0.0\"> </rect>\n",
              "<path class=\"bond-0 atom-0 atom-1\" d=\"M 51.2,89.0 L 70.2,99.9\" style=\"fill:none;fill-rule:evenodd;stroke:#000000;stroke-width:2.0px;stroke-linecap:butt;stroke-linejoin:miter;stroke-opacity:1\"/>\n",
              "<path class=\"bond-0 atom-0 atom-1\" d=\"M 53.6,84.9 L 70.2,94.5\" style=\"fill:none;fill-rule:evenodd;stroke:#000000;stroke-width:2.0px;stroke-linecap:butt;stroke-linejoin:miter;stroke-opacity:1\"/>\n",
              "<path class=\"bond-1 atom-1 atom-2\" d=\"M 70.2,99.9 L 80.0,94.2\" style=\"fill:none;fill-rule:evenodd;stroke:#7F7F7F;stroke-width:2.0px;stroke-linecap:butt;stroke-linejoin:miter;stroke-opacity:1\"/>\n",
              "<path class=\"bond-1 atom-1 atom-2\" d=\"M 80.0,94.2 L 89.9,88.5\" style=\"fill:none;fill-rule:evenodd;stroke:#7F7F7F;stroke-width:2.0px;stroke-linecap:butt;stroke-linejoin:miter;stroke-opacity:1\"/>\n",
              "<path class=\"bond-1 atom-1 atom-2\" d=\"M 78.9,89.5 L 87.5,84.5\" style=\"fill:none;fill-rule:evenodd;stroke:#7F7F7F;stroke-width:2.0px;stroke-linecap:butt;stroke-linejoin:miter;stroke-opacity:1;stroke-dasharray:1,1.33333\"/>\n",
              "<path class=\"bond-2 atom-2 atom-3\" d=\"M 106.2,86.5 L 118.3,93.5\" style=\"fill:none;fill-rule:evenodd;stroke:#000000;stroke-width:2.0px;stroke-linecap:butt;stroke-linejoin:miter;stroke-opacity:1\"/>\n",
              "<path class=\"bond-2 atom-2 atom-3\" d=\"M 103.8,90.6 L 115.9,97.6\" style=\"fill:none;fill-rule:evenodd;stroke:#000000;stroke-width:2.0px;stroke-linecap:butt;stroke-linejoin:miter;stroke-opacity:1\"/>\n",
              "<path class=\"bond-3 atom-3 atom-4\" d=\"M 139.0,94.4 L 145.5,90.6\" style=\"fill:none;fill-rule:evenodd;stroke:#000000;stroke-width:2.0px;stroke-linecap:butt;stroke-linejoin:miter;stroke-opacity:1\"/>\n",
              "<path class=\"bond-3 atom-3 atom-4\" d=\"M 136.6,90.3 L 143.2,86.5\" style=\"fill:none;fill-rule:evenodd;stroke:#000000;stroke-width:2.0px;stroke-linecap:butt;stroke-linejoin:miter;stroke-opacity:1\"/>\n",
              "<path d=\"M 69.7,99.6 L 70.2,99.9 L 70.4,99.8\" style=\"fill:none;stroke:#000000;stroke-width:2.0px;stroke-linecap:butt;stroke-linejoin:miter;stroke-opacity:1;\"/>\n",
              "<path class=\"atom-0\" d=\"M 40.1 82.2 Q 40.1 80.0, 41.1 78.8 Q 42.2 77.6, 44.1 77.6 Q 46.1 77.6, 47.2 78.8 Q 48.2 80.0, 48.2 82.2 Q 48.2 84.3, 47.2 85.6 Q 46.1 86.8, 44.1 86.8 Q 42.2 86.8, 41.1 85.6 Q 40.1 84.3, 40.1 82.2 M 44.1 85.8 Q 45.5 85.8, 46.2 84.9 Q 47.0 84.0, 47.0 82.2 Q 47.0 80.4, 46.2 79.5 Q 45.5 78.6, 44.1 78.6 Q 42.8 78.6, 42.0 79.5 Q 41.3 80.4, 41.3 82.2 Q 41.3 84.0, 42.0 84.9 Q 42.8 85.8, 44.1 85.8 \" fill=\"#000000\"/>\n",
              "<path class=\"atom-2\" d=\"M 95.5 79.7 L 98.4 84.4 Q 98.7 84.9, 99.1 85.8 Q 99.6 86.6, 99.6 86.6 L 99.6 79.7 L 100.8 79.7 L 100.8 88.6 L 99.6 88.6 L 96.5 83.5 Q 96.1 82.9, 95.7 82.2 Q 95.3 81.5, 95.2 81.3 L 95.2 88.6 L 94.1 88.6 L 94.1 79.7 L 95.5 79.7 \" fill=\"#000000\"/>\n",
              "<path class=\"atom-3\" d=\"M 122.7 95.5 L 125.6 100.2 Q 125.9 100.6, 126.4 101.5 Q 126.8 102.3, 126.9 102.4 L 126.9 95.5 L 128.0 95.5 L 128.0 104.4 L 126.8 104.4 L 123.7 99.2 Q 123.3 98.6, 122.9 97.9 Q 122.6 97.2, 122.5 97.0 L 122.5 104.4 L 121.3 104.4 L 121.3 95.5 L 122.7 95.5 \" fill=\"#000000\"/>\n",
              "<path class=\"atom-3\" d=\"M 129.7 97.1 L 131.3 97.1 L 131.3 95.4 L 132.0 95.4 L 132.0 97.1 L 133.6 97.1 L 133.6 97.7 L 132.0 97.7 L 132.0 99.3 L 131.3 99.3 L 131.3 97.7 L 129.7 97.7 L 129.7 97.1 \" fill=\"#000000\"/>\n",
              "<path class=\"atom-4\" d=\"M 149.9 79.7 L 152.9 84.4 Q 153.1 84.9, 153.6 85.8 Q 154.1 86.6, 154.1 86.6 L 154.1 79.7 L 155.3 79.7 L 155.3 88.6 L 154.1 88.6 L 150.9 83.5 Q 150.6 82.9, 150.2 82.2 Q 149.8 81.5, 149.7 81.3 L 149.7 88.6 L 148.5 88.6 L 148.5 79.7 L 149.9 79.7 \" fill=\"#000000\"/>\n",
              "<path class=\"atom-4\" d=\"M 156.9 81.2 L 159.9 81.2 L 159.9 81.9 L 156.9 81.9 L 156.9 81.2 \" fill=\"#000000\"/>\n",
              "<path class=\"legend\" d=\"M 61.8 184.1 Q 61.8 181.3, 63.1 179.8 Q 64.5 178.4, 67.0 178.4 Q 69.3 178.4, 70.5 180.0 L 69.5 180.9 Q 68.6 179.7, 67.0 179.7 Q 65.3 179.7, 64.3 180.8 Q 63.4 182.0, 63.4 184.1 Q 63.4 186.4, 64.4 187.5 Q 65.3 188.7, 67.1 188.7 Q 68.4 188.7, 69.8 187.9 L 70.3 189.1 Q 69.7 189.5, 68.8 189.7 Q 67.9 190.0, 66.9 190.0 Q 64.5 190.0, 63.1 188.4 Q 61.8 186.9, 61.8 184.1 \" fill=\"#000000\"/>\n",
              "<path class=\"legend\" d=\"M 71.8 187.6 Q 71.8 186.3, 72.9 185.6 Q 73.9 184.8, 75.9 184.8 L 77.1 184.8 L 77.1 184.5 Q 77.1 183.5, 76.6 183.1 Q 76.2 182.6, 75.2 182.6 Q 74.6 182.6, 74.0 182.8 Q 73.5 182.9, 72.7 183.2 L 72.3 182.2 Q 73.8 181.4, 75.2 181.4 Q 77.0 181.4, 77.8 182.2 Q 78.6 182.9, 78.6 184.5 L 78.6 189.8 L 77.4 189.8 Q 77.4 189.7, 77.4 189.5 Q 77.3 189.2, 77.2 188.8 Q 76.1 190.0, 74.5 190.0 Q 73.3 190.0, 72.6 189.3 Q 71.8 188.7, 71.8 187.6 M 73.3 187.6 Q 73.3 188.2, 73.7 188.5 Q 74.1 188.8, 74.8 188.8 Q 75.4 188.8, 76.1 188.5 Q 76.7 188.2, 77.1 187.7 L 77.1 186.0 L 76.0 186.0 Q 74.6 186.0, 74.0 186.4 Q 73.3 186.8, 73.3 187.6 \" fill=\"#000000\"/>\n",
              "<path class=\"legend\" d=\"M 81.7 181.6 L 81.8 182.7 Q 82.7 181.4, 84.1 181.4 Q 84.6 181.4, 85.2 181.6 L 84.9 182.9 Q 84.2 182.8, 83.9 182.8 Q 83.2 182.8, 82.7 183.1 Q 82.3 183.3, 81.9 183.9 L 81.9 189.8 L 80.4 189.8 L 80.4 181.6 L 81.7 181.6 \" fill=\"#000000\"/>\n",
              "<path class=\"legend\" d=\"M 89.9 181.4 Q 91.6 181.4, 92.5 182.5 Q 93.5 183.6, 93.5 185.6 Q 93.5 187.6, 92.4 188.8 Q 91.2 189.9, 89.3 189.9 Q 88.0 189.9, 86.8 189.5 L 86.0 189.3 L 86.0 177.7 L 87.5 177.7 L 87.5 182.5 Q 88.4 181.4, 89.9 181.4 M 89.2 188.8 Q 90.5 188.8, 91.2 187.9 Q 92.0 187.1, 92.0 185.6 Q 92.0 184.1, 91.4 183.4 Q 90.8 182.6, 89.8 182.6 Q 88.9 182.6, 88.4 183.1 Q 87.8 183.5, 87.5 184.3 L 87.5 188.5 Q 88.4 188.8, 89.2 188.8 \" fill=\"#000000\"/>\n",
              "<path class=\"legend\" d=\"M 94.9 187.6 Q 94.9 186.3, 95.9 185.6 Q 97.0 184.8, 98.9 184.8 L 100.1 184.8 L 100.1 184.5 Q 100.1 183.5, 99.7 183.1 Q 99.3 182.6, 98.2 182.6 Q 97.6 182.6, 97.1 182.8 Q 96.6 182.9, 95.8 183.2 L 95.3 182.2 Q 96.8 181.4, 98.3 181.4 Q 100.0 181.4, 100.8 182.2 Q 101.6 182.9, 101.6 184.5 L 101.6 189.8 L 100.5 189.8 Q 100.4 189.7, 100.4 189.5 Q 100.3 189.2, 100.2 188.8 Q 99.1 190.0, 97.6 190.0 Q 96.3 190.0, 95.6 189.3 Q 94.9 188.7, 94.9 187.6 M 96.4 187.6 Q 96.4 188.2, 96.7 188.5 Q 97.1 188.8, 97.8 188.8 Q 98.5 188.8, 99.1 188.5 Q 99.7 188.2, 100.1 187.7 L 100.1 186.0 L 99.0 186.0 Q 97.7 186.0, 97.0 186.4 Q 96.4 186.8, 96.4 187.6 \" fill=\"#000000\"/>\n",
              "<path class=\"legend\" d=\"M 105.3 188.6 L 109.8 188.6 L 109.8 189.8 L 103.5 189.8 L 103.5 188.8 L 107.8 182.8 L 103.7 182.8 L 103.7 181.6 L 109.6 181.6 L 109.6 182.5 L 105.3 188.6 \" fill=\"#000000\"/>\n",
              "<path class=\"legend\" d=\"M 111.0 178.5 L 112.5 178.5 L 112.5 179.9 L 111.0 179.9 L 111.0 178.5 M 111.0 181.6 L 112.5 181.6 L 112.5 189.8 L 111.0 189.8 L 111.0 181.6 \" fill=\"#000000\"/>\n",
              "<path class=\"legend\" d=\"M 121.9 177.7 L 121.9 189.8 L 120.7 189.8 L 120.5 188.8 Q 119.6 189.9, 118.1 189.9 Q 116.4 189.9, 115.4 188.9 Q 114.5 187.8, 114.5 185.8 Q 114.5 183.8, 115.6 182.6 Q 116.7 181.4, 118.7 181.4 Q 119.5 181.4, 120.4 181.7 L 120.4 177.7 L 121.9 177.7 M 118.2 188.8 Q 119.0 188.8, 119.6 188.3 Q 120.2 187.8, 120.4 187.0 L 120.4 182.9 Q 119.6 182.6, 118.7 182.6 Q 117.4 182.6, 116.7 183.5 Q 116.0 184.3, 116.0 185.8 Q 116.0 187.2, 116.6 188.0 Q 117.1 188.8, 118.2 188.8 \" fill=\"#000000\"/>\n",
              "<path class=\"legend\" d=\"M 123.8 185.7 Q 123.8 183.7, 124.9 182.6 Q 125.9 181.4, 127.7 181.4 Q 129.5 181.4, 130.3 182.5 Q 131.1 183.6, 131.1 185.6 L 131.1 185.9 L 125.4 185.9 Q 125.4 187.3, 126.0 188.0 Q 126.7 188.8, 127.8 188.8 Q 128.5 188.8, 129.1 188.6 Q 129.7 188.4, 130.4 188.1 L 130.8 189.2 Q 130.0 189.6, 129.3 189.8 Q 128.5 189.9, 127.8 189.9 Q 125.9 189.9, 124.9 188.8 Q 123.8 187.7, 123.8 185.7 M 127.7 182.6 Q 126.8 182.6, 126.2 183.2 Q 125.6 183.7, 125.4 184.8 L 129.5 184.8 Q 129.4 183.7, 129.0 183.2 Q 128.5 182.6, 127.7 182.6 \" fill=\"#000000\"/>\n",
              "<path class=\"legend\" d=\"M 132.8 188.1 Q 133.5 188.4, 134.1 188.6 Q 134.6 188.7, 135.1 188.7 Q 135.9 188.7, 136.3 188.4 Q 136.7 188.1, 136.7 187.5 Q 136.7 187.1, 136.5 186.9 Q 136.3 186.7, 136.0 186.6 Q 135.7 186.4, 135.0 186.2 Q 134.9 186.2, 134.2 185.9 Q 133.4 185.7, 133.0 185.1 Q 132.6 184.6, 132.6 183.8 Q 132.6 182.8, 133.4 182.1 Q 134.2 181.4, 135.7 181.4 Q 136.3 181.4, 136.8 181.6 Q 137.4 181.7, 138.0 182.0 L 137.6 183.2 Q 137.1 182.9, 136.6 182.8 Q 136.2 182.7, 135.7 182.7 Q 134.9 182.7, 134.5 183.0 Q 134.1 183.3, 134.1 183.8 Q 134.1 184.2, 134.4 184.4 Q 134.7 184.6, 135.4 184.9 Q 135.6 184.9, 135.7 185.0 L 136.1 185.1 Q 136.8 185.4, 137.2 185.6 Q 137.6 185.8, 137.9 186.3 Q 138.2 186.7, 138.2 187.5 Q 138.2 188.7, 137.3 189.3 Q 136.5 190.0, 135.2 190.0 Q 134.4 190.0, 133.7 189.8 Q 133.0 189.6, 132.4 189.3 L 132.8 188.1 \" fill=\"#000000\"/>\n",
              "<path class=\"bond-0 atom-0 atom-1\" d=\"M 241.5,63.9 L 253.1,63.9\" style=\"fill:none;fill-rule:evenodd;stroke:#7F7F7F;stroke-width:2.0px;stroke-linecap:butt;stroke-linejoin:miter;stroke-opacity:1\"/>\n",
              "<path class=\"bond-0 atom-0 atom-1\" d=\"M 253.1,61.5 L 264.6,61.5\" style=\"fill:none;fill-rule:evenodd;stroke:#7F7F7F;stroke-width:2.0px;stroke-linecap:butt;stroke-linejoin:miter;stroke-opacity:1\"/>\n",
              "<path class=\"bond-0 atom-0 atom-1\" d=\"M 253.1,66.2 L 264.6,66.2\" style=\"fill:none;fill-rule:evenodd;stroke:#7F7F7F;stroke-width:2.0px;stroke-linecap:butt;stroke-linejoin:miter;stroke-opacity:1;stroke-dasharray:1,1.33333\"/>\n",
              "<path class=\"bond-1 atom-1 atom-2\" d=\"M 278.0,72.7 L 280.8,77.6\" style=\"fill:none;fill-rule:evenodd;stroke:#7F7F7F;stroke-width:2.0px;stroke-linecap:butt;stroke-linejoin:miter;stroke-opacity:1\"/>\n",
              "<path class=\"bond-1 atom-1 atom-2\" d=\"M 282.9,76.4 L 285.7,81.3\" style=\"fill:none;fill-rule:evenodd;stroke:#7F7F7F;stroke-width:2.0px;stroke-linecap:butt;stroke-linejoin:miter;stroke-opacity:1\"/>\n",
              "<path class=\"bond-1 atom-1 atom-2\" d=\"M 278.8,78.8 L 281.6,83.7\" style=\"fill:none;fill-rule:evenodd;stroke:#7F7F7F;stroke-width:2.0px;stroke-linecap:butt;stroke-linejoin:miter;stroke-opacity:1;stroke-dasharray:0.5,0.666667\"/>\n",
              "<path class=\"bond-2 atom-2 atom-3\" d=\"M 281.5,98.8 L 275.9,108.5\" style=\"fill:none;fill-rule:evenodd;stroke:#000000;stroke-width:2.0px;stroke-linecap:butt;stroke-linejoin:miter;stroke-opacity:1\"/>\n",
              "<path class=\"bond-2 atom-2 atom-3\" d=\"M 285.6,101.2 L 280.0,110.8\" style=\"fill:none;fill-rule:evenodd;stroke:#000000;stroke-width:2.0px;stroke-linecap:butt;stroke-linejoin:miter;stroke-opacity:1\"/>\n",
              "<path class=\"bond-3 atom-2 atom-4\" d=\"M 295.7,91.1 L 303.7,91.1\" style=\"fill:none;fill-rule:evenodd;stroke:#7F7F7F;stroke-width:2.0px;stroke-linecap:butt;stroke-linejoin:miter;stroke-opacity:1\"/>\n",
              "<path class=\"bond-3 atom-2 atom-4\" d=\"M 303.7,88.8 L 311.8,88.8\" style=\"fill:none;fill-rule:evenodd;stroke:#7F7F7F;stroke-width:2.0px;stroke-linecap:butt;stroke-linejoin:miter;stroke-opacity:1\"/>\n",
              "<path class=\"bond-3 atom-2 atom-4\" d=\"M 303.7,93.5 L 311.8,93.5\" style=\"fill:none;fill-rule:evenodd;stroke:#7F7F7F;stroke-width:2.0px;stroke-linecap:butt;stroke-linejoin:miter;stroke-opacity:1;stroke-dasharray:1,1.33333\"/>\n",
              "<path class=\"bond-4 atom-4 atom-5\" d=\"M 325.1,82.4 L 327.7,77.9\" style=\"fill:none;fill-rule:evenodd;stroke:#7F7F7F;stroke-width:2.0px;stroke-linecap:butt;stroke-linejoin:miter;stroke-opacity:1\"/>\n",
              "<path class=\"bond-4 atom-4 atom-5\" d=\"M 329.7,79.1 L 332.3,74.6\" style=\"fill:none;fill-rule:evenodd;stroke:#7F7F7F;stroke-width:2.0px;stroke-linecap:butt;stroke-linejoin:miter;stroke-opacity:1\"/>\n",
              "<path class=\"bond-4 atom-4 atom-5\" d=\"M 325.7,76.8 L 328.2,72.3\" style=\"fill:none;fill-rule:evenodd;stroke:#7F7F7F;stroke-width:2.0px;stroke-linecap:butt;stroke-linejoin:miter;stroke-opacity:1;stroke-dasharray:0.5,0.666667\"/>\n",
              "<path class=\"atom-1\" d=\"M 268.8 63.9 Q 268.8 61.8, 269.9 60.6 Q 270.9 59.4, 272.9 59.4 Q 274.9 59.4, 275.9 60.6 Q 277.0 61.8, 277.0 63.9 Q 277.0 66.1, 275.9 67.3 Q 274.9 68.5, 272.9 68.5 Q 271.0 68.5, 269.9 67.3 Q 268.8 66.1, 268.8 63.9 M 272.9 67.5 Q 274.3 67.5, 275.0 66.6 Q 275.7 65.7, 275.7 63.9 Q 275.7 62.2, 275.0 61.3 Q 274.3 60.4, 272.9 60.4 Q 271.6 60.4, 270.8 61.3 Q 270.1 62.1, 270.1 63.9 Q 270.1 65.7, 270.8 66.6 Q 271.6 67.5, 272.9 67.5 \" fill=\"#000000\"/>\n",
              "<path class=\"atom-2\" d=\"M 286.1 94.2 Q 286.2 94.2, 286.6 94.4 Q 287.1 94.6, 287.5 94.7 Q 288.0 94.8, 288.4 94.8 Q 289.3 94.8, 289.8 94.4 Q 290.3 94.0, 290.3 93.2 Q 290.3 92.7, 290.0 92.4 Q 289.8 92.1, 289.4 92.0 Q 289.0 91.8, 288.4 91.6 Q 287.6 91.4, 287.1 91.2 Q 286.6 90.9, 286.3 90.5 Q 286.0 90.0, 286.0 89.2 Q 286.0 88.1, 286.7 87.4 Q 287.5 86.7, 289.0 86.7 Q 290.0 86.7, 291.2 87.2 L 290.9 88.1 Q 289.8 87.7, 289.0 87.7 Q 288.2 87.7, 287.7 88.1 Q 287.2 88.4, 287.2 89.0 Q 287.2 89.5, 287.5 89.8 Q 287.7 90.1, 288.1 90.2 Q 288.4 90.4, 289.0 90.6 Q 289.8 90.8, 290.3 91.1 Q 290.8 91.4, 291.1 91.9 Q 291.5 92.4, 291.5 93.2 Q 291.5 94.5, 290.7 95.1 Q 289.8 95.8, 288.5 95.8 Q 287.7 95.8, 287.1 95.6 Q 286.5 95.5, 285.8 95.2 L 286.1 94.2 \" fill=\"#000000\"/>\n",
              "<path class=\"atom-3\" d=\"M 268.8 118.4 Q 268.8 116.2, 269.9 115.0 Q 270.9 113.8, 272.9 113.8 Q 274.9 113.8, 275.9 115.0 Q 277.0 116.2, 277.0 118.4 Q 277.0 120.5, 275.9 121.8 Q 274.9 123.0, 272.9 123.0 Q 271.0 123.0, 269.9 121.8 Q 268.8 120.6, 268.8 118.4 M 272.9 122.0 Q 274.3 122.0, 275.0 121.1 Q 275.7 120.2, 275.7 118.4 Q 275.7 116.6, 275.0 115.7 Q 274.3 114.9, 272.9 114.9 Q 271.6 114.9, 270.8 115.7 Q 270.1 116.6, 270.1 118.4 Q 270.1 120.2, 270.8 121.1 Q 271.6 122.0, 272.9 122.0 \" fill=\"#000000\"/>\n",
              "<path class=\"atom-4\" d=\"M 316.0 91.1 Q 316.0 89.0, 317.1 87.8 Q 318.1 86.6, 320.1 86.6 Q 322.1 86.6, 323.1 87.8 Q 324.2 89.0, 324.2 91.1 Q 324.2 93.3, 323.1 94.5 Q 322.0 95.8, 320.1 95.8 Q 318.1 95.8, 317.1 94.5 Q 316.0 93.3, 316.0 91.1 M 320.1 94.7 Q 321.4 94.7, 322.2 93.8 Q 322.9 92.9, 322.9 91.1 Q 322.9 89.4, 322.2 88.5 Q 321.4 87.6, 320.1 87.6 Q 318.7 87.6, 318.0 88.5 Q 317.3 89.4, 317.3 91.1 Q 317.3 92.9, 318.0 93.8 Q 318.7 94.7, 320.1 94.7 \" fill=\"#000000\"/>\n",
              "<path class=\"atom-5\" d=\"M 334.5 59.0 L 337.2 59.0 L 337.2 59.9 L 335.5 59.9 L 335.5 70.3 L 337.2 70.3 L 337.2 71.2 L 334.5 71.2 L 334.5 59.0 \" fill=\"#000000\"/>\n",
              "<path class=\"atom-5\" d=\"M 337.8 64.3 Q 337.8 62.1, 338.8 60.9 Q 339.9 59.7, 341.9 59.7 Q 343.7 59.7, 344.7 61.0 L 343.9 61.7 Q 343.1 60.8, 341.9 60.8 Q 340.5 60.8, 339.8 61.7 Q 339.1 62.6, 339.1 64.3 Q 339.1 66.0, 339.8 66.9 Q 340.6 67.9, 342.0 67.9 Q 343.0 67.9, 344.1 67.3 L 344.5 68.2 Q 344.0 68.5, 343.3 68.7 Q 342.6 68.9, 341.8 68.9 Q 339.9 68.9, 338.8 67.7 Q 337.8 66.5, 337.8 64.3 \" fill=\"#000000\"/>\n",
              "<path class=\"atom-5\" d=\"M 345.6 67.5 L 346.8 67.5 L 346.8 68.5 L 346.6 70.2 L 346.2 70.2 L 346.2 68.7 L 345.6 68.7 L 345.6 67.5 \" fill=\"#000000\"/>\n",
              "<path class=\"atom-5\" d=\"M 348.1 64.3 Q 348.1 62.1, 349.1 60.9 Q 350.1 59.7, 352.1 59.7 Q 354.0 59.7, 354.9 61.0 L 354.1 61.7 Q 353.4 60.8, 352.1 60.8 Q 350.8 60.8, 350.1 61.7 Q 349.4 62.6, 349.4 64.3 Q 349.4 66.0, 350.1 66.9 Q 350.8 67.9, 352.3 67.9 Q 353.2 67.9, 354.4 67.3 L 354.7 68.2 Q 354.3 68.5, 353.6 68.7 Q 352.9 68.9, 352.1 68.9 Q 350.1 68.9, 349.1 67.7 Q 348.1 66.5, 348.1 64.3 \" fill=\"#000000\"/>\n",
              "<path class=\"atom-5\" d=\"M 358.5 59.0 L 358.5 71.2 L 355.9 71.2 L 355.9 70.3 L 357.5 70.3 L 357.5 59.9 L 355.9 59.9 L 355.9 59.0 L 358.5 59.0 \" fill=\"#000000\"/>\n",
              "<path class=\"legend\" d=\"M 245.4 184.3 Q 245.5 184.4, 246.1 184.6 Q 246.6 184.8, 247.2 185.0 Q 247.8 185.1, 248.3 185.1 Q 249.4 185.1, 250.0 184.6 Q 250.7 184.0, 250.7 183.1 Q 250.7 182.5, 250.3 182.1 Q 250.0 181.7, 249.6 181.5 Q 249.1 181.3, 248.3 181.1 Q 247.3 180.8, 246.7 180.5 Q 246.1 180.2, 245.6 179.6 Q 245.2 179.0, 245.2 178.0 Q 245.2 176.5, 246.2 175.7 Q 247.2 174.8, 249.1 174.8 Q 250.4 174.8, 251.9 175.4 L 251.5 176.6 Q 250.2 176.1, 249.1 176.1 Q 248.0 176.1, 247.4 176.5 Q 246.8 177.0, 246.8 177.8 Q 246.8 178.4, 247.1 178.8 Q 247.4 179.1, 247.9 179.3 Q 248.4 179.5, 249.1 179.8 Q 250.2 180.1, 250.8 180.4 Q 251.4 180.7, 251.8 181.4 Q 252.2 182.0, 252.2 183.1 Q 252.2 184.7, 251.2 185.6 Q 250.2 186.4, 248.4 186.4 Q 247.4 186.4, 246.6 186.2 Q 245.9 186.0, 245.0 185.6 L 245.4 184.3 \" fill=\"#000000\"/>\n",
              "<path class=\"legend\" d=\"M 260.6 177.9 L 260.6 186.1 L 259.3 186.1 L 259.2 184.9 Q 258.1 186.2, 256.4 186.2 Q 255.0 186.2, 254.3 185.5 Q 253.6 184.7, 253.6 183.3 L 253.6 177.9 L 255.1 177.9 L 255.1 183.2 Q 255.1 184.2, 255.4 184.6 Q 255.8 185.0, 256.7 185.0 Q 257.4 185.0, 258.0 184.7 Q 258.7 184.4, 259.1 183.7 L 259.1 177.9 L 260.6 177.9 \" fill=\"#000000\"/>\n",
              "<path class=\"legend\" d=\"M 262.5 173.9 L 263.9 173.9 L 263.9 186.1 L 262.5 186.1 L 262.5 173.9 \" fill=\"#000000\"/>\n",
              "<path class=\"legend\" d=\"M 269.7 177.7 Q 271.4 177.7, 272.4 178.8 Q 273.3 179.8, 273.3 181.8 Q 273.3 183.9, 272.2 185.1 Q 271.1 186.2, 269.1 186.2 Q 268.2 186.2, 267.4 186.0 L 267.4 190.0 L 265.9 190.0 L 265.9 177.9 L 267.1 177.9 L 267.3 178.8 Q 267.7 178.3, 268.3 178.0 Q 269.0 177.7, 269.7 177.7 M 269.1 185.0 Q 270.3 185.0, 271.1 184.2 Q 271.8 183.3, 271.8 181.8 Q 271.8 180.4, 271.2 179.7 Q 270.6 178.9, 269.6 178.9 Q 268.8 178.9, 268.2 179.3 Q 267.6 179.8, 267.4 180.5 L 267.4 184.8 Q 268.2 185.0, 269.1 185.0 \" fill=\"#000000\"/>\n",
              "<path class=\"legend\" d=\"M 278.9 177.7 Q 280.2 177.7, 280.9 178.5 Q 281.6 179.2, 281.6 180.6 L 281.6 186.1 L 280.1 186.1 L 280.1 180.8 Q 280.1 179.8, 279.7 179.3 Q 279.4 178.9, 278.5 178.9 Q 277.8 178.9, 277.1 179.2 Q 276.5 179.6, 276.1 180.2 L 276.1 186.1 L 274.6 186.1 L 274.6 173.9 L 276.1 173.9 L 276.1 178.9 Q 277.2 177.7, 278.9 177.7 \" fill=\"#000000\"/>\n",
              "<path class=\"legend\" d=\"M 283.4 183.9 Q 283.4 182.5, 284.5 181.8 Q 285.5 181.1, 287.5 181.1 L 288.7 181.1 L 288.7 180.8 Q 288.7 179.8, 288.2 179.3 Q 287.8 178.9, 286.8 178.9 Q 286.2 178.9, 285.6 179.0 Q 285.1 179.1, 284.3 179.5 L 283.9 178.4 Q 285.4 177.7, 286.8 177.7 Q 288.6 177.7, 289.4 178.5 Q 290.2 179.2, 290.2 180.8 L 290.2 186.1 L 289.0 186.1 Q 289.0 186.0, 289.0 185.8 Q 288.9 185.5, 288.8 185.1 Q 287.7 186.3, 286.1 186.3 Q 284.9 186.3, 284.2 185.6 Q 283.4 185.0, 283.4 183.9 M 284.9 183.8 Q 284.9 184.4, 285.3 184.8 Q 285.7 185.1, 286.4 185.1 Q 287.0 185.1, 287.7 184.8 Q 288.3 184.5, 288.7 184.0 L 288.7 182.2 L 287.6 182.2 Q 286.2 182.2, 285.6 182.6 Q 284.9 183.0, 284.9 183.8 \" fill=\"#000000\"/>\n",
              "<path class=\"legend\" d=\"M 292.0 179.0 L 292.0 177.9 L 293.6 177.9 L 293.8 175.5 L 294.9 175.5 L 294.9 177.9 L 297.4 177.9 L 297.4 179.0 L 294.9 179.0 L 294.9 183.6 Q 294.9 185.0, 296.1 185.0 Q 296.6 185.0, 297.3 184.8 L 297.6 185.8 Q 296.7 186.2, 295.9 186.2 Q 294.8 186.2, 294.1 185.5 Q 293.4 184.9, 293.4 183.6 L 293.4 179.0 L 292.0 179.0 \" fill=\"#000000\"/>\n",
              "<path class=\"legend\" d=\"M 298.5 182.0 Q 298.5 179.9, 299.6 178.8 Q 300.6 177.7, 302.4 177.7 Q 304.2 177.7, 305.0 178.8 Q 305.8 179.9, 305.8 181.9 L 305.8 182.2 L 300.1 182.2 Q 300.1 183.6, 300.7 184.3 Q 301.4 185.0, 302.5 185.0 Q 303.2 185.0, 303.8 184.9 Q 304.4 184.7, 305.1 184.4 L 305.5 185.4 Q 304.7 185.8, 304.0 186.0 Q 303.2 186.2, 302.5 186.2 Q 300.6 186.2, 299.6 185.1 Q 298.5 184.0, 298.5 182.0 M 302.4 178.9 Q 301.5 178.9, 300.9 179.4 Q 300.3 180.0, 300.1 181.0 L 304.2 181.0 Q 304.1 179.9, 303.7 179.4 Q 303.2 178.9, 302.4 178.9 \" fill=\"#000000\"/>\n",
              "<path class=\"legend\" d=\"\" fill=\"#000000\"/>\n",
              "<path class=\"legend\" d=\"M 312.9 182.0 Q 312.9 179.9, 313.9 178.8 Q 314.9 177.7, 316.8 177.7 Q 318.6 177.7, 319.4 178.8 Q 320.2 179.9, 320.2 181.9 L 320.2 182.2 L 314.5 182.2 Q 314.5 183.6, 315.1 184.3 Q 315.7 185.0, 316.9 185.0 Q 317.5 185.0, 318.1 184.9 Q 318.7 184.7, 319.4 184.4 L 319.9 185.4 Q 319.1 185.8, 318.3 186.0 Q 317.6 186.2, 316.8 186.2 Q 315.0 186.2, 313.9 185.1 Q 312.9 184.0, 312.9 182.0 M 316.8 178.9 Q 315.8 178.9, 315.3 179.4 Q 314.7 180.0, 314.5 181.0 L 318.6 181.0 Q 318.5 179.9, 318.1 179.4 Q 317.6 178.9, 316.8 178.9 \" fill=\"#000000\"/>\n",
              "<path class=\"legend\" d=\"M 321.8 184.4 Q 322.6 184.7, 323.1 184.8 Q 323.6 185.0, 324.2 185.0 Q 324.9 185.0, 325.3 184.7 Q 325.7 184.4, 325.7 183.8 Q 325.7 183.4, 325.5 183.2 Q 325.3 182.9, 325.0 182.8 Q 324.7 182.7, 324.0 182.5 Q 323.9 182.4, 323.2 182.2 Q 322.4 181.9, 322.0 181.4 Q 321.7 180.8, 321.7 180.0 Q 321.7 179.1, 322.4 178.4 Q 323.2 177.7, 324.7 177.7 Q 325.3 177.7, 325.8 177.9 Q 326.4 178.0, 327.0 178.2 L 326.6 179.4 Q 326.1 179.2, 325.6 179.1 Q 325.2 179.0, 324.7 179.0 Q 323.9 179.0, 323.5 179.3 Q 323.2 179.6, 323.2 180.0 Q 323.2 180.5, 323.5 180.7 Q 323.8 180.9, 324.4 181.2 Q 324.6 181.2, 324.8 181.3 L 325.1 181.4 Q 325.8 181.6, 326.2 181.9 Q 326.6 182.1, 326.9 182.5 Q 327.2 183.0, 327.2 183.7 Q 327.2 184.9, 326.4 185.6 Q 325.5 186.2, 324.2 186.2 Q 323.4 186.2, 322.7 186.1 Q 322.1 185.9, 321.4 185.6 L 321.8 184.4 \" fill=\"#000000\"/>\n",
              "<path class=\"legend\" d=\"M 328.6 179.0 L 328.6 177.9 L 330.2 177.9 L 330.5 175.5 L 331.6 175.5 L 331.6 177.9 L 334.1 177.9 L 334.1 179.0 L 331.6 179.0 L 331.6 183.6 Q 331.6 185.0, 332.8 185.0 Q 333.3 185.0, 334.0 184.8 L 334.2 185.8 Q 333.3 186.2, 332.5 186.2 Q 331.4 186.2, 330.7 185.5 Q 330.1 184.9, 330.1 183.6 L 330.1 179.0 L 328.6 179.0 \" fill=\"#000000\"/>\n",
              "<path class=\"legend\" d=\"M 335.2 182.0 Q 335.2 179.9, 336.2 178.8 Q 337.2 177.7, 339.0 177.7 Q 340.9 177.7, 341.7 178.8 Q 342.5 179.9, 342.5 181.9 L 342.5 182.2 L 336.7 182.2 Q 336.8 183.6, 337.4 184.3 Q 338.0 185.0, 339.2 185.0 Q 339.8 185.0, 340.4 184.9 Q 341.0 184.7, 341.7 184.4 L 342.2 185.4 Q 341.3 185.8, 340.6 186.0 Q 339.9 186.2, 339.1 186.2 Q 337.2 186.2, 336.2 185.1 Q 335.2 184.0, 335.2 182.0 M 339.0 178.9 Q 338.1 178.9, 337.5 179.4 Q 337.0 180.0, 336.8 181.0 L 340.9 181.0 Q 340.8 179.9, 340.3 179.4 Q 339.9 178.9, 339.0 178.9 \" fill=\"#000000\"/>\n",
              "<path class=\"legend\" d=\"M 344.9 177.9 L 345.0 179.0 Q 345.9 177.7, 347.3 177.7 Q 347.8 177.7, 348.4 177.9 L 348.1 179.2 Q 347.4 179.1, 347.1 179.1 Q 346.4 179.1, 345.9 179.3 Q 345.5 179.6, 345.2 180.2 L 345.2 186.1 L 343.7 186.1 L 343.7 177.9 L 344.9 177.9 \" fill=\"#000000\"/>\n",
              "<path class=\"legend\" d=\"M 349.7 184.4 Q 350.4 184.7, 350.9 184.8 Q 351.4 185.0, 352.0 185.0 Q 352.7 185.0, 353.1 184.7 Q 353.5 184.4, 353.5 183.8 Q 353.5 183.4, 353.3 183.2 Q 353.1 182.9, 352.8 182.8 Q 352.6 182.7, 351.8 182.5 Q 351.7 182.4, 351.0 182.2 Q 350.2 181.9, 349.8 181.4 Q 349.5 180.8, 349.5 180.0 Q 349.5 179.1, 350.2 178.4 Q 351.0 177.7, 352.5 177.7 Q 353.1 177.7, 353.7 177.9 Q 354.2 178.0, 354.8 178.2 L 354.4 179.4 Q 353.9 179.2, 353.4 179.1 Q 353.0 179.0, 352.5 179.0 Q 351.7 179.0, 351.4 179.3 Q 351.0 179.6, 351.0 180.0 Q 351.0 180.5, 351.3 180.7 Q 351.6 180.9, 352.2 181.2 Q 352.4 181.2, 352.6 181.3 L 353.0 181.4 Q 353.6 181.6, 354.0 181.9 Q 354.4 182.1, 354.7 182.5 Q 355.0 183.0, 355.0 183.7 Q 355.0 184.9, 354.2 185.6 Q 353.3 186.2, 352.0 186.2 Q 351.2 186.2, 350.5 186.1 Q 349.9 185.9, 349.2 185.6 L 349.7 184.4 \" fill=\"#000000\"/>\n",
              "<path class=\"bond-0 atom-0 atom-1\" d=\"M 546.5,91.1 L 537.0,85.6\" style=\"fill:none;fill-rule:evenodd;stroke:#7F7F7F;stroke-width:2.0px;stroke-linecap:butt;stroke-linejoin:miter;stroke-opacity:1\"/>\n",
              "<path class=\"bond-0 atom-0 atom-1\" d=\"M 535.8,87.7 L 526.3,82.2\" style=\"fill:none;fill-rule:evenodd;stroke:#7F7F7F;stroke-width:2.0px;stroke-linecap:butt;stroke-linejoin:miter;stroke-opacity:1\"/>\n",
              "<path class=\"bond-0 atom-0 atom-1\" d=\"M 538.2,83.6 L 528.7,78.1\" style=\"fill:none;fill-rule:evenodd;stroke:#7F7F7F;stroke-width:2.0px;stroke-linecap:butt;stroke-linejoin:miter;stroke-opacity:1;stroke-dasharray:1,1.33333\"/>\n",
              "<path class=\"bond-1 atom-1 atom-2\" d=\"M 511.0,80.2 L 505.0,83.6\" style=\"fill:none;fill-rule:evenodd;stroke:#7F7F7F;stroke-width:2.0px;stroke-linecap:butt;stroke-linejoin:miter;stroke-opacity:1\"/>\n",
              "<path class=\"bond-1 atom-1 atom-2\" d=\"M 506.2,85.6 L 500.2,89.1\" style=\"fill:none;fill-rule:evenodd;stroke:#7F7F7F;stroke-width:2.0px;stroke-linecap:butt;stroke-linejoin:miter;stroke-opacity:1\"/>\n",
              "<path class=\"bond-1 atom-1 atom-2\" d=\"M 503.8,81.6 L 497.8,85.0\" style=\"fill:none;fill-rule:evenodd;stroke:#7F7F7F;stroke-width:2.0px;stroke-linecap:butt;stroke-linejoin:miter;stroke-opacity:1;stroke-dasharray:0.5,0.666667\"/>\n",
              "<path class=\"bond-2 atom-2 atom-3\" d=\"M 495.1,101.2 L 500.7,110.8\" style=\"fill:none;fill-rule:evenodd;stroke:#000000;stroke-width:2.0px;stroke-linecap:butt;stroke-linejoin:miter;stroke-opacity:1\"/>\n",
              "<path class=\"bond-2 atom-2 atom-3\" d=\"M 499.1,98.8 L 504.7,108.5\" style=\"fill:none;fill-rule:evenodd;stroke:#000000;stroke-width:2.0px;stroke-linecap:butt;stroke-linejoin:miter;stroke-opacity:1\"/>\n",
              "<path class=\"bond-3 atom-2 atom-4\" d=\"M 483.8,93.1 L 471.8,100.0\" style=\"fill:none;fill-rule:evenodd;stroke:#000000;stroke-width:2.0px;stroke-linecap:butt;stroke-linejoin:miter;stroke-opacity:1\"/>\n",
              "<path class=\"bond-3 atom-2 atom-4\" d=\"M 486.1,97.2 L 474.2,104.1\" style=\"fill:none;fill-rule:evenodd;stroke:#000000;stroke-width:2.0px;stroke-linecap:butt;stroke-linejoin:miter;stroke-opacity:1\"/>\n",
              "<path class=\"bond-4 atom-2 atom-5\" d=\"M 487.0,82.5 L 484.4,78.0\" style=\"fill:none;fill-rule:evenodd;stroke:#7F7F7F;stroke-width:2.0px;stroke-linecap:butt;stroke-linejoin:miter;stroke-opacity:1\"/>\n",
              "<path class=\"bond-4 atom-2 atom-5\" d=\"M 486.4,76.8 L 483.8,72.3\" style=\"fill:none;fill-rule:evenodd;stroke:#7F7F7F;stroke-width:2.0px;stroke-linecap:butt;stroke-linejoin:miter;stroke-opacity:1\"/>\n",
              "<path class=\"bond-4 atom-2 atom-5\" d=\"M 482.4,79.1 L 479.7,74.6\" style=\"fill:none;fill-rule:evenodd;stroke:#7F7F7F;stroke-width:2.0px;stroke-linecap:butt;stroke-linejoin:miter;stroke-opacity:1;stroke-dasharray:0.5,0.666667\"/>\n",
              "<path class=\"atom-1\" d=\"M 515.1 75.4 Q 515.1 73.3, 516.2 72.1 Q 517.2 70.9, 519.2 70.9 Q 521.2 70.9, 522.3 72.1 Q 523.3 73.3, 523.3 75.4 Q 523.3 77.6, 522.2 78.8 Q 521.2 80.0, 519.2 80.0 Q 517.3 80.0, 516.2 78.8 Q 515.1 77.6, 515.1 75.4 M 519.2 79.0 Q 520.6 79.0, 521.3 78.1 Q 522.1 77.2, 522.1 75.4 Q 522.1 73.7, 521.3 72.8 Q 520.6 71.9, 519.2 71.9 Q 517.9 71.9, 517.1 72.8 Q 516.4 73.7, 516.4 75.4 Q 516.4 77.2, 517.1 78.1 Q 517.9 79.0, 519.2 79.0 \" fill=\"#000000\"/>\n",
              "<path class=\"atom-2\" d=\"M 489.5 94.2 Q 489.6 94.2, 490.0 94.4 Q 490.4 94.6, 490.9 94.7 Q 491.3 94.8, 491.8 94.8 Q 492.6 94.8, 493.1 94.4 Q 493.6 94.0, 493.6 93.2 Q 493.6 92.7, 493.3 92.4 Q 493.1 92.1, 492.7 92.0 Q 492.4 91.8, 491.7 91.6 Q 490.9 91.4, 490.5 91.2 Q 490.0 90.9, 489.6 90.5 Q 489.3 90.0, 489.3 89.2 Q 489.3 88.1, 490.1 87.4 Q 490.8 86.7, 492.4 86.7 Q 493.4 86.7, 494.6 87.2 L 494.3 88.1 Q 493.2 87.7, 492.4 87.7 Q 491.5 87.7, 491.0 88.1 Q 490.6 88.4, 490.6 89.0 Q 490.6 89.5, 490.8 89.8 Q 491.1 90.1, 491.4 90.2 Q 491.8 90.4, 492.4 90.6 Q 493.2 90.8, 493.7 91.1 Q 494.1 91.4, 494.5 91.9 Q 494.8 92.4, 494.8 93.2 Q 494.8 94.5, 494.0 95.1 Q 493.2 95.8, 491.8 95.8 Q 491.0 95.8, 490.4 95.6 Q 489.8 95.5, 489.1 95.2 L 489.5 94.2 \" fill=\"#000000\"/>\n",
              "<path class=\"atom-3\" d=\"M 503.6 118.4 Q 503.6 116.2, 504.7 115.0 Q 505.7 113.8, 507.7 113.8 Q 509.7 113.8, 510.7 115.0 Q 511.8 116.2, 511.8 118.4 Q 511.8 120.5, 510.7 121.8 Q 509.7 123.0, 507.7 123.0 Q 505.7 123.0, 504.7 121.8 Q 503.6 120.6, 503.6 118.4 M 507.7 122.0 Q 509.1 122.0, 509.8 121.1 Q 510.5 120.2, 510.5 118.4 Q 510.5 116.6, 509.8 115.7 Q 509.1 114.9, 507.7 114.9 Q 506.4 114.9, 505.6 115.7 Q 504.9 116.6, 504.9 118.4 Q 504.9 120.2, 505.6 121.1 Q 506.4 122.0, 507.7 122.0 \" fill=\"#000000\"/>\n",
              "<path class=\"atom-4\" d=\"M 460.7 106.9 Q 460.7 104.7, 461.7 103.5 Q 462.8 102.3, 464.8 102.3 Q 466.7 102.3, 467.8 103.5 Q 468.8 104.7, 468.8 106.9 Q 468.8 109.0, 467.8 110.3 Q 466.7 111.5, 464.8 111.5 Q 462.8 111.5, 461.7 110.3 Q 460.7 109.0, 460.7 106.9 M 464.8 110.5 Q 466.1 110.5, 466.8 109.6 Q 467.6 108.6, 467.6 106.9 Q 467.6 105.1, 466.8 104.2 Q 466.1 103.3, 464.8 103.3 Q 463.4 103.3, 462.6 104.2 Q 461.9 105.1, 461.9 106.9 Q 461.9 108.7, 462.6 109.6 Q 463.4 110.5, 464.8 110.5 \" fill=\"#000000\"/>\n",
              "<path class=\"atom-5\" d=\"M 453.5 59.0 L 456.2 59.0 L 456.2 59.9 L 454.6 59.9 L 454.6 70.3 L 456.2 70.3 L 456.2 71.2 L 453.5 71.2 L 453.5 59.0 \" fill=\"#000000\"/>\n",
              "<path class=\"atom-5\" d=\"M 456.9 64.3 Q 456.9 62.1, 457.9 60.9 Q 459.0 59.7, 460.9 59.7 Q 462.8 59.7, 463.8 61.0 L 462.9 61.7 Q 462.2 60.8, 460.9 60.8 Q 459.6 60.8, 458.9 61.7 Q 458.2 62.6, 458.2 64.3 Q 458.2 66.0, 458.9 66.9 Q 459.6 67.9, 461.1 67.9 Q 462.1 67.9, 463.2 67.3 L 463.5 68.2 Q 463.1 68.5, 462.4 68.7 Q 461.7 68.9, 460.9 68.9 Q 459.0 68.9, 457.9 67.7 Q 456.9 66.5, 456.9 64.3 \" fill=\"#000000\"/>\n",
              "<path class=\"atom-5\" d=\"M 464.7 67.5 L 465.9 67.5 L 465.9 68.5 L 465.7 70.2 L 465.2 70.2 L 465.2 68.7 L 464.7 68.7 L 464.7 67.5 \" fill=\"#000000\"/>\n",
              "<path class=\"atom-5\" d=\"M 467.1 64.3 Q 467.1 62.1, 468.2 60.9 Q 469.2 59.7, 471.2 59.7 Q 473.0 59.7, 474.0 61.0 L 473.2 61.7 Q 472.5 60.8, 471.2 60.8 Q 469.8 60.8, 469.1 61.7 Q 468.4 62.6, 468.4 64.3 Q 468.4 66.0, 469.2 66.9 Q 469.9 67.9, 471.3 67.9 Q 472.3 67.9, 473.5 67.3 L 473.8 68.2 Q 473.3 68.5, 472.6 68.7 Q 471.9 68.9, 471.2 68.9 Q 469.2 68.9, 468.2 67.7 Q 467.1 66.5, 467.1 64.3 \" fill=\"#000000\"/>\n",
              "<path class=\"atom-5\" d=\"M 477.6 59.0 L 477.6 71.2 L 474.9 71.2 L 474.9 70.3 L 476.5 70.3 L 476.5 59.9 L 474.9 59.9 L 474.9 59.0 L 477.6 59.0 \" fill=\"#000000\"/>\n",
              "<path class=\"legend\" d=\"M 457.2 184.3 Q 457.4 184.4, 457.9 184.6 Q 458.4 184.8, 459.0 185.0 Q 459.6 185.1, 460.2 185.1 Q 461.2 185.1, 461.8 184.6 Q 462.5 184.0, 462.5 183.1 Q 462.5 182.5, 462.2 182.1 Q 461.8 181.7, 461.4 181.5 Q 460.9 181.3, 460.1 181.1 Q 459.1 180.8, 458.5 180.5 Q 457.9 180.2, 457.4 179.6 Q 457.0 179.0, 457.0 178.0 Q 457.0 176.5, 458.0 175.7 Q 459.0 174.8, 460.9 174.8 Q 462.2 174.8, 463.7 175.4 L 463.3 176.6 Q 462.0 176.1, 460.9 176.1 Q 459.8 176.1, 459.2 176.5 Q 458.6 177.0, 458.6 177.8 Q 458.6 178.4, 458.9 178.8 Q 459.3 179.1, 459.7 179.3 Q 460.2 179.5, 460.9 179.8 Q 462.0 180.1, 462.6 180.4 Q 463.2 180.7, 463.6 181.4 Q 464.1 182.0, 464.1 183.1 Q 464.1 184.7, 463.0 185.6 Q 462.0 186.4, 460.2 186.4 Q 459.2 186.4, 458.4 186.2 Q 457.7 186.0, 456.8 185.6 L 457.2 184.3 \" fill=\"#000000\"/>\n",
              "<path class=\"legend\" d=\"M 472.4 177.9 L 472.4 186.1 L 471.2 186.1 L 471.0 184.9 Q 470.0 186.2, 468.2 186.2 Q 466.9 186.2, 466.2 185.5 Q 465.4 184.7, 465.4 183.3 L 465.4 177.9 L 467.0 177.9 L 467.0 183.2 Q 467.0 184.2, 467.3 184.6 Q 467.7 185.0, 468.5 185.0 Q 469.3 185.0, 469.9 184.7 Q 470.5 184.4, 470.9 183.7 L 470.9 177.9 L 472.4 177.9 \" fill=\"#000000\"/>\n",
              "<path class=\"legend\" d=\"M 474.4 173.9 L 475.9 173.9 L 475.9 186.1 L 474.4 186.1 L 474.4 173.9 \" fill=\"#000000\"/>\n",
              "<path class=\"legend\" d=\"M 481.7 177.7 Q 483.4 177.7, 484.4 178.8 Q 485.3 179.8, 485.3 181.8 Q 485.3 183.9, 484.2 185.1 Q 483.1 186.2, 481.1 186.2 Q 480.2 186.2, 479.4 186.0 L 479.4 190.0 L 477.9 190.0 L 477.9 177.9 L 479.1 177.9 L 479.3 178.8 Q 479.7 178.3, 480.3 178.0 Q 481.0 177.7, 481.7 177.7 M 481.1 185.0 Q 482.3 185.0, 483.1 184.2 Q 483.8 183.3, 483.8 181.8 Q 483.8 180.4, 483.2 179.7 Q 482.6 178.9, 481.6 178.9 Q 480.8 178.9, 480.2 179.3 Q 479.6 179.8, 479.4 180.5 L 479.4 184.8 Q 480.2 185.0, 481.1 185.0 \" fill=\"#000000\"/>\n",
              "<path class=\"legend\" d=\"M 491.0 177.7 Q 492.3 177.7, 493.0 178.5 Q 493.7 179.2, 493.7 180.6 L 493.7 186.1 L 492.2 186.1 L 492.2 180.8 Q 492.2 179.8, 491.8 179.3 Q 491.4 178.9, 490.6 178.9 Q 489.8 178.9, 489.2 179.2 Q 488.6 179.6, 488.2 180.2 L 488.2 186.1 L 486.7 186.1 L 486.7 173.9 L 488.2 173.9 L 488.2 178.9 Q 489.3 177.7, 491.0 177.7 \" fill=\"#000000\"/>\n",
              "<path class=\"legend\" d=\"M 495.5 182.0 Q 495.5 180.0, 496.6 178.8 Q 497.6 177.7, 499.4 177.7 Q 501.3 177.7, 502.3 178.8 Q 503.4 180.0, 503.4 182.0 Q 503.4 184.0, 502.3 185.1 Q 501.3 186.2, 499.4 186.2 Q 497.6 186.2, 496.6 185.1 Q 495.5 184.0, 495.5 182.0 M 497.1 182.0 Q 497.1 183.5, 497.7 184.2 Q 498.3 185.0, 499.4 185.0 Q 500.6 185.0, 501.2 184.2 Q 501.8 183.5, 501.8 182.0 Q 501.8 180.4, 501.2 179.7 Q 500.6 178.9, 499.4 178.9 Q 498.3 178.9, 497.7 179.7 Q 497.1 180.4, 497.1 182.0 \" fill=\"#000000\"/>\n",
              "<path class=\"legend\" d=\"M 509.0 177.7 Q 510.3 177.7, 511.0 178.5 Q 511.7 179.2, 511.7 180.6 L 511.7 186.1 L 510.2 186.1 L 510.2 180.8 Q 510.2 179.8, 509.8 179.3 Q 509.5 178.9, 508.6 178.9 Q 507.9 178.9, 507.3 179.2 Q 506.6 179.6, 506.2 180.2 L 506.2 186.1 L 504.7 186.1 L 504.7 177.9 L 506.0 177.9 L 506.1 179.0 Q 507.2 177.7, 509.0 177.7 \" fill=\"#000000\"/>\n",
              "<path class=\"legend\" d=\"M 513.6 183.9 Q 513.6 182.5, 514.6 181.8 Q 515.7 181.1, 517.6 181.1 L 518.9 181.1 L 518.9 180.8 Q 518.9 179.8, 518.4 179.3 Q 518.0 178.9, 517.0 178.9 Q 516.3 178.9, 515.8 179.0 Q 515.3 179.1, 514.5 179.5 L 514.1 178.4 Q 515.6 177.7, 517.0 177.7 Q 518.8 177.7, 519.6 178.5 Q 520.4 179.2, 520.4 180.8 L 520.4 186.1 L 519.2 186.1 Q 519.2 186.0, 519.1 185.8 Q 519.1 185.5, 519.0 185.1 Q 517.8 186.3, 516.3 186.3 Q 515.1 186.3, 514.3 185.6 Q 513.6 185.0, 513.6 183.9 M 515.1 183.8 Q 515.1 184.4, 515.5 184.8 Q 515.9 185.1, 516.6 185.1 Q 517.2 185.1, 517.8 184.8 Q 518.4 184.5, 518.9 184.0 L 518.9 182.2 L 517.7 182.2 Q 516.4 182.2, 515.8 182.6 Q 515.1 183.0, 515.1 183.8 \" fill=\"#000000\"/>\n",
              "<path class=\"legend\" d=\"M 522.2 179.0 L 522.2 177.9 L 523.8 177.9 L 524.1 175.5 L 525.2 175.5 L 525.2 177.9 L 527.7 177.9 L 527.7 179.0 L 525.2 179.0 L 525.2 183.6 Q 525.2 185.0, 526.4 185.0 Q 526.9 185.0, 527.6 184.8 L 527.8 185.8 Q 526.9 186.2, 526.1 186.2 Q 525.0 186.2, 524.3 185.5 Q 523.7 184.9, 523.7 183.6 L 523.7 179.0 L 522.2 179.0 \" fill=\"#000000\"/>\n",
              "<path class=\"legend\" d=\"M 528.9 182.0 Q 528.9 179.9, 529.9 178.8 Q 530.9 177.7, 532.7 177.7 Q 534.5 177.7, 535.3 178.8 Q 536.1 179.9, 536.1 181.9 L 536.1 182.2 L 530.4 182.2 Q 530.4 183.6, 531.0 184.3 Q 531.7 185.0, 532.8 185.0 Q 533.5 185.0, 534.1 184.9 Q 534.7 184.7, 535.4 184.4 L 535.8 185.4 Q 535.0 185.8, 534.3 186.0 Q 533.5 186.2, 532.8 186.2 Q 530.9 186.2, 529.9 185.1 Q 528.9 184.0, 528.9 182.0 M 532.7 178.9 Q 531.8 178.9, 531.2 179.4 Q 530.6 180.0, 530.5 181.0 L 534.6 181.0 Q 534.4 179.9, 534.0 179.4 Q 533.5 178.9, 532.7 178.9 \" fill=\"#000000\"/>\n",
              "<path class=\"legend\" d=\"M 537.8 184.4 Q 538.6 184.7, 539.1 184.8 Q 539.6 185.0, 540.2 185.0 Q 540.9 185.0, 541.3 184.7 Q 541.7 184.4, 541.7 183.8 Q 541.7 183.4, 541.5 183.2 Q 541.3 182.9, 541.0 182.8 Q 540.7 182.7, 540.0 182.5 Q 539.9 182.4, 539.2 182.2 Q 538.4 181.9, 538.0 181.4 Q 537.7 180.8, 537.7 180.0 Q 537.7 179.1, 538.4 178.4 Q 539.2 177.7, 540.7 177.7 Q 541.3 177.7, 541.8 177.9 Q 542.4 178.0, 543.0 178.2 L 542.6 179.4 Q 542.1 179.2, 541.6 179.1 Q 541.2 179.0, 540.7 179.0 Q 539.9 179.0, 539.5 179.3 Q 539.2 179.6, 539.2 180.0 Q 539.2 180.5, 539.5 180.7 Q 539.8 180.9, 540.4 181.2 Q 540.6 181.2, 540.8 181.3 L 541.1 181.4 Q 541.8 181.6, 542.2 181.9 Q 542.6 182.1, 542.9 182.5 Q 543.2 183.0, 543.2 183.7 Q 543.2 184.9, 542.4 185.6 Q 541.5 186.2, 540.2 186.2 Q 539.4 186.2, 538.7 186.1 Q 538.1 185.9, 537.4 185.6 L 537.8 184.4 \" fill=\"#000000\"/>\n",
              "<path class=\"bond-0 atom-0 atom-1\" d=\"M 127.2,300.1 L 146.2,289.1\" style=\"fill:none;fill-rule:evenodd;stroke:#000000;stroke-width:2.0px;stroke-linecap:butt;stroke-linejoin:miter;stroke-opacity:1\"/>\n",
              "<path class=\"bond-0 atom-0 atom-1\" d=\"M 127.2,294.6 L 143.8,285.1\" style=\"fill:none;fill-rule:evenodd;stroke:#000000;stroke-width:2.0px;stroke-linecap:butt;stroke-linejoin:miter;stroke-opacity:1\"/>\n",
              "<path class=\"bond-1 atom-0 atom-2\" d=\"M 127.2,300.1 L 117.8,294.6\" style=\"fill:none;fill-rule:evenodd;stroke:#7F7F7F;stroke-width:2.0px;stroke-linecap:butt;stroke-linejoin:miter;stroke-opacity:1\"/>\n",
              "<path class=\"bond-1 atom-0 atom-2\" d=\"M 117.8,294.6 L 108.3,289.1\" style=\"fill:none;fill-rule:evenodd;stroke:#7F7F7F;stroke-width:2.0px;stroke-linecap:butt;stroke-linejoin:miter;stroke-opacity:1\"/>\n",
              "<path class=\"bond-1 atom-0 atom-2\" d=\"M 118.9,289.9 L 110.6,285.1\" style=\"fill:none;fill-rule:evenodd;stroke:#7F7F7F;stroke-width:2.0px;stroke-linecap:butt;stroke-linejoin:miter;stroke-opacity:1;stroke-dasharray:1,1.33333\"/>\n",
              "<path class=\"bond-2 atom-2 atom-3\" d=\"M 91.7,289.1 L 82.2,294.6\" style=\"fill:none;fill-rule:evenodd;stroke:#7F7F7F;stroke-width:2.0px;stroke-linecap:butt;stroke-linejoin:miter;stroke-opacity:1\"/>\n",
              "<path class=\"bond-2 atom-2 atom-3\" d=\"M 82.2,294.6 L 72.8,300.1\" style=\"fill:none;fill-rule:evenodd;stroke:#7F7F7F;stroke-width:2.0px;stroke-linecap:butt;stroke-linejoin:miter;stroke-opacity:1\"/>\n",
              "<path class=\"bond-2 atom-2 atom-3\" d=\"M 84.6,298.7 L 75.1,304.2\" style=\"fill:none;fill-rule:evenodd;stroke:#7F7F7F;stroke-width:2.0px;stroke-linecap:butt;stroke-linejoin:miter;stroke-opacity:1;stroke-dasharray:1,1.33333\"/>\n",
              "<path class=\"bond-3 atom-3 atom-4\" d=\"M 72.8,300.1 L 53.8,289.1\" style=\"fill:none;fill-rule:evenodd;stroke:#000000;stroke-width:2.0px;stroke-linecap:butt;stroke-linejoin:miter;stroke-opacity:1\"/>\n",
              "<path class=\"bond-3 atom-3 atom-4\" d=\"M 72.8,294.6 L 56.2,285.1\" style=\"fill:none;fill-rule:evenodd;stroke:#000000;stroke-width:2.0px;stroke-linecap:butt;stroke-linejoin:miter;stroke-opacity:1\"/>\n",
              "<path d=\"M 127.7,299.8 L 127.2,300.1 L 127.0,300.0\" style=\"fill:none;stroke:#000000;stroke-width:2.0px;stroke-linecap:butt;stroke-linejoin:miter;stroke-opacity:1;\"/>\n",
              "<path d=\"M 73.0,300.0 L 72.8,300.1 L 72.3,299.8\" style=\"fill:none;stroke:#7F7F7F;stroke-width:2.0px;stroke-linecap:butt;stroke-linejoin:miter;stroke-opacity:1;\"/>\n",
              "<path class=\"atom-1\" d=\"M 149.2 282.4 Q 149.2 280.2, 150.3 279.0 Q 151.3 277.8, 153.3 277.8 Q 155.3 277.8, 156.3 279.0 Q 157.4 280.2, 157.4 282.4 Q 157.4 284.5, 156.3 285.7 Q 155.2 287.0, 153.3 287.0 Q 151.3 287.0, 150.3 285.7 Q 149.2 284.5, 149.2 282.4 M 153.3 286.0 Q 154.7 286.0, 155.4 285.1 Q 156.1 284.1, 156.1 282.4 Q 156.1 280.6, 155.4 279.7 Q 154.7 278.8, 153.3 278.8 Q 151.9 278.8, 151.2 279.7 Q 150.5 280.6, 150.5 282.4 Q 150.5 284.1, 151.2 285.1 Q 151.9 286.0, 153.3 286.0 \" fill=\"#000000\"/>\n",
              "<path class=\"atom-2\" d=\"M 95.9 284.4 Q 95.9 282.3, 97.0 281.1 Q 98.0 279.9, 100.0 279.9 Q 102.0 279.9, 103.0 281.1 Q 104.1 282.3, 104.1 284.4 Q 104.1 286.6, 103.0 287.8 Q 101.9 289.0, 100.0 289.0 Q 98.0 289.0, 97.0 287.8 Q 95.9 286.6, 95.9 284.4 M 100.0 288.0 Q 101.4 288.0, 102.1 287.1 Q 102.8 286.2, 102.8 284.4 Q 102.8 282.6, 102.1 281.8 Q 101.4 280.9, 100.0 280.9 Q 98.6 280.9, 97.9 281.8 Q 97.2 282.6, 97.2 284.4 Q 97.2 286.2, 97.9 287.1 Q 98.6 288.0, 100.0 288.0 \" fill=\"#000000\"/>\n",
              "<path class=\"atom-4\" d=\"M 42.6 282.4 Q 42.6 280.2, 43.7 279.0 Q 44.7 277.8, 46.7 277.8 Q 48.7 277.8, 49.7 279.0 Q 50.8 280.2, 50.8 282.4 Q 50.8 284.5, 49.7 285.7 Q 48.7 287.0, 46.7 287.0 Q 44.7 287.0, 43.7 285.7 Q 42.6 284.5, 42.6 282.4 M 46.7 286.0 Q 48.1 286.0, 48.8 285.1 Q 49.5 284.1, 49.5 282.4 Q 49.5 280.6, 48.8 279.7 Q 48.1 278.8, 46.7 278.8 Q 45.3 278.8, 44.6 279.7 Q 43.9 280.6, 43.9 282.4 Q 43.9 284.1, 44.6 285.1 Q 45.3 286.0, 46.7 286.0 \" fill=\"#000000\"/>\n",
              "<path class=\"legend\" d=\"M 51.5 386.1 L 50.3 382.7 L 45.8 382.7 L 44.6 386.1 L 43.1 386.1 L 47.0 374.7 L 48.9 374.7 L 52.9 386.1 L 51.5 386.1 M 46.2 381.5 L 49.8 381.5 L 48.0 376.3 L 46.2 381.5 \" fill=\"#000000\"/>\n",
              "<path class=\"legend\" d=\"M 53.7 381.9 Q 53.7 380.0, 54.7 378.8 Q 55.7 377.7, 57.7 377.7 Q 59.5 377.7, 60.5 379.1 L 59.5 379.8 Q 59.1 379.3, 58.7 379.1 Q 58.2 378.9, 57.7 378.9 Q 56.5 378.9, 55.9 379.7 Q 55.3 380.4, 55.3 381.9 Q 55.3 383.5, 55.9 384.2 Q 56.6 385.0, 57.8 385.0 Q 58.4 385.0, 58.9 384.9 Q 59.4 384.7, 59.9 384.4 L 60.3 385.5 Q 59.2 386.2, 57.6 386.2 Q 55.7 386.2, 54.7 385.0 Q 53.7 383.9, 53.7 381.9 \" fill=\"#000000\"/>\n",
              "<path class=\"legend\" d=\"M 61.5 374.7 L 62.9 374.7 L 62.9 376.1 L 61.5 376.1 L 61.5 374.7 M 61.5 377.8 L 62.9 377.8 L 62.9 386.1 L 61.5 386.1 L 61.5 377.8 \" fill=\"#000000\"/>\n",
              "<path class=\"legend\" d=\"M 72.4 373.9 L 72.4 386.0 L 71.2 386.0 L 71.0 385.0 Q 70.0 386.2, 68.5 386.2 Q 66.8 386.2, 65.9 385.1 Q 64.9 384.1, 64.9 382.1 Q 64.9 380.0, 66.0 378.9 Q 67.2 377.7, 69.1 377.7 Q 70.0 377.7, 70.9 377.9 L 70.9 373.9 L 72.4 373.9 M 68.6 385.0 Q 69.5 385.0, 70.0 384.6 Q 70.7 384.1, 70.9 383.3 L 70.9 379.1 Q 70.1 378.9, 69.2 378.9 Q 67.9 378.9, 67.2 379.7 Q 66.4 380.6, 66.4 382.1 Q 66.4 383.5, 67.0 384.3 Q 67.6 385.0, 68.6 385.0 \" fill=\"#000000\"/>\n",
              "<path class=\"legend\" d=\"\" fill=\"#000000\"/>\n",
              "<path class=\"legend\" d=\"M 80.2 383.8 Q 80.2 382.5, 81.2 381.8 Q 82.3 381.1, 84.2 381.1 L 85.4 381.1 L 85.4 380.8 Q 85.4 379.7, 85.0 379.3 Q 84.6 378.9, 83.6 378.9 Q 82.9 378.9, 82.4 379.0 Q 81.9 379.1, 81.1 379.5 L 80.6 378.4 Q 82.1 377.7, 83.6 377.7 Q 85.3 377.7, 86.1 378.4 Q 86.9 379.2, 86.9 380.8 L 86.9 386.1 L 85.8 386.1 Q 85.8 386.0, 85.7 385.8 Q 85.7 385.5, 85.6 385.1 Q 84.4 386.3, 82.9 386.3 Q 81.6 386.3, 80.9 385.6 Q 80.2 384.9, 80.2 383.8 M 81.7 383.8 Q 81.7 384.4, 82.1 384.8 Q 82.4 385.1, 83.2 385.1 Q 83.8 385.1, 84.4 384.8 Q 85.0 384.5, 85.4 384.0 L 85.4 382.2 L 84.3 382.2 Q 83.0 382.2, 82.3 382.6 Q 81.7 383.0, 81.7 383.8 \" fill=\"#000000\"/>\n",
              "<path class=\"legend\" d=\"M 93.1 377.7 Q 94.4 377.7, 95.1 378.4 Q 95.8 379.2, 95.8 380.6 L 95.8 386.1 L 94.3 386.1 L 94.3 380.7 Q 94.3 379.8, 93.9 379.3 Q 93.5 378.9, 92.7 378.9 Q 91.9 378.9, 91.3 379.2 Q 90.7 379.6, 90.3 380.2 L 90.3 386.1 L 88.8 386.1 L 88.8 377.8 L 90.0 377.8 L 90.2 379.0 Q 91.3 377.7, 93.1 377.7 \" fill=\"#000000\"/>\n",
              "<path class=\"legend\" d=\"M 101.9 377.7 Q 103.2 377.7, 103.9 378.4 Q 104.6 379.2, 104.6 380.6 L 104.6 386.1 L 103.1 386.1 L 103.1 380.7 Q 103.1 379.8, 102.7 379.3 Q 102.3 378.9, 101.5 378.9 Q 100.7 378.9, 100.1 379.2 Q 99.5 379.6, 99.1 380.2 L 99.1 386.1 L 97.6 386.1 L 97.6 373.9 L 99.1 373.9 L 99.1 378.9 Q 100.2 377.7, 101.9 377.7 \" fill=\"#000000\"/>\n",
              "<path class=\"legend\" d=\"M 112.7 377.8 L 114.2 377.8 L 109.9 390.0 L 108.6 390.0 L 109.9 386.1 L 109.3 386.1 L 106.4 377.8 L 107.9 377.8 L 110.4 384.8 L 112.7 377.8 \" fill=\"#000000\"/>\n",
              "<path class=\"legend\" d=\"M 122.4 373.9 L 122.4 386.0 L 121.2 386.0 L 121.0 385.0 Q 120.1 386.2, 118.5 386.2 Q 116.8 386.2, 115.9 385.1 Q 114.9 384.1, 114.9 382.1 Q 114.9 380.0, 116.1 378.9 Q 117.2 377.7, 119.2 377.7 Q 120.0 377.7, 120.9 377.9 L 120.9 373.9 L 122.4 373.9 M 118.6 385.0 Q 119.5 385.0, 120.1 384.6 Q 120.7 384.1, 120.9 383.3 L 120.9 379.1 Q 120.1 378.9, 119.2 378.9 Q 117.9 378.9, 117.2 379.7 Q 116.5 380.6, 116.5 382.1 Q 116.5 383.5, 117.0 384.3 Q 117.6 385.0, 118.6 385.0 \" fill=\"#000000\"/>\n",
              "<path class=\"legend\" d=\"M 125.5 377.8 L 125.7 379.0 Q 126.5 377.7, 127.9 377.7 Q 128.4 377.7, 129.0 377.9 L 128.8 379.2 Q 128.1 379.0, 127.7 379.0 Q 127.0 379.0, 126.6 379.3 Q 126.1 379.6, 125.8 380.2 L 125.8 386.1 L 124.3 386.1 L 124.3 377.8 L 125.5 377.8 \" fill=\"#000000\"/>\n",
              "<path class=\"legend\" d=\"M 129.8 374.7 L 131.3 374.7 L 131.3 376.1 L 129.8 376.1 L 129.8 374.7 M 129.8 377.8 L 131.3 377.8 L 131.3 386.1 L 129.8 386.1 L 129.8 377.8 \" fill=\"#000000\"/>\n",
              "<path class=\"legend\" d=\"M 140.7 373.9 L 140.7 386.0 L 139.5 386.0 L 139.3 385.0 Q 138.4 386.2, 136.9 386.2 Q 135.2 386.2, 134.2 385.1 Q 133.3 384.1, 133.3 382.1 Q 133.3 380.0, 134.4 378.9 Q 135.5 377.7, 137.5 377.7 Q 138.3 377.7, 139.2 377.9 L 139.2 373.9 L 140.7 373.9 M 137.0 385.0 Q 137.8 385.0, 138.4 384.6 Q 139.0 384.1, 139.2 383.3 L 139.2 379.1 Q 138.4 378.9, 137.5 378.9 Q 136.2 378.9, 135.5 379.7 Q 134.8 380.6, 134.8 382.1 Q 134.8 383.5, 135.4 384.3 Q 135.9 385.0, 137.0 385.0 \" fill=\"#000000\"/>\n",
              "<path class=\"legend\" d=\"M 142.6 381.9 Q 142.6 379.9, 143.6 378.8 Q 144.6 377.7, 146.5 377.7 Q 148.3 377.7, 149.1 378.8 Q 149.9 379.9, 149.9 381.9 L 149.9 382.1 L 144.1 382.1 Q 144.2 383.5, 144.8 384.3 Q 145.4 385.0, 146.6 385.0 Q 147.2 385.0, 147.8 384.9 Q 148.4 384.7, 149.1 384.4 L 149.6 385.4 Q 148.7 385.8, 148.0 386.0 Q 147.3 386.2, 146.5 386.2 Q 144.6 386.2, 143.6 385.1 Q 142.6 384.0, 142.6 381.9 M 146.5 378.9 Q 145.5 378.9, 144.9 379.4 Q 144.4 380.0, 144.2 381.0 L 148.3 381.0 Q 148.2 379.9, 147.7 379.4 Q 147.3 378.9, 146.5 378.9 \" fill=\"#000000\"/>\n",
              "<path class=\"legend\" d=\"M 151.5 384.4 Q 152.3 384.7, 152.8 384.8 Q 153.3 385.0, 153.9 385.0 Q 154.6 385.0, 155.0 384.7 Q 155.4 384.4, 155.4 383.8 Q 155.4 383.4, 155.2 383.2 Q 155.0 382.9, 154.7 382.8 Q 154.4 382.7, 153.7 382.5 Q 153.6 382.4, 152.9 382.2 Q 152.1 381.9, 151.7 381.4 Q 151.3 380.8, 151.3 380.0 Q 151.3 379.0, 152.1 378.4 Q 152.9 377.7, 154.4 377.7 Q 155.0 377.7, 155.5 377.8 Q 156.1 378.0, 156.7 378.2 L 156.3 379.4 Q 155.8 379.2, 155.3 379.1 Q 154.9 378.9, 154.4 378.9 Q 153.6 378.9, 153.2 379.2 Q 152.9 379.5, 152.9 380.0 Q 152.9 380.5, 153.2 380.7 Q 153.5 380.9, 154.1 381.1 Q 154.3 381.2, 154.5 381.2 L 154.8 381.4 Q 155.5 381.6, 155.9 381.8 Q 156.3 382.1, 156.6 382.5 Q 156.9 383.0, 156.9 383.7 Q 156.9 384.9, 156.1 385.6 Q 155.2 386.2, 153.9 386.2 Q 153.1 386.2, 152.4 386.0 Q 151.7 385.9, 151.1 385.6 L 151.5 384.4 \" fill=\"#000000\"/>\n",
              "<path class=\"bond-0 atom-0 atom-1\" d=\"M 292.5,290.9 L 300.0,290.9\" style=\"fill:none;fill-rule:evenodd;stroke:#7F7F7F;stroke-width:2.0px;stroke-linecap:butt;stroke-linejoin:miter;stroke-opacity:1\"/>\n",
              "<path class=\"bond-0 atom-0 atom-1\" d=\"M 300.0,288.6 L 307.5,288.6\" style=\"fill:none;fill-rule:evenodd;stroke:#7F7F7F;stroke-width:2.0px;stroke-linecap:butt;stroke-linejoin:miter;stroke-opacity:1\"/>\n",
              "<path class=\"bond-0 atom-0 atom-1\" d=\"M 300.0,293.3 L 307.5,293.3\" style=\"fill:none;fill-rule:evenodd;stroke:#7F7F7F;stroke-width:2.0px;stroke-linecap:butt;stroke-linejoin:miter;stroke-opacity:1;stroke-dasharray:1,1.33333\"/>\n",
              "<path class=\"atom-0\" d=\"M 280.2 291.0 Q 280.2 288.8, 281.2 287.6 Q 282.3 286.4, 284.3 286.4 Q 286.3 286.4, 287.3 287.6 Q 288.4 288.8, 288.4 291.0 Q 288.4 293.1, 287.3 294.4 Q 286.2 295.6, 284.3 295.6 Q 282.3 295.6, 281.2 294.4 Q 280.2 293.1, 280.2 291.0 M 284.3 294.6 Q 285.6 294.6, 286.4 293.7 Q 287.1 292.7, 287.1 291.0 Q 287.1 289.2, 286.4 288.3 Q 285.6 287.4, 284.3 287.4 Q 282.9 287.4, 282.2 288.3 Q 281.4 289.2, 281.4 291.0 Q 281.4 292.8, 282.2 293.7 Q 282.9 294.6, 284.3 294.6 \" fill=\"#000000\"/>\n",
              "<path class=\"atom-1\" d=\"M 311.6 291.0 Q 311.6 288.8, 312.7 287.6 Q 313.7 286.4, 315.7 286.4 Q 317.7 286.4, 318.8 287.6 Q 319.8 288.8, 319.8 291.0 Q 319.8 293.1, 318.7 294.4 Q 317.7 295.6, 315.7 295.6 Q 313.8 295.6, 312.7 294.4 Q 311.6 293.1, 311.6 291.0 M 315.7 294.6 Q 317.1 294.6, 317.8 293.7 Q 318.6 292.7, 318.6 291.0 Q 318.6 289.2, 317.8 288.3 Q 317.1 287.4, 315.7 287.4 Q 314.4 287.4, 313.6 288.3 Q 312.9 289.2, 312.9 291.0 Q 312.9 292.8, 313.6 293.7 Q 314.4 294.6, 315.7 294.6 \" fill=\"#000000\"/>\n",
              "<path class=\"legend\" d=\"M 269.5 378.5 Q 271.5 378.5, 272.4 379.4 Q 273.4 380.3, 273.4 381.9 Q 273.4 383.4, 272.4 384.3 Q 271.4 385.2, 269.5 385.2 L 267.7 385.2 L 267.7 389.9 L 266.2 389.9 L 266.2 378.5 L 269.5 378.5 M 269.5 383.9 Q 270.6 383.9, 271.2 383.4 Q 271.8 382.9, 271.8 381.9 Q 271.8 380.8, 271.2 380.3 Q 270.6 379.8, 269.5 379.8 L 267.7 379.8 L 267.7 383.9 L 269.5 383.9 \" fill=\"#000000\"/>\n",
              "<path class=\"legend\" d=\"M 274.8 385.7 Q 274.8 383.7, 275.8 382.6 Q 276.8 381.5, 278.6 381.5 Q 280.5 381.5, 281.3 382.6 Q 282.1 383.6, 282.1 385.7 L 282.1 385.9 L 276.3 385.9 Q 276.4 387.3, 277.0 388.1 Q 277.6 388.8, 278.8 388.8 Q 279.4 388.8, 280.0 388.7 Q 280.6 388.5, 281.3 388.2 L 281.8 389.2 Q 280.9 389.6, 280.2 389.8 Q 279.5 390.0, 278.7 390.0 Q 276.8 390.0, 275.8 388.9 Q 274.8 387.7, 274.8 385.7 M 278.6 382.7 Q 277.7 382.7, 277.1 383.2 Q 276.6 383.8, 276.4 384.8 L 280.5 384.8 Q 280.4 383.7, 279.9 383.2 Q 279.5 382.7, 278.6 382.7 \" fill=\"#000000\"/>\n",
              "<path class=\"legend\" d=\"M 284.5 381.6 L 284.7 382.8 Q 285.6 381.5, 287.0 381.5 Q 287.4 381.5, 288.0 381.6 L 287.8 383.0 Q 287.1 382.8, 286.7 382.8 Q 286.0 382.8, 285.6 383.1 Q 285.2 383.4, 284.8 384.0 L 284.8 389.9 L 283.3 389.9 L 283.3 381.6 L 284.5 381.6 \" fill=\"#000000\"/>\n",
              "<path class=\"legend\" d=\"M 288.9 385.7 Q 288.9 383.7, 289.9 382.6 Q 290.9 381.5, 292.8 381.5 Q 294.7 381.5, 295.7 382.6 Q 296.7 383.7, 296.7 385.7 Q 296.7 387.7, 295.7 388.9 Q 294.7 390.0, 292.8 390.0 Q 290.9 390.0, 289.9 388.9 Q 288.9 387.7, 288.9 385.7 M 290.4 385.7 Q 290.4 387.2, 291.0 388.0 Q 291.7 388.8, 292.8 388.8 Q 293.9 388.8, 294.6 388.0 Q 295.2 387.2, 295.2 385.7 Q 295.2 384.2, 294.6 383.5 Q 293.9 382.7, 292.8 382.7 Q 291.7 382.7, 291.0 383.5 Q 290.4 384.2, 290.4 385.7 \" fill=\"#000000\"/>\n",
              "<path class=\"legend\" d=\"M 301.1 385.6 L 298.3 381.6 L 300.0 381.6 L 302.0 384.4 L 304.0 381.6 L 305.6 381.6 L 302.8 385.6 L 305.8 389.9 L 304.1 389.9 L 301.9 386.8 L 299.7 389.9 L 298.1 389.9 L 301.1 385.6 \" fill=\"#000000\"/>\n",
              "<path class=\"legend\" d=\"M 306.6 378.5 L 308.1 378.5 L 308.1 379.9 L 306.6 379.9 L 306.6 378.5 M 306.6 381.6 L 308.1 381.6 L 308.1 389.9 L 306.6 389.9 L 306.6 381.6 \" fill=\"#000000\"/>\n",
              "<path class=\"legend\" d=\"M 317.6 377.7 L 317.6 389.8 L 316.4 389.8 L 316.1 388.8 Q 315.2 390.0, 313.7 390.0 Q 312.0 390.0, 311.0 388.9 Q 310.1 387.9, 310.1 385.9 Q 310.1 383.8, 311.2 382.7 Q 312.4 381.5, 314.3 381.5 Q 315.2 381.5, 316.1 381.7 L 316.1 377.7 L 317.6 377.7 M 313.8 388.8 Q 314.6 388.8, 315.2 388.4 Q 315.8 387.9, 316.1 387.1 L 316.1 382.9 Q 315.2 382.7, 314.3 382.7 Q 313.1 382.7, 312.4 383.5 Q 311.6 384.4, 311.6 385.9 Q 311.6 387.3, 312.2 388.0 Q 312.8 388.8, 313.8 388.8 \" fill=\"#000000\"/>\n",
              "<path class=\"legend\" d=\"M 319.5 385.7 Q 319.5 383.7, 320.5 382.6 Q 321.5 381.5, 323.3 381.5 Q 325.1 381.5, 325.9 382.6 Q 326.8 383.6, 326.8 385.7 L 326.8 385.9 L 321.0 385.9 Q 321.0 387.3, 321.7 388.1 Q 322.3 388.8, 323.5 388.8 Q 324.1 388.8, 324.7 388.7 Q 325.3 388.5, 326.0 388.2 L 326.4 389.2 Q 325.6 389.6, 324.9 389.8 Q 324.2 390.0, 323.4 390.0 Q 321.5 390.0, 320.5 388.9 Q 319.5 387.7, 319.5 385.7 M 323.3 382.7 Q 322.4 382.7, 321.8 383.2 Q 321.3 383.8, 321.1 384.8 L 325.2 384.8 Q 325.1 383.7, 324.6 383.2 Q 324.2 382.7, 323.3 382.7 \" fill=\"#000000\"/>\n",
              "<path class=\"legend\" d=\"M 328.5 388.2 Q 329.2 388.5, 329.7 388.6 Q 330.2 388.8, 330.8 388.8 Q 331.5 388.8, 331.9 388.4 Q 332.3 388.1, 332.3 387.6 Q 332.3 387.2, 332.1 387.0 Q 331.9 386.7, 331.6 386.6 Q 331.4 386.5, 330.6 386.3 Q 330.5 386.2, 329.8 386.0 Q 329.1 385.7, 328.7 385.2 Q 328.3 384.6, 328.3 383.8 Q 328.3 382.8, 329.0 382.2 Q 329.8 381.5, 331.3 381.5 Q 331.9 381.5, 332.5 381.6 Q 333.0 381.8, 333.6 382.0 L 333.2 383.2 Q 332.7 383.0, 332.2 382.9 Q 331.8 382.7, 331.3 382.7 Q 330.5 382.7, 330.2 383.0 Q 329.8 383.3, 329.8 383.8 Q 329.8 384.3, 330.1 384.5 Q 330.4 384.7, 331.1 384.9 Q 331.2 385.0, 331.4 385.0 L 331.8 385.2 Q 332.4 385.4, 332.8 385.6 Q 333.2 385.9, 333.5 386.3 Q 333.8 386.8, 333.8 387.5 Q 333.8 388.7, 333.0 389.4 Q 332.1 390.0, 330.8 390.0 Q 330.0 390.0, 329.3 389.8 Q 328.7 389.7, 328.0 389.4 L 328.5 388.2 \" fill=\"#000000\"/>\n",
              "<path class=\"bond-0 atom-0 atom-1\" d=\"M 443.7,286.0 L 421.7,292.2\" style=\"fill:none;fill-rule:evenodd;stroke:#000000;stroke-width:2.0px;stroke-linecap:butt;stroke-linejoin:miter;stroke-opacity:1\"/>\n",
              "<path class=\"bond-0 atom-0 atom-1\" d=\"M 442.4,291.3 L 423.0,296.7\" style=\"fill:none;fill-rule:evenodd;stroke:#000000;stroke-width:2.0px;stroke-linecap:butt;stroke-linejoin:miter;stroke-opacity:1\"/>\n",
              "<path class=\"bond-1 atom-0 atom-2\" d=\"M 443.7,286.0 L 450.8,292.9\" style=\"fill:none;fill-rule:evenodd;stroke:#7F7F7F;stroke-width:2.0px;stroke-linecap:butt;stroke-linejoin:miter;stroke-opacity:1\"/>\n",
              "<path class=\"bond-1 atom-0 atom-2\" d=\"M 450.8,292.9 L 458.0,299.9\" style=\"fill:none;fill-rule:evenodd;stroke:#7F7F7F;stroke-width:2.0px;stroke-linecap:butt;stroke-linejoin:miter;stroke-opacity:1\"/>\n",
              "<path class=\"bond-1 atom-0 atom-2\" d=\"M 448.5,297.3 L 454.7,303.3\" style=\"fill:none;fill-rule:evenodd;stroke:#7F7F7F;stroke-width:2.0px;stroke-linecap:butt;stroke-linejoin:miter;stroke-opacity:1;stroke-dasharray:1,1.33333\"/>\n",
              "<path class=\"bond-2 atom-2 atom-3\" d=\"M 474.5,305.7 L 485.5,302.6\" style=\"fill:none;fill-rule:evenodd;stroke:#7F7F7F;stroke-width:2.0px;stroke-linecap:butt;stroke-linejoin:miter;stroke-opacity:1\"/>\n",
              "<path class=\"bond-2 atom-2 atom-3\" d=\"M 485.5,302.6 L 496.5,299.5\" style=\"fill:none;fill-rule:evenodd;stroke:#7F7F7F;stroke-width:2.0px;stroke-linecap:butt;stroke-linejoin:miter;stroke-opacity:1\"/>\n",
              "<path class=\"bond-2 atom-2 atom-3\" d=\"M 482.9,298.4 L 492.6,295.7\" style=\"fill:none;fill-rule:evenodd;stroke:#7F7F7F;stroke-width:2.0px;stroke-linecap:butt;stroke-linejoin:miter;stroke-opacity:1;stroke-dasharray:1,1.33333\"/>\n",
              "<path class=\"bond-3 atom-3 atom-4\" d=\"M 496.5,299.5 L 500.4,284.3\" style=\"fill:none;fill-rule:evenodd;stroke:#7F7F7F;stroke-width:2.0px;stroke-linecap:butt;stroke-linejoin:miter;stroke-opacity:1\"/>\n",
              "<path class=\"bond-3 atom-3 atom-4\" d=\"M 500.4,284.3 L 504.3,269.0\" style=\"fill:none;fill-rule:evenodd;stroke:#7F7F7F;stroke-width:2.0px;stroke-linecap:butt;stroke-linejoin:miter;stroke-opacity:1\"/>\n",
              "<path class=\"bond-3 atom-3 atom-4\" d=\"M 505.0,285.4 L 508.2,272.8\" style=\"fill:none;fill-rule:evenodd;stroke:#7F7F7F;stroke-width:2.0px;stroke-linecap:butt;stroke-linejoin:miter;stroke-opacity:1;stroke-dasharray:1,1.33333\"/>\n",
              "<path class=\"bond-4 atom-4 atom-5\" d=\"M 504.3,269.0 L 496.5,261.4\" style=\"fill:none;fill-rule:evenodd;stroke:#7F7F7F;stroke-width:2.0px;stroke-linecap:butt;stroke-linejoin:miter;stroke-opacity:1\"/>\n",
              "<path class=\"bond-4 atom-4 atom-5\" d=\"M 498.6,260.2 L 490.3,252.0\" style=\"fill:none;fill-rule:evenodd;stroke:#7F7F7F;stroke-width:2.0px;stroke-linecap:butt;stroke-linejoin:miter;stroke-opacity:1\"/>\n",
              "<path class=\"bond-4 atom-4 atom-5\" d=\"M 495.3,263.5 L 487.0,255.4\" style=\"fill:none;fill-rule:evenodd;stroke:#7F7F7F;stroke-width:2.0px;stroke-linecap:butt;stroke-linejoin:miter;stroke-opacity:1;stroke-dasharray:1,1.33333\"/>\n",
              "<path class=\"bond-5 atom-4 atom-6\" d=\"M 504.3,269.0 L 519.4,264.8\" style=\"fill:none;fill-rule:evenodd;stroke:#7F7F7F;stroke-width:2.0px;stroke-linecap:butt;stroke-linejoin:miter;stroke-opacity:1\"/>\n",
              "<path class=\"bond-5 atom-4 atom-6\" d=\"M 519.4,264.8 L 534.6,260.5\" style=\"fill:none;fill-rule:evenodd;stroke:#7F7F7F;stroke-width:2.0px;stroke-linecap:butt;stroke-linejoin:miter;stroke-opacity:1\"/>\n",
              "<path class=\"bond-5 atom-4 atom-6\" d=\"M 520.7,269.3 L 533.2,265.8\" style=\"fill:none;fill-rule:evenodd;stroke:#7F7F7F;stroke-width:2.0px;stroke-linecap:butt;stroke-linejoin:miter;stroke-opacity:1;stroke-dasharray:1,1.33333\"/>\n",
              "<path class=\"bond-6 atom-6 atom-7\" d=\"M 534.6,260.5 L 537.4,249.6\" style=\"fill:none;fill-rule:evenodd;stroke:#7F7F7F;stroke-width:2.0px;stroke-linecap:butt;stroke-linejoin:miter;stroke-opacity:1\"/>\n",
              "<path class=\"bond-6 atom-6 atom-7\" d=\"M 539.5,250.9 L 542.4,239.3\" style=\"fill:none;fill-rule:evenodd;stroke:#7F7F7F;stroke-width:2.0px;stroke-linecap:butt;stroke-linejoin:miter;stroke-opacity:1\"/>\n",
              "<path class=\"bond-6 atom-6 atom-7\" d=\"M 534.9,249.7 L 537.9,238.1\" style=\"fill:none;fill-rule:evenodd;stroke:#7F7F7F;stroke-width:2.0px;stroke-linecap:butt;stroke-linejoin:miter;stroke-opacity:1;stroke-dasharray:1,1.33333\"/>\n",
              "<path class=\"bond-7 atom-6 atom-8\" d=\"M 534.6,260.5 L 545.8,271.5\" style=\"fill:none;fill-rule:evenodd;stroke:#7F7F7F;stroke-width:2.0px;stroke-linecap:butt;stroke-linejoin:miter;stroke-opacity:1\"/>\n",
              "<path class=\"bond-7 atom-6 atom-8\" d=\"M 545.8,271.5 L 557.1,282.5\" style=\"fill:none;fill-rule:evenodd;stroke:#7F7F7F;stroke-width:2.0px;stroke-linecap:butt;stroke-linejoin:miter;stroke-opacity:1\"/>\n",
              "<path class=\"bond-7 atom-6 atom-8\" d=\"M 542.5,274.9 L 551.8,284.0\" style=\"fill:none;fill-rule:evenodd;stroke:#7F7F7F;stroke-width:2.0px;stroke-linecap:butt;stroke-linejoin:miter;stroke-opacity:1;stroke-dasharray:1,1.33333\"/>\n",
              "<path class=\"bond-8 atom-8 atom-9\" d=\"M 557.1,282.5 L 568.8,279.2\" style=\"fill:none;fill-rule:evenodd;stroke:#7F7F7F;stroke-width:2.0px;stroke-linecap:butt;stroke-linejoin:miter;stroke-opacity:1\"/>\n",
              "<path class=\"bond-8 atom-8 atom-9\" d=\"M 568.8,281.7 L 581.2,278.2\" style=\"fill:none;fill-rule:evenodd;stroke:#7F7F7F;stroke-width:2.0px;stroke-linecap:butt;stroke-linejoin:miter;stroke-opacity:1\"/>\n",
              "<path class=\"bond-8 atom-8 atom-9\" d=\"M 567.5,277.1 L 579.9,273.7\" style=\"fill:none;fill-rule:evenodd;stroke:#7F7F7F;stroke-width:2.0px;stroke-linecap:butt;stroke-linejoin:miter;stroke-opacity:1;stroke-dasharray:1,1.33333\"/>\n",
              "<path class=\"bond-9 atom-8 atom-10\" d=\"M 557.1,282.5 L 553.2,297.7\" style=\"fill:none;fill-rule:evenodd;stroke:#7F7F7F;stroke-width:2.0px;stroke-linecap:butt;stroke-linejoin:miter;stroke-opacity:1\"/>\n",
              "<path class=\"bond-9 atom-8 atom-10\" d=\"M 553.2,297.7 L 549.3,313.0\" style=\"fill:none;fill-rule:evenodd;stroke:#7F7F7F;stroke-width:2.0px;stroke-linecap:butt;stroke-linejoin:miter;stroke-opacity:1\"/>\n",
              "<path class=\"bond-9 atom-8 atom-10\" d=\"M 548.6,296.6 L 545.4,309.2\" style=\"fill:none;fill-rule:evenodd;stroke:#7F7F7F;stroke-width:2.0px;stroke-linecap:butt;stroke-linejoin:miter;stroke-opacity:1;stroke-dasharray:1,1.33333\"/>\n",
              "<path class=\"bond-10 atom-10 atom-11\" d=\"M 549.3,313.0 L 557.1,320.6\" style=\"fill:none;fill-rule:evenodd;stroke:#7F7F7F;stroke-width:2.0px;stroke-linecap:butt;stroke-linejoin:miter;stroke-opacity:1\"/>\n",
              "<path class=\"bond-10 atom-10 atom-11\" d=\"M 555.0,321.8 L 563.3,330.0\" style=\"fill:none;fill-rule:evenodd;stroke:#7F7F7F;stroke-width:2.0px;stroke-linecap:butt;stroke-linejoin:miter;stroke-opacity:1\"/>\n",
              "<path class=\"bond-10 atom-10 atom-11\" d=\"M 558.3,318.5 L 566.6,326.6\" style=\"fill:none;fill-rule:evenodd;stroke:#7F7F7F;stroke-width:2.0px;stroke-linecap:butt;stroke-linejoin:miter;stroke-opacity:1;stroke-dasharray:1,1.33333\"/>\n",
              "<path class=\"bond-11 atom-10 atom-12\" d=\"M 549.3,313.0 L 534.1,317.2\" style=\"fill:none;fill-rule:evenodd;stroke:#7F7F7F;stroke-width:2.0px;stroke-linecap:butt;stroke-linejoin:miter;stroke-opacity:1\"/>\n",
              "<path class=\"bond-11 atom-10 atom-12\" d=\"M 534.1,317.2 L 519.0,321.5\" style=\"fill:none;fill-rule:evenodd;stroke:#7F7F7F;stroke-width:2.0px;stroke-linecap:butt;stroke-linejoin:miter;stroke-opacity:1\"/>\n",
              "<path class=\"bond-11 atom-10 atom-12\" d=\"M 532.9,312.7 L 520.3,316.2\" style=\"fill:none;fill-rule:evenodd;stroke:#7F7F7F;stroke-width:2.0px;stroke-linecap:butt;stroke-linejoin:miter;stroke-opacity:1;stroke-dasharray:1,1.33333\"/>\n",
              "<path class=\"bond-12 atom-12 atom-13\" d=\"M 519.0,321.5 L 516.2,332.4\" style=\"fill:none;fill-rule:evenodd;stroke:#7F7F7F;stroke-width:2.0px;stroke-linecap:butt;stroke-linejoin:miter;stroke-opacity:1\"/>\n",
              "<path class=\"bond-12 atom-12 atom-13\" d=\"M 514.1,331.1 L 511.1,342.7\" style=\"fill:none;fill-rule:evenodd;stroke:#7F7F7F;stroke-width:2.0px;stroke-linecap:butt;stroke-linejoin:miter;stroke-opacity:1\"/>\n",
              "<path class=\"bond-12 atom-12 atom-13\" d=\"M 518.7,332.3 L 515.7,343.9\" style=\"fill:none;fill-rule:evenodd;stroke:#7F7F7F;stroke-width:2.0px;stroke-linecap:butt;stroke-linejoin:miter;stroke-opacity:1;stroke-dasharray:1,1.33333\"/>\n",
              "<path class=\"bond-13 atom-12 atom-3\" d=\"M 519.0,321.5 L 507.8,310.5\" style=\"fill:none;fill-rule:evenodd;stroke:#7F7F7F;stroke-width:2.0px;stroke-linecap:butt;stroke-linejoin:miter;stroke-opacity:1\"/>\n",
              "<path class=\"bond-13 atom-12 atom-3\" d=\"M 507.8,310.5 L 496.5,299.5\" style=\"fill:none;fill-rule:evenodd;stroke:#7F7F7F;stroke-width:2.0px;stroke-linecap:butt;stroke-linejoin:miter;stroke-opacity:1\"/>\n",
              "<path class=\"bond-13 atom-12 atom-3\" d=\"M 511.0,307.1 L 501.8,298.0\" style=\"fill:none;fill-rule:evenodd;stroke:#7F7F7F;stroke-width:2.0px;stroke-linecap:butt;stroke-linejoin:miter;stroke-opacity:1;stroke-dasharray:1,1.33333\"/>\n",
              "<path d=\"M 443.2,286.1 L 443.7,286.0 L 443.9,286.2\" style=\"fill:none;stroke:#000000;stroke-width:2.0px;stroke-linecap:butt;stroke-linejoin:miter;stroke-opacity:1;\"/>\n",
              "<path class=\"atom-1\" d=\"M 410.0 296.8 Q 410.0 294.6, 411.1 293.4 Q 412.1 292.2, 414.1 292.2 Q 416.1 292.2, 417.1 293.4 Q 418.2 294.6, 418.2 296.8 Q 418.2 298.9, 417.1 300.2 Q 416.0 301.4, 414.1 301.4 Q 412.1 301.4, 411.1 300.2 Q 410.0 299.0, 410.0 296.8 M 414.1 300.4 Q 415.4 300.4, 416.2 299.5 Q 416.9 298.6, 416.9 296.8 Q 416.9 295.0, 416.2 294.1 Q 415.4 293.3, 414.1 293.3 Q 412.7 293.3, 412.0 294.1 Q 411.3 295.0, 411.3 296.8 Q 411.3 298.6, 412.0 299.5 Q 412.7 300.4, 414.1 300.4 \" fill=\"#000000\"/>\n",
              "<path class=\"atom-2\" d=\"M 462.1 308.0 Q 462.1 305.9, 463.2 304.7 Q 464.2 303.5, 466.2 303.5 Q 468.2 303.5, 469.3 304.7 Q 470.3 305.9, 470.3 308.0 Q 470.3 310.2, 469.2 311.4 Q 468.2 312.6, 466.2 312.6 Q 464.3 312.6, 463.2 311.4 Q 462.1 310.2, 462.1 308.0 M 466.2 311.6 Q 467.6 311.6, 468.3 310.7 Q 469.1 309.8, 469.1 308.0 Q 469.1 306.3, 468.3 305.4 Q 467.6 304.5, 466.2 304.5 Q 464.9 304.5, 464.1 305.4 Q 463.4 306.2, 463.4 308.0 Q 463.4 309.8, 464.1 310.7 Q 464.9 311.6, 466.2 311.6 \" fill=\"#000000\"/>\n",
              "<path class=\"atom-5\" d=\"M 479.2 242.6 L 484.5 242.6 L 484.5 243.6 L 480.4 243.6 L 480.4 246.3 L 484.0 246.3 L 484.0 247.3 L 480.4 247.3 L 480.4 251.5 L 479.2 251.5 L 479.2 242.6 \" fill=\"#000000\"/>\n",
              "<path class=\"atom-7\" d=\"M 539.7 225.6 L 545.0 225.6 L 545.0 226.6 L 540.9 226.6 L 540.9 229.3 L 544.6 229.3 L 544.6 230.4 L 540.9 230.4 L 540.9 234.5 L 539.7 234.5 L 539.7 225.6 \" fill=\"#000000\"/>\n",
              "<path class=\"atom-9\" d=\"M 584.7 269.6 L 590.0 269.6 L 590.0 270.6 L 585.9 270.6 L 585.9 273.3 L 589.5 273.3 L 589.5 274.3 L 585.9 274.3 L 585.9 278.5 L 584.7 278.5 L 584.7 269.6 \" fill=\"#000000\"/>\n",
              "<path class=\"atom-11\" d=\"M 569.1 330.5 L 574.4 330.5 L 574.4 331.5 L 570.3 331.5 L 570.3 334.2 L 574.0 334.2 L 574.0 335.3 L 570.3 335.3 L 570.3 339.4 L 569.1 339.4 L 569.1 330.5 \" fill=\"#000000\"/>\n",
              "<path class=\"atom-13\" d=\"M 508.6 347.5 L 513.9 347.5 L 513.9 348.5 L 509.8 348.5 L 509.8 351.2 L 513.4 351.2 L 513.4 352.2 L 509.8 352.2 L 509.8 356.4 L 508.6 356.4 L 508.6 347.5 \" fill=\"#000000\"/>\n",
              "<path class=\"legend\" d=\"M 414.1 374.7 Q 416.0 374.7, 417.0 375.6 Q 418.0 376.5, 418.0 378.1 Q 418.0 379.6, 417.0 380.5 Q 416.0 381.4, 414.1 381.4 L 412.3 381.4 L 412.3 386.1 L 410.8 386.1 L 410.8 374.7 L 414.1 374.7 M 414.1 380.1 Q 415.2 380.1, 415.8 379.6 Q 416.4 379.1, 416.4 378.1 Q 416.4 377.1, 415.8 376.5 Q 415.2 376.0, 414.1 376.0 L 412.3 376.0 L 412.3 380.1 L 414.1 380.1 \" fill=\"#000000\"/>\n",
              "<path class=\"legend\" d=\"M 419.3 381.9 Q 419.3 379.9, 420.4 378.8 Q 421.4 377.7, 423.2 377.7 Q 425.0 377.7, 425.8 378.8 Q 426.6 379.9, 426.6 381.9 L 426.6 382.1 L 420.9 382.1 Q 420.9 383.5, 421.5 384.3 Q 422.2 385.0, 423.3 385.0 Q 424.0 385.0, 424.6 384.9 Q 425.2 384.7, 425.9 384.4 L 426.3 385.4 Q 425.5 385.8, 424.8 386.0 Q 424.0 386.2, 423.3 386.2 Q 421.4 386.2, 420.4 385.1 Q 419.3 384.0, 419.3 381.9 M 423.2 378.9 Q 422.3 378.9, 421.7 379.4 Q 421.1 380.0, 420.9 381.0 L 425.0 381.0 Q 424.9 379.9, 424.5 379.4 Q 424.0 378.9, 423.2 378.9 \" fill=\"#000000\"/>\n",
              "<path class=\"legend\" d=\"M 432.1 377.7 Q 433.4 377.7, 434.1 378.4 Q 434.8 379.2, 434.8 380.6 L 434.8 386.1 L 433.3 386.1 L 433.3 380.7 Q 433.3 379.8, 432.9 379.3 Q 432.6 378.9, 431.7 378.9 Q 431.0 378.9, 430.4 379.2 Q 429.7 379.6, 429.3 380.2 L 429.3 386.1 L 427.8 386.1 L 427.8 377.8 L 429.1 377.8 L 429.2 379.0 Q 430.3 377.7, 432.1 377.7 \" fill=\"#000000\"/>\n",
              "<path class=\"legend\" d=\"M 436.7 379.0 L 436.7 377.8 L 438.2 377.8 L 438.5 375.4 L 439.6 375.4 L 439.6 377.8 L 442.1 377.8 L 442.1 379.0 L 439.6 379.0 L 439.6 383.5 Q 439.6 385.0, 440.8 385.0 Q 441.3 385.0, 442.0 384.7 L 442.2 385.8 Q 441.4 386.2, 440.5 386.2 Q 439.5 386.2, 438.8 385.5 Q 438.1 384.9, 438.1 383.6 L 438.1 379.0 L 436.7 379.0 \" fill=\"#000000\"/>\n",
              "<path class=\"legend\" d=\"M 443.2 383.8 Q 443.2 382.5, 444.3 381.8 Q 445.3 381.1, 447.3 381.1 L 448.5 381.1 L 448.5 380.8 Q 448.5 379.7, 448.1 379.3 Q 447.7 378.9, 446.6 378.9 Q 446.0 378.9, 445.5 379.0 Q 444.9 379.1, 444.1 379.5 L 443.7 378.4 Q 445.2 377.7, 446.7 377.7 Q 448.4 377.7, 449.2 378.4 Q 450.0 379.2, 450.0 380.8 L 450.0 386.1 L 448.8 386.1 Q 448.8 386.0, 448.8 385.8 Q 448.7 385.5, 448.6 385.1 Q 447.5 386.3, 445.9 386.3 Q 444.7 386.3, 444.0 385.6 Q 443.2 384.9, 443.2 383.8 M 444.7 383.8 Q 444.7 384.4, 445.1 384.8 Q 445.5 385.1, 446.2 385.1 Q 446.9 385.1, 447.5 384.8 Q 448.1 384.5, 448.5 384.0 L 448.5 382.2 L 447.4 382.2 Q 446.1 382.2, 445.4 382.6 Q 444.7 383.0, 444.7 383.8 \" fill=\"#000000\"/>\n",
              "<path class=\"legend\" d=\"M 451.8 379.0 L 451.8 377.8 L 453.3 377.8 L 453.3 376.6 Q 453.3 375.2, 454.0 374.6 Q 454.7 373.9, 455.9 373.9 Q 456.5 373.9, 456.9 374.0 Q 457.4 374.1, 457.9 374.3 L 457.4 375.4 Q 456.7 375.1, 456.0 375.1 Q 455.4 375.1, 455.1 375.5 Q 454.8 375.8, 454.8 376.5 L 454.8 377.8 L 457.3 377.8 L 457.3 379.0 L 454.8 379.0 L 454.8 388.6 L 453.3 388.6 L 453.3 379.0 L 451.8 379.0 \" fill=\"#000000\"/>\n",
              "<path class=\"legend\" d=\"M 458.0 373.9 L 459.5 373.9 L 459.5 386.1 L 458.0 386.1 L 458.0 373.9 \" fill=\"#000000\"/>\n",
              "<path class=\"legend\" d=\"M 468.5 377.8 L 468.5 386.1 L 467.2 386.1 L 467.1 384.9 Q 466.0 386.2, 464.3 386.2 Q 462.9 386.2, 462.2 385.5 Q 461.5 384.7, 461.5 383.3 L 461.5 377.8 L 463.0 377.8 L 463.0 383.2 Q 463.0 384.1, 463.4 384.6 Q 463.7 385.0, 464.6 385.0 Q 465.3 385.0, 466.0 384.7 Q 466.6 384.3, 467.0 383.7 L 467.0 377.8 L 468.5 377.8 \" fill=\"#000000\"/>\n",
              "<path class=\"legend\" d=\"M 470.4 381.9 Q 470.4 379.9, 471.4 378.8 Q 472.4 377.7, 474.3 377.7 Q 476.2 377.7, 477.2 378.8 Q 478.2 379.9, 478.2 381.9 Q 478.2 383.9, 477.2 385.1 Q 476.2 386.2, 474.3 386.2 Q 472.4 386.2, 471.4 385.1 Q 470.4 383.9, 470.4 381.9 M 471.9 381.9 Q 471.9 383.4, 472.5 384.2 Q 473.2 385.0, 474.3 385.0 Q 475.4 385.0, 476.0 384.2 Q 476.7 383.4, 476.7 381.9 Q 476.7 380.4, 476.0 379.7 Q 475.4 378.9, 474.3 378.9 Q 473.2 378.9, 472.5 379.7 Q 471.9 380.4, 471.9 381.9 \" fill=\"#000000\"/>\n",
              "<path class=\"legend\" d=\"M 480.7 377.8 L 480.9 379.0 Q 481.8 377.7, 483.2 377.7 Q 483.6 377.7, 484.2 377.9 L 484.0 379.2 Q 483.3 379.0, 482.9 379.0 Q 482.3 379.0, 481.8 379.3 Q 481.4 379.6, 481.0 380.2 L 481.0 386.1 L 479.5 386.1 L 479.5 377.8 L 480.7 377.8 \" fill=\"#000000\"/>\n",
              "<path class=\"legend\" d=\"M 485.1 381.9 Q 485.1 379.9, 486.1 378.8 Q 487.1 377.7, 489.0 377.7 Q 490.9 377.7, 491.9 378.8 Q 492.9 379.9, 492.9 381.9 Q 492.9 383.9, 491.9 385.1 Q 490.9 386.2, 489.0 386.2 Q 487.1 386.2, 486.1 385.1 Q 485.1 383.9, 485.1 381.9 M 486.6 381.9 Q 486.6 383.4, 487.2 384.2 Q 487.9 385.0, 489.0 385.0 Q 490.1 385.0, 490.7 384.2 Q 491.4 383.4, 491.4 381.9 Q 491.4 380.4, 490.7 379.7 Q 490.1 378.9, 489.0 378.9 Q 487.9 378.9, 487.2 379.7 Q 486.6 380.4, 486.6 381.9 \" fill=\"#000000\"/>\n",
              "<path class=\"legend\" d=\"M 498.1 377.7 Q 499.8 377.7, 500.7 378.8 Q 501.7 379.8, 501.7 381.8 Q 501.7 383.9, 500.5 385.0 Q 499.4 386.2, 497.4 386.2 Q 496.5 386.2, 495.7 386.0 L 495.7 390.0 L 494.2 390.0 L 494.2 377.8 L 495.4 377.8 L 495.6 378.8 Q 496.1 378.3, 496.7 378.0 Q 497.3 377.7, 498.1 377.7 M 497.4 385.0 Q 498.7 385.0, 499.4 384.2 Q 500.1 383.3, 500.1 381.8 Q 500.1 380.4, 499.6 379.6 Q 499.0 378.9, 498.0 378.9 Q 497.1 378.9, 496.5 379.3 Q 496.0 379.7, 495.7 380.5 L 495.7 384.8 Q 496.5 385.0, 497.4 385.0 \" fill=\"#000000\"/>\n",
              "<path class=\"legend\" d=\"M 507.3 377.7 Q 508.6 377.7, 509.3 378.4 Q 510.0 379.2, 510.0 380.6 L 510.0 386.1 L 508.5 386.1 L 508.5 380.7 Q 508.5 379.8, 508.1 379.3 Q 507.7 378.9, 506.9 378.9 Q 506.1 378.9, 505.5 379.2 Q 504.9 379.6, 504.5 380.2 L 504.5 386.1 L 503.0 386.1 L 503.0 373.9 L 504.5 373.9 L 504.5 378.9 Q 505.6 377.7, 507.3 377.7 \" fill=\"#000000\"/>\n",
              "<path class=\"legend\" d=\"M 511.8 381.9 Q 511.8 379.9, 512.8 378.8 Q 513.8 377.7, 515.7 377.7 Q 517.5 377.7, 518.3 378.8 Q 519.1 379.9, 519.1 381.9 L 519.1 382.1 L 513.3 382.1 Q 513.4 383.5, 514.0 384.3 Q 514.6 385.0, 515.8 385.0 Q 516.4 385.0, 517.0 384.9 Q 517.6 384.7, 518.3 384.4 L 518.8 385.4 Q 517.9 385.8, 517.2 386.0 Q 516.5 386.2, 515.7 386.2 Q 513.9 386.2, 512.8 385.1 Q 511.8 384.0, 511.8 381.9 M 515.7 378.9 Q 514.7 378.9, 514.1 379.4 Q 513.6 380.0, 513.4 381.0 L 517.5 381.0 Q 517.4 379.9, 516.9 379.4 Q 516.5 378.9, 515.7 378.9 \" fill=\"#000000\"/>\n",
              "<path class=\"legend\" d=\"M 524.6 377.7 Q 525.9 377.7, 526.6 378.4 Q 527.3 379.2, 527.3 380.6 L 527.3 386.1 L 525.8 386.1 L 525.8 380.7 Q 525.8 379.8, 525.4 379.3 Q 525.0 378.9, 524.2 378.9 Q 523.4 378.9, 522.8 379.2 Q 522.2 379.6, 521.8 380.2 L 521.8 386.1 L 520.3 386.1 L 520.3 377.8 L 521.5 377.8 L 521.7 379.0 Q 522.8 377.7, 524.6 377.7 \" fill=\"#000000\"/>\n",
              "<path class=\"legend\" d=\"M 535.4 377.8 L 536.9 377.8 L 532.7 390.0 L 531.3 390.0 L 532.6 386.1 L 532.0 386.1 L 529.1 377.8 L 530.7 377.8 L 533.1 384.8 L 535.4 377.8 \" fill=\"#000000\"/>\n",
              "<path class=\"legend\" d=\"M 537.7 373.9 L 539.1 373.9 L 539.1 386.1 L 537.7 386.1 L 537.7 373.9 \" fill=\"#000000\"/>\n",
              "<path class=\"legend\" d=\"\" fill=\"#000000\"/>\n",
              "<path class=\"legend\" d=\"M 547.0 381.9 Q 547.0 379.9, 548.0 378.8 Q 549.0 377.7, 550.9 377.7 Q 552.7 377.7, 553.5 378.8 Q 554.3 379.9, 554.3 381.9 L 554.3 382.1 L 548.6 382.1 Q 548.6 383.5, 549.2 384.3 Q 549.8 385.0, 551.0 385.0 Q 551.7 385.0, 552.2 384.9 Q 552.8 384.7, 553.6 384.4 L 554.0 385.4 Q 553.2 385.8, 552.4 386.0 Q 551.7 386.2, 550.9 386.2 Q 549.1 386.2, 548.1 385.1 Q 547.0 384.0, 547.0 381.9 M 550.9 378.9 Q 549.9 378.9, 549.4 379.4 Q 548.8 380.0, 548.6 381.0 L 552.7 381.0 Q 552.6 379.9, 552.2 379.4 Q 551.7 378.9, 550.9 378.9 \" fill=\"#000000\"/>\n",
              "<path class=\"legend\" d=\"M 556.0 384.4 Q 556.7 384.7, 557.2 384.8 Q 557.7 385.0, 558.3 385.0 Q 559.0 385.0, 559.4 384.7 Q 559.8 384.4, 559.8 383.8 Q 559.8 383.4, 559.6 383.2 Q 559.4 382.9, 559.1 382.8 Q 558.9 382.7, 558.2 382.5 Q 558.0 382.4, 557.3 382.2 Q 556.6 381.9, 556.2 381.4 Q 555.8 380.8, 555.8 380.0 Q 555.8 379.0, 556.6 378.4 Q 557.3 377.7, 558.8 377.7 Q 559.4 377.7, 560.0 377.8 Q 560.5 378.0, 561.1 378.2 L 560.7 379.4 Q 560.2 379.2, 559.8 379.1 Q 559.3 378.9, 558.8 378.9 Q 558.1 378.9, 557.7 379.2 Q 557.3 379.5, 557.3 380.0 Q 557.3 380.5, 557.6 380.7 Q 557.9 380.9, 558.6 381.1 Q 558.7 381.2, 558.9 381.2 L 559.3 381.4 Q 559.9 381.6, 560.3 381.8 Q 560.8 382.1, 561.1 382.5 Q 561.3 383.0, 561.3 383.7 Q 561.3 384.9, 560.5 385.6 Q 559.7 386.2, 558.3 386.2 Q 557.5 386.2, 556.9 386.0 Q 556.2 385.9, 555.5 385.6 L 556.0 384.4 \" fill=\"#000000\"/>\n",
              "<path class=\"legend\" d=\"M 562.8 379.0 L 562.8 377.8 L 564.4 377.8 L 564.6 375.4 L 565.7 375.4 L 565.7 377.8 L 568.2 377.8 L 568.2 379.0 L 565.7 379.0 L 565.7 383.5 Q 565.7 385.0, 566.9 385.0 Q 567.4 385.0, 568.1 384.7 L 568.4 385.8 Q 567.5 386.2, 566.7 386.2 Q 565.6 386.2, 564.9 385.5 Q 564.2 384.9, 564.2 383.6 L 564.2 379.0 L 562.8 379.0 \" fill=\"#000000\"/>\n",
              "<path class=\"legend\" d=\"M 569.4 381.9 Q 569.4 379.9, 570.4 378.8 Q 571.4 377.7, 573.2 377.7 Q 575.0 377.7, 575.8 378.8 Q 576.6 379.9, 576.6 381.9 L 576.6 382.1 L 570.9 382.1 Q 570.9 383.5, 571.6 384.3 Q 572.2 385.0, 573.3 385.0 Q 574.0 385.0, 574.6 384.9 Q 575.2 384.7, 575.9 384.4 L 576.3 385.4 Q 575.5 385.8, 574.8 386.0 Q 574.0 386.2, 573.3 386.2 Q 571.4 386.2, 570.4 385.1 Q 569.4 384.0, 569.4 381.9 M 573.2 378.9 Q 572.3 378.9, 571.7 379.4 Q 571.1 380.0, 571.0 381.0 L 575.1 381.0 Q 574.9 379.9, 574.5 379.4 Q 574.1 378.9, 573.2 378.9 \" fill=\"#000000\"/>\n",
              "<path class=\"legend\" d=\"M 579.1 377.8 L 579.2 379.0 Q 580.1 377.7, 581.5 377.7 Q 582.0 377.7, 582.6 377.9 L 582.3 379.2 Q 581.6 379.0, 581.3 379.0 Q 580.6 379.0, 580.1 379.3 Q 579.7 379.6, 579.4 380.2 L 579.4 386.1 L 577.9 386.1 L 577.9 377.8 L 579.1 377.8 \" fill=\"#000000\"/>\n",
              "<path class=\"legend\" d=\"M 583.9 384.4 Q 584.6 384.7, 585.1 384.8 Q 585.6 385.0, 586.2 385.0 Q 586.9 385.0, 587.3 384.7 Q 587.7 384.4, 587.7 383.8 Q 587.7 383.4, 587.5 383.2 Q 587.3 382.9, 587.0 382.8 Q 586.8 382.7, 586.0 382.5 Q 585.9 382.4, 585.2 382.2 Q 584.5 381.9, 584.1 381.4 Q 583.7 380.8, 583.7 380.0 Q 583.7 379.0, 584.4 378.4 Q 585.2 377.7, 586.7 377.7 Q 587.3 377.7, 587.9 377.8 Q 588.4 378.0, 589.0 378.2 L 588.6 379.4 Q 588.1 379.2, 587.6 379.1 Q 587.2 378.9, 586.7 378.9 Q 586.0 378.9, 585.6 379.2 Q 585.2 379.5, 585.2 380.0 Q 585.2 380.5, 585.5 380.7 Q 585.8 380.9, 586.5 381.1 Q 586.6 381.2, 586.8 381.2 L 587.2 381.4 Q 587.8 381.6, 588.2 381.8 Q 588.7 382.1, 588.9 382.5 Q 589.2 383.0, 589.2 383.7 Q 589.2 384.9, 588.4 385.6 Q 587.6 386.2, 586.2 386.2 Q 585.4 386.2, 584.8 386.0 Q 584.1 385.9, 583.4 385.6 L 583.9 384.4 \" fill=\"#000000\"/>\n",
              "</svg>"
            ],
            "text/plain": [
              "<IPython.core.display.SVG object>"
            ]
          },
          "metadata": {},
          "output_type": "display_data"
        },
        {
          "name": "stdout",
          "output_type": "stream",
          "text": [
            "Alert visualization saved to 'figures/ch02/glaxo_alerts_examples.svg'\n"
          ]
        }
      ],
      "source": [
        "def load_glaxo_alerts():\n",
        "    \"\"\"\n",
        "    Load Glaxo Wellcome structural alerts from a CSV file.\n",
        "\n",
        "    Returns:\n",
        "    --------\n",
        "    pandas.DataFrame\n",
        "        DataFrame containing the structural alerts\n",
        "    \"\"\"\n",
        "    try:\n",
        "        alerts_df = pd.read_csv(\"data/ch02/glaxo_structural_alerts.csv\")\n",
        "        alerts_df[\"ROMol\"] = alerts_df.smarts.apply(MolFromSmarts)\n",
        "\n",
        "        # Check for invalid SMARTS patterns\n",
        "        invalid_count = alerts_df.ROMol.isnull().sum()\n",
        "        if invalid_count > 0:\n",
        "            print(f\"Warning: {invalid_count} invalid SMARTS patterns detected\")\n",
        "            alerts_df = alerts_df.dropna(subset=['ROMol'])\n",
        "\n",
        "        print(f\"Loaded {len(alerts_df)} Glaxo Wellcome structural alerts\")\n",
        "        return alerts_df\n",
        "\n",
        "    except Exception as e:\n",
        "        print(f\"Error loading Glaxo alerts: {str(e)}\")\n",
        "        return None\n",
        "\n",
        "def visualize_structural_alerts(alerts_df, start_idx=2, n_alerts=6):\n",
        "    \"\"\"\n",
        "    Visualize example structural alerts.\n",
        "\n",
        "    Parameters:\n",
        "    -----------\n",
        "    alerts_df : pandas.DataFrame\n",
        "        DataFrame containing structural alerts\n",
        "    start_idx : int\n",
        "        Index to start from\n",
        "    n_alerts : int\n",
        "        Number of alerts to visualize\n",
        "\n",
        "    Returns:\n",
        "    --------\n",
        "    rdkit.Chem.Draw._MolsToGridImage\n",
        "        Grid image of alert substructures\n",
        "    \"\"\"\n",
        "    end_idx = start_idx + n_alerts\n",
        "    if end_idx > len(alerts_df):\n",
        "        end_idx = len(alerts_df)\n",
        "        print(f\"Warning: Requested more alerts than available. Showing {end_idx - start_idx} alerts.\")\n",
        "\n",
        "    alert_mols = alerts_df[\"ROMol\"].iloc[start_idx:end_idx].tolist()\n",
        "    alert_names = alerts_df[\"description\"].iloc[start_idx:end_idx].tolist()\n",
        "\n",
        "    # Calculate grid dimensions\n",
        "    n_cols = min(3, n_alerts)\n",
        "\n",
        "    # Create the visualization\n",
        "    img = Draw.MolsToGridImage(\n",
        "        mols=alert_mols,\n",
        "        molsPerRow=n_cols,\n",
        "        legends=alert_names,\n",
        "        useSVG=True,\n",
        "        drawOptions=rdkit_drawing_options\n",
        "    )\n",
        "\n",
        "    return img\n",
        "\n",
        "# Load the Glaxo Wellcome structural alerts\n",
        "glaxo_alerts = load_glaxo_alerts()\n",
        "\n",
        "# Display a few examples\n",
        "print(\"\\nExample structural alerts:\")\n",
        "display(glaxo_alerts[['description', 'smarts']].head(5))\n",
        "\n",
        "# Visualize example alerts\n",
        "alerts_img = visualize_structural_alerts(glaxo_alerts, start_idx=2, n_alerts=6)\n",
        "display(alerts_img)\n",
        "\n",
        "# Save the visualization\n",
        "with open(\"figures/ch02/glaxo_alerts_examples.svg\", \"w\") as f:\n",
        "    f.write(alerts_img.data)\n",
        "print(\"Alert visualization saved to 'figures/ch02/glaxo_alerts_examples.svg'\")"
      ]
    },
    {
      "cell_type": "markdown",
      "metadata": {
        "id": "Sw5IBoR50J76"
      },
      "source": [
        "**😱 Long Running Code Block**\n",
        "\n",
        "The following code block may take a long time to run (13 to 15 minutes; there is a much more efficient implementation but we use a naive implementation to record certain instructional statistics about the SMARTS used in the filter). If you want to save time, you can skip this cell and load the resulting, filtered data in the cell that comes afterwards."
      ]
    },
    {
      "cell_type": "code",
      "execution_count": null,
      "metadata": {
        "id": "6MxUrqkS0J77",
        "outputId": "5f339fb9-5471-4f7c-93da-6ab5af6538a6"
      },
      "outputs": [
        {
          "name": "stdout",
          "output_type": "stream",
          "text": [
            "Applying Glaxo Wellcome filters...\n",
            "Compounds before Glaxo filter: 105566\n",
            "Compounds failing Glaxo filter: 135\n",
            "Compounds after Glaxo filter: 105431\n",
            "Percentage of compounds passing the filter: 99.9%\n",
            "\n",
            "Top 5 most common Glaxo alert matches:\n"
          ]
        },
        {
          "data": {
            "text/plain": [
              "description\n",
              "Betalactams                               74\n",
              "Nitroso                                   24\n",
              "Crown ethers                              20\n",
              "Compounds with 4 or more acidic groups     5\n",
              "Polyenes                                   5\n",
              "Name: count, dtype: int64"
            ]
          },
          "metadata": {},
          "output_type": "display_data"
        }
      ],
      "source": [
        "# Now apply the Glaxo filters to our dataset\n",
        "def apply_glaxo_filters(df, alerts, mol_col='mol'):\n",
        "    \"\"\"\n",
        "    Apply Glaxo Wellcome structural filters to a set of molecules.\n",
        "\n",
        "    Parameters:\n",
        "    -----------\n",
        "    df : pandas.DataFrame\n",
        "        DataFrame containing molecules\n",
        "    alerts : pandas.DataFrame\n",
        "        DataFrame containing structural alerts\n",
        "    mol_col : str\n",
        "        Name of the column containing RDKit molecule objects\n",
        "\n",
        "    Returns:\n",
        "    --------\n",
        "    pandas.DataFrame\n",
        "        DataFrame with added filter compliance column\n",
        "    list\n",
        "        List of dictionaries with match information\n",
        "    \"\"\"\n",
        "    glaxo_sa_matches = []\n",
        "\n",
        "    def check_glaxo_match(mol, alerts_df):\n",
        "        \"\"\"Check if a molecule contains any Glaxo alert substructures\"\"\"\n",
        "        match_ = False\n",
        "        for _, alert in alerts_df.iterrows():\n",
        "            if mol.HasSubstructMatch(alert.ROMol):\n",
        "                glaxo_sa_matches.append({\n",
        "                    \"mol\": mol,\n",
        "                    \"alert\": alert.ROMol,\n",
        "                    \"description\": alert.description,\n",
        "                })\n",
        "                match_ = True\n",
        "        return match_\n",
        "\n",
        "    print(\"Applying Glaxo Wellcome filters...\")\n",
        "    df['GLAXO_match'] = df[mol_col].apply(check_glaxo_match, alerts_df=alerts)\n",
        "    df['GLAXO_compliant'] = ~df['GLAXO_match']\n",
        "\n",
        "    # Filter the dataframe\n",
        "    filtered_df = df[df['GLAXO_compliant']]\n",
        "\n",
        "    # Report results\n",
        "    print(f\"Compounds before Glaxo filter: {len(df)}\")\n",
        "    print(f\"Compounds failing Glaxo filter: {len(df) - len(filtered_df)}\")\n",
        "    print(f\"Compounds after Glaxo filter: {len(filtered_df)}\")\n",
        "    print(f\"Percentage of compounds passing the filter: {len(filtered_df) / len(df) * 100:.1f}%\")\n",
        "\n",
        "    # Convert match list to DataFrame for easier analysis\n",
        "    match_df = pd.DataFrame(glaxo_sa_matches)\n",
        "\n",
        "    if not match_df.empty:\n",
        "        print(\"\\nTop 5 most common Glaxo alert matches:\")\n",
        "        display(match_df[\"description\"].value_counts().head(5))\n",
        "\n",
        "    return df, filtered_df, match_df\n",
        "\n",
        "# Apply Glaxo filters to the PAINS/BRENK compliant compounds\n",
        "specs_ro5_pains_brenk_compliant, specs_filtered, glaxo_match_df = apply_glaxo_filters(\n",
        "    specs_ro5_pains_brenk_compliant, glaxo_alerts\n",
        ")"
      ]
    },
    {
      "cell_type": "code",
      "execution_count": null,
      "metadata": {
        "id": "dOhIRjl80J79",
        "outputId": "fe89f7b8-d42e-4ad3-b14b-006eb8639f36"
      },
      "outputs": [
        {
          "name": "stdout",
          "output_type": "stream",
          "text": [
            "Saving dataframe with 105431 rows to data/ch02/artifacts/specs_filtered.pkl.gz...\n",
            "Successfully saved dataframe (49.5 MB)\n",
            "Saving dataframe with 138 rows to data/ch02/artifacts/glaxo_match_df.pkl.gz...\n",
            "Successfully saved dataframe (0.1 MB)\n"
          ]
        },
        {
          "data": {
            "text/plain": [
              "'data/ch02/artifacts/glaxo_match_df.pkl.gz'"
            ]
          },
          "execution_count": 66,
          "metadata": {},
          "output_type": "execute_result"
        }
      ],
      "source": [
        "# After computing Glaxo-Wellcome hard filters, save the results\n",
        "#save_molecular_dataframe(specs_filtered, \"specs_filtered\", chapter=\"ch02\")\n",
        "#save_molecular_dataframe(glaxo_match_df, \"glaxo_match_df\", chapter=\"ch02\")"
      ]
    },
    {
      "cell_type": "markdown",
      "metadata": {
        "id": "TAjEfkcw0J79"
      },
      "source": [
        "If you skipped the previous, long running code block, then you can load the necessary artifacts (takes ~30 to 60 seconds) by running the below code block."
      ]
    },
    {
      "cell_type": "code",
      "execution_count": null,
      "metadata": {
        "id": "juvpVoju0J7-"
      },
      "outputs": [],
      "source": [
        "specs_filtered = load_molecular_dataframe(\"specs_filtered\", chapter=\"ch02\")\n",
        "glaxo_match_df = load_molecular_dataframe(\"glaxo_match_df\", chapter=\"ch02\")"
      ]
    },
    {
      "cell_type": "markdown",
      "metadata": {
        "id": "WTQ1q89F0J7-"
      },
      "source": [
        "Now let's visualize some of the molecules that were filtered out due to matching Glaxo alerts:"
      ]
    },
    {
      "cell_type": "code",
      "execution_count": null,
      "metadata": {
        "id": "M73d-ZLw0J7-",
        "outputId": "5ee5819a-b25f-4d0c-c53e-18dce2a5a015"
      },
      "outputs": [
        {
          "data": {
            "image/svg+xml": [
              "<svg xmlns=\"http://www.w3.org/2000/svg\" xmlns:rdkit=\"http://www.rdkit.org/xml\" xmlns:xlink=\"http://www.w3.org/1999/xlink\" version=\"1.1\" baseProfile=\"full\" xml:space=\"preserve\" width=\"600px\" height=\"400px\" viewBox=\"0 0 600 400\">\n",
              "<!-- END OF HEADER -->\n",
              "<rect style=\"opacity:1.0;fill:#FFFFFF;stroke:none\" width=\"600.0\" height=\"400.0\" x=\"0.0\" y=\"0.0\"> </rect>\n",
              "<path class=\"bond-0 atom-0 atom-1\" d=\"M 42.2,67.4 L 55.9,75.4 L 55.6,77.3 L 54.0,78.5 L 40.4,70.4 Z\" style=\"fill:#A1002419;fill-rule:evenodd;fill-opacity:0.1;stroke:#A1002419;stroke-width:0.0px;stroke-linecap:butt;stroke-linejoin:miter;stroke-opacity:0.1;\"/>\n",
              "<path class=\"bond-1 atom-1 atom-2\" d=\"M 72.9,71.1 L 70.4,75.4 L 57.7,78.6 L 55.6,77.3 L 55.9,75.4 Z\" style=\"fill:#A1002419;fill-rule:evenodd;fill-opacity:0.1;stroke:#A1002419;stroke-width:0.0px;stroke-linecap:butt;stroke-linejoin:miter;stroke-opacity:0.1;\"/>\n",
              "<path class=\"bond-14 atom-1 atom-14\" d=\"M 55.6,77.3 L 57.7,78.6 L 61.0,91.2 L 58.4,95.5 L 54.0,78.5 Z\" style=\"fill:#A1002419;fill-rule:evenodd;fill-opacity:0.1;stroke:#A1002419;stroke-width:0.0px;stroke-linecap:butt;stroke-linejoin:miter;stroke-opacity:0.1;\"/>\n",
              "<path class=\"bond-2 atom-2 atom-3\" d=\"M 72.9,71.1 L 77.9,90.6 L 73.6,88.0 L 70.4,75.4 Z\" style=\"fill:#A1002419;fill-rule:evenodd;fill-opacity:0.1;stroke:#A1002419;stroke-width:0.0px;stroke-linecap:butt;stroke-linejoin:miter;stroke-opacity:0.1;\"/>\n",
              "<path class=\"bond-13 atom-3 atom-14\" d=\"M 73.6,88.0 L 77.9,90.6 L 58.4,95.5 L 61.0,91.2 Z\" style=\"fill:#A1002419;fill-rule:evenodd;fill-opacity:0.1;stroke:#A1002419;stroke-width:0.0px;stroke-linecap:butt;stroke-linejoin:miter;stroke-opacity:0.1;\"/>\n",
              "<ellipse cx=\"41.3\" cy=\"68.9\" rx=\"3.3\" ry=\"3.4\" class=\"atom-0\" style=\"fill:#A1002419;fill-rule:evenodd;stroke:#A1002419;stroke-width:1.0px;stroke-linecap:butt;stroke-linejoin:miter;stroke-opacity:1\"/>\n",
              "<ellipse cx=\"55.6\" cy=\"77.3\" rx=\"3.3\" ry=\"3.3\" class=\"atom-1\" style=\"fill:#A1002419;fill-rule:evenodd;stroke:#A1002419;stroke-width:1.0px;stroke-linecap:butt;stroke-linejoin:miter;stroke-opacity:1\"/>\n",
              "<ellipse cx=\"71.6\" cy=\"73.2\" rx=\"3.3\" ry=\"3.3\" class=\"atom-2\" style=\"fill:#A1002419;fill-rule:evenodd;stroke:#A1002419;stroke-width:1.0px;stroke-linecap:butt;stroke-linejoin:miter;stroke-opacity:1\"/>\n",
              "<ellipse cx=\"75.7\" cy=\"89.3\" rx=\"3.3\" ry=\"3.3\" class=\"atom-3\" style=\"fill:#A1002419;fill-rule:evenodd;stroke:#A1002419;stroke-width:1.0px;stroke-linecap:butt;stroke-linejoin:miter;stroke-opacity:1\"/>\n",
              "<ellipse cx=\"57.4\" cy=\"93.4\" rx=\"5.8\" ry=\"3.3\" class=\"atom-14\" style=\"fill:#A1002419;fill-rule:evenodd;stroke:#A1002419;stroke-width:1.0px;stroke-linecap:butt;stroke-linejoin:miter;stroke-opacity:1\"/>\n",
              "<path class=\"bond-0 atom-0 atom-1\" d=\"M 46.3,70.4 L 57.3,76.9\" style=\"fill:none;fill-rule:evenodd;stroke:#000000;stroke-width:2.0px;stroke-linecap:butt;stroke-linejoin:miter;stroke-opacity:1\"/>\n",
              "<path class=\"bond-0 atom-0 atom-1\" d=\"M 45.1,72.5 L 56.0,79.0\" style=\"fill:none;fill-rule:evenodd;stroke:#000000;stroke-width:2.0px;stroke-linecap:butt;stroke-linejoin:miter;stroke-opacity:1\"/>\n",
              "<path class=\"bond-1 atom-1 atom-2\" d=\"M 55.6,77.3 L 71.6,73.2\" style=\"fill:none;fill-rule:evenodd;stroke:#000000;stroke-width:2.0px;stroke-linecap:butt;stroke-linejoin:miter;stroke-opacity:1\"/>\n",
              "<path class=\"bond-2 atom-2 atom-3\" d=\"M 71.6,73.2 L 75.7,89.3\" style=\"fill:none;fill-rule:evenodd;stroke:#000000;stroke-width:2.0px;stroke-linecap:butt;stroke-linejoin:miter;stroke-opacity:1\"/>\n",
              "<path class=\"bond-3 atom-3 atom-4\" d=\"M 75.7,89.3 L 91.3,97.0 L 90.0,97.7 Z\" style=\"fill:#000000;fill-rule:evenodd;fill-opacity:1;stroke:#000000;stroke-width:0.5px;stroke-linecap:butt;stroke-linejoin:miter;stroke-opacity:1;\"/>\n",
              "<path class=\"bond-3 atom-3 atom-4\" d=\"M 75.7,89.3 L 90.0,97.7 L 90.0,99.2 Z\" style=\"fill:#000000;fill-rule:evenodd;fill-opacity:1;stroke:#000000;stroke-width:0.5px;stroke-linecap:butt;stroke-linejoin:miter;stroke-opacity:1;\"/>\n",
              "<path class=\"bond-4 atom-4 atom-5\" d=\"M 88.7,97.0 L 88.6,109.7\" style=\"fill:none;fill-rule:evenodd;stroke:#000000;stroke-width:2.0px;stroke-linecap:butt;stroke-linejoin:miter;stroke-opacity:1\"/>\n",
              "<path class=\"bond-4 atom-4 atom-5\" d=\"M 91.2,97.0 L 91.1,109.7\" style=\"fill:none;fill-rule:evenodd;stroke:#000000;stroke-width:2.0px;stroke-linecap:butt;stroke-linejoin:miter;stroke-opacity:1\"/>\n",
              "<path class=\"bond-5 atom-4 atom-6\" d=\"M 90.0,97.7 L 100.1,92.1\" style=\"fill:none;fill-rule:evenodd;stroke:#000000;stroke-width:2.0px;stroke-linecap:butt;stroke-linejoin:miter;stroke-opacity:1\"/>\n",
              "<path class=\"bond-6 atom-6 atom-7\" d=\"M 108.8,92.2 L 118.7,98.1\" style=\"fill:none;fill-rule:evenodd;stroke:#000000;stroke-width:2.0px;stroke-linecap:butt;stroke-linejoin:miter;stroke-opacity:1\"/>\n",
              "<path class=\"bond-7 atom-7 atom-8\" d=\"M 118.7,98.1 L 133.1,89.9\" style=\"fill:none;fill-rule:evenodd;stroke:#000000;stroke-width:2.0px;stroke-linecap:butt;stroke-linejoin:miter;stroke-opacity:1\"/>\n",
              "<path class=\"bond-8 atom-8 atom-9\" d=\"M 133.1,89.9 L 147.4,98.4\" style=\"fill:none;fill-rule:evenodd;stroke:#000000;stroke-width:2.0px;stroke-linecap:butt;stroke-linejoin:miter;stroke-opacity:1\"/>\n",
              "<path class=\"bond-8 atom-8 atom-9\" d=\"M 135.6,88.5 L 147.4,95.5\" style=\"fill:none;fill-rule:evenodd;stroke:#000000;stroke-width:2.0px;stroke-linecap:butt;stroke-linejoin:miter;stroke-opacity:1\"/>\n",
              "<path class=\"bond-9 atom-9 atom-10\" d=\"M 147.4,98.4 L 161.8,90.3\" style=\"fill:none;fill-rule:evenodd;stroke:#000000;stroke-width:2.0px;stroke-linecap:butt;stroke-linejoin:miter;stroke-opacity:1\"/>\n",
              "<path class=\"bond-10 atom-10 atom-11\" d=\"M 161.8,90.3 L 162.0,73.7\" style=\"fill:none;fill-rule:evenodd;stroke:#000000;stroke-width:2.0px;stroke-linecap:butt;stroke-linejoin:miter;stroke-opacity:1\"/>\n",
              "<path class=\"bond-10 atom-10 atom-11\" d=\"M 159.3,88.8 L 159.5,75.1\" style=\"fill:none;fill-rule:evenodd;stroke:#000000;stroke-width:2.0px;stroke-linecap:butt;stroke-linejoin:miter;stroke-opacity:1\"/>\n",
              "<path class=\"bond-11 atom-11 atom-12\" d=\"M 162.0,73.7 L 147.7,65.3\" style=\"fill:none;fill-rule:evenodd;stroke:#000000;stroke-width:2.0px;stroke-linecap:butt;stroke-linejoin:miter;stroke-opacity:1\"/>\n",
              "<path class=\"bond-12 atom-12 atom-13\" d=\"M 147.7,65.3 L 133.3,73.4\" style=\"fill:none;fill-rule:evenodd;stroke:#000000;stroke-width:2.0px;stroke-linecap:butt;stroke-linejoin:miter;stroke-opacity:1\"/>\n",
              "<path class=\"bond-12 atom-12 atom-13\" d=\"M 147.7,68.1 L 135.8,74.8\" style=\"fill:none;fill-rule:evenodd;stroke:#000000;stroke-width:2.0px;stroke-linecap:butt;stroke-linejoin:miter;stroke-opacity:1\"/>\n",
              "<path class=\"bond-13 atom-3 atom-14\" d=\"M 75.7,89.3 L 63.7,92.4\" style=\"fill:none;fill-rule:evenodd;stroke:#000000;stroke-width:2.0px;stroke-linecap:butt;stroke-linejoin:miter;stroke-opacity:1\"/>\n",
              "<path class=\"bond-14 atom-14 atom-1\" d=\"M 58.5,88.8 L 55.6,77.3\" style=\"fill:none;fill-rule:evenodd;stroke:#000000;stroke-width:2.0px;stroke-linecap:butt;stroke-linejoin:miter;stroke-opacity:1\"/>\n",
              "<path class=\"bond-15 atom-13 atom-8\" d=\"M 133.3,73.4 L 133.1,89.9\" style=\"fill:none;fill-rule:evenodd;stroke:#000000;stroke-width:2.0px;stroke-linecap:butt;stroke-linejoin:miter;stroke-opacity:1\"/>\n",
              "<path d=\"M 56.4,77.1 L 55.6,77.3 L 55.7,77.9\" style=\"fill:none;stroke:#000000;stroke-width:2.0px;stroke-linecap:butt;stroke-linejoin:miter;stroke-opacity:1;\"/>\n",
              "<path d=\"M 70.8,73.4 L 71.6,73.2 L 71.8,74.0\" style=\"fill:none;stroke:#000000;stroke-width:2.0px;stroke-linecap:butt;stroke-linejoin:miter;stroke-opacity:1;\"/>\n",
              "<path d=\"M 75.5,88.5 L 75.7,89.3 L 75.1,89.4\" style=\"fill:none;stroke:#000000;stroke-width:2.0px;stroke-linecap:butt;stroke-linejoin:miter;stroke-opacity:1;\"/>\n",
              "<path d=\"M 118.2,97.8 L 118.7,98.1 L 119.4,97.7\" style=\"fill:none;stroke:#000000;stroke-width:2.0px;stroke-linecap:butt;stroke-linejoin:miter;stroke-opacity:1;\"/>\n",
              "<path d=\"M 146.6,98.0 L 147.4,98.4 L 148.1,98.0\" style=\"fill:none;stroke:#000000;stroke-width:2.0px;stroke-linecap:butt;stroke-linejoin:miter;stroke-opacity:1;\"/>\n",
              "<path d=\"M 161.1,90.7 L 161.8,90.3 L 161.8,89.4\" style=\"fill:none;stroke:#000000;stroke-width:2.0px;stroke-linecap:butt;stroke-linejoin:miter;stroke-opacity:1;\"/>\n",
              "<path d=\"M 162.0,74.5 L 162.0,73.7 L 161.3,73.3\" style=\"fill:none;stroke:#000000;stroke-width:2.0px;stroke-linecap:butt;stroke-linejoin:miter;stroke-opacity:1;\"/>\n",
              "<path d=\"M 148.4,65.7 L 147.7,65.3 L 147.0,65.7\" style=\"fill:none;stroke:#000000;stroke-width:2.0px;stroke-linecap:butt;stroke-linejoin:miter;stroke-opacity:1;\"/>\n",
              "<path d=\"M 134.0,73.0 L 133.3,73.4 L 133.3,74.2\" style=\"fill:none;stroke:#000000;stroke-width:2.0px;stroke-linecap:butt;stroke-linejoin:miter;stroke-opacity:1;\"/>\n",
              "<path class=\"atom-0\" d=\"M 39.2 68.9 Q 39.2 67.8, 39.7 67.1 Q 40.3 66.5, 41.3 66.5 Q 42.4 66.5, 42.9 67.1 Q 43.5 67.8, 43.5 68.9 Q 43.5 70.0, 42.9 70.7 Q 42.4 71.3, 41.3 71.3 Q 40.3 71.3, 39.7 70.7 Q 39.2 70.1, 39.2 68.9 M 41.3 70.8 Q 42.0 70.8, 42.4 70.3 Q 42.8 69.8, 42.8 68.9 Q 42.8 68.0, 42.4 67.5 Q 42.0 67.0, 41.3 67.0 Q 40.6 67.0, 40.2 67.5 Q 39.8 68.0, 39.8 68.9 Q 39.8 69.9, 40.2 70.3 Q 40.6 70.8, 41.3 70.8 \" fill=\"#000000\"/>\n",
              "<path class=\"atom-5\" d=\"M 87.6 114.3 Q 87.6 113.2, 88.2 112.5 Q 88.7 111.9, 89.8 111.9 Q 90.8 111.9, 91.4 112.5 Q 91.9 113.2, 91.9 114.3 Q 91.9 115.4, 91.4 116.1 Q 90.8 116.7, 89.8 116.7 Q 88.8 116.7, 88.2 116.1 Q 87.6 115.5, 87.6 114.3 M 89.8 116.2 Q 90.5 116.2, 90.9 115.7 Q 91.3 115.2, 91.3 114.3 Q 91.3 113.4, 90.9 112.9 Q 90.5 112.5, 89.8 112.5 Q 89.1 112.5, 88.7 112.9 Q 88.3 113.4, 88.3 114.3 Q 88.3 115.3, 88.7 115.7 Q 89.1 116.2, 89.8 116.2 \" fill=\"#000000\"/>\n",
              "<path class=\"atom-6\" d=\"M 102.3 89.6 Q 102.3 88.5, 102.8 87.9 Q 103.4 87.2, 104.4 87.2 Q 105.5 87.2, 106.0 87.9 Q 106.6 88.5, 106.6 89.6 Q 106.6 90.8, 106.0 91.4 Q 105.4 92.1, 104.4 92.1 Q 103.4 92.1, 102.8 91.4 Q 102.3 90.8, 102.3 89.6 M 104.4 91.5 Q 105.1 91.5, 105.5 91.1 Q 105.9 90.6, 105.9 89.6 Q 105.9 88.7, 105.5 88.2 Q 105.1 87.8, 104.4 87.8 Q 103.7 87.8, 103.3 88.2 Q 102.9 88.7, 102.9 89.6 Q 102.9 90.6, 103.3 91.1 Q 103.7 91.5, 104.4 91.5 \" fill=\"#000000\"/>\n",
              "<path class=\"atom-14\" d=\"M 53.3 91.0 L 53.9 91.0 L 53.9 93.0 L 56.3 93.0 L 56.3 91.0 L 57.0 91.0 L 57.0 95.7 L 56.3 95.7 L 56.3 93.6 L 53.9 93.6 L 53.9 95.7 L 53.3 95.7 L 53.3 91.0 \" fill=\"#000000\"/>\n",
              "<path class=\"atom-14\" d=\"M 58.6 91.0 L 60.2 93.5 Q 60.3 93.8, 60.6 94.2 Q 60.8 94.7, 60.8 94.7 L 60.8 91.0 L 61.5 91.0 L 61.5 95.7 L 60.8 95.7 L 59.2 93.0 Q 59.0 92.7, 58.8 92.3 Q 58.6 92.0, 58.5 91.9 L 58.5 95.7 L 57.9 95.7 L 57.9 91.0 L 58.6 91.0 \" fill=\"#000000\"/>\n",
              "<path class=\"legend\" d=\"M 61.4 183.9 Q 62.4 184.2, 63.0 184.8 Q 63.6 185.5, 63.6 186.5 Q 63.6 188.0, 62.5 188.9 Q 61.6 189.8, 59.7 189.8 L 55.9 189.8 L 55.9 178.5 L 59.2 178.5 Q 61.1 178.5, 62.1 179.3 Q 63.1 180.0, 63.1 181.5 Q 63.1 183.2, 61.4 183.9 M 57.4 179.8 L 57.4 183.3 L 59.2 183.3 Q 60.3 183.3, 60.9 182.9 Q 61.5 182.4, 61.5 181.5 Q 61.5 179.8, 59.2 179.8 L 57.4 179.8 M 59.7 188.5 Q 60.8 188.5, 61.4 188.0 Q 62.0 187.5, 62.0 186.5 Q 62.0 185.5, 61.3 185.1 Q 60.7 184.6, 59.4 184.6 L 57.4 184.6 L 57.4 188.5 L 59.7 188.5 \" fill=\"#000000\"/>\n",
              "<path class=\"legend\" d=\"M 65.0 185.7 Q 65.0 183.7, 66.0 182.6 Q 67.0 181.4, 68.8 181.4 Q 70.6 181.4, 71.4 182.5 Q 72.2 183.6, 72.2 185.6 L 72.2 185.9 L 66.5 185.9 Q 66.5 187.3, 67.1 188.0 Q 67.8 188.8, 68.9 188.8 Q 69.6 188.8, 70.2 188.6 Q 70.8 188.4, 71.5 188.1 L 71.9 189.2 Q 71.1 189.6, 70.4 189.8 Q 69.6 189.9, 68.9 189.9 Q 67.0 189.9, 66.0 188.8 Q 65.0 187.7, 65.0 185.7 M 68.8 182.6 Q 67.9 182.6, 67.3 183.2 Q 66.7 183.7, 66.6 184.8 L 70.6 184.8 Q 70.5 183.7, 70.1 183.2 Q 69.6 182.6, 68.8 182.6 \" fill=\"#000000\"/>\n",
              "<path class=\"legend\" d=\"M 73.5 182.7 L 73.5 181.6 L 75.1 181.6 L 75.3 179.2 L 76.4 179.2 L 76.4 181.6 L 79.0 181.6 L 79.0 182.7 L 76.4 182.7 L 76.4 187.3 Q 76.4 188.7, 77.6 188.7 Q 78.1 188.7, 78.8 188.5 L 79.1 189.5 Q 78.2 189.9, 77.4 189.9 Q 76.3 189.9, 75.6 189.3 Q 74.9 188.6, 74.9 187.4 L 74.9 182.7 L 73.5 182.7 \" fill=\"#000000\"/>\n",
              "<path class=\"legend\" d=\"M 80.1 187.6 Q 80.1 186.3, 81.2 185.6 Q 82.3 184.8, 84.2 184.8 L 85.4 184.8 L 85.4 184.5 Q 85.4 183.5, 85.0 183.1 Q 84.6 182.6, 83.5 182.6 Q 82.9 182.6, 82.4 182.8 Q 81.9 182.9, 81.1 183.2 L 80.6 182.2 Q 82.1 181.4, 83.6 181.4 Q 85.3 181.4, 86.1 182.2 Q 86.9 182.9, 86.9 184.5 L 86.9 189.8 L 85.7 189.8 Q 85.7 189.7, 85.7 189.5 Q 85.6 189.2, 85.5 188.8 Q 84.4 190.0, 82.9 190.0 Q 81.6 190.0, 80.9 189.3 Q 80.1 188.7, 80.1 187.6 M 81.7 187.6 Q 81.7 188.2, 82.0 188.5 Q 82.4 188.8, 83.1 188.8 Q 83.8 188.8, 84.4 188.5 Q 85.0 188.2, 85.4 187.7 L 85.4 186.0 L 84.3 186.0 Q 83.0 186.0, 82.3 186.4 Q 81.7 186.8, 81.7 187.6 \" fill=\"#000000\"/>\n",
              "<path class=\"legend\" d=\"M 88.8 177.7 L 90.3 177.7 L 90.3 189.8 L 88.8 189.8 L 88.8 177.7 \" fill=\"#000000\"/>\n",
              "<path class=\"legend\" d=\"M 92.3 187.6 Q 92.3 186.3, 93.4 185.6 Q 94.4 184.8, 96.4 184.8 L 97.6 184.8 L 97.6 184.5 Q 97.6 183.5, 97.2 183.1 Q 96.7 182.6, 95.7 182.6 Q 95.1 182.6, 94.5 182.8 Q 94.0 182.9, 93.2 183.2 L 92.8 182.2 Q 94.3 181.4, 95.7 181.4 Q 97.5 181.4, 98.3 182.2 Q 99.1 182.9, 99.1 184.5 L 99.1 189.8 L 97.9 189.8 Q 97.9 189.7, 97.9 189.5 Q 97.8 189.2, 97.7 188.8 Q 96.6 190.0, 95.0 190.0 Q 93.8 190.0, 93.1 189.3 Q 92.3 188.7, 92.3 187.6 M 93.8 187.6 Q 93.8 188.2, 94.2 188.5 Q 94.6 188.8, 95.3 188.8 Q 96.0 188.8, 96.6 188.5 Q 97.2 188.2, 97.6 187.7 L 97.6 186.0 L 96.5 186.0 Q 95.2 186.0, 94.5 186.4 Q 93.8 186.8, 93.8 187.6 \" fill=\"#000000\"/>\n",
              "<path class=\"legend\" d=\"M 101.0 185.7 Q 101.0 183.7, 102.0 182.6 Q 103.0 181.4, 104.9 181.4 Q 106.8 181.4, 107.8 182.8 L 106.8 183.6 Q 106.4 183.1, 105.9 182.9 Q 105.5 182.6, 104.9 182.6 Q 103.8 182.6, 103.1 183.4 Q 102.5 184.2, 102.5 185.7 Q 102.5 187.2, 103.2 188.0 Q 103.8 188.8, 105.0 188.8 Q 105.7 188.8, 106.2 188.6 Q 106.6 188.4, 107.2 188.2 L 107.6 189.2 Q 106.4 189.9, 104.9 189.9 Q 103.0 189.9, 102.0 188.8 Q 101.0 187.7, 101.0 185.7 \" fill=\"#000000\"/>\n",
              "<path class=\"legend\" d=\"M 108.8 182.7 L 108.8 181.6 L 110.4 181.6 L 110.6 179.2 L 111.8 179.2 L 111.8 181.6 L 114.3 181.6 L 114.3 182.7 L 111.8 182.7 L 111.8 187.3 Q 111.8 188.7, 113.0 188.7 Q 113.4 188.7, 114.1 188.5 L 114.4 189.5 Q 113.5 189.9, 112.7 189.9 Q 111.6 189.9, 110.9 189.3 Q 110.3 188.6, 110.3 187.4 L 110.3 182.7 L 108.8 182.7 \" fill=\"#000000\"/>\n",
              "<path class=\"legend\" d=\"M 115.5 187.6 Q 115.5 186.3, 116.5 185.6 Q 117.6 184.8, 119.5 184.8 L 120.7 184.8 L 120.7 184.5 Q 120.7 183.5, 120.3 183.1 Q 119.9 182.6, 118.9 182.6 Q 118.2 182.6, 117.7 182.8 Q 117.2 182.9, 116.4 183.2 L 115.9 182.2 Q 117.4 181.4, 118.9 181.4 Q 120.6 181.4, 121.4 182.2 Q 122.2 182.9, 122.2 184.5 L 122.2 189.8 L 121.1 189.8 Q 121.0 189.7, 121.0 189.5 Q 120.9 189.2, 120.9 188.8 Q 119.7 190.0, 118.2 190.0 Q 116.9 190.0, 116.2 189.3 Q 115.5 188.7, 115.5 187.6 M 117.0 187.6 Q 117.0 188.2, 117.3 188.5 Q 117.7 188.8, 118.5 188.8 Q 119.1 188.8, 119.7 188.5 Q 120.3 188.2, 120.7 187.7 L 120.7 186.0 L 119.6 186.0 Q 118.3 186.0, 117.6 186.4 Q 117.0 186.8, 117.0 187.6 \" fill=\"#000000\"/>\n",
              "<path class=\"legend\" d=\"M 133.6 181.4 Q 135.0 181.4, 135.7 182.2 Q 136.4 182.9, 136.4 184.4 L 136.4 189.8 L 134.9 189.8 L 134.9 184.5 Q 134.9 183.5, 134.5 183.1 Q 134.2 182.6, 133.3 182.6 Q 132.6 182.6, 132.0 183.0 Q 131.4 183.3, 131.0 183.9 Q 131.0 184.1, 131.0 184.4 L 131.0 189.8 L 129.5 189.8 L 129.5 184.5 Q 129.5 183.5, 129.1 183.1 Q 128.8 182.6, 127.9 182.6 Q 127.2 182.6, 126.6 183.0 Q 126.0 183.3, 125.6 183.9 L 125.6 189.8 L 124.1 189.8 L 124.1 181.6 L 125.4 181.6 L 125.5 182.7 Q 126.6 181.4, 128.2 181.4 Q 130.2 181.4, 130.8 182.9 Q 131.9 181.4, 133.6 181.4 \" fill=\"#000000\"/>\n",
              "<path class=\"legend\" d=\"M 138.8 188.1 Q 139.5 188.4, 140.0 188.6 Q 140.5 188.7, 141.1 188.7 Q 141.8 188.7, 142.2 188.4 Q 142.6 188.1, 142.6 187.5 Q 142.6 187.1, 142.4 186.9 Q 142.2 186.7, 141.9 186.6 Q 141.7 186.4, 141.0 186.2 Q 140.8 186.2, 140.1 185.9 Q 139.4 185.7, 139.0 185.1 Q 138.6 184.6, 138.6 183.8 Q 138.6 182.8, 139.4 182.1 Q 140.1 181.4, 141.6 181.4 Q 142.2 181.4, 142.8 181.6 Q 143.3 181.7, 144.0 182.0 L 143.6 183.2 Q 143.0 182.9, 142.6 182.8 Q 142.1 182.7, 141.6 182.7 Q 140.9 182.7, 140.5 183.0 Q 140.1 183.3, 140.1 183.8 Q 140.1 184.2, 140.4 184.4 Q 140.7 184.6, 141.4 184.9 Q 141.6 184.9, 141.7 185.0 L 142.1 185.1 Q 142.8 185.4, 143.2 185.6 Q 143.6 185.8, 143.9 186.3 Q 144.1 186.7, 144.1 187.5 Q 144.1 188.7, 143.3 189.3 Q 142.5 190.0, 141.1 190.0 Q 140.3 190.0, 139.7 189.8 Q 139.0 189.6, 138.3 189.3 L 138.8 188.1 \" fill=\"#000000\"/>\n",
              "<path class=\"bond-9 atom-9 atom-10\" d=\"M 330.5,100.3 L 342.7,108.7 L 340.7,111.6 L 325.6,101.2 Z\" style=\"fill:#A1002419;fill-rule:evenodd;fill-opacity:0.1;stroke:#A1002419;stroke-width:0.0px;stroke-linecap:butt;stroke-linejoin:miter;stroke-opacity:0.1;\"/>\n",
              "<path class=\"bond-11 atom-9 atom-12\" d=\"M 336.0,86.1 L 338.9,88.1 L 330.5,100.3 L 325.6,101.2 Z\" style=\"fill:#A1002419;fill-rule:evenodd;fill-opacity:0.1;stroke:#A1002419;stroke-width:0.0px;stroke-linecap:butt;stroke-linejoin:miter;stroke-opacity:0.1;\"/>\n",
              "<ellipse cx=\"328.0\" cy=\"100.8\" rx=\"3.3\" ry=\"3.4\" class=\"atom-9\" style=\"fill:#A1002419;fill-rule:evenodd;stroke:#A1002419;stroke-width:1.0px;stroke-linecap:butt;stroke-linejoin:miter;stroke-opacity:1\"/>\n",
              "<ellipse cx=\"341.7\" cy=\"110.2\" rx=\"3.3\" ry=\"3.4\" class=\"atom-10\" style=\"fill:#A1002419;fill-rule:evenodd;stroke:#A1002419;stroke-width:1.0px;stroke-linecap:butt;stroke-linejoin:miter;stroke-opacity:1\"/>\n",
              "<ellipse cx=\"338.0\" cy=\"87.1\" rx=\"3.3\" ry=\"3.6\" class=\"atom-12\" style=\"fill:#A1002419;fill-rule:evenodd;stroke:#A1002419;stroke-width:1.0px;stroke-linecap:butt;stroke-linejoin:miter;stroke-opacity:1\"/>\n",
              "<path class=\"bond-0 atom-0 atom-1\" d=\"M 262.2,88.8 L 272.1,95.6\" style=\"fill:none;fill-rule:evenodd;stroke:#000000;stroke-width:2.0px;stroke-linecap:butt;stroke-linejoin:miter;stroke-opacity:1\"/>\n",
              "<path class=\"bond-0 atom-0 atom-1\" d=\"M 260.8,90.8 L 270.7,97.6\" style=\"fill:none;fill-rule:evenodd;stroke:#000000;stroke-width:2.0px;stroke-linecap:butt;stroke-linejoin:miter;stroke-opacity:1\"/>\n",
              "<path class=\"bond-1 atom-1 atom-2\" d=\"M 270.8,96.2 L 269.9,108.1\" style=\"fill:none;fill-rule:evenodd;stroke:#000000;stroke-width:2.0px;stroke-linecap:butt;stroke-linejoin:miter;stroke-opacity:1\"/>\n",
              "<path class=\"bond-2 atom-1 atom-3\" d=\"M 270.8,96.2 L 285.8,89.1\" style=\"fill:none;fill-rule:evenodd;stroke:#000000;stroke-width:2.0px;stroke-linecap:butt;stroke-linejoin:miter;stroke-opacity:1\"/>\n",
              "<path class=\"bond-3 atom-3 atom-4\" d=\"M 285.8,89.1 L 287.1,72.5\" style=\"fill:none;fill-rule:evenodd;stroke:#000000;stroke-width:2.0px;stroke-linecap:butt;stroke-linejoin:miter;stroke-opacity:1\"/>\n",
              "<path class=\"bond-3 atom-3 atom-4\" d=\"M 288.4,87.8 L 289.5,74.2\" style=\"fill:none;fill-rule:evenodd;stroke:#000000;stroke-width:2.0px;stroke-linecap:butt;stroke-linejoin:miter;stroke-opacity:1\"/>\n",
              "<path class=\"bond-4 atom-4 atom-5\" d=\"M 287.1,72.5 L 302.0,65.4\" style=\"fill:none;fill-rule:evenodd;stroke:#000000;stroke-width:2.0px;stroke-linecap:butt;stroke-linejoin:miter;stroke-opacity:1\"/>\n",
              "<path class=\"bond-5 atom-5 atom-6\" d=\"M 302.0,65.4 L 315.7,74.8\" style=\"fill:none;fill-rule:evenodd;stroke:#000000;stroke-width:2.0px;stroke-linecap:butt;stroke-linejoin:miter;stroke-opacity:1\"/>\n",
              "<path class=\"bond-5 atom-5 atom-6\" d=\"M 301.8,68.3 L 313.1,76.1\" style=\"fill:none;fill-rule:evenodd;stroke:#000000;stroke-width:2.0px;stroke-linecap:butt;stroke-linejoin:miter;stroke-opacity:1\"/>\n",
              "<path class=\"bond-6 atom-6 atom-7\" d=\"M 315.7,74.8 L 326.6,69.6\" style=\"fill:none;fill-rule:evenodd;stroke:#000000;stroke-width:2.0px;stroke-linecap:butt;stroke-linejoin:miter;stroke-opacity:1\"/>\n",
              "<path class=\"bond-7 atom-6 atom-8\" d=\"M 315.7,74.8 L 314.4,91.3\" style=\"fill:none;fill-rule:evenodd;stroke:#000000;stroke-width:2.0px;stroke-linecap:butt;stroke-linejoin:miter;stroke-opacity:1\"/>\n",
              "<path class=\"bond-8 atom-8 atom-9\" d=\"M 314.4,91.3 L 324.3,98.2\" style=\"fill:none;fill-rule:evenodd;stroke:#000000;stroke-width:2.0px;stroke-linecap:butt;stroke-linejoin:miter;stroke-opacity:1\"/>\n",
              "<path class=\"bond-9 atom-9 atom-10\" d=\"M 331.0,104.3 L 336.6,108.1\" style=\"fill:none;fill-rule:evenodd;stroke:#000000;stroke-width:2.0px;stroke-linecap:butt;stroke-linejoin:miter;stroke-opacity:1\"/>\n",
              "<path class=\"bond-9 atom-9 atom-10\" d=\"M 332.4,102.3 L 338.0,106.1\" style=\"fill:none;fill-rule:evenodd;stroke:#000000;stroke-width:2.0px;stroke-linecap:butt;stroke-linejoin:miter;stroke-opacity:1\"/>\n",
              "<path class=\"bond-10 atom-9 atom-11\" d=\"M 323.8,104.7 L 320.8,109.1\" style=\"fill:none;fill-rule:evenodd;stroke:#000000;stroke-width:2.0px;stroke-linecap:butt;stroke-linejoin:miter;stroke-opacity:1\"/>\n",
              "<path class=\"bond-10 atom-9 atom-11\" d=\"M 325.8,106.1 L 322.8,110.5\" style=\"fill:none;fill-rule:evenodd;stroke:#000000;stroke-width:2.0px;stroke-linecap:butt;stroke-linejoin:miter;stroke-opacity:1\"/>\n",
              "<path class=\"bond-11 atom-9 atom-12\" d=\"M 331.1,96.2 L 334.1,91.9\" style=\"fill:none;fill-rule:evenodd;stroke:#000000;stroke-width:2.0px;stroke-linecap:butt;stroke-linejoin:miter;stroke-opacity:1\"/>\n",
              "<path class=\"bond-12 atom-8 atom-13\" d=\"M 314.4,91.3 L 299.4,98.5\" style=\"fill:none;fill-rule:evenodd;stroke:#000000;stroke-width:2.0px;stroke-linecap:butt;stroke-linejoin:miter;stroke-opacity:1\"/>\n",
              "<path class=\"bond-12 atom-8 atom-13\" d=\"M 312.0,89.7 L 299.6,95.6\" style=\"fill:none;fill-rule:evenodd;stroke:#000000;stroke-width:2.0px;stroke-linecap:butt;stroke-linejoin:miter;stroke-opacity:1\"/>\n",
              "<path class=\"bond-13 atom-13 atom-3\" d=\"M 299.4,98.5 L 285.8,89.1\" style=\"fill:none;fill-rule:evenodd;stroke:#000000;stroke-width:2.0px;stroke-linecap:butt;stroke-linejoin:miter;stroke-opacity:1\"/>\n",
              "<path d=\"M 270.8,96.8 L 270.8,96.2 L 271.6,95.8\" style=\"fill:none;stroke:#000000;stroke-width:2.0px;stroke-linecap:butt;stroke-linejoin:miter;stroke-opacity:1;\"/>\n",
              "<path d=\"M 287.0,73.4 L 287.1,72.5 L 287.8,72.2\" style=\"fill:none;stroke:#000000;stroke-width:2.0px;stroke-linecap:butt;stroke-linejoin:miter;stroke-opacity:1;\"/>\n",
              "<path d=\"M 301.3,65.8 L 302.0,65.4 L 302.7,65.9\" style=\"fill:none;stroke:#000000;stroke-width:2.0px;stroke-linecap:butt;stroke-linejoin:miter;stroke-opacity:1;\"/>\n",
              "<path d=\"M 300.2,98.1 L 299.4,98.5 L 298.7,98.0\" style=\"fill:none;stroke:#000000;stroke-width:2.0px;stroke-linecap:butt;stroke-linejoin:miter;stroke-opacity:1;\"/>\n",
              "<path class=\"atom-0\" d=\"M 255.0 86.8 Q 255.0 85.7, 255.6 85.0 Q 256.1 84.4, 257.2 84.4 Q 258.2 84.4, 258.8 85.0 Q 259.3 85.7, 259.3 86.8 Q 259.3 87.9, 258.8 88.6 Q 258.2 89.2, 257.2 89.2 Q 256.1 89.2, 255.6 88.6 Q 255.0 87.9, 255.0 86.8 M 257.2 88.7 Q 257.9 88.7, 258.3 88.2 Q 258.7 87.7, 258.7 86.8 Q 258.7 85.9, 258.3 85.4 Q 257.9 84.9, 257.2 84.9 Q 256.5 84.9, 256.1 85.4 Q 255.7 85.9, 255.7 86.8 Q 255.7 87.7, 256.1 88.2 Q 256.5 88.7, 257.2 88.7 \" fill=\"#000000\"/>\n",
              "<path class=\"atom-2\" d=\"M 267.4 112.7 Q 267.4 111.6, 267.9 110.9 Q 268.5 110.3, 269.5 110.3 Q 270.5 110.3, 271.1 110.9 Q 271.7 111.6, 271.7 112.7 Q 271.7 113.8, 271.1 114.5 Q 270.5 115.1, 269.5 115.1 Q 268.5 115.1, 267.9 114.5 Q 267.4 113.8, 267.4 112.7 M 269.5 114.6 Q 270.2 114.6, 270.6 114.1 Q 271.0 113.6, 271.0 112.7 Q 271.0 111.8, 270.6 111.3 Q 270.2 110.8, 269.5 110.8 Q 268.8 110.8, 268.4 111.3 Q 268.0 111.8, 268.0 112.7 Q 268.0 113.6, 268.4 114.1 Q 268.8 114.6, 269.5 114.6 \" fill=\"#000000\"/>\n",
              "<path class=\"atom-2\" d=\"M 272.4 110.4 L 273.0 110.4 L 273.0 112.4 L 275.4 112.4 L 275.4 110.4 L 276.1 110.4 L 276.1 115.1 L 275.4 115.1 L 275.4 112.9 L 273.0 112.9 L 273.0 115.1 L 272.4 115.1 L 272.4 110.4 \" fill=\"#000000\"/>\n",
              "<path class=\"atom-7\" d=\"M 328.8 67.9 Q 328.8 66.7, 329.4 66.1 Q 329.9 65.5, 331.0 65.5 Q 331.9 65.5, 332.5 66.2 L 332.0 66.5 Q 331.6 66.0, 331.0 66.0 Q 330.3 66.0, 329.9 66.5 Q 329.5 67.0, 329.5 67.9 Q 329.5 68.8, 329.9 69.3 Q 330.3 69.7, 331.0 69.7 Q 331.6 69.7, 332.2 69.4 L 332.3 69.9 Q 332.1 70.1, 331.7 70.2 Q 331.4 70.3, 331.0 70.3 Q 329.9 70.3, 329.4 69.7 Q 328.8 69.0, 328.8 67.9 \" fill=\"#000000\"/>\n",
              "<path class=\"atom-7\" d=\"M 332.9 65.2 L 333.5 65.2 L 333.5 70.2 L 332.9 70.2 L 332.9 65.2 \" fill=\"#000000\"/>\n",
              "<path class=\"atom-9\" d=\"M 326.7 102.3 Q 326.7 102.4, 327.0 102.4 Q 327.2 102.5, 327.4 102.6 Q 327.7 102.7, 327.9 102.7 Q 328.4 102.7, 328.6 102.4 Q 328.9 102.2, 328.9 101.8 Q 328.9 101.6, 328.7 101.4 Q 328.6 101.3, 328.4 101.2 Q 328.2 101.1, 327.9 101.0 Q 327.5 100.9, 327.2 100.8 Q 327.0 100.6, 326.8 100.4 Q 326.6 100.1, 326.6 99.7 Q 326.6 99.1, 327.0 98.8 Q 327.4 98.4, 328.2 98.4 Q 328.8 98.4, 329.4 98.6 L 329.2 99.2 Q 328.7 98.9, 328.2 98.9 Q 327.8 98.9, 327.5 99.1 Q 327.3 99.3, 327.3 99.6 Q 327.3 99.9, 327.4 100.0 Q 327.5 100.2, 327.7 100.3 Q 327.9 100.4, 328.2 100.5 Q 328.7 100.6, 328.9 100.7 Q 329.2 100.9, 329.3 101.1 Q 329.5 101.4, 329.5 101.8 Q 329.5 102.5, 329.1 102.8 Q 328.7 103.2, 327.9 103.2 Q 327.5 103.2, 327.2 103.1 Q 326.9 103.0, 326.5 102.9 L 326.7 102.3 \" fill=\"#000000\"/>\n",
              "<path class=\"atom-10\" d=\"M 339.5 110.1 Q 339.5 109.0, 340.1 108.4 Q 340.6 107.7, 341.7 107.7 Q 342.7 107.7, 343.3 108.4 Q 343.8 109.0, 343.8 110.1 Q 343.8 111.3, 343.3 111.9 Q 342.7 112.6, 341.7 112.6 Q 340.6 112.6, 340.1 111.9 Q 339.5 111.3, 339.5 110.1 M 341.7 112.0 Q 342.4 112.0, 342.8 111.6 Q 343.2 111.1, 343.2 110.1 Q 343.2 109.2, 342.8 108.7 Q 342.4 108.3, 341.7 108.3 Q 340.9 108.3, 340.6 108.7 Q 340.2 109.2, 340.2 110.1 Q 340.2 111.1, 340.6 111.6 Q 340.9 112.0, 341.7 112.0 \" fill=\"#000000\"/>\n",
              "<path class=\"atom-11\" d=\"M 316.5 114.4 Q 316.5 113.3, 317.0 112.6 Q 317.6 112.0, 318.6 112.0 Q 319.7 112.0, 320.2 112.6 Q 320.8 113.3, 320.8 114.4 Q 320.8 115.5, 320.2 116.2 Q 319.7 116.8, 318.6 116.8 Q 317.6 116.8, 317.0 116.2 Q 316.5 115.5, 316.5 114.4 M 318.6 116.3 Q 319.3 116.3, 319.7 115.8 Q 320.1 115.3, 320.1 114.4 Q 320.1 113.5, 319.7 113.0 Q 319.3 112.5, 318.6 112.5 Q 317.9 112.5, 317.5 113.0 Q 317.1 113.5, 317.1 114.4 Q 317.1 115.3, 317.5 115.8 Q 317.9 116.3, 318.6 116.3 \" fill=\"#000000\"/>\n",
              "<path class=\"atom-12\" d=\"M 335.6 87.2 Q 335.6 86.1, 336.1 85.5 Q 336.7 84.9, 337.7 84.9 Q 338.7 84.9, 339.2 85.5 L 338.8 85.9 Q 338.4 85.4, 337.7 85.4 Q 337.0 85.4, 336.7 85.9 Q 336.3 86.3, 336.3 87.2 Q 336.3 88.2, 336.7 88.6 Q 337.1 89.1, 337.8 89.1 Q 338.3 89.1, 338.9 88.8 L 339.1 89.3 Q 338.9 89.5, 338.5 89.6 Q 338.1 89.7, 337.7 89.7 Q 336.7 89.7, 336.1 89.0 Q 335.6 88.4, 335.6 87.2 \" fill=\"#000000\"/>\n",
              "<path class=\"atom-12\" d=\"M 339.7 84.6 L 340.3 84.6 L 340.3 89.6 L 339.7 89.6 L 339.7 84.6 \" fill=\"#000000\"/>\n",
              "<path class=\"legend\" d=\"M 266.2 189.8 L 265.0 186.5 L 260.5 186.5 L 259.4 189.8 L 257.9 189.8 L 261.8 178.5 L 263.7 178.5 L 267.7 189.8 L 266.2 189.8 M 261.0 185.2 L 264.6 185.2 L 262.7 180.1 L 261.0 185.2 \" fill=\"#000000\"/>\n",
              "<path class=\"legend\" d=\"M 268.4 185.7 Q 268.4 183.7, 269.4 182.6 Q 270.4 181.4, 272.4 181.4 Q 274.2 181.4, 275.2 182.8 L 274.2 183.6 Q 273.8 183.1, 273.4 182.9 Q 272.9 182.6, 272.4 182.6 Q 271.2 182.6, 270.6 183.4 Q 270.0 184.2, 270.0 185.7 Q 270.0 187.2, 270.6 188.0 Q 271.2 188.8, 272.4 188.8 Q 273.1 188.8, 273.6 188.6 Q 274.0 188.4, 274.6 188.2 L 275.0 189.2 Q 273.9 189.9, 272.3 189.9 Q 270.4 189.9, 269.4 188.8 Q 268.4 187.7, 268.4 185.7 \" fill=\"#000000\"/>\n",
              "<path class=\"legend\" d=\"M 276.1 178.5 L 277.6 178.5 L 277.6 179.9 L 276.1 179.9 L 276.1 178.5 M 276.1 181.6 L 277.6 181.6 L 277.6 189.8 L 276.1 189.8 L 276.1 181.6 \" fill=\"#000000\"/>\n",
              "<path class=\"legend\" d=\"M 287.0 177.7 L 287.0 189.8 L 285.7 189.8 L 285.5 188.8 Q 284.6 189.9, 283.1 189.9 Q 281.4 189.9, 280.4 188.9 Q 279.5 187.8, 279.5 185.8 Q 279.5 183.8, 280.6 182.6 Q 281.7 181.4, 283.7 181.4 Q 284.6 181.4, 285.4 181.7 L 285.4 177.7 L 287.0 177.7 M 283.2 188.8 Q 284.0 188.8, 284.6 188.3 Q 285.2 187.8, 285.4 187.0 L 285.4 182.9 Q 284.6 182.6, 283.7 182.6 Q 282.5 182.6, 281.7 183.5 Q 281.0 184.3, 281.0 185.8 Q 281.0 187.2, 281.6 188.0 Q 282.2 188.8, 283.2 188.8 \" fill=\"#000000\"/>\n",
              "<path class=\"legend\" d=\"\" fill=\"#000000\"/>\n",
              "<path class=\"legend\" d=\"M 298.9 181.4 Q 300.2 181.4, 300.9 182.2 Q 301.6 182.9, 301.6 184.4 L 301.6 189.8 L 300.1 189.8 L 300.1 184.5 Q 300.1 183.5, 299.7 183.1 Q 299.3 182.6, 298.5 182.6 Q 297.8 182.6, 297.1 183.0 Q 296.5 183.3, 296.1 183.9 L 296.1 189.8 L 294.6 189.8 L 294.6 177.7 L 296.1 177.7 L 296.1 182.6 Q 297.2 181.4, 298.9 181.4 \" fill=\"#000000\"/>\n",
              "<path class=\"legend\" d=\"M 303.4 187.6 Q 303.4 186.3, 304.4 185.6 Q 305.5 184.8, 307.4 184.8 L 308.6 184.8 L 308.6 184.5 Q 308.6 183.5, 308.2 183.1 Q 307.8 182.6, 306.8 182.6 Q 306.1 182.6, 305.6 182.8 Q 305.1 182.9, 304.3 183.2 L 303.8 182.2 Q 305.3 181.4, 306.8 181.4 Q 308.5 181.4, 309.3 182.2 Q 310.1 182.9, 310.1 184.5 L 310.1 189.8 L 309.0 189.8 Q 308.9 189.7, 308.9 189.5 Q 308.8 189.2, 308.8 188.8 Q 307.6 190.0, 306.1 190.0 Q 304.8 190.0, 304.1 189.3 Q 303.4 188.7, 303.4 187.6 M 304.9 187.6 Q 304.9 188.2, 305.2 188.5 Q 305.6 188.8, 306.4 188.8 Q 307.0 188.8, 307.6 188.5 Q 308.2 188.2, 308.6 187.7 L 308.6 186.0 L 307.5 186.0 Q 306.2 186.0, 305.5 186.4 Q 304.9 186.8, 304.9 187.6 \" fill=\"#000000\"/>\n",
              "<path class=\"legend\" d=\"M 311.9 177.7 L 313.4 177.7 L 313.4 189.8 L 311.9 189.8 L 311.9 177.7 \" fill=\"#000000\"/>\n",
              "<path class=\"legend\" d=\"M 315.3 178.5 L 316.7 178.5 L 316.7 179.9 L 315.3 179.9 L 315.3 178.5 M 315.3 181.6 L 316.7 181.6 L 316.7 189.8 L 315.3 189.8 L 315.3 181.6 \" fill=\"#000000\"/>\n",
              "<path class=\"legend\" d=\"M 326.1 177.7 L 326.1 189.8 L 324.9 189.8 L 324.7 188.8 Q 323.8 189.9, 322.2 189.9 Q 320.5 189.9, 319.6 188.9 Q 318.6 187.8, 318.6 185.8 Q 318.6 183.8, 319.7 182.6 Q 320.9 181.4, 322.9 181.4 Q 323.7 181.4, 324.6 181.7 L 324.6 177.7 L 326.1 177.7 M 322.3 188.8 Q 323.2 188.8, 323.8 188.3 Q 324.4 187.8, 324.6 187.0 L 324.6 182.9 Q 323.8 182.6, 322.9 182.6 Q 321.6 182.6, 320.9 183.5 Q 320.2 184.3, 320.2 185.8 Q 320.2 187.2, 320.7 188.0 Q 321.3 188.8, 322.3 188.8 \" fill=\"#000000\"/>\n",
              "<path class=\"legend\" d=\"M 327.9 185.7 Q 327.9 183.7, 328.9 182.6 Q 329.9 181.4, 331.8 181.4 Q 333.6 181.4, 334.4 182.5 Q 335.2 183.6, 335.2 185.6 L 335.2 185.9 L 329.4 185.9 Q 329.5 187.3, 330.1 188.0 Q 330.7 188.8, 331.9 188.8 Q 332.5 188.8, 333.1 188.6 Q 333.7 188.4, 334.4 188.1 L 334.9 189.2 Q 334.0 189.6, 333.3 189.8 Q 332.6 189.9, 331.8 189.9 Q 330.0 189.9, 328.9 188.8 Q 327.9 187.7, 327.9 185.7 M 331.8 182.6 Q 330.8 182.6, 330.2 183.2 Q 329.7 183.7, 329.5 184.8 L 333.6 184.8 Q 333.5 183.7, 333.0 183.2 Q 332.6 182.6, 331.8 182.6 \" fill=\"#000000\"/>\n",
              "<path class=\"legend\" d=\"M 336.8 188.1 Q 337.5 188.4, 338.0 188.6 Q 338.5 188.7, 339.1 188.7 Q 339.8 188.7, 340.2 188.4 Q 340.6 188.1, 340.6 187.5 Q 340.6 187.1, 340.4 186.9 Q 340.2 186.7, 339.9 186.6 Q 339.7 186.4, 339.0 186.2 Q 338.8 186.2, 338.1 185.9 Q 337.4 185.7, 337.0 185.1 Q 336.6 184.6, 336.6 183.8 Q 336.6 182.8, 337.4 182.1 Q 338.1 181.4, 339.6 181.4 Q 340.2 181.4, 340.8 181.6 Q 341.3 181.7, 341.9 182.0 L 341.5 183.2 Q 341.0 182.9, 340.6 182.8 Q 340.1 182.7, 339.6 182.7 Q 338.9 182.7, 338.5 183.0 Q 338.1 183.3, 338.1 183.8 Q 338.1 184.2, 338.4 184.4 Q 338.7 184.6, 339.4 184.9 Q 339.5 184.9, 339.7 185.0 L 340.1 185.1 Q 340.7 185.4, 341.1 185.6 Q 341.6 185.8, 341.9 186.3 Q 342.1 186.7, 342.1 187.5 Q 342.1 188.7, 341.3 189.3 Q 340.5 190.0, 339.1 190.0 Q 338.3 190.0, 337.7 189.8 Q 337.0 189.6, 336.3 189.3 L 336.8 188.1 \" fill=\"#000000\"/>\n",
              "<path class=\"bond-11 atom-9 atom-12\" d=\"M 536.5,86.1 L 539.4,88.1 L 530.1,101.7 L 527.1,99.7 Z\" style=\"fill:#A1002419;fill-rule:evenodd;fill-opacity:0.1;stroke:#A1002419;stroke-width:0.0px;stroke-linecap:butt;stroke-linejoin:miter;stroke-opacity:0.1;\"/>\n",
              "<ellipse cx=\"528.6\" cy=\"100.8\" rx=\"3.3\" ry=\"3.4\" class=\"atom-9\" style=\"fill:#A1002419;fill-rule:evenodd;stroke:#A1002419;stroke-width:1.0px;stroke-linecap:butt;stroke-linejoin:miter;stroke-opacity:1\"/>\n",
              "<ellipse cx=\"538.5\" cy=\"87.1\" rx=\"3.3\" ry=\"3.6\" class=\"atom-12\" style=\"fill:#A1002419;fill-rule:evenodd;stroke:#A1002419;stroke-width:1.0px;stroke-linecap:butt;stroke-linejoin:miter;stroke-opacity:1\"/>\n",
              "<path class=\"bond-0 atom-0 atom-1\" d=\"M 462.8,88.8 L 472.7,95.6\" style=\"fill:none;fill-rule:evenodd;stroke:#000000;stroke-width:2.0px;stroke-linecap:butt;stroke-linejoin:miter;stroke-opacity:1\"/>\n",
              "<path class=\"bond-0 atom-0 atom-1\" d=\"M 461.4,90.8 L 471.3,97.6\" style=\"fill:none;fill-rule:evenodd;stroke:#000000;stroke-width:2.0px;stroke-linecap:butt;stroke-linejoin:miter;stroke-opacity:1\"/>\n",
              "<path class=\"bond-1 atom-1 atom-2\" d=\"M 471.4,96.2 L 470.5,108.1\" style=\"fill:none;fill-rule:evenodd;stroke:#000000;stroke-width:2.0px;stroke-linecap:butt;stroke-linejoin:miter;stroke-opacity:1\"/>\n",
              "<path class=\"bond-2 atom-1 atom-3\" d=\"M 471.4,96.2 L 486.4,89.1\" style=\"fill:none;fill-rule:evenodd;stroke:#000000;stroke-width:2.0px;stroke-linecap:butt;stroke-linejoin:miter;stroke-opacity:1\"/>\n",
              "<path class=\"bond-3 atom-3 atom-4\" d=\"M 486.4,89.1 L 487.7,72.5\" style=\"fill:none;fill-rule:evenodd;stroke:#000000;stroke-width:2.0px;stroke-linecap:butt;stroke-linejoin:miter;stroke-opacity:1\"/>\n",
              "<path class=\"bond-3 atom-3 atom-4\" d=\"M 488.9,87.8 L 490.0,74.2\" style=\"fill:none;fill-rule:evenodd;stroke:#000000;stroke-width:2.0px;stroke-linecap:butt;stroke-linejoin:miter;stroke-opacity:1\"/>\n",
              "<path class=\"bond-4 atom-4 atom-5\" d=\"M 487.7,72.5 L 502.6,65.4\" style=\"fill:none;fill-rule:evenodd;stroke:#000000;stroke-width:2.0px;stroke-linecap:butt;stroke-linejoin:miter;stroke-opacity:1\"/>\n",
              "<path class=\"bond-5 atom-5 atom-6\" d=\"M 502.6,65.4 L 516.3,74.8\" style=\"fill:none;fill-rule:evenodd;stroke:#000000;stroke-width:2.0px;stroke-linecap:butt;stroke-linejoin:miter;stroke-opacity:1\"/>\n",
              "<path class=\"bond-5 atom-5 atom-6\" d=\"M 502.4,68.3 L 513.7,76.1\" style=\"fill:none;fill-rule:evenodd;stroke:#000000;stroke-width:2.0px;stroke-linecap:butt;stroke-linejoin:miter;stroke-opacity:1\"/>\n",
              "<path class=\"bond-6 atom-6 atom-7\" d=\"M 516.3,74.8 L 527.2,69.6\" style=\"fill:none;fill-rule:evenodd;stroke:#000000;stroke-width:2.0px;stroke-linecap:butt;stroke-linejoin:miter;stroke-opacity:1\"/>\n",
              "<path class=\"bond-7 atom-6 atom-8\" d=\"M 516.3,74.8 L 515.0,91.3\" style=\"fill:none;fill-rule:evenodd;stroke:#000000;stroke-width:2.0px;stroke-linecap:butt;stroke-linejoin:miter;stroke-opacity:1\"/>\n",
              "<path class=\"bond-8 atom-8 atom-9\" d=\"M 515.0,91.3 L 524.9,98.2\" style=\"fill:none;fill-rule:evenodd;stroke:#000000;stroke-width:2.0px;stroke-linecap:butt;stroke-linejoin:miter;stroke-opacity:1\"/>\n",
              "<path class=\"bond-9 atom-9 atom-10\" d=\"M 531.6,104.3 L 537.2,108.1\" style=\"fill:none;fill-rule:evenodd;stroke:#000000;stroke-width:2.0px;stroke-linecap:butt;stroke-linejoin:miter;stroke-opacity:1\"/>\n",
              "<path class=\"bond-9 atom-9 atom-10\" d=\"M 533.0,102.3 L 538.6,106.1\" style=\"fill:none;fill-rule:evenodd;stroke:#000000;stroke-width:2.0px;stroke-linecap:butt;stroke-linejoin:miter;stroke-opacity:1\"/>\n",
              "<path class=\"bond-10 atom-9 atom-11\" d=\"M 524.4,104.7 L 521.3,109.1\" style=\"fill:none;fill-rule:evenodd;stroke:#000000;stroke-width:2.0px;stroke-linecap:butt;stroke-linejoin:miter;stroke-opacity:1\"/>\n",
              "<path class=\"bond-10 atom-9 atom-11\" d=\"M 526.4,106.1 L 523.4,110.5\" style=\"fill:none;fill-rule:evenodd;stroke:#000000;stroke-width:2.0px;stroke-linecap:butt;stroke-linejoin:miter;stroke-opacity:1\"/>\n",
              "<path class=\"bond-11 atom-9 atom-12\" d=\"M 531.7,96.2 L 534.7,91.9\" style=\"fill:none;fill-rule:evenodd;stroke:#000000;stroke-width:2.0px;stroke-linecap:butt;stroke-linejoin:miter;stroke-opacity:1\"/>\n",
              "<path class=\"bond-12 atom-8 atom-13\" d=\"M 515.0,91.3 L 500.0,98.5\" style=\"fill:none;fill-rule:evenodd;stroke:#000000;stroke-width:2.0px;stroke-linecap:butt;stroke-linejoin:miter;stroke-opacity:1\"/>\n",
              "<path class=\"bond-12 atom-8 atom-13\" d=\"M 512.6,89.7 L 500.2,95.6\" style=\"fill:none;fill-rule:evenodd;stroke:#000000;stroke-width:2.0px;stroke-linecap:butt;stroke-linejoin:miter;stroke-opacity:1\"/>\n",
              "<path class=\"bond-13 atom-13 atom-3\" d=\"M 500.0,98.5 L 486.4,89.1\" style=\"fill:none;fill-rule:evenodd;stroke:#000000;stroke-width:2.0px;stroke-linecap:butt;stroke-linejoin:miter;stroke-opacity:1\"/>\n",
              "<path d=\"M 471.4,96.8 L 471.4,96.2 L 472.1,95.8\" style=\"fill:none;stroke:#000000;stroke-width:2.0px;stroke-linecap:butt;stroke-linejoin:miter;stroke-opacity:1;\"/>\n",
              "<path d=\"M 487.6,73.4 L 487.7,72.5 L 488.4,72.2\" style=\"fill:none;stroke:#000000;stroke-width:2.0px;stroke-linecap:butt;stroke-linejoin:miter;stroke-opacity:1;\"/>\n",
              "<path d=\"M 501.9,65.8 L 502.6,65.4 L 503.3,65.9\" style=\"fill:none;stroke:#000000;stroke-width:2.0px;stroke-linecap:butt;stroke-linejoin:miter;stroke-opacity:1;\"/>\n",
              "<path d=\"M 500.7,98.1 L 500.0,98.5 L 499.3,98.0\" style=\"fill:none;stroke:#000000;stroke-width:2.0px;stroke-linecap:butt;stroke-linejoin:miter;stroke-opacity:1;\"/>\n",
              "<path class=\"atom-0\" d=\"M 455.6 86.8 Q 455.6 85.7, 456.2 85.0 Q 456.7 84.4, 457.8 84.4 Q 458.8 84.4, 459.4 85.0 Q 459.9 85.7, 459.9 86.8 Q 459.9 87.9, 459.3 88.6 Q 458.8 89.2, 457.8 89.2 Q 456.7 89.2, 456.2 88.6 Q 455.6 87.9, 455.6 86.8 M 457.8 88.7 Q 458.5 88.7, 458.9 88.2 Q 459.2 87.7, 459.2 86.8 Q 459.2 85.9, 458.9 85.4 Q 458.5 84.9, 457.8 84.9 Q 457.0 84.9, 456.7 85.4 Q 456.3 85.9, 456.3 86.8 Q 456.3 87.7, 456.7 88.2 Q 457.0 88.7, 457.8 88.7 \" fill=\"#000000\"/>\n",
              "<path class=\"atom-2\" d=\"M 467.9 112.7 Q 467.9 111.6, 468.5 110.9 Q 469.0 110.3, 470.1 110.3 Q 471.1 110.3, 471.7 110.9 Q 472.2 111.6, 472.2 112.7 Q 472.2 113.8, 471.7 114.5 Q 471.1 115.1, 470.1 115.1 Q 469.1 115.1, 468.5 114.5 Q 467.9 113.8, 467.9 112.7 M 470.1 114.6 Q 470.8 114.6, 471.2 114.1 Q 471.6 113.6, 471.6 112.7 Q 471.6 111.8, 471.2 111.3 Q 470.8 110.8, 470.1 110.8 Q 469.4 110.8, 469.0 111.3 Q 468.6 111.8, 468.6 112.7 Q 468.6 113.6, 469.0 114.1 Q 469.4 114.6, 470.1 114.6 \" fill=\"#000000\"/>\n",
              "<path class=\"atom-2\" d=\"M 473.0 110.4 L 473.6 110.4 L 473.6 112.4 L 476.0 112.4 L 476.0 110.4 L 476.6 110.4 L 476.6 115.1 L 476.0 115.1 L 476.0 112.9 L 473.6 112.9 L 473.6 115.1 L 473.0 115.1 L 473.0 110.4 \" fill=\"#000000\"/>\n",
              "<path class=\"atom-7\" d=\"M 529.4 67.9 Q 529.4 66.7, 530.0 66.1 Q 530.5 65.5, 531.6 65.5 Q 532.5 65.5, 533.0 66.2 L 532.6 66.5 Q 532.2 66.0, 531.6 66.0 Q 530.8 66.0, 530.5 66.5 Q 530.1 67.0, 530.1 67.9 Q 530.1 68.8, 530.5 69.3 Q 530.9 69.7, 531.6 69.7 Q 532.1 69.7, 532.7 69.4 L 532.9 69.9 Q 532.7 70.1, 532.3 70.2 Q 531.9 70.3, 531.5 70.3 Q 530.5 70.3, 530.0 69.7 Q 529.4 69.0, 529.4 67.9 \" fill=\"#000000\"/>\n",
              "<path class=\"atom-7\" d=\"M 533.5 65.2 L 534.1 65.2 L 534.1 70.2 L 533.5 70.2 L 533.5 65.2 \" fill=\"#000000\"/>\n",
              "<path class=\"atom-9\" d=\"M 527.3 102.3 Q 527.3 102.4, 527.5 102.4 Q 527.8 102.5, 528.0 102.6 Q 528.2 102.7, 528.5 102.7 Q 528.9 102.7, 529.2 102.4 Q 529.4 102.2, 529.4 101.8 Q 529.4 101.6, 529.3 101.4 Q 529.2 101.3, 529.0 101.2 Q 528.8 101.1, 528.5 101.0 Q 528.0 100.9, 527.8 100.8 Q 527.5 100.6, 527.4 100.4 Q 527.2 100.1, 527.2 99.7 Q 527.2 99.1, 527.6 98.8 Q 528.0 98.4, 528.8 98.4 Q 529.3 98.4, 530.0 98.6 L 529.8 99.2 Q 529.2 98.9, 528.8 98.9 Q 528.4 98.9, 528.1 99.1 Q 527.9 99.3, 527.9 99.6 Q 527.9 99.9, 528.0 100.0 Q 528.1 100.2, 528.3 100.3 Q 528.5 100.4, 528.8 100.5 Q 529.2 100.6, 529.5 100.7 Q 529.7 100.9, 529.9 101.1 Q 530.1 101.4, 530.1 101.8 Q 530.1 102.5, 529.7 102.8 Q 529.2 103.2, 528.5 103.2 Q 528.1 103.2, 527.8 103.1 Q 527.5 103.0, 527.1 102.9 L 527.3 102.3 \" fill=\"#000000\"/>\n",
              "<path class=\"atom-10\" d=\"M 540.1 110.1 Q 540.1 109.0, 540.6 108.4 Q 541.2 107.7, 542.2 107.7 Q 543.3 107.7, 543.8 108.4 Q 544.4 109.0, 544.4 110.1 Q 544.4 111.3, 543.8 111.9 Q 543.3 112.6, 542.2 112.6 Q 541.2 112.6, 540.6 111.9 Q 540.1 111.3, 540.1 110.1 M 542.2 112.0 Q 543.0 112.0, 543.3 111.6 Q 543.7 111.1, 543.7 110.1 Q 543.7 109.2, 543.3 108.7 Q 543.0 108.3, 542.2 108.3 Q 541.5 108.3, 541.1 108.7 Q 540.8 109.2, 540.8 110.1 Q 540.8 111.1, 541.1 111.6 Q 541.5 112.0, 542.2 112.0 \" fill=\"#000000\"/>\n",
              "<path class=\"atom-11\" d=\"M 517.1 114.4 Q 517.1 113.3, 517.6 112.6 Q 518.2 112.0, 519.2 112.0 Q 520.2 112.0, 520.8 112.6 Q 521.4 113.3, 521.4 114.4 Q 521.4 115.5, 520.8 116.2 Q 520.2 116.8, 519.2 116.8 Q 518.2 116.8, 517.6 116.2 Q 517.1 115.5, 517.1 114.4 M 519.2 116.3 Q 519.9 116.3, 520.3 115.8 Q 520.7 115.3, 520.7 114.4 Q 520.7 113.5, 520.3 113.0 Q 519.9 112.5, 519.2 112.5 Q 518.5 112.5, 518.1 113.0 Q 517.7 113.5, 517.7 114.4 Q 517.7 115.3, 518.1 115.8 Q 518.5 116.3, 519.2 116.3 \" fill=\"#000000\"/>\n",
              "<path class=\"atom-12\" d=\"M 536.2 87.2 Q 536.2 86.1, 536.7 85.5 Q 537.3 84.9, 538.3 84.9 Q 539.3 84.9, 539.8 85.5 L 539.4 85.9 Q 539.0 85.4, 538.3 85.4 Q 537.6 85.4, 537.2 85.9 Q 536.9 86.3, 536.9 87.2 Q 536.9 88.2, 537.2 88.6 Q 537.6 89.1, 538.4 89.1 Q 538.9 89.1, 539.5 88.8 L 539.7 89.3 Q 539.5 89.5, 539.1 89.6 Q 538.7 89.7, 538.3 89.7 Q 537.3 89.7, 536.7 89.0 Q 536.2 88.4, 536.2 87.2 \" fill=\"#000000\"/>\n",
              "<path class=\"atom-12\" d=\"M 540.3 84.6 L 540.9 84.6 L 540.9 89.6 L 540.3 89.6 L 540.3 84.6 \" fill=\"#000000\"/>\n",
              "<path class=\"legend\" d=\"M 463.8 177.7 Q 465.8 177.7, 466.7 178.6 Q 467.7 179.4, 467.7 181.0 Q 467.7 182.6, 466.7 183.5 Q 465.7 184.4, 463.8 184.4 L 462.0 184.4 L 462.0 189.0 L 460.5 189.0 L 460.5 177.7 L 463.8 177.7 M 463.8 183.1 Q 464.9 183.1, 465.5 182.6 Q 466.1 182.0, 466.1 181.0 Q 466.1 180.0, 465.5 179.5 Q 464.9 179.0, 463.8 179.0 L 462.0 179.0 L 462.0 183.1 L 463.8 183.1 \" fill=\"#000000\"/>\n",
              "<path class=\"legend\" d=\"M 473.1 177.2 L 474.4 177.2 L 470.3 190.0 L 469.0 190.0 L 473.1 177.2 \" fill=\"#000000\"/>\n",
              "<path class=\"legend\" d=\"M 475.9 187.3 Q 476.1 187.3, 476.6 187.5 Q 477.1 187.8, 477.7 187.9 Q 478.3 188.0, 478.9 188.0 Q 479.9 188.0, 480.5 187.5 Q 481.2 187.0, 481.2 186.1 Q 481.2 185.5, 480.9 185.1 Q 480.5 184.7, 480.1 184.5 Q 479.6 184.3, 478.8 184.0 Q 477.8 183.7, 477.2 183.4 Q 476.6 183.2, 476.1 182.5 Q 475.7 181.9, 475.7 180.9 Q 475.7 179.5, 476.7 178.6 Q 477.7 177.7, 479.6 177.7 Q 480.9 177.7, 482.4 178.4 L 482.0 179.6 Q 480.7 179.0, 479.6 179.0 Q 478.5 179.0, 477.9 179.5 Q 477.3 179.9, 477.3 180.7 Q 477.3 181.3, 477.6 181.7 Q 478.0 182.1, 478.4 182.3 Q 478.9 182.5, 479.6 182.7 Q 480.7 183.0, 481.3 183.4 Q 481.9 183.7, 482.3 184.3 Q 482.8 185.0, 482.8 186.1 Q 482.8 187.6, 481.7 188.5 Q 480.7 189.3, 478.9 189.3 Q 477.9 189.3, 477.1 189.1 Q 476.4 188.9, 475.5 188.5 L 475.9 187.3 \" fill=\"#000000\"/>\n",
              "<path class=\"legend\" d=\"\" fill=\"#000000\"/>\n",
              "<path class=\"legend\" d=\"M 489.9 177.7 L 491.4 177.7 L 491.4 182.5 L 497.2 182.5 L 497.2 177.7 L 498.8 177.7 L 498.8 189.0 L 497.2 189.0 L 497.2 183.8 L 491.4 183.8 L 491.4 189.0 L 489.9 189.0 L 489.9 177.7 \" fill=\"#000000\"/>\n",
              "<path class=\"legend\" d=\"M 500.7 186.8 Q 500.7 185.5, 501.7 184.8 Q 502.8 184.0, 504.7 184.0 L 505.9 184.0 L 505.9 183.7 Q 505.9 182.7, 505.5 182.3 Q 505.1 181.8, 504.1 181.8 Q 503.4 181.8, 502.9 182.0 Q 502.4 182.1, 501.6 182.4 L 501.1 181.4 Q 502.6 180.7, 504.1 180.7 Q 505.8 180.7, 506.6 181.4 Q 507.4 182.1, 507.4 183.8 L 507.4 189.0 L 506.3 189.0 Q 506.3 189.0, 506.2 188.7 Q 506.2 188.5, 506.1 188.1 Q 504.9 189.2, 503.4 189.2 Q 502.1 189.2, 501.4 188.6 Q 500.7 187.9, 500.7 186.8 M 502.2 186.8 Q 502.2 187.4, 502.6 187.7 Q 502.9 188.0, 503.7 188.0 Q 504.3 188.0, 504.9 187.7 Q 505.5 187.4, 505.9 186.9 L 505.9 185.2 L 504.8 185.2 Q 503.5 185.2, 502.8 185.6 Q 502.2 186.0, 502.2 186.8 \" fill=\"#000000\"/>\n",
              "<path class=\"legend\" d=\"M 509.2 176.9 L 510.7 176.9 L 510.7 189.0 L 509.2 189.0 L 509.2 176.9 \" fill=\"#000000\"/>\n",
              "<path class=\"legend\" d=\"M 512.6 177.7 L 514.1 177.7 L 514.1 179.1 L 512.6 179.1 L 512.6 177.7 M 512.6 180.8 L 514.1 180.8 L 514.1 189.0 L 512.6 189.0 L 512.6 180.8 \" fill=\"#000000\"/>\n",
              "<path class=\"legend\" d=\"M 523.5 176.9 L 523.5 189.0 L 522.2 189.0 L 522.0 188.0 Q 521.1 189.2, 519.6 189.2 Q 517.9 189.2, 516.9 188.1 Q 516.0 187.0, 516.0 185.0 Q 516.0 183.0, 517.1 181.8 Q 518.2 180.7, 520.2 180.7 Q 521.1 180.7, 521.9 180.9 L 521.9 176.9 L 523.5 176.9 M 519.7 188.0 Q 520.5 188.0, 521.1 187.5 Q 521.7 187.1, 521.9 186.2 L 521.9 182.1 Q 521.1 181.8, 520.2 181.8 Q 519.0 181.8, 518.2 182.7 Q 517.5 183.5, 517.5 185.0 Q 517.5 186.4, 518.1 187.2 Q 518.7 188.0, 519.7 188.0 \" fill=\"#000000\"/>\n",
              "<path class=\"legend\" d=\"M 525.3 184.9 Q 525.3 182.9, 526.3 181.8 Q 527.3 180.7, 529.1 180.7 Q 530.9 180.7, 531.7 181.7 Q 532.6 182.8, 532.6 184.8 L 532.6 185.1 L 526.8 185.1 Q 526.8 186.5, 527.5 187.2 Q 528.1 188.0, 529.3 188.0 Q 529.9 188.0, 530.5 187.8 Q 531.1 187.7, 531.8 187.3 L 532.2 188.4 Q 531.4 188.8, 530.7 189.0 Q 529.9 189.2, 529.2 189.2 Q 527.3 189.2, 526.3 188.0 Q 525.3 186.9, 525.3 184.9 M 529.1 181.8 Q 528.2 181.8, 527.6 182.4 Q 527.0 182.9, 526.9 184.0 L 531.0 184.0 Q 530.9 182.9, 530.4 182.4 Q 530.0 181.8, 529.1 181.8 \" fill=\"#000000\"/>\n",
              "<path class=\"legend\" d=\"M 534.2 187.3 Q 534.9 187.6, 535.4 187.8 Q 535.9 187.9, 536.5 187.9 Q 537.2 187.9, 537.6 187.6 Q 538.0 187.3, 538.0 186.7 Q 538.0 186.4, 537.8 186.1 Q 537.6 185.9, 537.3 185.8 Q 537.1 185.7, 536.3 185.4 Q 536.2 185.4, 535.5 185.1 Q 534.8 184.9, 534.4 184.3 Q 534.0 183.8, 534.0 183.0 Q 534.0 182.0, 534.7 181.3 Q 535.5 180.7, 537.0 180.7 Q 537.6 180.7, 538.2 180.8 Q 538.7 180.9, 539.3 181.2 L 538.9 182.4 Q 538.4 182.2, 537.9 182.0 Q 537.5 181.9, 537.0 181.9 Q 536.2 181.9, 535.9 182.2 Q 535.5 182.5, 535.5 183.0 Q 535.5 183.4, 535.8 183.6 Q 536.1 183.9, 536.8 184.1 Q 536.9 184.1, 537.1 184.2 L 537.5 184.4 Q 538.1 184.6, 538.5 184.8 Q 538.9 185.0, 539.2 185.5 Q 539.5 185.9, 539.5 186.7 Q 539.5 187.9, 538.7 188.5 Q 537.8 189.2, 536.5 189.2 Q 535.7 189.2, 535.0 189.0 Q 534.4 188.8, 533.7 188.5 L 534.2 187.3 \" fill=\"#000000\"/>\n",
              "<path class=\"bond-0 atom-0 atom-1\" d=\"M 91.0,253.8 L 94.0,255.7 L 85.5,269.1 L 83.6,268.8 L 82.5,267.2 Z\" style=\"fill:#A1002419;fill-rule:evenodd;fill-opacity:0.1;stroke:#A1002419;stroke-width:0.0px;stroke-linecap:butt;stroke-linejoin:miter;stroke-opacity:0.1;\"/>\n",
              "<path class=\"bond-1 atom-1 atom-2\" d=\"M 83.6,268.8 L 85.5,269.1 L 89.5,286.2 L 85.2,283.6 L 82.3,270.9 Z\" style=\"fill:#A1002419;fill-rule:evenodd;fill-opacity:0.1;stroke:#A1002419;stroke-width:0.0px;stroke-linecap:butt;stroke-linejoin:miter;stroke-opacity:0.1;\"/>\n",
              "<path class=\"bond-29 atom-1 atom-22\" d=\"M 82.5,267.2 L 83.6,268.8 L 82.3,270.9 L 69.6,273.8 L 65.4,271.1 Z\" style=\"fill:#A1002419;fill-rule:evenodd;fill-opacity:0.1;stroke:#A1002419;stroke-width:0.0px;stroke-linecap:butt;stroke-linejoin:miter;stroke-opacity:0.1;\"/>\n",
              "<path class=\"bond-13 atom-2 atom-14\" d=\"M 85.2,283.6 L 89.5,286.2 L 69.9,290.7 L 72.5,286.5 Z\" style=\"fill:#A1002419;fill-rule:evenodd;fill-opacity:0.1;stroke:#A1002419;stroke-width:0.0px;stroke-linecap:butt;stroke-linejoin:miter;stroke-opacity:0.1;\"/>\n",
              "<path class=\"bond-21 atom-14 atom-22\" d=\"M 65.4,271.1 L 69.6,273.8 L 72.5,286.5 L 69.9,290.7 Z\" style=\"fill:#A1002419;fill-rule:evenodd;fill-opacity:0.1;stroke:#A1002419;stroke-width:0.0px;stroke-linecap:butt;stroke-linejoin:miter;stroke-opacity:0.1;\"/>\n",
              "<ellipse cx=\"92.5\" cy=\"254.8\" rx=\"3.3\" ry=\"3.4\" class=\"atom-0\" style=\"fill:#A1002419;fill-rule:evenodd;stroke:#A1002419;stroke-width:1.0px;stroke-linecap:butt;stroke-linejoin:miter;stroke-opacity:1\"/>\n",
              "<ellipse cx=\"83.6\" cy=\"268.8\" rx=\"3.3\" ry=\"3.3\" class=\"atom-1\" style=\"fill:#A1002419;fill-rule:evenodd;stroke:#A1002419;stroke-width:1.0px;stroke-linecap:butt;stroke-linejoin:miter;stroke-opacity:1\"/>\n",
              "<ellipse cx=\"87.3\" cy=\"284.9\" rx=\"3.3\" ry=\"3.3\" class=\"atom-2\" style=\"fill:#A1002419;fill-rule:evenodd;stroke:#A1002419;stroke-width:1.0px;stroke-linecap:butt;stroke-linejoin:miter;stroke-opacity:1\"/>\n",
              "<ellipse cx=\"71.2\" cy=\"288.6\" rx=\"3.3\" ry=\"3.3\" class=\"atom-14\" style=\"fill:#A1002419;fill-rule:evenodd;stroke:#A1002419;stroke-width:1.0px;stroke-linecap:butt;stroke-linejoin:miter;stroke-opacity:1\"/>\n",
              "<ellipse cx=\"67.5\" cy=\"272.4\" rx=\"3.3\" ry=\"3.3\" class=\"atom-22\" style=\"fill:#A1002419;fill-rule:evenodd;stroke:#A1002419;stroke-width:1.0px;stroke-linecap:butt;stroke-linejoin:miter;stroke-opacity:1\"/>\n",
              "<path class=\"bond-0 atom-0 atom-1\" d=\"M 90.6,260.0 L 84.0,270.5\" style=\"fill:none;fill-rule:evenodd;stroke:#000000;stroke-width:2.0px;stroke-linecap:butt;stroke-linejoin:miter;stroke-opacity:1\"/>\n",
              "<path class=\"bond-0 atom-0 atom-1\" d=\"M 88.5,258.7 L 81.9,269.1\" style=\"fill:none;fill-rule:evenodd;stroke:#000000;stroke-width:2.0px;stroke-linecap:butt;stroke-linejoin:miter;stroke-opacity:1\"/>\n",
              "<path class=\"bond-1 atom-1 atom-2\" d=\"M 83.6,268.8 L 87.3,284.9\" style=\"fill:none;fill-rule:evenodd;stroke:#000000;stroke-width:2.0px;stroke-linecap:butt;stroke-linejoin:miter;stroke-opacity:1\"/>\n",
              "<path class=\"bond-2 atom-2 atom-3\" d=\"M 90.0,286.9 L 90.3,286.4\" style=\"fill:none;fill-rule:evenodd;stroke:#000000;stroke-width:1.0px;stroke-linecap:butt;stroke-linejoin:miter;stroke-opacity:1\"/>\n",
              "<path class=\"bond-2 atom-2 atom-3\" d=\"M 92.6,289.0 L 93.3,287.9\" style=\"fill:none;fill-rule:evenodd;stroke:#000000;stroke-width:1.0px;stroke-linecap:butt;stroke-linejoin:miter;stroke-opacity:1\"/>\n",
              "<path class=\"bond-2 atom-2 atom-3\" d=\"M 95.2,291.0 L 96.2,289.4\" style=\"fill:none;fill-rule:evenodd;stroke:#000000;stroke-width:1.0px;stroke-linecap:butt;stroke-linejoin:miter;stroke-opacity:1\"/>\n",
              "<path class=\"bond-2 atom-2 atom-3\" d=\"M 97.9,293.0 L 99.2,290.9\" style=\"fill:none;fill-rule:evenodd;stroke:#000000;stroke-width:1.0px;stroke-linecap:butt;stroke-linejoin:miter;stroke-opacity:1\"/>\n",
              "<path class=\"bond-3 atom-3 atom-4\" d=\"M 101.4,293.7 L 116.0,286.0\" style=\"fill:none;fill-rule:evenodd;stroke:#000000;stroke-width:2.0px;stroke-linecap:butt;stroke-linejoin:miter;stroke-opacity:1\"/>\n",
              "<path class=\"bond-4 atom-4 atom-5\" d=\"M 116.0,286.0 L 130.0,294.8\" style=\"fill:none;fill-rule:evenodd;stroke:#000000;stroke-width:2.0px;stroke-linecap:butt;stroke-linejoin:miter;stroke-opacity:1\"/>\n",
              "<path class=\"bond-5 atom-5 atom-6\" d=\"M 130.0,294.8 L 130.8,306.3 L 128.4,306.2 Z\" style=\"fill:#000000;fill-rule:evenodd;fill-opacity:1;stroke:#000000;stroke-width:0.5px;stroke-linecap:butt;stroke-linejoin:miter;stroke-opacity:1;\"/>\n",
              "<path class=\"bond-6 atom-5 atom-7\" d=\"M 130.0,294.8 L 144.7,287.0\" style=\"fill:none;fill-rule:evenodd;stroke:#000000;stroke-width:2.0px;stroke-linecap:butt;stroke-linejoin:miter;stroke-opacity:1\"/>\n",
              "<path class=\"bond-7 atom-7 atom-8\" d=\"M 144.7,287.0 L 158.7,295.9\" style=\"fill:none;fill-rule:evenodd;stroke:#000000;stroke-width:2.0px;stroke-linecap:butt;stroke-linejoin:miter;stroke-opacity:1\"/>\n",
              "<path class=\"bond-7 atom-7 atom-8\" d=\"M 147.2,285.7 L 158.8,293.0\" style=\"fill:none;fill-rule:evenodd;stroke:#000000;stroke-width:2.0px;stroke-linecap:butt;stroke-linejoin:miter;stroke-opacity:1\"/>\n",
              "<path class=\"bond-8 atom-8 atom-9\" d=\"M 158.7,295.9 L 173.3,288.1\" style=\"fill:none;fill-rule:evenodd;stroke:#000000;stroke-width:2.0px;stroke-linecap:butt;stroke-linejoin:miter;stroke-opacity:1\"/>\n",
              "<path class=\"bond-9 atom-9 atom-10\" d=\"M 173.3,288.1 L 174.0,271.6\" style=\"fill:none;fill-rule:evenodd;stroke:#000000;stroke-width:2.0px;stroke-linecap:butt;stroke-linejoin:miter;stroke-opacity:1\"/>\n",
              "<path class=\"bond-9 atom-9 atom-10\" d=\"M 170.9,286.6 L 171.4,272.9\" style=\"fill:none;fill-rule:evenodd;stroke:#000000;stroke-width:2.0px;stroke-linecap:butt;stroke-linejoin:miter;stroke-opacity:1\"/>\n",
              "<path class=\"bond-10 atom-10 atom-11\" d=\"M 174.0,271.6 L 185.0,265.7\" style=\"fill:none;fill-rule:evenodd;stroke:#000000;stroke-width:2.0px;stroke-linecap:butt;stroke-linejoin:miter;stroke-opacity:1\"/>\n",
              "<path class=\"bond-11 atom-10 atom-12\" d=\"M 174.0,271.6 L 159.9,262.8\" style=\"fill:none;fill-rule:evenodd;stroke:#000000;stroke-width:2.0px;stroke-linecap:butt;stroke-linejoin:miter;stroke-opacity:1\"/>\n",
              "<path class=\"bond-12 atom-12 atom-13\" d=\"M 159.9,262.8 L 145.3,270.5\" style=\"fill:none;fill-rule:evenodd;stroke:#000000;stroke-width:2.0px;stroke-linecap:butt;stroke-linejoin:miter;stroke-opacity:1\"/>\n",
              "<path class=\"bond-12 atom-12 atom-13\" d=\"M 159.8,265.6 L 147.7,272.0\" style=\"fill:none;fill-rule:evenodd;stroke:#000000;stroke-width:2.0px;stroke-linecap:butt;stroke-linejoin:miter;stroke-opacity:1\"/>\n",
              "<path class=\"bond-13 atom-2 atom-14\" d=\"M 87.3,284.9 L 71.2,288.6\" style=\"fill:none;fill-rule:evenodd;stroke:#000000;stroke-width:2.0px;stroke-linecap:butt;stroke-linejoin:miter;stroke-opacity:1\"/>\n",
              "<path class=\"bond-14 atom-14 atom-15\" d=\"M 71.2,288.6 L 63.1,303.9 L 62.4,302.6 Z\" style=\"fill:#000000;fill-rule:evenodd;fill-opacity:1;stroke:#000000;stroke-width:0.5px;stroke-linecap:butt;stroke-linejoin:miter;stroke-opacity:1;\"/>\n",
              "<path class=\"bond-14 atom-14 atom-15\" d=\"M 71.2,288.6 L 62.4,302.6 L 60.9,302.6 Z\" style=\"fill:#000000;fill-rule:evenodd;fill-opacity:1;stroke:#000000;stroke-width:0.5px;stroke-linecap:butt;stroke-linejoin:miter;stroke-opacity:1;\"/>\n",
              "<path class=\"bond-15 atom-15 atom-16\" d=\"M 62.4,302.6 L 45.8,302.0\" style=\"fill:none;fill-rule:evenodd;stroke:#000000;stroke-width:2.0px;stroke-linecap:butt;stroke-linejoin:miter;stroke-opacity:1\"/>\n",
              "<path class=\"bond-15 atom-15 atom-16\" d=\"M 60.9,305.0 L 47.2,304.5\" style=\"fill:none;fill-rule:evenodd;stroke:#000000;stroke-width:2.0px;stroke-linecap:butt;stroke-linejoin:miter;stroke-opacity:1\"/>\n",
              "<path class=\"bond-16 atom-16 atom-17\" d=\"M 45.8,302.0 L 37.0,316.0\" style=\"fill:none;fill-rule:evenodd;stroke:#000000;stroke-width:2.0px;stroke-linecap:butt;stroke-linejoin:miter;stroke-opacity:1\"/>\n",
              "<path class=\"bond-17 atom-17 atom-18\" d=\"M 37.0,316.0 L 44.8,330.7\" style=\"fill:none;fill-rule:evenodd;stroke:#000000;stroke-width:2.0px;stroke-linecap:butt;stroke-linejoin:miter;stroke-opacity:1\"/>\n",
              "<path class=\"bond-17 atom-17 atom-18\" d=\"M 39.9,316.1 L 46.3,328.2\" style=\"fill:none;fill-rule:evenodd;stroke:#000000;stroke-width:2.0px;stroke-linecap:butt;stroke-linejoin:miter;stroke-opacity:1\"/>\n",
              "<path class=\"bond-18 atom-18 atom-19\" d=\"M 44.8,330.7 L 38.8,340.1\" style=\"fill:none;fill-rule:evenodd;stroke:#000000;stroke-width:2.0px;stroke-linecap:butt;stroke-linejoin:miter;stroke-opacity:1\"/>\n",
              "<path class=\"bond-19 atom-18 atom-20\" d=\"M 44.8,330.7 L 61.3,331.3\" style=\"fill:none;fill-rule:evenodd;stroke:#000000;stroke-width:2.0px;stroke-linecap:butt;stroke-linejoin:miter;stroke-opacity:1\"/>\n",
              "<path class=\"bond-20 atom-20 atom-21\" d=\"M 61.3,331.3 L 70.1,317.3\" style=\"fill:none;fill-rule:evenodd;stroke:#000000;stroke-width:2.0px;stroke-linecap:butt;stroke-linejoin:miter;stroke-opacity:1\"/>\n",
              "<path class=\"bond-20 atom-20 atom-21\" d=\"M 60.0,328.8 L 67.3,317.2\" style=\"fill:none;fill-rule:evenodd;stroke:#000000;stroke-width:2.0px;stroke-linecap:butt;stroke-linejoin:miter;stroke-opacity:1\"/>\n",
              "<path class=\"bond-21 atom-14 atom-22\" d=\"M 71.2,288.6 L 68.5,277.0\" style=\"fill:none;fill-rule:evenodd;stroke:#000000;stroke-width:2.0px;stroke-linecap:butt;stroke-linejoin:miter;stroke-opacity:1\"/>\n",
              "<path class=\"bond-22 atom-22 atom-23\" d=\"M 63.5,269.9 L 53.5,263.6\" style=\"fill:none;fill-rule:evenodd;stroke:#000000;stroke-width:2.0px;stroke-linecap:butt;stroke-linejoin:miter;stroke-opacity:1\"/>\n",
              "<path class=\"bond-23 atom-23 atom-24\" d=\"M 53.5,263.6 L 54.1,247.1\" style=\"fill:none;fill-rule:evenodd;stroke:#000000;stroke-width:2.0px;stroke-linecap:butt;stroke-linejoin:miter;stroke-opacity:1\"/>\n",
              "<path class=\"bond-23 atom-23 atom-24\" d=\"M 51.0,262.1 L 51.6,248.4\" style=\"fill:none;fill-rule:evenodd;stroke:#000000;stroke-width:2.0px;stroke-linecap:butt;stroke-linejoin:miter;stroke-opacity:1\"/>\n",
              "<path class=\"bond-24 atom-24 atom-25\" d=\"M 54.1,247.1 L 40.1,238.3\" style=\"fill:none;fill-rule:evenodd;stroke:#000000;stroke-width:2.0px;stroke-linecap:butt;stroke-linejoin:miter;stroke-opacity:1\"/>\n",
              "<path class=\"bond-25 atom-25 atom-26\" d=\"M 40.1,238.3 L 25.4,246.0\" style=\"fill:none;fill-rule:evenodd;stroke:#000000;stroke-width:2.0px;stroke-linecap:butt;stroke-linejoin:miter;stroke-opacity:1\"/>\n",
              "<path class=\"bond-25 atom-25 atom-26\" d=\"M 40.0,241.1 L 27.9,247.5\" style=\"fill:none;fill-rule:evenodd;stroke:#000000;stroke-width:2.0px;stroke-linecap:butt;stroke-linejoin:miter;stroke-opacity:1\"/>\n",
              "<path class=\"bond-26 atom-26 atom-27\" d=\"M 25.4,246.0 L 15.0,239.5\" style=\"fill:none;fill-rule:evenodd;stroke:#000000;stroke-width:2.0px;stroke-linecap:butt;stroke-linejoin:miter;stroke-opacity:1\"/>\n",
              "<path class=\"bond-27 atom-26 atom-28\" d=\"M 25.4,246.0 L 24.8,262.6\" style=\"fill:none;fill-rule:evenodd;stroke:#000000;stroke-width:2.0px;stroke-linecap:butt;stroke-linejoin:miter;stroke-opacity:1\"/>\n",
              "<path class=\"bond-28 atom-28 atom-29\" d=\"M 24.8,262.6 L 38.8,271.4\" style=\"fill:none;fill-rule:evenodd;stroke:#000000;stroke-width:2.0px;stroke-linecap:butt;stroke-linejoin:miter;stroke-opacity:1\"/>\n",
              "<path class=\"bond-28 atom-28 atom-29\" d=\"M 27.3,261.2 L 38.9,268.5\" style=\"fill:none;fill-rule:evenodd;stroke:#000000;stroke-width:2.0px;stroke-linecap:butt;stroke-linejoin:miter;stroke-opacity:1\"/>\n",
              "<path class=\"bond-29 atom-22 atom-1\" d=\"M 71.5,271.5 L 83.6,268.8\" style=\"fill:none;fill-rule:evenodd;stroke:#000000;stroke-width:2.0px;stroke-linecap:butt;stroke-linejoin:miter;stroke-opacity:1\"/>\n",
              "<path class=\"bond-30 atom-29 atom-23\" d=\"M 38.8,271.4 L 53.5,263.6\" style=\"fill:none;fill-rule:evenodd;stroke:#000000;stroke-width:2.0px;stroke-linecap:butt;stroke-linejoin:miter;stroke-opacity:1\"/>\n",
              "<path class=\"bond-31 atom-13 atom-7\" d=\"M 145.3,270.5 L 144.7,287.0\" style=\"fill:none;fill-rule:evenodd;stroke:#000000;stroke-width:2.0px;stroke-linecap:butt;stroke-linejoin:miter;stroke-opacity:1\"/>\n",
              "<path class=\"bond-32 atom-21 atom-15\" d=\"M 70.1,317.3 L 62.4,302.6\" style=\"fill:none;fill-rule:evenodd;stroke:#000000;stroke-width:2.0px;stroke-linecap:butt;stroke-linejoin:miter;stroke-opacity:1\"/>\n",
              "<path d=\"M 83.8,269.6 L 83.6,268.8 L 83.0,268.9\" style=\"fill:none;stroke:#000000;stroke-width:2.0px;stroke-linecap:butt;stroke-linejoin:miter;stroke-opacity:1;\"/>\n",
              "<path d=\"M 87.2,284.1 L 87.3,284.9 L 86.5,285.1\" style=\"fill:none;stroke:#000000;stroke-width:2.0px;stroke-linecap:butt;stroke-linejoin:miter;stroke-opacity:1;\"/>\n",
              "<path d=\"M 115.3,286.4 L 116.0,286.0 L 116.7,286.4\" style=\"fill:none;stroke:#000000;stroke-width:2.0px;stroke-linecap:butt;stroke-linejoin:miter;stroke-opacity:1;\"/>\n",
              "<path d=\"M 129.3,294.3 L 130.0,294.8 L 130.8,294.4\" style=\"fill:none;stroke:#000000;stroke-width:2.0px;stroke-linecap:butt;stroke-linejoin:miter;stroke-opacity:1;\"/>\n",
              "<path d=\"M 158.0,295.4 L 158.7,295.9 L 159.4,295.5\" style=\"fill:none;stroke:#000000;stroke-width:2.0px;stroke-linecap:butt;stroke-linejoin:miter;stroke-opacity:1;\"/>\n",
              "<path d=\"M 172.6,288.5 L 173.3,288.1 L 173.4,287.3\" style=\"fill:none;stroke:#000000;stroke-width:2.0px;stroke-linecap:butt;stroke-linejoin:miter;stroke-opacity:1;\"/>\n",
              "<path d=\"M 160.6,263.2 L 159.9,262.8 L 159.2,263.1\" style=\"fill:none;stroke:#000000;stroke-width:2.0px;stroke-linecap:butt;stroke-linejoin:miter;stroke-opacity:1;\"/>\n",
              "<path d=\"M 146.0,270.1 L 145.3,270.5 L 145.3,271.3\" style=\"fill:none;stroke:#000000;stroke-width:2.0px;stroke-linecap:butt;stroke-linejoin:miter;stroke-opacity:1;\"/>\n",
              "<path d=\"M 72.0,288.4 L 71.2,288.6 L 71.1,288.0\" style=\"fill:none;stroke:#000000;stroke-width:2.0px;stroke-linecap:butt;stroke-linejoin:miter;stroke-opacity:1;\"/>\n",
              "<path d=\"M 61.5,302.6 L 62.4,302.6 L 62.8,303.4\" style=\"fill:none;stroke:#000000;stroke-width:2.0px;stroke-linecap:butt;stroke-linejoin:miter;stroke-opacity:1;\"/>\n",
              "<path d=\"M 46.7,302.0 L 45.8,302.0 L 45.4,302.7\" style=\"fill:none;stroke:#000000;stroke-width:2.0px;stroke-linecap:butt;stroke-linejoin:miter;stroke-opacity:1;\"/>\n",
              "<path d=\"M 37.5,315.3 L 37.0,316.0 L 37.4,316.8\" style=\"fill:none;stroke:#000000;stroke-width:2.0px;stroke-linecap:butt;stroke-linejoin:miter;stroke-opacity:1;\"/>\n",
              "<path d=\"M 60.5,331.3 L 61.3,331.3 L 61.7,330.6\" style=\"fill:none;stroke:#000000;stroke-width:2.0px;stroke-linecap:butt;stroke-linejoin:miter;stroke-opacity:1;\"/>\n",
              "<path d=\"M 69.7,318.0 L 70.1,317.3 L 69.7,316.5\" style=\"fill:none;stroke:#000000;stroke-width:2.0px;stroke-linecap:butt;stroke-linejoin:miter;stroke-opacity:1;\"/>\n",
              "<path d=\"M 54.1,247.9 L 54.1,247.1 L 53.4,246.6\" style=\"fill:none;stroke:#000000;stroke-width:2.0px;stroke-linecap:butt;stroke-linejoin:miter;stroke-opacity:1;\"/>\n",
              "<path d=\"M 40.8,238.7 L 40.1,238.3 L 39.3,238.7\" style=\"fill:none;stroke:#000000;stroke-width:2.0px;stroke-linecap:butt;stroke-linejoin:miter;stroke-opacity:1;\"/>\n",
              "<path d=\"M 24.8,261.7 L 24.8,262.6 L 25.5,263.0\" style=\"fill:none;stroke:#000000;stroke-width:2.0px;stroke-linecap:butt;stroke-linejoin:miter;stroke-opacity:1;\"/>\n",
              "<path d=\"M 38.1,270.9 L 38.8,271.4 L 39.6,271.0\" style=\"fill:none;stroke:#000000;stroke-width:2.0px;stroke-linecap:butt;stroke-linejoin:miter;stroke-opacity:1;\"/>\n",
              "<path class=\"atom-0\" d=\"M 90.3 254.7 Q 90.3 253.6, 90.9 253.0 Q 91.4 252.4, 92.5 252.4 Q 93.5 252.4, 94.1 253.0 Q 94.6 253.6, 94.6 254.7 Q 94.6 255.9, 94.0 256.5 Q 93.5 257.2, 92.5 257.2 Q 91.4 257.2, 90.9 256.5 Q 90.3 255.9, 90.3 254.7 M 92.5 256.6 Q 93.2 256.6, 93.6 256.2 Q 93.9 255.7, 93.9 254.7 Q 93.9 253.8, 93.6 253.4 Q 93.2 252.9, 92.5 252.9 Q 91.7 252.9, 91.4 253.4 Q 91.0 253.8, 91.0 254.7 Q 91.0 255.7, 91.4 256.2 Q 91.7 256.6, 92.5 256.6 \" fill=\"#000000\"/>\n",
              "<path class=\"atom-6\" d=\"M 127.3 311.4 Q 127.3 310.2, 127.8 309.6 Q 128.4 309.0, 129.4 309.0 Q 130.5 309.0, 131.0 309.6 Q 131.6 310.2, 131.6 311.4 Q 131.6 312.5, 131.0 313.1 Q 130.4 313.8, 129.4 313.8 Q 128.4 313.8, 127.8 313.1 Q 127.3 312.5, 127.3 311.4 M 129.4 313.3 Q 130.1 313.3, 130.5 312.8 Q 130.9 312.3, 130.9 311.4 Q 130.9 310.4, 130.5 310.0 Q 130.1 309.5, 129.4 309.5 Q 128.7 309.5, 128.3 310.0 Q 127.9 310.4, 127.9 311.4 Q 127.9 312.3, 128.3 312.8 Q 128.7 313.3, 129.4 313.3 \" fill=\"#000000\"/>\n",
              "<path class=\"atom-6\" d=\"M 132.3 309.0 L 132.9 309.0 L 132.9 311.0 L 135.3 311.0 L 135.3 309.0 L 136.0 309.0 L 136.0 313.7 L 135.3 313.7 L 135.3 311.5 L 132.9 311.5 L 132.9 313.7 L 132.3 313.7 L 132.3 309.0 \" fill=\"#000000\"/>\n",
              "<path class=\"atom-11\" d=\"M 187.2 261.5 L 190.0 261.5 L 190.0 262.0 L 187.8 262.0 L 187.8 263.4 L 189.8 263.4 L 189.8 264.0 L 187.8 264.0 L 187.8 266.2 L 187.2 266.2 L 187.2 261.5 \" fill=\"#000000\"/>\n",
              "<path class=\"atom-19\" d=\"M 29.2 342.4 L 29.8 342.4 L 29.8 344.4 L 32.2 344.4 L 32.2 342.4 L 32.8 342.4 L 32.8 347.1 L 32.2 347.1 L 32.2 344.9 L 29.8 344.9 L 29.8 347.1 L 29.2 347.1 L 29.2 342.4 \" fill=\"#000000\"/>\n",
              "<path class=\"atom-19\" d=\"M 33.8 344.7 Q 33.8 343.6, 34.3 343.0 Q 34.9 342.3, 35.9 342.3 Q 37.0 342.3, 37.5 343.0 Q 38.1 343.6, 38.1 344.7 Q 38.1 345.9, 37.5 346.5 Q 37.0 347.1, 35.9 347.1 Q 34.9 347.1, 34.3 346.5 Q 33.8 345.9, 33.8 344.7 M 35.9 346.6 Q 36.7 346.6, 37.0 346.1 Q 37.4 345.7, 37.4 344.7 Q 37.4 343.8, 37.0 343.3 Q 36.7 342.9, 35.9 342.9 Q 35.2 342.9, 34.8 343.3 Q 34.5 343.8, 34.5 344.7 Q 34.5 345.7, 34.8 346.1 Q 35.2 346.6, 35.9 346.6 \" fill=\"#000000\"/>\n",
              "<path class=\"atom-22\" d=\"M 66.5 270.1 L 68.0 272.6 Q 68.2 272.8, 68.4 273.3 Q 68.6 273.7, 68.7 273.7 L 68.7 270.1 L 69.3 270.1 L 69.3 274.8 L 68.6 274.8 L 67.0 272.1 Q 66.8 271.8, 66.6 271.4 Q 66.4 271.0, 66.3 270.9 L 66.3 274.8 L 65.7 274.8 L 65.7 270.1 L 66.5 270.1 \" fill=\"#000000\"/>\n",
              "<path class=\"atom-27\" d=\"M 10.0 234.9 L 12.8 234.9 L 12.8 235.4 L 10.6 235.4 L 10.6 236.8 L 12.6 236.8 L 12.6 237.4 L 10.6 237.4 L 10.6 239.5 L 10.0 239.5 L 10.0 234.9 \" fill=\"#000000\"/>\n",
              "<path class=\"legend\" d=\"M 61.4 383.9 Q 62.4 384.2, 63.0 384.8 Q 63.6 385.5, 63.6 386.5 Q 63.6 388.0, 62.5 388.9 Q 61.6 389.8, 59.7 389.8 L 55.9 389.8 L 55.9 378.5 L 59.2 378.5 Q 61.1 378.5, 62.1 379.3 Q 63.1 380.0, 63.1 381.5 Q 63.1 383.2, 61.4 383.9 M 57.4 379.8 L 57.4 383.3 L 59.2 383.3 Q 60.3 383.3, 60.9 382.9 Q 61.5 382.4, 61.5 381.5 Q 61.5 379.8, 59.2 379.8 L 57.4 379.8 M 59.7 388.5 Q 60.8 388.5, 61.4 388.0 Q 62.0 387.5, 62.0 386.5 Q 62.0 385.5, 61.3 385.1 Q 60.7 384.6, 59.4 384.6 L 57.4 384.6 L 57.4 388.5 L 59.7 388.5 \" fill=\"#000000\"/>\n",
              "<path class=\"legend\" d=\"M 65.0 385.7 Q 65.0 383.7, 66.0 382.6 Q 67.0 381.4, 68.8 381.4 Q 70.6 381.4, 71.4 382.5 Q 72.2 383.6, 72.2 385.6 L 72.2 385.9 L 66.5 385.9 Q 66.5 387.3, 67.1 388.0 Q 67.8 388.8, 68.9 388.8 Q 69.6 388.8, 70.2 388.6 Q 70.8 388.4, 71.5 388.1 L 71.9 389.2 Q 71.1 389.6, 70.4 389.8 Q 69.6 389.9, 68.9 389.9 Q 67.0 389.9, 66.0 388.8 Q 65.0 387.7, 65.0 385.7 M 68.8 382.6 Q 67.9 382.6, 67.3 383.2 Q 66.7 383.7, 66.6 384.8 L 70.6 384.8 Q 70.5 383.7, 70.1 383.2 Q 69.6 382.6, 68.8 382.6 \" fill=\"#000000\"/>\n",
              "<path class=\"legend\" d=\"M 73.5 382.7 L 73.5 381.6 L 75.1 381.6 L 75.3 379.2 L 76.4 379.2 L 76.4 381.6 L 79.0 381.6 L 79.0 382.7 L 76.4 382.7 L 76.4 387.3 Q 76.4 388.7, 77.6 388.7 Q 78.1 388.7, 78.8 388.5 L 79.1 389.5 Q 78.2 389.9, 77.4 389.9 Q 76.3 389.9, 75.6 389.3 Q 74.9 388.6, 74.9 387.4 L 74.9 382.7 L 73.5 382.7 \" fill=\"#000000\"/>\n",
              "<path class=\"legend\" d=\"M 80.1 387.6 Q 80.1 386.3, 81.2 385.6 Q 82.3 384.8, 84.2 384.8 L 85.4 384.8 L 85.4 384.5 Q 85.4 383.5, 85.0 383.1 Q 84.6 382.6, 83.5 382.6 Q 82.9 382.6, 82.4 382.8 Q 81.9 382.9, 81.1 383.2 L 80.6 382.2 Q 82.1 381.4, 83.6 381.4 Q 85.3 381.4, 86.1 382.2 Q 86.9 382.9, 86.9 384.5 L 86.9 389.8 L 85.7 389.8 Q 85.7 389.7, 85.7 389.5 Q 85.6 389.2, 85.5 388.8 Q 84.4 390.0, 82.9 390.0 Q 81.6 390.0, 80.9 389.3 Q 80.1 388.7, 80.1 387.6 M 81.7 387.6 Q 81.7 388.2, 82.0 388.5 Q 82.4 388.8, 83.1 388.8 Q 83.8 388.8, 84.4 388.5 Q 85.0 388.2, 85.4 387.7 L 85.4 386.0 L 84.3 386.0 Q 83.0 386.0, 82.3 386.4 Q 81.7 386.8, 81.7 387.6 \" fill=\"#000000\"/>\n",
              "<path class=\"legend\" d=\"M 88.8 377.7 L 90.3 377.7 L 90.3 389.8 L 88.8 389.8 L 88.8 377.7 \" fill=\"#000000\"/>\n",
              "<path class=\"legend\" d=\"M 92.3 387.6 Q 92.3 386.3, 93.4 385.6 Q 94.4 384.8, 96.4 384.8 L 97.6 384.8 L 97.6 384.5 Q 97.6 383.5, 97.2 383.1 Q 96.7 382.6, 95.7 382.6 Q 95.1 382.6, 94.5 382.8 Q 94.0 382.9, 93.2 383.2 L 92.8 382.2 Q 94.3 381.4, 95.7 381.4 Q 97.5 381.4, 98.3 382.2 Q 99.1 382.9, 99.1 384.5 L 99.1 389.8 L 97.9 389.8 Q 97.9 389.7, 97.9 389.5 Q 97.8 389.2, 97.7 388.8 Q 96.6 390.0, 95.0 390.0 Q 93.8 390.0, 93.1 389.3 Q 92.3 388.7, 92.3 387.6 M 93.8 387.6 Q 93.8 388.2, 94.2 388.5 Q 94.6 388.8, 95.3 388.8 Q 96.0 388.8, 96.6 388.5 Q 97.2 388.2, 97.6 387.7 L 97.6 386.0 L 96.5 386.0 Q 95.2 386.0, 94.5 386.4 Q 93.8 386.8, 93.8 387.6 \" fill=\"#000000\"/>\n",
              "<path class=\"legend\" d=\"M 101.0 385.7 Q 101.0 383.7, 102.0 382.6 Q 103.0 381.4, 104.9 381.4 Q 106.8 381.4, 107.8 382.8 L 106.8 383.6 Q 106.4 383.1, 105.9 382.9 Q 105.5 382.6, 104.9 382.6 Q 103.8 382.6, 103.1 383.4 Q 102.5 384.2, 102.5 385.7 Q 102.5 387.2, 103.2 388.0 Q 103.8 388.8, 105.0 388.8 Q 105.7 388.8, 106.2 388.6 Q 106.6 388.4, 107.2 388.2 L 107.6 389.2 Q 106.4 389.9, 104.9 389.9 Q 103.0 389.9, 102.0 388.8 Q 101.0 387.7, 101.0 385.7 \" fill=\"#000000\"/>\n",
              "<path class=\"legend\" d=\"M 108.8 382.7 L 108.8 381.6 L 110.4 381.6 L 110.6 379.2 L 111.8 379.2 L 111.8 381.6 L 114.3 381.6 L 114.3 382.7 L 111.8 382.7 L 111.8 387.3 Q 111.8 388.7, 113.0 388.7 Q 113.4 388.7, 114.1 388.5 L 114.4 389.5 Q 113.5 389.9, 112.7 389.9 Q 111.6 389.9, 110.9 389.3 Q 110.3 388.6, 110.3 387.4 L 110.3 382.7 L 108.8 382.7 \" fill=\"#000000\"/>\n",
              "<path class=\"legend\" d=\"M 115.5 387.6 Q 115.5 386.3, 116.5 385.6 Q 117.6 384.8, 119.5 384.8 L 120.7 384.8 L 120.7 384.5 Q 120.7 383.5, 120.3 383.1 Q 119.9 382.6, 118.9 382.6 Q 118.2 382.6, 117.7 382.8 Q 117.2 382.9, 116.4 383.2 L 115.9 382.2 Q 117.4 381.4, 118.9 381.4 Q 120.6 381.4, 121.4 382.2 Q 122.2 382.9, 122.2 384.5 L 122.2 389.8 L 121.1 389.8 Q 121.0 389.7, 121.0 389.5 Q 120.9 389.2, 120.9 388.8 Q 119.7 390.0, 118.2 390.0 Q 116.9 390.0, 116.2 389.3 Q 115.5 388.7, 115.5 387.6 M 117.0 387.6 Q 117.0 388.2, 117.3 388.5 Q 117.7 388.8, 118.5 388.8 Q 119.1 388.8, 119.7 388.5 Q 120.3 388.2, 120.7 387.7 L 120.7 386.0 L 119.6 386.0 Q 118.3 386.0, 117.6 386.4 Q 117.0 386.8, 117.0 387.6 \" fill=\"#000000\"/>\n",
              "<path class=\"legend\" d=\"M 133.6 381.4 Q 135.0 381.4, 135.7 382.2 Q 136.4 382.9, 136.4 384.4 L 136.4 389.8 L 134.9 389.8 L 134.9 384.5 Q 134.9 383.5, 134.5 383.1 Q 134.2 382.6, 133.3 382.6 Q 132.6 382.6, 132.0 383.0 Q 131.4 383.3, 131.0 383.9 Q 131.0 384.1, 131.0 384.4 L 131.0 389.8 L 129.5 389.8 L 129.5 384.5 Q 129.5 383.5, 129.1 383.1 Q 128.8 382.6, 127.9 382.6 Q 127.2 382.6, 126.6 383.0 Q 126.0 383.3, 125.6 383.9 L 125.6 389.8 L 124.1 389.8 L 124.1 381.6 L 125.4 381.6 L 125.5 382.7 Q 126.6 381.4, 128.2 381.4 Q 130.2 381.4, 130.8 382.9 Q 131.9 381.4, 133.6 381.4 \" fill=\"#000000\"/>\n",
              "<path class=\"legend\" d=\"M 138.8 388.1 Q 139.5 388.4, 140.0 388.6 Q 140.5 388.7, 141.1 388.7 Q 141.8 388.7, 142.2 388.4 Q 142.6 388.1, 142.6 387.5 Q 142.6 387.1, 142.4 386.9 Q 142.2 386.7, 141.9 386.6 Q 141.7 386.4, 141.0 386.2 Q 140.8 386.2, 140.1 385.9 Q 139.4 385.7, 139.0 385.1 Q 138.6 384.6, 138.6 383.8 Q 138.6 382.8, 139.4 382.1 Q 140.1 381.4, 141.6 381.4 Q 142.2 381.4, 142.8 381.6 Q 143.3 381.7, 144.0 382.0 L 143.6 383.2 Q 143.0 382.9, 142.6 382.8 Q 142.1 382.7, 141.6 382.7 Q 140.9 382.7, 140.5 383.0 Q 140.1 383.3, 140.1 383.8 Q 140.1 384.2, 140.4 384.4 Q 140.7 384.6, 141.4 384.9 Q 141.6 384.9, 141.7 385.0 L 142.1 385.1 Q 142.8 385.4, 143.2 385.6 Q 143.6 385.8, 143.9 386.3 Q 144.1 386.7, 144.1 387.5 Q 144.1 388.7, 143.3 389.3 Q 142.5 390.0, 141.1 390.0 Q 140.3 390.0, 139.7 389.8 Q 139.0 389.6, 138.3 389.3 L 138.8 388.1 \" fill=\"#000000\"/>\n",
              "<path class=\"bond-5 atom-5 atom-6\" d=\"M 304.0,271.9 L 309.7,291.1 L 305.3,288.8 L 301.6,276.3 Z\" style=\"fill:#A1002419;fill-rule:evenodd;fill-opacity:0.1;stroke:#A1002419;stroke-width:0.0px;stroke-linecap:butt;stroke-linejoin:miter;stroke-opacity:0.1;\"/>\n",
              "<path class=\"bond-20 atom-5 atom-10\" d=\"M 305.3,288.8 L 309.7,291.1 L 290.5,296.9 L 292.9,292.5 Z\" style=\"fill:#A1002419;fill-rule:evenodd;fill-opacity:0.1;stroke:#A1002419;stroke-width:0.0px;stroke-linecap:butt;stroke-linejoin:miter;stroke-opacity:0.1;\"/>\n",
              "<path class=\"bond-7 atom-6 atom-8\" d=\"M 304.0,271.9 L 301.6,276.3 L 289.1,280.0 L 286.9,278.9 L 287.1,277.0 Z\" style=\"fill:#A1002419;fill-rule:evenodd;fill-opacity:0.1;stroke:#A1002419;stroke-width:0.0px;stroke-linecap:butt;stroke-linejoin:miter;stroke-opacity:0.1;\"/>\n",
              "<path class=\"bond-8 atom-8 atom-9\" d=\"M 273.2,269.4 L 287.1,277.0 L 286.9,278.9 L 285.4,280.1 L 271.5,272.6 Z\" style=\"fill:#A1002419;fill-rule:evenodd;fill-opacity:0.1;stroke:#A1002419;stroke-width:0.0px;stroke-linecap:butt;stroke-linejoin:miter;stroke-opacity:0.1;\"/>\n",
              "<path class=\"bond-9 atom-8 atom-10\" d=\"M 286.9,278.9 L 289.1,280.0 L 292.9,292.5 L 290.5,296.9 L 285.4,280.1 Z\" style=\"fill:#A1002419;fill-rule:evenodd;fill-opacity:0.1;stroke:#A1002419;stroke-width:0.0px;stroke-linecap:butt;stroke-linejoin:miter;stroke-opacity:0.1;\"/>\n",
              "<ellipse cx=\"307.5\" cy=\"290.0\" rx=\"3.3\" ry=\"3.3\" class=\"atom-5\" style=\"fill:#A1002419;fill-rule:evenodd;stroke:#A1002419;stroke-width:1.0px;stroke-linecap:butt;stroke-linejoin:miter;stroke-opacity:1\"/>\n",
              "<ellipse cx=\"302.8\" cy=\"274.1\" rx=\"3.3\" ry=\"3.3\" class=\"atom-6\" style=\"fill:#A1002419;fill-rule:evenodd;stroke:#A1002419;stroke-width:1.0px;stroke-linecap:butt;stroke-linejoin:miter;stroke-opacity:1\"/>\n",
              "<ellipse cx=\"286.9\" cy=\"278.9\" rx=\"3.3\" ry=\"3.3\" class=\"atom-8\" style=\"fill:#A1002419;fill-rule:evenodd;stroke:#A1002419;stroke-width:1.0px;stroke-linecap:butt;stroke-linejoin:miter;stroke-opacity:1\"/>\n",
              "<ellipse cx=\"272.3\" cy=\"271.0\" rx=\"3.3\" ry=\"3.4\" class=\"atom-9\" style=\"fill:#A1002419;fill-rule:evenodd;stroke:#A1002419;stroke-width:1.0px;stroke-linecap:butt;stroke-linejoin:miter;stroke-opacity:1\"/>\n",
              "<ellipse cx=\"291.7\" cy=\"294.7\" rx=\"3.3\" ry=\"3.3\" class=\"atom-10\" style=\"fill:#A1002419;fill-rule:evenodd;stroke:#A1002419;stroke-width:1.0px;stroke-linecap:butt;stroke-linejoin:miter;stroke-opacity:1\"/>\n",
              "<path class=\"bond-0 atom-0 atom-1\" d=\"M 365.9,321.4 L 351.3,313.5\" style=\"fill:none;fill-rule:evenodd;stroke:#000000;stroke-width:2.0px;stroke-linecap:butt;stroke-linejoin:miter;stroke-opacity:1\"/>\n",
              "<path class=\"bond-1 atom-1 atom-2\" d=\"M 351.3,313.5 L 337.2,322.2\" style=\"fill:none;fill-rule:evenodd;stroke:#000000;stroke-width:2.0px;stroke-linecap:butt;stroke-linejoin:miter;stroke-opacity:1\"/>\n",
              "<path class=\"bond-1 atom-1 atom-2\" d=\"M 348.8,312.2 L 337.1,319.4\" style=\"fill:none;fill-rule:evenodd;stroke:#000000;stroke-width:2.0px;stroke-linecap:butt;stroke-linejoin:miter;stroke-opacity:1\"/>\n",
              "<path class=\"bond-2 atom-2 atom-3\" d=\"M 337.2,322.2 L 322.6,314.4\" style=\"fill:none;fill-rule:evenodd;stroke:#000000;stroke-width:2.0px;stroke-linecap:butt;stroke-linejoin:miter;stroke-opacity:1\"/>\n",
              "<path class=\"bond-3 atom-3 atom-4\" d=\"M 322.6,314.4 L 322.1,297.8\" style=\"fill:none;fill-rule:evenodd;stroke:#000000;stroke-width:2.0px;stroke-linecap:butt;stroke-linejoin:miter;stroke-opacity:1\"/>\n",
              "<path class=\"bond-3 atom-3 atom-4\" d=\"M 325.0,312.9 L 324.6,299.2\" style=\"fill:none;fill-rule:evenodd;stroke:#000000;stroke-width:2.0px;stroke-linecap:butt;stroke-linejoin:miter;stroke-opacity:1\"/>\n",
              "<path class=\"bond-4 atom-4 atom-5\" d=\"M 322.1,297.8 L 307.5,290.0\" style=\"fill:none;fill-rule:evenodd;stroke:#000000;stroke-width:2.0px;stroke-linecap:butt;stroke-linejoin:miter;stroke-opacity:1\"/>\n",
              "<path class=\"bond-5 atom-5 atom-6\" d=\"M 307.5,290.0 L 302.8,274.1\" style=\"fill:none;fill-rule:evenodd;stroke:#000000;stroke-width:2.0px;stroke-linecap:butt;stroke-linejoin:miter;stroke-opacity:1\"/>\n",
              "<path class=\"bond-6 atom-6 atom-7\" d=\"M 302.8,274.1 L 308.1,264.2\" style=\"fill:none;fill-rule:evenodd;stroke:#000000;stroke-width:2.0px;stroke-linecap:butt;stroke-linejoin:miter;stroke-opacity:1\"/>\n",
              "<path class=\"bond-7 atom-6 atom-8\" d=\"M 302.8,274.1 L 286.9,278.9\" style=\"fill:none;fill-rule:evenodd;stroke:#000000;stroke-width:2.0px;stroke-linecap:butt;stroke-linejoin:miter;stroke-opacity:1\"/>\n",
              "<path class=\"bond-8 atom-8 atom-9\" d=\"M 288.6,278.3 L 277.3,272.2\" style=\"fill:none;fill-rule:evenodd;stroke:#000000;stroke-width:2.0px;stroke-linecap:butt;stroke-linejoin:miter;stroke-opacity:1\"/>\n",
              "<path class=\"bond-8 atom-8 atom-9\" d=\"M 287.4,280.5 L 276.1,274.4\" style=\"fill:none;fill-rule:evenodd;stroke:#000000;stroke-width:2.0px;stroke-linecap:butt;stroke-linejoin:miter;stroke-opacity:1\"/>\n",
              "<path class=\"bond-9 atom-8 atom-10\" d=\"M 286.9,278.9 L 290.3,290.2\" style=\"fill:none;fill-rule:evenodd;stroke:#000000;stroke-width:2.0px;stroke-linecap:butt;stroke-linejoin:miter;stroke-opacity:1\"/>\n",
              "<path class=\"bond-10 atom-10 atom-11\" d=\"M 289.2,299.3 L 283.8,309.3\" style=\"fill:none;fill-rule:evenodd;stroke:#000000;stroke-width:2.0px;stroke-linecap:butt;stroke-linejoin:miter;stroke-opacity:1\"/>\n",
              "<path class=\"bond-11 atom-11 atom-12\" d=\"M 283.8,309.3 L 267.3,309.8\" style=\"fill:none;fill-rule:evenodd;stroke:#000000;stroke-width:2.0px;stroke-linecap:butt;stroke-linejoin:miter;stroke-opacity:1\"/>\n",
              "<path class=\"bond-12 atom-12 atom-13\" d=\"M 267.3,309.8 L 258.6,295.7\" style=\"fill:none;fill-rule:evenodd;stroke:#000000;stroke-width:2.0px;stroke-linecap:butt;stroke-linejoin:miter;stroke-opacity:1\"/>\n",
              "<path class=\"bond-12 atom-12 atom-13\" d=\"M 264.4,309.9 L 257.2,298.2\" style=\"fill:none;fill-rule:evenodd;stroke:#000000;stroke-width:2.0px;stroke-linecap:butt;stroke-linejoin:miter;stroke-opacity:1\"/>\n",
              "<path class=\"bond-13 atom-13 atom-14\" d=\"M 258.6,295.7 L 242.0,296.2\" style=\"fill:none;fill-rule:evenodd;stroke:#000000;stroke-width:2.0px;stroke-linecap:butt;stroke-linejoin:miter;stroke-opacity:1\"/>\n",
              "<path class=\"bond-14 atom-14 atom-15\" d=\"M 242.0,296.2 L 234.1,310.8\" style=\"fill:none;fill-rule:evenodd;stroke:#000000;stroke-width:2.0px;stroke-linecap:butt;stroke-linejoin:miter;stroke-opacity:1\"/>\n",
              "<path class=\"bond-14 atom-14 atom-15\" d=\"M 243.5,298.6 L 237.0,310.7\" style=\"fill:none;fill-rule:evenodd;stroke:#000000;stroke-width:2.0px;stroke-linecap:butt;stroke-linejoin:miter;stroke-opacity:1\"/>\n",
              "<path class=\"bond-15 atom-15 atom-16\" d=\"M 234.1,310.8 L 242.8,324.9\" style=\"fill:none;fill-rule:evenodd;stroke:#000000;stroke-width:2.0px;stroke-linecap:butt;stroke-linejoin:miter;stroke-opacity:1\"/>\n",
              "<path class=\"bond-16 atom-16 atom-17\" d=\"M 242.8,324.9 L 259.4,324.4\" style=\"fill:none;fill-rule:evenodd;stroke:#000000;stroke-width:2.0px;stroke-linecap:butt;stroke-linejoin:miter;stroke-opacity:1\"/>\n",
              "<path class=\"bond-16 atom-16 atom-17\" d=\"M 244.2,322.3 L 257.9,321.9\" style=\"fill:none;fill-rule:evenodd;stroke:#000000;stroke-width:2.0px;stroke-linecap:butt;stroke-linejoin:miter;stroke-opacity:1\"/>\n",
              "<path class=\"bond-17 atom-4 atom-18\" d=\"M 322.1,297.8 L 336.2,289.1\" style=\"fill:none;fill-rule:evenodd;stroke:#000000;stroke-width:2.0px;stroke-linecap:butt;stroke-linejoin:miter;stroke-opacity:1\"/>\n",
              "<path class=\"bond-18 atom-18 atom-19\" d=\"M 336.2,289.1 L 350.8,297.0\" style=\"fill:none;fill-rule:evenodd;stroke:#000000;stroke-width:2.0px;stroke-linecap:butt;stroke-linejoin:miter;stroke-opacity:1\"/>\n",
              "<path class=\"bond-18 atom-18 atom-19\" d=\"M 336.3,292.0 L 348.4,298.5\" style=\"fill:none;fill-rule:evenodd;stroke:#000000;stroke-width:2.0px;stroke-linecap:butt;stroke-linejoin:miter;stroke-opacity:1\"/>\n",
              "<path class=\"bond-19 atom-19 atom-1\" d=\"M 350.8,297.0 L 351.3,313.5\" style=\"fill:none;fill-rule:evenodd;stroke:#000000;stroke-width:2.0px;stroke-linecap:butt;stroke-linejoin:miter;stroke-opacity:1\"/>\n",
              "<path class=\"bond-20 atom-10 atom-5\" d=\"M 295.6,293.5 L 307.5,290.0\" style=\"fill:none;fill-rule:evenodd;stroke:#000000;stroke-width:2.0px;stroke-linecap:butt;stroke-linejoin:miter;stroke-opacity:1\"/>\n",
              "<path class=\"bond-21 atom-17 atom-12\" d=\"M 259.4,324.4 L 267.3,309.8\" style=\"fill:none;fill-rule:evenodd;stroke:#000000;stroke-width:2.0px;stroke-linecap:butt;stroke-linejoin:miter;stroke-opacity:1\"/>\n",
              "<path d=\"M 337.9,321.8 L 337.2,322.2 L 336.5,321.8\" style=\"fill:none;stroke:#000000;stroke-width:2.0px;stroke-linecap:butt;stroke-linejoin:miter;stroke-opacity:1;\"/>\n",
              "<path d=\"M 323.3,314.8 L 322.6,314.4 L 322.6,313.6\" style=\"fill:none;stroke:#000000;stroke-width:2.0px;stroke-linecap:butt;stroke-linejoin:miter;stroke-opacity:1;\"/>\n",
              "<path d=\"M 287.7,278.6 L 286.9,278.9 L 287.1,279.4\" style=\"fill:none;stroke:#000000;stroke-width:2.0px;stroke-linecap:butt;stroke-linejoin:miter;stroke-opacity:1;\"/>\n",
              "<path d=\"M 284.1,308.8 L 283.8,309.3 L 283.0,309.3\" style=\"fill:none;stroke:#000000;stroke-width:2.0px;stroke-linecap:butt;stroke-linejoin:miter;stroke-opacity:1;\"/>\n",
              "<path d=\"M 259.0,296.4 L 258.6,295.7 L 257.7,295.7\" style=\"fill:none;stroke:#000000;stroke-width:2.0px;stroke-linecap:butt;stroke-linejoin:miter;stroke-opacity:1;\"/>\n",
              "<path d=\"M 242.8,296.2 L 242.0,296.2 L 241.6,296.9\" style=\"fill:none;stroke:#000000;stroke-width:2.0px;stroke-linecap:butt;stroke-linejoin:miter;stroke-opacity:1;\"/>\n",
              "<path d=\"M 234.5,310.0 L 234.1,310.8 L 234.6,311.5\" style=\"fill:none;stroke:#000000;stroke-width:2.0px;stroke-linecap:butt;stroke-linejoin:miter;stroke-opacity:1;\"/>\n",
              "<path d=\"M 242.4,324.2 L 242.8,324.9 L 243.7,324.8\" style=\"fill:none;stroke:#000000;stroke-width:2.0px;stroke-linecap:butt;stroke-linejoin:miter;stroke-opacity:1;\"/>\n",
              "<path d=\"M 258.6,324.4 L 259.4,324.4 L 259.8,323.6\" style=\"fill:none;stroke:#000000;stroke-width:2.0px;stroke-linecap:butt;stroke-linejoin:miter;stroke-opacity:1;\"/>\n",
              "<path d=\"M 335.5,289.6 L 336.2,289.1 L 336.9,289.5\" style=\"fill:none;stroke:#000000;stroke-width:2.0px;stroke-linecap:butt;stroke-linejoin:miter;stroke-opacity:1;\"/>\n",
              "<path d=\"M 350.1,296.6 L 350.8,297.0 L 350.8,297.8\" style=\"fill:none;stroke:#000000;stroke-width:2.0px;stroke-linecap:butt;stroke-linejoin:miter;stroke-opacity:1;\"/>\n",
              "<path class=\"atom-7\" d=\"M 308.5 259.5 Q 308.5 258.4, 309.0 257.8 Q 309.6 257.1, 310.6 257.1 Q 311.7 257.1, 312.2 257.8 Q 312.8 258.4, 312.8 259.5 Q 312.8 260.7, 312.2 261.3 Q 311.7 262.0, 310.6 262.0 Q 309.6 262.0, 309.0 261.3 Q 308.5 260.7, 308.5 259.5 M 310.6 261.4 Q 311.4 261.4, 311.7 261.0 Q 312.1 260.5, 312.1 259.5 Q 312.1 258.6, 311.7 258.1 Q 311.4 257.7, 310.6 257.7 Q 309.9 257.7, 309.5 258.1 Q 309.1 258.6, 309.1 259.5 Q 309.1 260.5, 309.5 261.0 Q 309.9 261.4, 310.6 261.4 \" fill=\"#000000\"/>\n",
              "<path class=\"atom-7\" d=\"M 313.5 257.2 L 314.2 257.2 L 314.2 259.2 L 316.6 259.2 L 316.6 257.2 L 317.2 257.2 L 317.2 261.9 L 316.6 261.9 L 316.6 259.7 L 314.2 259.7 L 314.2 261.9 L 313.5 261.9 L 313.5 257.2 \" fill=\"#000000\"/>\n",
              "<path class=\"atom-9\" d=\"M 270.2 271.0 Q 270.2 269.9, 270.7 269.3 Q 271.3 268.6, 272.3 268.6 Q 273.4 268.6, 273.9 269.3 Q 274.5 269.9, 274.5 271.0 Q 274.5 272.1, 273.9 272.8 Q 273.4 273.4, 272.3 273.4 Q 271.3 273.4, 270.7 272.8 Q 270.2 272.2, 270.2 271.0 M 272.3 272.9 Q 273.0 272.9, 273.4 272.4 Q 273.8 271.9, 273.8 271.0 Q 273.8 270.1, 273.4 269.6 Q 273.0 269.2, 272.3 269.2 Q 271.6 269.2, 271.2 269.6 Q 270.8 270.1, 270.8 271.0 Q 270.8 272.0, 271.2 272.4 Q 271.6 272.9, 272.3 272.9 \" fill=\"#000000\"/>\n",
              "<path class=\"atom-10\" d=\"M 290.6 292.4 L 292.2 294.9 Q 292.3 295.1, 292.6 295.5 Q 292.8 296.0, 292.8 296.0 L 292.8 292.4 L 293.4 292.4 L 293.4 297.1 L 292.8 297.1 L 291.2 294.3 Q 291.0 294.0, 290.8 293.7 Q 290.6 293.3, 290.5 293.2 L 290.5 297.1 L 289.9 297.1 L 289.9 292.4 L 290.6 292.4 \" fill=\"#000000\"/>\n",
              "<path class=\"legend\" d=\"M 261.4 383.9 Q 262.4 384.2, 263.0 384.8 Q 263.6 385.5, 263.6 386.5 Q 263.6 388.0, 262.5 388.9 Q 261.6 389.8, 259.7 389.8 L 255.9 389.8 L 255.9 378.5 L 259.2 378.5 Q 261.1 378.5, 262.1 379.3 Q 263.1 380.0, 263.1 381.5 Q 263.1 383.2, 261.4 383.9 M 257.4 379.8 L 257.4 383.3 L 259.2 383.3 Q 260.3 383.3, 260.9 382.9 Q 261.5 382.4, 261.5 381.5 Q 261.5 379.8, 259.2 379.8 L 257.4 379.8 M 259.7 388.5 Q 260.8 388.5, 261.4 388.0 Q 262.0 387.5, 262.0 386.5 Q 262.0 385.5, 261.3 385.1 Q 260.7 384.6, 259.4 384.6 L 257.4 384.6 L 257.4 388.5 L 259.7 388.5 \" fill=\"#000000\"/>\n",
              "<path class=\"legend\" d=\"M 265.0 385.7 Q 265.0 383.7, 266.0 382.6 Q 267.0 381.4, 268.8 381.4 Q 270.6 381.4, 271.4 382.5 Q 272.2 383.6, 272.2 385.6 L 272.2 385.9 L 266.5 385.9 Q 266.5 387.3, 267.1 388.0 Q 267.8 388.8, 268.9 388.8 Q 269.6 388.8, 270.2 388.6 Q 270.8 388.4, 271.5 388.1 L 271.9 389.2 Q 271.1 389.6, 270.4 389.8 Q 269.6 389.9, 268.9 389.9 Q 267.0 389.9, 266.0 388.8 Q 265.0 387.7, 265.0 385.7 M 268.8 382.6 Q 267.9 382.6, 267.3 383.2 Q 266.7 383.7, 266.6 384.8 L 270.6 384.8 Q 270.5 383.7, 270.1 383.2 Q 269.6 382.6, 268.8 382.6 \" fill=\"#000000\"/>\n",
              "<path class=\"legend\" d=\"M 273.5 382.7 L 273.5 381.6 L 275.1 381.6 L 275.3 379.2 L 276.4 379.2 L 276.4 381.6 L 279.0 381.6 L 279.0 382.7 L 276.4 382.7 L 276.4 387.3 Q 276.4 388.7, 277.6 388.7 Q 278.1 388.7, 278.8 388.5 L 279.1 389.5 Q 278.2 389.9, 277.4 389.9 Q 276.3 389.9, 275.6 389.3 Q 274.9 388.6, 274.9 387.4 L 274.9 382.7 L 273.5 382.7 \" fill=\"#000000\"/>\n",
              "<path class=\"legend\" d=\"M 280.1 387.6 Q 280.1 386.3, 281.2 385.6 Q 282.3 384.8, 284.2 384.8 L 285.4 384.8 L 285.4 384.5 Q 285.4 383.5, 285.0 383.1 Q 284.6 382.6, 283.5 382.6 Q 282.9 382.6, 282.4 382.8 Q 281.9 382.9, 281.1 383.2 L 280.6 382.2 Q 282.1 381.4, 283.6 381.4 Q 285.3 381.4, 286.1 382.2 Q 286.9 382.9, 286.9 384.5 L 286.9 389.8 L 285.7 389.8 Q 285.7 389.7, 285.7 389.5 Q 285.6 389.2, 285.5 388.8 Q 284.4 390.0, 282.9 390.0 Q 281.6 390.0, 280.9 389.3 Q 280.1 388.7, 280.1 387.6 M 281.7 387.6 Q 281.7 388.2, 282.0 388.5 Q 282.4 388.8, 283.1 388.8 Q 283.8 388.8, 284.4 388.5 Q 285.0 388.2, 285.4 387.7 L 285.4 386.0 L 284.3 386.0 Q 283.0 386.0, 282.3 386.4 Q 281.7 386.8, 281.7 387.6 \" fill=\"#000000\"/>\n",
              "<path class=\"legend\" d=\"M 288.8 377.7 L 290.3 377.7 L 290.3 389.8 L 288.8 389.8 L 288.8 377.7 \" fill=\"#000000\"/>\n",
              "<path class=\"legend\" d=\"M 292.3 387.6 Q 292.3 386.3, 293.4 385.6 Q 294.4 384.8, 296.4 384.8 L 297.6 384.8 L 297.6 384.5 Q 297.6 383.5, 297.2 383.1 Q 296.7 382.6, 295.7 382.6 Q 295.1 382.6, 294.5 382.8 Q 294.0 382.9, 293.2 383.2 L 292.8 382.2 Q 294.3 381.4, 295.7 381.4 Q 297.5 381.4, 298.3 382.2 Q 299.1 382.9, 299.1 384.5 L 299.1 389.8 L 297.9 389.8 Q 297.9 389.7, 297.9 389.5 Q 297.8 389.2, 297.7 388.8 Q 296.6 390.0, 295.0 390.0 Q 293.8 390.0, 293.1 389.3 Q 292.3 388.7, 292.3 387.6 M 293.8 387.6 Q 293.8 388.2, 294.2 388.5 Q 294.6 388.8, 295.3 388.8 Q 296.0 388.8, 296.6 388.5 Q 297.2 388.2, 297.6 387.7 L 297.6 386.0 L 296.5 386.0 Q 295.2 386.0, 294.5 386.4 Q 293.8 386.8, 293.8 387.6 \" fill=\"#000000\"/>\n",
              "<path class=\"legend\" d=\"M 301.0 385.7 Q 301.0 383.7, 302.0 382.6 Q 303.0 381.4, 304.9 381.4 Q 306.8 381.4, 307.8 382.8 L 306.8 383.6 Q 306.4 383.1, 305.9 382.9 Q 305.5 382.6, 304.9 382.6 Q 303.8 382.6, 303.1 383.4 Q 302.5 384.2, 302.5 385.7 Q 302.5 387.2, 303.2 388.0 Q 303.8 388.8, 305.0 388.8 Q 305.7 388.8, 306.2 388.6 Q 306.6 388.4, 307.2 388.2 L 307.6 389.2 Q 306.4 389.9, 304.9 389.9 Q 303.0 389.9, 302.0 388.8 Q 301.0 387.7, 301.0 385.7 \" fill=\"#000000\"/>\n",
              "<path class=\"legend\" d=\"M 308.8 382.7 L 308.8 381.6 L 310.4 381.6 L 310.6 379.2 L 311.8 379.2 L 311.8 381.6 L 314.3 381.6 L 314.3 382.7 L 311.8 382.7 L 311.8 387.3 Q 311.8 388.7, 313.0 388.7 Q 313.4 388.7, 314.1 388.5 L 314.4 389.5 Q 313.5 389.9, 312.7 389.9 Q 311.6 389.9, 310.9 389.3 Q 310.3 388.6, 310.3 387.4 L 310.3 382.7 L 308.8 382.7 \" fill=\"#000000\"/>\n",
              "<path class=\"legend\" d=\"M 315.5 387.6 Q 315.5 386.3, 316.5 385.6 Q 317.6 384.8, 319.5 384.8 L 320.7 384.8 L 320.7 384.5 Q 320.7 383.5, 320.3 383.1 Q 319.9 382.6, 318.9 382.6 Q 318.2 382.6, 317.7 382.8 Q 317.2 382.9, 316.4 383.2 L 315.9 382.2 Q 317.4 381.4, 318.9 381.4 Q 320.6 381.4, 321.4 382.2 Q 322.2 382.9, 322.2 384.5 L 322.2 389.8 L 321.1 389.8 Q 321.0 389.7, 321.0 389.5 Q 320.9 389.2, 320.9 388.8 Q 319.7 390.0, 318.2 390.0 Q 316.9 390.0, 316.2 389.3 Q 315.5 388.7, 315.5 387.6 M 317.0 387.6 Q 317.0 388.2, 317.3 388.5 Q 317.7 388.8, 318.5 388.8 Q 319.1 388.8, 319.7 388.5 Q 320.3 388.2, 320.7 387.7 L 320.7 386.0 L 319.6 386.0 Q 318.3 386.0, 317.6 386.4 Q 317.0 386.8, 317.0 387.6 \" fill=\"#000000\"/>\n",
              "<path class=\"legend\" d=\"M 333.6 381.4 Q 335.0 381.4, 335.7 382.2 Q 336.4 382.9, 336.4 384.4 L 336.4 389.8 L 334.9 389.8 L 334.9 384.5 Q 334.9 383.5, 334.5 383.1 Q 334.2 382.6, 333.3 382.6 Q 332.6 382.6, 332.0 383.0 Q 331.4 383.3, 331.0 383.9 Q 331.0 384.1, 331.0 384.4 L 331.0 389.8 L 329.5 389.8 L 329.5 384.5 Q 329.5 383.5, 329.1 383.1 Q 328.8 382.6, 327.9 382.6 Q 327.2 382.6, 326.6 383.0 Q 326.0 383.3, 325.6 383.9 L 325.6 389.8 L 324.1 389.8 L 324.1 381.6 L 325.4 381.6 L 325.5 382.7 Q 326.6 381.4, 328.2 381.4 Q 330.2 381.4, 330.8 382.9 Q 331.9 381.4, 333.6 381.4 \" fill=\"#000000\"/>\n",
              "<path class=\"legend\" d=\"M 338.8 388.1 Q 339.5 388.4, 340.0 388.6 Q 340.5 388.7, 341.1 388.7 Q 341.8 388.7, 342.2 388.4 Q 342.6 388.1, 342.6 387.5 Q 342.6 387.1, 342.4 386.9 Q 342.2 386.7, 341.9 386.6 Q 341.7 386.4, 341.0 386.2 Q 340.8 386.2, 340.1 385.9 Q 339.4 385.7, 339.0 385.1 Q 338.6 384.6, 338.6 383.8 Q 338.6 382.8, 339.4 382.1 Q 340.1 381.4, 341.6 381.4 Q 342.2 381.4, 342.8 381.6 Q 343.3 381.7, 344.0 382.0 L 343.6 383.2 Q 343.0 382.9, 342.6 382.8 Q 342.1 382.7, 341.6 382.7 Q 340.9 382.7, 340.5 383.0 Q 340.1 383.3, 340.1 383.8 Q 340.1 384.2, 340.4 384.4 Q 340.7 384.6, 341.4 384.9 Q 341.6 384.9, 341.7 385.0 L 342.1 385.1 Q 342.8 385.4, 343.2 385.6 Q 343.6 385.8, 343.9 386.3 Q 344.1 386.7, 344.1 387.5 Q 344.1 388.7, 343.3 389.3 Q 342.5 390.0, 341.1 390.0 Q 340.3 390.0, 339.7 389.8 Q 339.0 389.6, 338.3 389.3 L 338.8 388.1 \" fill=\"#000000\"/>\n",
              "<path class=\"bond-4 atom-4 atom-5\" d=\"M 521.4,296.7 L 526.1,298.6 L 507.6,306.6 L 509.5,301.9 Z\" style=\"fill:#A1002419;fill-rule:evenodd;fill-opacity:0.1;stroke:#A1002419;stroke-width:0.0px;stroke-linecap:butt;stroke-linejoin:miter;stroke-opacity:0.1;\"/>\n",
              "<path class=\"bond-14 atom-4 atom-9\" d=\"M 499.6,288.1 L 504.3,290.0 L 509.5,301.9 L 507.6,306.6 Z\" style=\"fill:#A1002419;fill-rule:evenodd;fill-opacity:0.1;stroke:#A1002419;stroke-width:0.0px;stroke-linecap:butt;stroke-linejoin:miter;stroke-opacity:0.1;\"/>\n",
              "<path class=\"bond-6 atom-5 atom-7\" d=\"M 519.1,282.4 L 526.1,298.6 L 521.4,296.7 L 516.2,284.8 L 517.2,282.5 Z\" style=\"fill:#A1002419;fill-rule:evenodd;fill-opacity:0.1;stroke:#A1002419;stroke-width:0.0px;stroke-linecap:butt;stroke-linejoin:miter;stroke-opacity:0.1;\"/>\n",
              "<path class=\"bond-7 atom-7 atom-8\" d=\"M 521.6,266.4 L 524.9,267.7 L 519.1,282.4 L 517.2,282.5 L 515.8,281.1 Z\" style=\"fill:#A1002419;fill-rule:evenodd;fill-opacity:0.1;stroke:#A1002419;stroke-width:0.0px;stroke-linecap:butt;stroke-linejoin:miter;stroke-opacity:0.1;\"/>\n",
              "<path class=\"bond-8 atom-7 atom-9\" d=\"M 515.8,281.1 L 517.2,282.5 L 516.2,284.8 L 504.3,290.0 L 499.6,288.1 Z\" style=\"fill:#A1002419;fill-rule:evenodd;fill-opacity:0.1;stroke:#A1002419;stroke-width:0.0px;stroke-linecap:butt;stroke-linejoin:miter;stroke-opacity:0.1;\"/>\n",
              "<ellipse cx=\"508.6\" cy=\"304.2\" rx=\"3.3\" ry=\"3.3\" class=\"atom-4\" style=\"fill:#A1002419;fill-rule:evenodd;stroke:#A1002419;stroke-width:1.0px;stroke-linecap:butt;stroke-linejoin:miter;stroke-opacity:1\"/>\n",
              "<ellipse cx=\"523.8\" cy=\"297.7\" rx=\"3.3\" ry=\"3.3\" class=\"atom-5\" style=\"fill:#A1002419;fill-rule:evenodd;stroke:#A1002419;stroke-width:1.0px;stroke-linecap:butt;stroke-linejoin:miter;stroke-opacity:1\"/>\n",
              "<ellipse cx=\"517.2\" cy=\"282.5\" rx=\"3.3\" ry=\"3.3\" class=\"atom-7\" style=\"fill:#A1002419;fill-rule:evenodd;stroke:#A1002419;stroke-width:1.0px;stroke-linecap:butt;stroke-linejoin:miter;stroke-opacity:1\"/>\n",
              "<ellipse cx=\"523.2\" cy=\"267.1\" rx=\"3.3\" ry=\"3.4\" class=\"atom-8\" style=\"fill:#A1002419;fill-rule:evenodd;stroke:#A1002419;stroke-width:1.0px;stroke-linecap:butt;stroke-linejoin:miter;stroke-opacity:1\"/>\n",
              "<ellipse cx=\"502.0\" cy=\"289.1\" rx=\"3.3\" ry=\"3.3\" class=\"atom-9\" style=\"fill:#A1002419;fill-rule:evenodd;stroke:#A1002419;stroke-width:1.0px;stroke-linecap:butt;stroke-linejoin:miter;stroke-opacity:1\"/>\n",
              "<path class=\"bond-0 atom-0 atom-1\" d=\"M 475.0,321.9 L 481.9,306.8\" style=\"fill:none;fill-rule:evenodd;stroke:#000000;stroke-width:2.0px;stroke-linecap:butt;stroke-linejoin:miter;stroke-opacity:1\"/>\n",
              "<path class=\"bond-1 atom-1 atom-2\" d=\"M 481.9,306.8 L 466.2,301.5\" style=\"fill:none;fill-rule:evenodd;stroke:#000000;stroke-width:2.0px;stroke-linecap:butt;stroke-linejoin:miter;stroke-opacity:1\"/>\n",
              "<path class=\"bond-2 atom-1 atom-3\" d=\"M 481.9,306.8 L 492.4,313.0\" style=\"fill:none;fill-rule:evenodd;stroke:#000000;stroke-width:2.0px;stroke-linecap:butt;stroke-linejoin:miter;stroke-opacity:1\"/>\n",
              "<path class=\"bond-3 atom-3 atom-4\" d=\"M 499.9,311.9 L 508.6,304.2\" style=\"fill:none;fill-rule:evenodd;stroke:#000000;stroke-width:2.0px;stroke-linecap:butt;stroke-linejoin:miter;stroke-opacity:1\"/>\n",
              "<path class=\"bond-4 atom-4 atom-5\" d=\"M 508.6,304.2 L 523.8,297.7\" style=\"fill:none;fill-rule:evenodd;stroke:#000000;stroke-width:2.0px;stroke-linecap:butt;stroke-linejoin:miter;stroke-opacity:1\"/>\n",
              "<path class=\"bond-5 atom-5 atom-6\" d=\"M 523.8,297.7 L 535.2,302.2\" style=\"fill:none;fill-rule:evenodd;stroke:#000000;stroke-width:2.0px;stroke-linecap:butt;stroke-linejoin:miter;stroke-opacity:1\"/>\n",
              "<path class=\"bond-6 atom-5 atom-7\" d=\"M 523.8,297.7 L 517.2,282.5\" style=\"fill:none;fill-rule:evenodd;stroke:#000000;stroke-width:2.0px;stroke-linecap:butt;stroke-linejoin:miter;stroke-opacity:1\"/>\n",
              "<path class=\"bond-7 atom-7 atom-8\" d=\"M 517.9,284.1 L 522.6,272.2\" style=\"fill:none;fill-rule:evenodd;stroke:#000000;stroke-width:2.0px;stroke-linecap:butt;stroke-linejoin:miter;stroke-opacity:1\"/>\n",
              "<path class=\"bond-7 atom-7 atom-8\" d=\"M 515.6,283.2 L 520.3,271.2\" style=\"fill:none;fill-rule:evenodd;stroke:#000000;stroke-width:2.0px;stroke-linecap:butt;stroke-linejoin:miter;stroke-opacity:1\"/>\n",
              "<path class=\"bond-8 atom-7 atom-9\" d=\"M 517.2,282.5 L 506.0,287.3\" style=\"fill:none;fill-rule:evenodd;stroke:#000000;stroke-width:2.0px;stroke-linecap:butt;stroke-linejoin:miter;stroke-opacity:1\"/>\n",
              "<path class=\"bond-9 atom-9 atom-10\" d=\"M 498.0,289.4 L 485.5,290.6\" style=\"fill:none;fill-rule:evenodd;stroke:#000000;stroke-width:2.0px;stroke-linecap:butt;stroke-linejoin:miter;stroke-opacity:1\"/>\n",
              "<path class=\"bond-10 atom-10 atom-11\" d=\"M 485.5,290.6 L 474.5,278.2\" style=\"fill:none;fill-rule:evenodd;stroke:#000000;stroke-width:2.0px;stroke-linecap:butt;stroke-linejoin:miter;stroke-opacity:1\"/>\n",
              "<path class=\"bond-11 atom-11 atom-12\" d=\"M 475.5,279.3 L 479.4,267.6\" style=\"fill:none;fill-rule:evenodd;stroke:#000000;stroke-width:2.0px;stroke-linecap:butt;stroke-linejoin:miter;stroke-opacity:1\"/>\n",
              "<path class=\"bond-11 atom-11 atom-12\" d=\"M 473.1,278.5 L 477.0,266.8\" style=\"fill:none;fill-rule:evenodd;stroke:#000000;stroke-width:2.0px;stroke-linecap:butt;stroke-linejoin:miter;stroke-opacity:1\"/>\n",
              "<path class=\"bond-12 atom-11 atom-13\" d=\"M 474.5,278.2 L 462.6,280.6\" style=\"fill:none;fill-rule:evenodd;stroke:#000000;stroke-width:2.0px;stroke-linecap:butt;stroke-linejoin:miter;stroke-opacity:1\"/>\n",
              "<path class=\"bond-13 atom-10 atom-1\" d=\"M 485.5,290.6 L 481.9,306.8\" style=\"fill:none;fill-rule:evenodd;stroke:#000000;stroke-width:2.0px;stroke-linecap:butt;stroke-linejoin:miter;stroke-opacity:1\"/>\n",
              "<path class=\"bond-14 atom-9 atom-4\" d=\"M 503.9,293.6 L 508.6,304.2\" style=\"fill:none;fill-rule:evenodd;stroke:#000000;stroke-width:2.0px;stroke-linecap:butt;stroke-linejoin:miter;stroke-opacity:1\"/>\n",
              "<path d=\"M 517.5,283.2 L 517.2,282.5 L 516.6,282.7\" style=\"fill:none;stroke:#000000;stroke-width:2.0px;stroke-linecap:butt;stroke-linejoin:miter;stroke-opacity:1;\"/>\n",
              "<path d=\"M 475.1,278.8 L 474.5,278.2 L 473.9,278.3\" style=\"fill:none;stroke:#000000;stroke-width:2.0px;stroke-linecap:butt;stroke-linejoin:miter;stroke-opacity:1;\"/>\n",
              "<path class=\"atom-3\" d=\"M 494.8 316.8 Q 494.9 316.8, 495.1 316.9 Q 495.3 317.0, 495.6 317.1 Q 495.8 317.1, 496.0 317.1 Q 496.5 317.1, 496.7 316.9 Q 497.0 316.7, 497.0 316.3 Q 497.0 316.1, 496.9 315.9 Q 496.7 315.8, 496.5 315.7 Q 496.3 315.6, 496.0 315.5 Q 495.6 315.4, 495.3 315.2 Q 495.1 315.1, 494.9 314.9 Q 494.7 314.6, 494.7 314.2 Q 494.7 313.6, 495.1 313.2 Q 495.5 312.9, 496.3 312.9 Q 496.9 312.9, 497.5 313.1 L 497.3 313.6 Q 496.8 313.4, 496.4 313.4 Q 495.9 313.4, 495.6 313.6 Q 495.4 313.8, 495.4 314.1 Q 495.4 314.4, 495.5 314.5 Q 495.7 314.7, 495.8 314.8 Q 496.0 314.8, 496.4 314.9 Q 496.8 315.1, 497.0 315.2 Q 497.3 315.3, 497.5 315.6 Q 497.7 315.9, 497.7 316.3 Q 497.7 317.0, 497.2 317.3 Q 496.8 317.7, 496.1 317.7 Q 495.6 317.7, 495.3 317.6 Q 495.0 317.5, 494.6 317.3 L 494.8 316.8 \" fill=\"#000000\"/>\n",
              "<path class=\"atom-6\" d=\"M 538.1 301.4 L 539.7 303.9 Q 539.8 304.1, 540.1 304.6 Q 540.3 305.0, 540.3 305.0 L 540.3 301.4 L 540.9 301.4 L 540.9 306.1 L 540.3 306.1 L 538.7 303.4 Q 538.5 303.1, 538.3 302.7 Q 538.1 302.3, 538.0 302.2 L 538.0 306.1 L 537.4 306.1 L 537.4 301.4 L 538.1 301.4 \" fill=\"#000000\"/>\n",
              "<path class=\"atom-6\" d=\"M 541.8 301.4 L 542.5 301.4 L 542.5 303.4 L 544.9 303.4 L 544.9 301.4 L 545.5 301.4 L 545.5 306.1 L 544.9 306.1 L 544.9 303.9 L 542.5 303.9 L 542.5 306.1 L 541.8 306.1 L 541.8 301.4 \" fill=\"#000000\"/>\n",
              "<path class=\"atom-6\" d=\"M 546.4 305.9 Q 546.5 305.6, 546.8 305.5 Q 547.1 305.3, 547.5 305.3 Q 547.9 305.3, 548.2 305.6 Q 548.5 305.8, 548.5 306.3 Q 548.5 306.7, 548.1 307.1 Q 547.8 307.6, 547.1 308.1 L 548.5 308.1 L 548.5 308.4 L 546.4 308.4 L 546.4 308.1 Q 547.0 307.7, 547.3 307.4 Q 547.7 307.1, 547.8 306.8 Q 548.0 306.6, 548.0 306.3 Q 548.0 306.0, 547.9 305.8 Q 547.7 305.7, 547.5 305.7 Q 547.2 305.7, 547.0 305.8 Q 546.9 305.9, 546.8 306.1 L 546.4 305.9 \" fill=\"#000000\"/>\n",
              "<path class=\"atom-8\" d=\"M 521.1 267.1 Q 521.1 265.9, 521.7 265.3 Q 522.2 264.7, 523.2 264.7 Q 524.3 264.7, 524.8 265.3 Q 525.4 265.9, 525.4 267.1 Q 525.4 268.2, 524.8 268.9 Q 524.3 269.5, 523.2 269.5 Q 522.2 269.5, 521.7 268.9 Q 521.1 268.2, 521.1 267.1 M 523.2 269.0 Q 524.0 269.0, 524.3 268.5 Q 524.7 268.0, 524.7 267.1 Q 524.7 266.1, 524.3 265.7 Q 524.0 265.2, 523.2 265.2 Q 522.5 265.2, 522.1 265.7 Q 521.8 266.1, 521.8 267.1 Q 521.8 268.0, 522.1 268.5 Q 522.5 269.0, 523.2 269.0 \" fill=\"#000000\"/>\n",
              "<path class=\"atom-9\" d=\"M 500.9 286.7 L 502.5 289.2 Q 502.6 289.4, 502.9 289.9 Q 503.1 290.3, 503.1 290.4 L 503.1 286.7 L 503.7 286.7 L 503.7 291.4 L 503.1 291.4 L 501.5 288.7 Q 501.3 288.4, 501.1 288.0 Q 500.9 287.6, 500.8 287.5 L 500.8 291.4 L 500.2 291.4 L 500.2 286.7 L 500.9 286.7 \" fill=\"#000000\"/>\n",
              "<path class=\"atom-12\" d=\"M 477.6 262.5 Q 477.6 261.4, 478.2 260.8 Q 478.7 260.1, 479.8 260.1 Q 480.8 260.1, 481.4 260.8 Q 481.9 261.4, 481.9 262.5 Q 481.9 263.7, 481.4 264.3 Q 480.8 265.0, 479.8 265.0 Q 478.8 265.0, 478.2 264.3 Q 477.6 263.7, 477.6 262.5 M 479.8 264.4 Q 480.5 264.4, 480.9 263.9 Q 481.3 263.5, 481.3 262.5 Q 481.3 261.6, 480.9 261.1 Q 480.5 260.7, 479.8 260.7 Q 479.1 260.7, 478.7 261.1 Q 478.3 261.6, 478.3 262.5 Q 478.3 263.5, 478.7 263.9 Q 479.1 264.4, 479.8 264.4 \" fill=\"#000000\"/>\n",
              "<path class=\"atom-13\" d=\"M 451.5 279.2 L 452.1 279.2 L 452.1 281.2 L 454.5 281.2 L 454.5 279.2 L 455.2 279.2 L 455.2 283.9 L 454.5 283.9 L 454.5 281.7 L 452.1 281.7 L 452.1 283.9 L 451.5 283.9 L 451.5 279.2 \" fill=\"#000000\"/>\n",
              "<path class=\"atom-13\" d=\"M 456.1 281.5 Q 456.1 280.4, 456.7 279.8 Q 457.2 279.1, 458.3 279.1 Q 459.3 279.1, 459.9 279.8 Q 460.4 280.4, 460.4 281.5 Q 460.4 282.7, 459.9 283.3 Q 459.3 283.9, 458.3 283.9 Q 457.2 283.9, 456.7 283.3 Q 456.1 282.7, 456.1 281.5 M 458.3 283.4 Q 459.0 283.4, 459.4 282.9 Q 459.8 282.5, 459.8 281.5 Q 459.8 280.6, 459.4 280.1 Q 459.0 279.7, 458.3 279.7 Q 457.6 279.7, 457.2 280.1 Q 456.8 280.6, 456.8 281.5 Q 456.8 282.5, 457.2 282.9 Q 457.6 283.4, 458.3 283.4 \" fill=\"#000000\"/>\n",
              "<path class=\"legend\" d=\"M 461.4 383.9 Q 462.4 384.2, 463.0 384.8 Q 463.6 385.5, 463.6 386.5 Q 463.6 388.0, 462.5 388.9 Q 461.6 389.8, 459.7 389.8 L 455.9 389.8 L 455.9 378.5 L 459.2 378.5 Q 461.1 378.5, 462.1 379.3 Q 463.1 380.0, 463.1 381.5 Q 463.1 383.2, 461.4 383.9 M 457.4 379.8 L 457.4 383.3 L 459.2 383.3 Q 460.3 383.3, 460.9 382.9 Q 461.5 382.4, 461.5 381.5 Q 461.5 379.8, 459.2 379.8 L 457.4 379.8 M 459.7 388.5 Q 460.8 388.5, 461.4 388.0 Q 462.0 387.5, 462.0 386.5 Q 462.0 385.5, 461.3 385.1 Q 460.7 384.6, 459.4 384.6 L 457.4 384.6 L 457.4 388.5 L 459.7 388.5 \" fill=\"#000000\"/>\n",
              "<path class=\"legend\" d=\"M 465.0 385.7 Q 465.0 383.7, 466.0 382.6 Q 467.0 381.4, 468.8 381.4 Q 470.6 381.4, 471.4 382.5 Q 472.2 383.6, 472.2 385.6 L 472.2 385.9 L 466.5 385.9 Q 466.5 387.3, 467.1 388.0 Q 467.8 388.8, 468.9 388.8 Q 469.6 388.8, 470.2 388.6 Q 470.8 388.4, 471.5 388.1 L 471.9 389.2 Q 471.1 389.6, 470.4 389.8 Q 469.6 389.9, 468.9 389.9 Q 467.0 389.9, 466.0 388.8 Q 465.0 387.7, 465.0 385.7 M 468.8 382.6 Q 467.9 382.6, 467.3 383.2 Q 466.7 383.7, 466.6 384.8 L 470.6 384.8 Q 470.5 383.7, 470.1 383.2 Q 469.6 382.6, 468.8 382.6 \" fill=\"#000000\"/>\n",
              "<path class=\"legend\" d=\"M 473.5 382.7 L 473.5 381.6 L 475.1 381.6 L 475.3 379.2 L 476.4 379.2 L 476.4 381.6 L 479.0 381.6 L 479.0 382.7 L 476.4 382.7 L 476.4 387.3 Q 476.4 388.7, 477.6 388.7 Q 478.1 388.7, 478.8 388.5 L 479.1 389.5 Q 478.2 389.9, 477.4 389.9 Q 476.3 389.9, 475.6 389.3 Q 474.9 388.6, 474.9 387.4 L 474.9 382.7 L 473.5 382.7 \" fill=\"#000000\"/>\n",
              "<path class=\"legend\" d=\"M 480.1 387.6 Q 480.1 386.3, 481.2 385.6 Q 482.3 384.8, 484.2 384.8 L 485.4 384.8 L 485.4 384.5 Q 485.4 383.5, 485.0 383.1 Q 484.6 382.6, 483.5 382.6 Q 482.9 382.6, 482.4 382.8 Q 481.9 382.9, 481.1 383.2 L 480.6 382.2 Q 482.1 381.4, 483.6 381.4 Q 485.3 381.4, 486.1 382.2 Q 486.9 382.9, 486.9 384.5 L 486.9 389.8 L 485.7 389.8 Q 485.7 389.7, 485.7 389.5 Q 485.6 389.2, 485.5 388.8 Q 484.4 390.0, 482.9 390.0 Q 481.6 390.0, 480.9 389.3 Q 480.1 388.7, 480.1 387.6 M 481.7 387.6 Q 481.7 388.2, 482.0 388.5 Q 482.4 388.8, 483.1 388.8 Q 483.8 388.8, 484.4 388.5 Q 485.0 388.2, 485.4 387.7 L 485.4 386.0 L 484.3 386.0 Q 483.0 386.0, 482.3 386.4 Q 481.7 386.8, 481.7 387.6 \" fill=\"#000000\"/>\n",
              "<path class=\"legend\" d=\"M 488.8 377.7 L 490.3 377.7 L 490.3 389.8 L 488.8 389.8 L 488.8 377.7 \" fill=\"#000000\"/>\n",
              "<path class=\"legend\" d=\"M 492.3 387.6 Q 492.3 386.3, 493.4 385.6 Q 494.4 384.8, 496.4 384.8 L 497.6 384.8 L 497.6 384.5 Q 497.6 383.5, 497.2 383.1 Q 496.7 382.6, 495.7 382.6 Q 495.1 382.6, 494.5 382.8 Q 494.0 382.9, 493.2 383.2 L 492.8 382.2 Q 494.3 381.4, 495.7 381.4 Q 497.5 381.4, 498.3 382.2 Q 499.1 382.9, 499.1 384.5 L 499.1 389.8 L 497.9 389.8 Q 497.9 389.7, 497.9 389.5 Q 497.8 389.2, 497.7 388.8 Q 496.6 390.0, 495.0 390.0 Q 493.8 390.0, 493.1 389.3 Q 492.3 388.7, 492.3 387.6 M 493.8 387.6 Q 493.8 388.2, 494.2 388.5 Q 494.6 388.8, 495.3 388.8 Q 496.0 388.8, 496.6 388.5 Q 497.2 388.2, 497.6 387.7 L 497.6 386.0 L 496.5 386.0 Q 495.2 386.0, 494.5 386.4 Q 493.8 386.8, 493.8 387.6 \" fill=\"#000000\"/>\n",
              "<path class=\"legend\" d=\"M 501.0 385.7 Q 501.0 383.7, 502.0 382.6 Q 503.0 381.4, 504.9 381.4 Q 506.8 381.4, 507.8 382.8 L 506.8 383.6 Q 506.4 383.1, 505.9 382.9 Q 505.5 382.6, 504.9 382.6 Q 503.8 382.6, 503.1 383.4 Q 502.5 384.2, 502.5 385.7 Q 502.5 387.2, 503.2 388.0 Q 503.8 388.8, 505.0 388.8 Q 505.7 388.8, 506.2 388.6 Q 506.6 388.4, 507.2 388.2 L 507.6 389.2 Q 506.4 389.9, 504.9 389.9 Q 503.0 389.9, 502.0 388.8 Q 501.0 387.7, 501.0 385.7 \" fill=\"#000000\"/>\n",
              "<path class=\"legend\" d=\"M 508.8 382.7 L 508.8 381.6 L 510.4 381.6 L 510.6 379.2 L 511.8 379.2 L 511.8 381.6 L 514.3 381.6 L 514.3 382.7 L 511.8 382.7 L 511.8 387.3 Q 511.8 388.7, 513.0 388.7 Q 513.4 388.7, 514.1 388.5 L 514.4 389.5 Q 513.5 389.9, 512.7 389.9 Q 511.6 389.9, 510.9 389.3 Q 510.3 388.6, 510.3 387.4 L 510.3 382.7 L 508.8 382.7 \" fill=\"#000000\"/>\n",
              "<path class=\"legend\" d=\"M 515.5 387.6 Q 515.5 386.3, 516.5 385.6 Q 517.6 384.8, 519.5 384.8 L 520.7 384.8 L 520.7 384.5 Q 520.7 383.5, 520.3 383.1 Q 519.9 382.6, 518.9 382.6 Q 518.2 382.6, 517.7 382.8 Q 517.2 382.9, 516.4 383.2 L 515.9 382.2 Q 517.4 381.4, 518.9 381.4 Q 520.6 381.4, 521.4 382.2 Q 522.2 382.9, 522.2 384.5 L 522.2 389.8 L 521.1 389.8 Q 521.0 389.7, 521.0 389.5 Q 520.9 389.2, 520.9 388.8 Q 519.7 390.0, 518.2 390.0 Q 516.9 390.0, 516.2 389.3 Q 515.5 388.7, 515.5 387.6 M 517.0 387.6 Q 517.0 388.2, 517.3 388.5 Q 517.7 388.8, 518.5 388.8 Q 519.1 388.8, 519.7 388.5 Q 520.3 388.2, 520.7 387.7 L 520.7 386.0 L 519.6 386.0 Q 518.3 386.0, 517.6 386.4 Q 517.0 386.8, 517.0 387.6 \" fill=\"#000000\"/>\n",
              "<path class=\"legend\" d=\"M 533.6 381.4 Q 535.0 381.4, 535.7 382.2 Q 536.4 382.9, 536.4 384.4 L 536.4 389.8 L 534.9 389.8 L 534.9 384.5 Q 534.9 383.5, 534.5 383.1 Q 534.2 382.6, 533.3 382.6 Q 532.6 382.6, 532.0 383.0 Q 531.4 383.3, 531.0 383.9 Q 531.0 384.1, 531.0 384.4 L 531.0 389.8 L 529.5 389.8 L 529.5 384.5 Q 529.5 383.5, 529.1 383.1 Q 528.8 382.6, 527.9 382.6 Q 527.2 382.6, 526.6 383.0 Q 526.0 383.3, 525.6 383.9 L 525.6 389.8 L 524.1 389.8 L 524.1 381.6 L 525.4 381.6 L 525.5 382.7 Q 526.6 381.4, 528.2 381.4 Q 530.2 381.4, 530.8 382.9 Q 531.9 381.4, 533.6 381.4 \" fill=\"#000000\"/>\n",
              "<path class=\"legend\" d=\"M 538.8 388.1 Q 539.5 388.4, 540.0 388.6 Q 540.5 388.7, 541.1 388.7 Q 541.8 388.7, 542.2 388.4 Q 542.6 388.1, 542.6 387.5 Q 542.6 387.1, 542.4 386.9 Q 542.2 386.7, 541.9 386.6 Q 541.7 386.4, 541.0 386.2 Q 540.8 386.2, 540.1 385.9 Q 539.4 385.7, 539.0 385.1 Q 538.6 384.6, 538.6 383.8 Q 538.6 382.8, 539.4 382.1 Q 540.1 381.4, 541.6 381.4 Q 542.2 381.4, 542.8 381.6 Q 543.3 381.7, 544.0 382.0 L 543.6 383.2 Q 543.0 382.9, 542.6 382.8 Q 542.1 382.7, 541.6 382.7 Q 540.9 382.7, 540.5 383.0 Q 540.1 383.3, 540.1 383.8 Q 540.1 384.2, 540.4 384.4 Q 540.7 384.6, 541.4 384.9 Q 541.6 384.9, 541.7 385.0 L 542.1 385.1 Q 542.8 385.4, 543.2 385.6 Q 543.6 385.8, 543.9 386.3 Q 544.1 386.7, 544.1 387.5 Q 544.1 388.7, 543.3 389.3 Q 542.5 390.0, 541.1 390.0 Q 540.3 390.0, 539.7 389.8 Q 539.0 389.6, 538.3 389.3 L 538.8 388.1 \" fill=\"#000000\"/>\n",
              "</svg>"
            ],
            "text/plain": [
              "<IPython.core.display.SVG object>"
            ]
          },
          "metadata": {},
          "output_type": "display_data"
        },
        {
          "name": "stdout",
          "output_type": "stream",
          "text": [
            "Match visualization saved to 'figures/ch02/glaxo_alerts_matches.svg'\n"
          ]
        }
      ],
      "source": [
        "def visualize_alert_matches(match_df, start_idx=2, n_matches=6):\n",
        "    \"\"\"\n",
        "    Visualize molecules matching structural alerts, with the matching substructure highlighted.\n",
        "\n",
        "    Parameters:\n",
        "    -----------\n",
        "    match_df : pandas.DataFrame\n",
        "        DataFrame containing match information\n",
        "    start_idx : int\n",
        "        Index to start from\n",
        "    n_matches : int\n",
        "        Number of matches to visualize\n",
        "\n",
        "    Returns:\n",
        "    --------\n",
        "    rdkit.Chem.Draw._MolsToGridImage\n",
        "        Grid image of molecules with highlighted substructures\n",
        "    \"\"\"\n",
        "    end_idx = start_idx + n_matches\n",
        "    if end_idx > len(match_df):\n",
        "        end_idx = len(match_df)\n",
        "        print(f\"Warning: Requested more matches than available. Showing {end_idx - start_idx} matches.\")\n",
        "\n",
        "    # Get molecules and matching substructures\n",
        "    mols = match_df.mol.iloc[start_idx:end_idx].tolist()\n",
        "    descriptions = match_df.description.iloc[start_idx:end_idx].tolist()\n",
        "\n",
        "    # Find the atoms in each molecule that match the alert substructure\n",
        "    highlights = [mol.GetSubstructMatch(alert) for mol, alert in\n",
        "                 zip(match_df.mol.iloc[start_idx:end_idx], match_df.alert.iloc[start_idx:end_idx])]\n",
        "\n",
        "    # Calculate grid dimensions\n",
        "    n_cols = min(3, n_matches)\n",
        "\n",
        "    # Create the visualization\n",
        "    drawing_options = setup_rdkit_drawing()\n",
        "    drawing_options.setHighlightColour((.635, .0, .145, .1))  # Set highlight color to be more visible\n",
        "\n",
        "    img = Draw.MolsToGridImage(\n",
        "        mols,\n",
        "        highlightAtomLists=highlights,\n",
        "        molsPerRow=n_cols,\n",
        "        legends=descriptions,\n",
        "        useSVG=True,\n",
        "        drawOptions=drawing_options\n",
        "    )\n",
        "\n",
        "    return img\n",
        "\n",
        "# Visualize example matches if we have any\n",
        "if 'glaxo_match_df' in locals() and not glaxo_match_df.empty:\n",
        "    match_img = visualize_alert_matches(glaxo_match_df, start_idx=2, n_matches=6)\n",
        "    display(match_img)\n",
        "\n",
        "    # Save the visualization\n",
        "    with open(\"figures/ch02/glaxo_alerts_matches.svg\", \"w\") as f:\n",
        "        f.write(match_img.data)\n",
        "    print(\"Match visualization saved to 'figures/ch02/glaxo_alerts_matches.svg'\")\n",
        "else:\n",
        "    print(\"No Glaxo alert matches to visualize.\")"
      ]
    },
    {
      "cell_type": "markdown",
      "metadata": {
        "id": "3sLZonAh0J7_"
      },
      "source": [
        "Let's summarize the results of our filtering process. This gives us an overview of how many compounds were removed at each step and what percentage of the original library remains after all filters have been applied:"
      ]
    },
    {
      "cell_type": "code",
      "execution_count": null,
      "metadata": {
        "id": "9elDdasC0J8A",
        "outputId": "efc14956-86e9-4633-f598-6d4dde595b11"
      },
      "outputs": [
        {
          "name": "stdout",
          "output_type": "stream",
          "text": [
            "Filtering Summary:\n",
            "Original compound library size: 212670\n",
            "After Lipinski's Rule of Five: 199481 (93.8%)\n",
            "After PAINS/BRENK filter: 105566 (49.6%)\n",
            "After Glaxo Wellcome filter: 105431 (49.6%)\n",
            "Total compounds removed: 107239 (50.4%)\n"
          ]
        }
      ],
      "source": [
        "def print_filtering_summary():\n",
        "    \"\"\"Print a summary of the filtering process\"\"\"\n",
        "    original_count = len(specs)\n",
        "    ro5_count = len(specs_ro5_compliant)\n",
        "    pains_brenk_count = len(specs_ro5_pains_brenk_compliant)\n",
        "    final_count = len(specs_filtered)\n",
        "\n",
        "    print(\"Filtering Summary:\")\n",
        "    print(f\"Original compound library size: {original_count}\")\n",
        "    print(f\"After Lipinski's Rule of Five: {ro5_count} ({ro5_count/original_count*100:.1f}%)\")\n",
        "    print(f\"After PAINS/BRENK filter: {pains_brenk_count} ({pains_brenk_count/original_count*100:.1f}%)\")\n",
        "    print(f\"After Glaxo Wellcome filter: {final_count} ({final_count/original_count*100:.1f}%)\")\n",
        "    print(f\"Total compounds removed: {original_count - final_count} ({(original_count - final_count)/original_count*100:.1f}%)\")\n",
        "\n",
        "# Print the filtering summary\n",
        "print_filtering_summary()"
      ]
    },
    {
      "cell_type": "markdown",
      "metadata": {
        "id": "EbRZ6gLHdJj9"
      },
      "source": [
        "## <b> <font color='#A20025'> 4️⃣ Fingerprints: Representing Molecules as Numbers"
      ]
    },
    {
      "cell_type": "markdown",
      "metadata": {
        "id": "tSP8x1CU0J8C"
      },
      "source": [
        "To apply machine learning and similarity searching, we need to convert molecular structures into numerical representations called **fingerprints**. Molecular fingerprints encode the structural features of molecules as bit vectors, allowing us to:\n",
        "\n",
        "1. Compute similarity between molecules\n",
        "2. Apply machine learning algorithms\n",
        "3. Perform fast substructure searching\n",
        "\n",
        "Several types of fingerprints exist, but we'll focus on **Morgan fingerprints** (also known as ECFP - Extended Connectivity Fingerprints), which are among the most widely used in drug discovery."
      ]
    },
    {
      "cell_type": "markdown",
      "metadata": {
        "id": "86mMTw0u1w62"
      },
      "source": [
        "### <b> <font color='#A20025'> Fingerprinting our Library"
      ]
    },
    {
      "cell_type": "markdown",
      "metadata": {
        "id": "D4vRsJHX0J8D"
      },
      "source": [
        "Morgan fingerprints (ECFPs) work by:\n",
        "\n",
        "1. Assigning initial identifiers to each atom\n",
        "2. Updating these identifiers based on neighboring atoms (within a specified radius)\n",
        "3. Hashing these features to create a fixed-length bit vector\n",
        "\n",
        "The radius parameter determines how many bonds away from each atom the algorithm considers, with larger radii capturing more extended features."
      ]
    },
    {
      "cell_type": "code",
      "execution_count": null,
      "metadata": {
        "id": "_TUdrFwV0J8E",
        "outputId": "2309dfda-746d-4896-f8fd-3ec85eb00335"
      },
      "outputs": [
        {
          "name": "stdout",
          "output_type": "stream",
          "text": [
            "Generating Morgan fingerprints (radius=2, n_bits=2048)...\n",
            "Fingerprints generated and stored in column 'morgan_fp_r2_b2048'\n"
          ]
        }
      ],
      "source": [
        "def generate_morgan_fingerprints(df, mol_col='mol', radius=2, n_bits=2048):\n",
        "    \"\"\"\n",
        "    Generate Morgan fingerprints for a set of molecules.\n",
        "\n",
        "    Parameters:\n",
        "    -----------\n",
        "    df : pandas.DataFrame\n",
        "        DataFrame containing molecules\n",
        "    mol_col : str\n",
        "        Name of the column containing RDKit molecule objects\n",
        "    radius : int\n",
        "        Radius for the Morgan fingerprint algorithm\n",
        "    n_bits : int\n",
        "        Number of bits in the fingerprint\n",
        "\n",
        "    Returns:\n",
        "    --------\n",
        "    pandas.DataFrame\n",
        "        DataFrame with added fingerprint column\n",
        "    \"\"\"\n",
        "    print(f\"Generating Morgan fingerprints (radius={radius}, n_bits={n_bits})...\")\n",
        "\n",
        "    fp_col_name = f\"morgan_fp_r{radius}_b{n_bits}\"\n",
        "\n",
        "    morgan_generator = GetMorganGenerator(radius=radius, fpSize=n_bits)\n",
        "\n",
        "    def compute_fingerprint(mol):\n",
        "        \"\"\"Generate a Morgan fingerprint for a molecule\"\"\"\n",
        "        if mol is None:\n",
        "            return None\n",
        "        return morgan_generator.GetFingerprint(mol)\n",
        "\n",
        "    df.loc[:,fp_col_name] = df[mol_col].apply(compute_fingerprint)\n",
        "\n",
        "    print(f\"Fingerprints generated and stored in column '{fp_col_name}'\")\n",
        "    return df, fp_col_name\n",
        "\n",
        "# Generate fingerprints for our filtered compounds\n",
        "specs_filtered, fp_col_name = generate_morgan_fingerprints(specs_filtered)\n"
      ]
    },
    {
      "cell_type": "markdown",
      "metadata": {
        "id": "hJPZ4SXG0J8F"
      },
      "source": [
        "To better understand how Morgan fingerprints work, let's visualize how a molecule is decomposed into the structural features that are encoded in the fingerprint:"
      ]
    },
    {
      "cell_type": "code",
      "execution_count": null,
      "metadata": {
        "id": "pYOwjCz70J8G",
        "outputId": "0dd55dd6-d789-449c-ac28-588bdd9047f2"
      },
      "outputs": [
        {
          "name": "stdout",
          "output_type": "stream",
          "text": [
            "Original Molecule:\n"
          ]
        },
        {
          "data": {
            "image/svg+xml": [
              "<svg xmlns=\"http://www.w3.org/2000/svg\" xmlns:rdkit=\"http://www.rdkit.org/xml\" xmlns:xlink=\"http://www.w3.org/1999/xlink\" version=\"1.1\" baseProfile=\"full\" xml:space=\"preserve\" width=\"400px\" height=\"300px\" viewBox=\"0 0 400 300\">\n",
              "<!-- END OF HEADER -->\n",
              "<rect style=\"opacity:1.0;fill:#FFFFFF;stroke:none\" width=\"400.0\" height=\"300.0\" x=\"0.0\" y=\"0.0\"> </rect>\n",
              "<path class=\"bond-0 atom-0 atom-1\" d=\"M 336.0,81.4 L 320.1,98.8\" style=\"fill:none;fill-rule:evenodd;stroke:#000000;stroke-width:2.0px;stroke-linecap:butt;stroke-linejoin:miter;stroke-opacity:1\"/>\n",
              "<path class=\"bond-1 atom-1 atom-2\" d=\"M 320.1,98.8 L 282.9,90.5\" style=\"fill:none;fill-rule:evenodd;stroke:#000000;stroke-width:2.0px;stroke-linecap:butt;stroke-linejoin:miter;stroke-opacity:1\"/>\n",
              "<path class=\"bond-1 atom-1 atom-2\" d=\"M 315.6,103.6 L 284.9,96.8\" style=\"fill:none;fill-rule:evenodd;stroke:#000000;stroke-width:2.0px;stroke-linecap:butt;stroke-linejoin:miter;stroke-opacity:1\"/>\n",
              "<path class=\"bond-2 atom-2 atom-3\" d=\"M 282.9,90.5 L 257.2,118.5\" style=\"fill:none;fill-rule:evenodd;stroke:#000000;stroke-width:2.0px;stroke-linecap:butt;stroke-linejoin:miter;stroke-opacity:1\"/>\n",
              "<path class=\"bond-3 atom-3 atom-4\" d=\"M 257.2,118.5 L 268.6,154.8\" style=\"fill:none;fill-rule:evenodd;stroke:#000000;stroke-width:2.0px;stroke-linecap:butt;stroke-linejoin:miter;stroke-opacity:1\"/>\n",
              "<path class=\"bond-3 atom-3 atom-4\" d=\"M 263.6,120.0 L 273.0,150.0\" style=\"fill:none;fill-rule:evenodd;stroke:#000000;stroke-width:2.0px;stroke-linecap:butt;stroke-linejoin:miter;stroke-opacity:1\"/>\n",
              "<path class=\"bond-4 atom-4 atom-5\" d=\"M 268.6,154.8 L 242.8,182.9\" style=\"fill:none;fill-rule:evenodd;stroke:#000000;stroke-width:2.0px;stroke-linecap:butt;stroke-linejoin:miter;stroke-opacity:1\"/>\n",
              "<path class=\"bond-5 atom-5 atom-6\" d=\"M 242.8,182.9 L 214.8,176.6\" style=\"fill:none;fill-rule:evenodd;stroke:#000000;stroke-width:2.0px;stroke-linecap:butt;stroke-linejoin:miter;stroke-opacity:1\"/>\n",
              "<path class=\"bond-6 atom-6 atom-7\" d=\"M 202.4,164.1 L 194.3,138.3\" style=\"fill:none;fill-rule:evenodd;stroke:#000000;stroke-width:2.0px;stroke-linecap:butt;stroke-linejoin:miter;stroke-opacity:1\"/>\n",
              "<path class=\"bond-7 atom-7 atom-8\" d=\"M 194.3,138.3 L 157.2,130.0\" style=\"fill:none;fill-rule:evenodd;stroke:#000000;stroke-width:2.0px;stroke-linecap:butt;stroke-linejoin:miter;stroke-opacity:1\"/>\n",
              "<path class=\"bond-8 atom-8 atom-9\" d=\"M 157.2,130.0 L 140.6,148.1\" style=\"fill:none;fill-rule:evenodd;stroke:#000000;stroke-width:2.0px;stroke-linecap:butt;stroke-linejoin:miter;stroke-opacity:1\"/>\n",
              "<path class=\"bond-9 atom-9 atom-10\" d=\"M 122.3,156.0 L 94.3,149.7\" style=\"fill:none;fill-rule:evenodd;stroke:#000000;stroke-width:2.0px;stroke-linecap:butt;stroke-linejoin:miter;stroke-opacity:1\"/>\n",
              "<path class=\"bond-10 atom-10 atom-11\" d=\"M 94.3,149.7 L 82.9,113.4\" style=\"fill:none;fill-rule:evenodd;stroke:#000000;stroke-width:2.0px;stroke-linecap:butt;stroke-linejoin:miter;stroke-opacity:1\"/>\n",
              "<path class=\"bond-10 atom-10 atom-11\" d=\"M 87.8,148.3 L 78.4,118.3\" style=\"fill:none;fill-rule:evenodd;stroke:#000000;stroke-width:2.0px;stroke-linecap:butt;stroke-linejoin:miter;stroke-opacity:1\"/>\n",
              "<path class=\"bond-11 atom-11 atom-12\" d=\"M 82.9,113.4 L 45.7,105.2\" style=\"fill:none;fill-rule:evenodd;stroke:#000000;stroke-width:2.0px;stroke-linecap:butt;stroke-linejoin:miter;stroke-opacity:1\"/>\n",
              "<path class=\"bond-12 atom-12 atom-13\" d=\"M 45.7,105.2 L 20.0,133.2\" style=\"fill:none;fill-rule:evenodd;stroke:#000000;stroke-width:2.0px;stroke-linecap:butt;stroke-linejoin:miter;stroke-opacity:1\"/>\n",
              "<path class=\"bond-12 atom-12 atom-13\" d=\"M 47.7,111.4 L 26.4,134.6\" style=\"fill:none;fill-rule:evenodd;stroke:#000000;stroke-width:2.0px;stroke-linecap:butt;stroke-linejoin:miter;stroke-opacity:1\"/>\n",
              "<path class=\"bond-13 atom-13 atom-14\" d=\"M 20.0,133.2 L 31.4,169.5\" style=\"fill:none;fill-rule:evenodd;stroke:#000000;stroke-width:2.0px;stroke-linecap:butt;stroke-linejoin:miter;stroke-opacity:1\"/>\n",
              "<path class=\"bond-14 atom-14 atom-15\" d=\"M 31.4,169.5 L 59.4,175.7\" style=\"fill:none;fill-rule:evenodd;stroke:#000000;stroke-width:2.0px;stroke-linecap:butt;stroke-linejoin:miter;stroke-opacity:1\"/>\n",
              "<path class=\"bond-14 atom-14 atom-15\" d=\"M 35.9,164.6 L 60.6,170.2\" style=\"fill:none;fill-rule:evenodd;stroke:#000000;stroke-width:2.0px;stroke-linecap:butt;stroke-linejoin:miter;stroke-opacity:1\"/>\n",
              "<path class=\"bond-15 atom-9 atom-16\" d=\"M 134.7,168.5 L 142.8,194.3\" style=\"fill:none;fill-rule:evenodd;stroke:#000000;stroke-width:2.0px;stroke-linecap:butt;stroke-linejoin:miter;stroke-opacity:1\"/>\n",
              "<path class=\"bond-16 atom-16 atom-17\" d=\"M 142.8,194.3 L 180.0,202.6\" style=\"fill:none;fill-rule:evenodd;stroke:#000000;stroke-width:2.0px;stroke-linecap:butt;stroke-linejoin:miter;stroke-opacity:1\"/>\n",
              "<path class=\"bond-17 atom-4 atom-18\" d=\"M 268.6,154.8 L 305.7,163.1\" style=\"fill:none;fill-rule:evenodd;stroke:#000000;stroke-width:2.0px;stroke-linecap:butt;stroke-linejoin:miter;stroke-opacity:1\"/>\n",
              "<path class=\"bond-18 atom-18 atom-19\" d=\"M 305.7,163.1 L 317.1,199.4\" style=\"fill:none;fill-rule:evenodd;stroke:#000000;stroke-width:2.0px;stroke-linecap:butt;stroke-linejoin:miter;stroke-opacity:1\"/>\n",
              "<path class=\"bond-18 atom-18 atom-19\" d=\"M 312.2,164.5 L 321.6,194.6\" style=\"fill:none;fill-rule:evenodd;stroke:#000000;stroke-width:2.0px;stroke-linecap:butt;stroke-linejoin:miter;stroke-opacity:1\"/>\n",
              "<path class=\"bond-19 atom-19 atom-20\" d=\"M 317.1,199.4 L 354.3,207.7\" style=\"fill:none;fill-rule:evenodd;stroke:#000000;stroke-width:2.0px;stroke-linecap:butt;stroke-linejoin:miter;stroke-opacity:1\"/>\n",
              "<path class=\"bond-20 atom-20 atom-21\" d=\"M 354.3,207.7 L 380.0,179.7\" style=\"fill:none;fill-rule:evenodd;stroke:#000000;stroke-width:2.0px;stroke-linecap:butt;stroke-linejoin:miter;stroke-opacity:1\"/>\n",
              "<path class=\"bond-20 atom-20 atom-21\" d=\"M 352.3,201.4 L 373.6,178.2\" style=\"fill:none;fill-rule:evenodd;stroke:#000000;stroke-width:2.0px;stroke-linecap:butt;stroke-linejoin:miter;stroke-opacity:1\"/>\n",
              "<path class=\"bond-21 atom-21 atom-22\" d=\"M 380.0,179.7 L 371.9,153.8\" style=\"fill:none;fill-rule:evenodd;stroke:#000000;stroke-width:2.0px;stroke-linecap:butt;stroke-linejoin:miter;stroke-opacity:1\"/>\n",
              "<path class=\"bond-22 atom-22 atom-23\" d=\"M 359.5,141.3 L 331.5,135.1\" style=\"fill:none;fill-rule:evenodd;stroke:#000000;stroke-width:2.0px;stroke-linecap:butt;stroke-linejoin:miter;stroke-opacity:1\"/>\n",
              "<path class=\"bond-22 atom-22 atom-23\" d=\"M 358.2,146.9 L 333.4,141.4\" style=\"fill:none;fill-rule:evenodd;stroke:#000000;stroke-width:2.0px;stroke-linecap:butt;stroke-linejoin:miter;stroke-opacity:1\"/>\n",
              "<path class=\"bond-23 atom-23 atom-1\" d=\"M 331.5,135.1 L 320.1,98.8\" style=\"fill:none;fill-rule:evenodd;stroke:#000000;stroke-width:2.0px;stroke-linecap:butt;stroke-linejoin:miter;stroke-opacity:1\"/>\n",
              "<path class=\"bond-24 atom-17 atom-6\" d=\"M 180.0,202.6 L 196.6,184.5\" style=\"fill:none;fill-rule:evenodd;stroke:#000000;stroke-width:2.0px;stroke-linecap:butt;stroke-linejoin:miter;stroke-opacity:1\"/>\n",
              "<path class=\"bond-25 atom-23 atom-18\" d=\"M 331.5,135.1 L 305.7,163.1\" style=\"fill:none;fill-rule:evenodd;stroke:#000000;stroke-width:2.0px;stroke-linecap:butt;stroke-linejoin:miter;stroke-opacity:1\"/>\n",
              "<path class=\"bond-26 atom-15 atom-10\" d=\"M 77.7,167.8 L 94.3,149.7\" style=\"fill:none;fill-rule:evenodd;stroke:#000000;stroke-width:2.0px;stroke-linecap:butt;stroke-linejoin:miter;stroke-opacity:1\"/>\n",
              "<path d=\"M 284.8,90.9 L 282.9,90.5 L 281.6,91.9\" style=\"fill:none;stroke:#000000;stroke-width:2.0px;stroke-linecap:butt;stroke-linejoin:miter;stroke-opacity:1;\"/>\n",
              "<path d=\"M 258.5,117.1 L 257.2,118.5 L 257.7,120.3\" style=\"fill:none;stroke:#000000;stroke-width:2.0px;stroke-linecap:butt;stroke-linejoin:miter;stroke-opacity:1;\"/>\n",
              "<path d=\"M 244.1,181.5 L 242.8,182.9 L 241.4,182.5\" style=\"fill:none;stroke:#000000;stroke-width:2.0px;stroke-linecap:butt;stroke-linejoin:miter;stroke-opacity:1;\"/>\n",
              "<path d=\"M 194.7,139.6 L 194.3,138.3 L 192.4,137.9\" style=\"fill:none;stroke:#000000;stroke-width:2.0px;stroke-linecap:butt;stroke-linejoin:miter;stroke-opacity:1;\"/>\n",
              "<path d=\"M 159.0,130.4 L 157.2,130.0 L 156.3,130.9\" style=\"fill:none;stroke:#000000;stroke-width:2.0px;stroke-linecap:butt;stroke-linejoin:miter;stroke-opacity:1;\"/>\n",
              "<path d=\"M 83.4,115.3 L 82.9,113.4 L 81.0,113.0\" style=\"fill:none;stroke:#000000;stroke-width:2.0px;stroke-linecap:butt;stroke-linejoin:miter;stroke-opacity:1;\"/>\n",
              "<path d=\"M 47.6,105.6 L 45.7,105.2 L 44.5,106.6\" style=\"fill:none;stroke:#000000;stroke-width:2.0px;stroke-linecap:butt;stroke-linejoin:miter;stroke-opacity:1;\"/>\n",
              "<path d=\"M 21.3,131.8 L 20.0,133.2 L 20.6,135.0\" style=\"fill:none;stroke:#000000;stroke-width:2.0px;stroke-linecap:butt;stroke-linejoin:miter;stroke-opacity:1;\"/>\n",
              "<path d=\"M 30.8,167.7 L 31.4,169.5 L 32.8,169.8\" style=\"fill:none;stroke:#000000;stroke-width:2.0px;stroke-linecap:butt;stroke-linejoin:miter;stroke-opacity:1;\"/>\n",
              "<path d=\"M 142.4,193.0 L 142.8,194.3 L 144.7,194.7\" style=\"fill:none;stroke:#000000;stroke-width:2.0px;stroke-linecap:butt;stroke-linejoin:miter;stroke-opacity:1;\"/>\n",
              "<path d=\"M 178.1,202.2 L 180.0,202.6 L 180.8,201.7\" style=\"fill:none;stroke:#000000;stroke-width:2.0px;stroke-linecap:butt;stroke-linejoin:miter;stroke-opacity:1;\"/>\n",
              "<path d=\"M 316.6,197.6 L 317.1,199.4 L 319.0,199.8\" style=\"fill:none;stroke:#000000;stroke-width:2.0px;stroke-linecap:butt;stroke-linejoin:miter;stroke-opacity:1;\"/>\n",
              "<path d=\"M 352.4,207.3 L 354.3,207.7 L 355.5,206.3\" style=\"fill:none;stroke:#000000;stroke-width:2.0px;stroke-linecap:butt;stroke-linejoin:miter;stroke-opacity:1;\"/>\n",
              "<path d=\"M 378.7,181.1 L 380.0,179.7 L 379.6,178.4\" style=\"fill:none;stroke:#000000;stroke-width:2.0px;stroke-linecap:butt;stroke-linejoin:miter;stroke-opacity:1;\"/>\n",
              "<path class=\"atom-0\" d=\"M 340.9 70.8 Q 340.9 68.2, 342.1 66.8 Q 343.4 65.3, 345.8 65.3 Q 348.2 65.3, 349.5 66.8 Q 350.7 68.2, 350.7 70.8 Q 350.7 73.4, 349.5 74.9 Q 348.2 76.4, 345.8 76.4 Q 343.4 76.4, 342.1 74.9 Q 340.9 73.4, 340.9 70.8 M 345.8 75.2 Q 347.4 75.2, 348.3 74.1 Q 349.2 72.9, 349.2 70.8 Q 349.2 68.7, 348.3 67.6 Q 347.4 66.5, 345.8 66.5 Q 344.2 66.5, 343.3 67.6 Q 342.4 68.7, 342.4 70.8 Q 342.4 73.0, 343.3 74.1 Q 344.2 75.2, 345.8 75.2 \" fill=\"#000000\"/>\n",
              "<path class=\"atom-0\" d=\"M 352.4 65.4 L 353.9 65.4 L 353.9 70.0 L 359.4 70.0 L 359.4 65.4 L 360.9 65.4 L 360.9 76.2 L 359.4 76.2 L 359.4 71.2 L 353.9 71.2 L 353.9 76.2 L 352.4 76.2 L 352.4 65.4 \" fill=\"#000000\"/>\n",
              "<path class=\"atom-6\" d=\"M 203.3 169.2 L 206.8 174.9 Q 207.2 175.5, 207.8 176.5 Q 208.3 177.5, 208.4 177.6 L 208.4 169.2 L 209.8 169.2 L 209.8 180.0 L 208.3 180.0 L 204.5 173.7 Q 204.1 173.0, 203.6 172.2 Q 203.2 171.3, 203.0 171.1 L 203.0 180.0 L 201.6 180.0 L 201.6 169.2 L 203.3 169.2 \" fill=\"#000000\"/>\n",
              "<path class=\"atom-9\" d=\"M 129.0 152.6 L 132.6 158.3 Q 132.9 158.9, 133.5 159.9 Q 134.0 160.9, 134.1 161.0 L 134.1 152.6 L 135.5 152.6 L 135.5 163.4 L 134.0 163.4 L 130.2 157.2 Q 129.8 156.4, 129.3 155.6 Q 128.9 154.8, 128.7 154.5 L 128.7 163.4 L 127.3 163.4 L 127.3 152.6 L 129.0 152.6 \" fill=\"#000000\"/>\n",
              "<path class=\"atom-15\" d=\"M 66.2 172.4 L 69.7 178.1 Q 70.0 178.7, 70.6 179.7 Q 71.2 180.7, 71.2 180.8 L 71.2 172.4 L 72.6 172.4 L 72.6 183.2 L 71.2 183.2 L 67.4 176.9 Q 66.9 176.2, 66.4 175.3 Q 66.0 174.5, 65.9 174.3 L 65.9 183.2 L 64.5 183.2 L 64.5 172.4 L 66.2 172.4 \" fill=\"#000000\"/>\n",
              "<path class=\"atom-22\" d=\"M 366.2 138.0 L 369.7 143.7 Q 370.1 144.2, 370.7 145.3 Q 371.2 146.3, 371.3 146.3 L 371.3 138.0 L 372.7 138.0 L 372.7 148.8 L 371.2 148.8 L 367.4 142.5 Q 367.0 141.8, 366.5 140.9 Q 366.0 140.1, 365.9 139.8 L 365.9 148.8 L 364.5 148.8 L 364.5 138.0 L 366.2 138.0 \" fill=\"#000000\"/>\n",
              "<path class=\"legend\" d=\"M 138.7 275.3 Q 138.7 272.6, 140.0 271.0 Q 141.4 269.5, 143.9 269.5 Q 146.4 269.5, 147.7 271.0 Q 149.1 272.6, 149.1 275.3 Q 149.1 278.0, 147.7 279.6 Q 146.4 281.2, 143.9 281.2 Q 141.4 281.2, 140.0 279.6 Q 138.7 278.1, 138.7 275.3 M 143.9 279.9 Q 145.6 279.9, 146.5 278.7 Q 147.5 277.6, 147.5 275.3 Q 147.5 273.1, 146.5 271.9 Q 145.6 270.8, 143.9 270.8 Q 142.1 270.8, 141.2 271.9 Q 140.3 273.0, 140.3 275.3 Q 140.3 277.6, 141.2 278.7 Q 142.1 279.9, 143.9 279.9 \" fill=\"#000000\"/>\n",
              "<path class=\"legend\" d=\"M 151.6 272.8 L 151.8 273.9 Q 152.7 272.6, 154.1 272.6 Q 154.5 272.6, 155.1 272.8 L 154.9 274.1 Q 154.2 274.0, 153.8 274.0 Q 153.2 274.0, 152.7 274.2 Q 152.3 274.5, 151.9 275.1 L 151.9 281.0 L 150.4 281.0 L 150.4 272.8 L 151.6 272.8 \" fill=\"#000000\"/>\n",
              "<path class=\"legend\" d=\"M 155.9 269.7 L 157.4 269.7 L 157.4 271.0 L 155.9 271.0 L 155.9 269.7 M 155.9 272.8 L 157.4 272.8 L 157.4 281.0 L 155.9 281.0 L 155.9 272.8 \" fill=\"#000000\"/>\n",
              "<path class=\"legend\" d=\"M 166.8 272.7 L 166.8 281.5 Q 166.8 285.0, 163.0 285.0 Q 161.2 285.0, 159.6 284.2 L 160.1 283.1 Q 161.0 283.5, 161.6 283.7 Q 162.2 283.8, 163.0 283.8 Q 164.2 283.8, 164.8 283.3 Q 165.3 282.7, 165.3 281.5 L 165.3 280.1 Q 164.4 281.1, 162.9 281.1 Q 161.2 281.1, 160.3 280.1 Q 159.3 279.0, 159.3 277.0 Q 159.3 274.9, 160.4 273.8 Q 161.6 272.6, 163.5 272.6 Q 164.6 272.6, 165.5 272.9 L 165.6 272.7 L 166.8 272.7 M 163.0 279.9 Q 163.9 279.9, 164.5 279.5 Q 165.1 279.0, 165.3 278.2 L 165.3 274.0 Q 164.5 273.8, 163.6 273.8 Q 162.3 273.8, 161.6 274.6 Q 160.9 275.5, 160.9 277.0 Q 160.9 278.4, 161.4 279.2 Q 162.0 279.9, 163.0 279.9 \" fill=\"#000000\"/>\n",
              "<path class=\"legend\" d=\"M 168.7 269.7 L 170.1 269.7 L 170.1 271.0 L 168.7 271.0 L 168.7 269.7 M 168.7 272.8 L 170.1 272.8 L 170.1 281.0 L 168.7 281.0 L 168.7 272.8 \" fill=\"#000000\"/>\n",
              "<path class=\"legend\" d=\"M 176.3 272.6 Q 177.7 272.6, 178.3 273.4 Q 179.0 274.1, 179.0 275.5 L 179.0 281.0 L 177.5 281.0 L 177.5 275.7 Q 177.5 274.7, 177.2 274.2 Q 176.8 273.8, 176.0 273.8 Q 175.2 273.8, 174.6 274.2 Q 174.0 274.5, 173.6 275.1 L 173.6 281.0 L 172.1 281.0 L 172.1 272.8 L 173.3 272.8 L 173.5 273.9 Q 174.6 272.6, 176.3 272.6 \" fill=\"#000000\"/>\n",
              "<path class=\"legend\" d=\"M 180.8 278.8 Q 180.8 277.4, 181.9 276.7 Q 182.9 276.0, 184.9 276.0 L 186.1 276.0 L 186.1 275.7 Q 186.1 274.7, 185.7 274.2 Q 185.2 273.8, 184.2 273.8 Q 183.6 273.8, 183.0 273.9 Q 182.5 274.0, 181.7 274.4 L 181.3 273.4 Q 182.8 272.6, 184.2 272.6 Q 186.0 272.6, 186.8 273.4 Q 187.6 274.1, 187.6 275.7 L 187.6 281.0 L 186.4 281.0 Q 186.4 280.9, 186.4 280.7 Q 186.3 280.4, 186.2 280.0 Q 185.1 281.2, 183.5 281.2 Q 182.3 281.2, 181.6 280.5 Q 180.8 279.9, 180.8 278.8 M 182.3 278.7 Q 182.3 279.3, 182.7 279.7 Q 183.1 280.0, 183.8 280.0 Q 184.5 280.0, 185.1 279.7 Q 185.7 279.4, 186.1 278.9 L 186.1 277.1 L 185.0 277.1 Q 183.7 277.1, 183.0 277.5 Q 182.3 277.9, 182.3 278.7 \" fill=\"#000000\"/>\n",
              "<path class=\"legend\" d=\"M 189.4 268.8 L 190.8 268.8 L 190.8 281.0 L 189.4 281.0 L 189.4 268.8 \" fill=\"#000000\"/>\n",
              "<path class=\"legend\" d=\"\" fill=\"#000000\"/>\n",
              "<path class=\"legend\" d=\"M 211.6 281.0 L 210.1 281.0 L 208.9 271.7 L 205.9 281.0 L 204.3 281.0 L 201.3 271.7 L 200.1 281.0 L 198.6 281.0 L 200.1 269.7 L 202.0 269.7 L 205.1 278.8 L 208.2 269.7 L 210.1 269.7 L 211.6 281.0 \" fill=\"#000000\"/>\n",
              "<path class=\"legend\" d=\"M 213.2 276.9 Q 213.2 274.9, 214.2 273.7 Q 215.2 272.6, 217.1 272.6 Q 219.0 272.6, 220.0 273.7 Q 221.0 274.9, 221.0 276.9 Q 221.0 278.9, 220.0 280.0 Q 219.0 281.1, 217.1 281.1 Q 215.2 281.1, 214.2 280.0 Q 213.2 278.9, 213.2 276.9 M 214.7 276.9 Q 214.7 278.4, 215.3 279.1 Q 215.9 279.9, 217.1 279.9 Q 218.2 279.9, 218.8 279.1 Q 219.4 278.4, 219.4 276.9 Q 219.4 275.4, 218.8 274.6 Q 218.2 273.8, 217.1 273.8 Q 215.9 273.8, 215.3 274.6 Q 214.7 275.4, 214.7 276.9 \" fill=\"#000000\"/>\n",
              "<path class=\"legend\" d=\"M 222.3 268.8 L 223.7 268.8 L 223.7 281.0 L 222.3 281.0 L 222.3 268.8 \" fill=\"#000000\"/>\n",
              "<path class=\"legend\" d=\"M 225.7 276.9 Q 225.7 274.8, 226.7 273.7 Q 227.7 272.6, 229.5 272.6 Q 231.3 272.6, 232.1 273.7 Q 232.9 274.8, 232.9 276.8 L 232.9 277.1 L 227.2 277.1 Q 227.2 278.5, 227.9 279.2 Q 228.5 279.9, 229.6 279.9 Q 230.3 279.9, 230.9 279.8 Q 231.5 279.6, 232.2 279.3 L 232.6 280.3 Q 231.8 280.7, 231.1 280.9 Q 230.3 281.1, 229.6 281.1 Q 227.7 281.1, 226.7 280.0 Q 225.7 278.9, 225.7 276.9 M 229.5 273.8 Q 228.6 273.8, 228.0 274.3 Q 227.4 274.9, 227.3 275.9 L 231.4 275.9 Q 231.2 274.8, 230.8 274.3 Q 230.3 273.8, 229.5 273.8 \" fill=\"#000000\"/>\n",
              "<path class=\"legend\" d=\"M 234.1 276.9 Q 234.1 274.9, 235.1 273.8 Q 236.1 272.6, 238.0 272.6 Q 239.9 272.6, 240.9 274.0 L 239.9 274.7 Q 239.5 274.3, 239.0 274.0 Q 238.6 273.8, 238.0 273.8 Q 236.9 273.8, 236.3 274.6 Q 235.6 275.4, 235.6 276.9 Q 235.6 278.4, 236.3 279.2 Q 236.9 279.9, 238.1 279.9 Q 238.8 279.9, 239.3 279.8 Q 239.7 279.6, 240.3 279.4 L 240.7 280.4 Q 239.5 281.1, 238.0 281.1 Q 236.1 281.1, 235.1 280.0 Q 234.1 278.8, 234.1 276.9 \" fill=\"#000000\"/>\n",
              "<path class=\"legend\" d=\"M 248.8 272.8 L 248.8 281.0 L 247.6 281.0 L 247.4 279.8 Q 246.3 281.1, 244.6 281.1 Q 243.2 281.1, 242.5 280.4 Q 241.8 279.6, 241.8 278.2 L 241.8 272.8 L 243.3 272.8 L 243.3 278.1 Q 243.3 279.1, 243.7 279.5 Q 244.1 279.9, 244.9 279.9 Q 245.6 279.9, 246.3 279.6 Q 246.9 279.3, 247.3 278.6 L 247.3 272.8 L 248.8 272.8 \" fill=\"#000000\"/>\n",
              "<path class=\"legend\" d=\"M 250.7 268.8 L 252.1 268.8 L 252.1 281.0 L 250.7 281.0 L 250.7 268.8 \" fill=\"#000000\"/>\n",
              "<path class=\"legend\" d=\"M 254.0 276.9 Q 254.0 274.8, 255.1 273.7 Q 256.1 272.6, 257.9 272.6 Q 259.7 272.6, 260.5 273.7 Q 261.3 274.8, 261.3 276.8 L 261.3 277.1 L 255.6 277.1 Q 255.6 278.5, 256.2 279.2 Q 256.9 279.9, 258.0 279.9 Q 258.7 279.9, 259.3 279.8 Q 259.9 279.6, 260.6 279.3 L 261.0 280.3 Q 260.2 280.7, 259.5 280.9 Q 258.7 281.1, 258.0 281.1 Q 256.1 281.1, 255.1 280.0 Q 254.0 278.9, 254.0 276.9 M 257.9 273.8 Q 257.0 273.8, 256.4 274.3 Q 255.8 274.9, 255.6 275.9 L 259.7 275.9 Q 259.6 274.8, 259.2 274.3 Q 258.7 273.8, 257.9 273.8 \" fill=\"#000000\"/>\n",
              "</svg>"
            ],
            "text/plain": [
              "<IPython.core.display.SVG object>"
            ]
          },
          "metadata": {},
          "output_type": "display_data"
        },
        {
          "name": "stdout",
          "output_type": "stream",
          "text": [
            "\n",
            "Showing 5 of 40 total fingerprint features:\n",
            "Feature 1 (Bit 74):\n"
          ]
        },
        {
          "data": {
            "image/svg+xml": [
              "<svg xmlns=\"http://www.w3.org/2000/svg\" xmlns:rdkit=\"http://www.rdkit.org/xml\" xmlns:xlink=\"http://www.w3.org/1999/xlink\" version=\"1.1\" baseProfile=\"full\" xml:space=\"preserve\" width=\"150px\" height=\"150px\" viewBox=\"0 0 150 150\">\n",
              "<!-- END OF HEADER -->\n",
              "<rect style=\"opacity:1.0;fill:#FFFFFF;stroke:none\" width=\"150.0\" height=\"150.0\" x=\"0.0\" y=\"0.0\"> </rect>\n",
              "<ellipse cx=\"93.3\" cy=\"81.2\" rx=\"5.7\" ry=\"5.7\" class=\"atom-2\" style=\"fill:#CCCCCC;fill-rule:evenodd;stroke:#CCCCCC;stroke-width:1.0px;stroke-linecap:butt;stroke-linejoin:miter;stroke-opacity:1\"/>\n",
              "<ellipse cx=\"84.7\" cy=\"53.9\" rx=\"5.7\" ry=\"5.7\" class=\"atom-3\" style=\"fill:#9999E5;fill-rule:evenodd;stroke:#9999E5;stroke-width:1.0px;stroke-linecap:butt;stroke-linejoin:miter;stroke-opacity:1\"/>\n",
              "<ellipse cx=\"56.7\" cy=\"47.7\" rx=\"5.7\" ry=\"5.7\" class=\"atom-4\" style=\"fill:#CCCCCC;fill-rule:evenodd;stroke:#CCCCCC;stroke-width:1.0px;stroke-linecap:butt;stroke-linejoin:miter;stroke-opacity:1\"/>\n",
              "<ellipse cx=\"37.4\" cy=\"68.8\" rx=\"5.7\" ry=\"5.7\" class=\"atom-5\" style=\"fill:#CCCCCC;fill-rule:evenodd;stroke:#CCCCCC;stroke-width:1.0px;stroke-linecap:butt;stroke-linejoin:miter;stroke-opacity:1\"/>\n",
              "<ellipse cx=\"73.9\" cy=\"102.3\" rx=\"5.7\" ry=\"5.7\" class=\"atom-8\" style=\"fill:#CCCCCC;fill-rule:evenodd;stroke:#CCCCCC;stroke-width:1.0px;stroke-linecap:butt;stroke-linejoin:miter;stroke-opacity:1\"/>\n",
              "<path class=\"bond-0 atom-0 atom-1\" d=\"M 140.1,66.9 L 121.2,87.5\" style=\"fill:none;fill-rule:evenodd;stroke:#E5E5E5;stroke-width:1.5px;stroke-linecap:butt;stroke-linejoin:miter;stroke-opacity:1\"/>\n",
              "<path class=\"bond-1 atom-1 atom-2\" d=\"M 121.2,87.5 L 109.2,84.8\" style=\"fill:none;fill-rule:evenodd;stroke:#000000;stroke-width:2.0px;stroke-linecap:butt;stroke-linejoin:miter;stroke-opacity:1\"/>\n",
              "<path class=\"bond-1 atom-1 atom-2\" d=\"M 109.2,84.8 L 97.3,82.1\" style=\"fill:none;fill-rule:evenodd;stroke:#0000FF;stroke-width:2.0px;stroke-linecap:butt;stroke-linejoin:miter;stroke-opacity:1\"/>\n",
              "<path class=\"bond-2 atom-2 atom-3\" d=\"M 91.7,76.2 L 88.2,65.1\" style=\"fill:none;fill-rule:evenodd;stroke:#0000FF;stroke-width:2.0px;stroke-linecap:butt;stroke-linejoin:miter;stroke-opacity:1\"/>\n",
              "<path class=\"bond-2 atom-2 atom-3\" d=\"M 88.2,65.1 L 84.7,53.9\" style=\"fill:none;fill-rule:evenodd;stroke:#000000;stroke-width:2.0px;stroke-linecap:butt;stroke-linejoin:miter;stroke-opacity:1\"/>\n",
              "<path class=\"bond-3 atom-3 atom-4\" d=\"M 84.7,53.9 L 56.7,47.7\" style=\"fill:none;fill-rule:evenodd;stroke:#000000;stroke-width:2.0px;stroke-linecap:butt;stroke-linejoin:miter;stroke-opacity:1\"/>\n",
              "<path class=\"bond-4 atom-4 atom-5\" d=\"M 56.7,47.7 L 49.1,56.0\" style=\"fill:none;fill-rule:evenodd;stroke:#000000;stroke-width:2.0px;stroke-linecap:butt;stroke-linejoin:miter;stroke-opacity:1\"/>\n",
              "<path class=\"bond-4 atom-4 atom-5\" d=\"M 49.1,56.0 L 41.4,64.4\" style=\"fill:none;fill-rule:evenodd;stroke:#0000FF;stroke-width:2.0px;stroke-linecap:butt;stroke-linejoin:miter;stroke-opacity:1\"/>\n",
              "<path class=\"bond-5 atom-5 atom-6\" d=\"M 33.3,67.9 L 11.8,63.1\" style=\"fill:none;fill-rule:evenodd;stroke:#E5E5E5;stroke-width:1.5px;stroke-linecap:butt;stroke-linejoin:miter;stroke-opacity:1\"/>\n",
              "<path class=\"bond-6 atom-5 atom-7\" d=\"M 38.9,73.8 L 44.4,91.0\" style=\"fill:none;fill-rule:evenodd;stroke:#E5E5E5;stroke-width:1.5px;stroke-linecap:butt;stroke-linejoin:miter;stroke-opacity:1\"/>\n",
              "<path class=\"bond-7 atom-7 atom-8\" d=\"M 48.3,96.6 L 73.9,102.3\" style=\"fill:none;fill-rule:evenodd;stroke:#E5E5E5;stroke-width:1.5px;stroke-linecap:butt;stroke-linejoin:miter;stroke-opacity:1\"/>\n",
              "<path class=\"bond-8 atom-8 atom-2\" d=\"M 73.9,102.3 L 81.6,94.0\" style=\"fill:none;fill-rule:evenodd;stroke:#000000;stroke-width:2.0px;stroke-linecap:butt;stroke-linejoin:miter;stroke-opacity:1\"/>\n",
              "<path class=\"bond-8 atom-8 atom-2\" d=\"M 81.6,94.0 L 89.2,85.6\" style=\"fill:none;fill-rule:evenodd;stroke:#0000FF;stroke-width:2.0px;stroke-linecap:butt;stroke-linejoin:miter;stroke-opacity:1\"/>\n",
              "<path d=\"M 121.7,86.9 L 121.2,87.5 L 120.9,87.4\" style=\"fill:none;stroke:#E5E5E5;stroke-width:1.5px;stroke-linecap:butt;stroke-linejoin:miter;stroke-opacity:1;\"/>\n",
              "<path d=\"M 84.9,54.5 L 84.7,53.9 L 83.3,53.6\" style=\"fill:none;stroke:#000000;stroke-width:2.0px;stroke-linecap:butt;stroke-linejoin:miter;stroke-opacity:1;\"/>\n",
              "<path d=\"M 58.1,48.0 L 56.7,47.7 L 56.4,48.1\" style=\"fill:none;stroke:#000000;stroke-width:2.0px;stroke-linecap:butt;stroke-linejoin:miter;stroke-opacity:1;\"/>\n",
              "<path d=\"M 73.3,102.2 L 73.9,102.3 L 74.1,102.1\" style=\"fill:none;stroke:#E5E5E5;stroke-width:1.5px;stroke-linecap:butt;stroke-linejoin:miter;stroke-opacity:1;\"/>\n",
              "<path class=\"atom-0\" d=\"M 139.1 65.5 L 140.2 64.3 L 138.7 63.9 L 138.9 63.1 L 140.4 63.9 L 140.2 62.3 L 141.0 62.2 L 140.8 63.8 L 142.2 63.2 L 142.5 63.9 L 140.9 64.2 L 142.0 65.5 L 141.3 66.0 L 140.6 64.4 L 139.8 66.0 L 139.1 65.5 \" fill=\"#191919\"/>\n",
              "<path class=\"atom-2\" d=\"M 91.5 77.2 L 94.1 81.5 Q 94.4 81.9, 94.8 82.7 Q 95.2 83.4, 95.3 83.5 L 95.3 77.2 L 96.3 77.2 L 96.3 85.3 L 95.2 85.3 L 92.4 80.6 Q 92.0 80.0, 91.7 79.4 Q 91.3 78.8, 91.2 78.6 L 91.2 85.3 L 90.2 85.3 L 90.2 77.2 L 91.5 77.2 \" fill=\"#0000FF\"/>\n",
              "<path class=\"atom-5\" d=\"M 35.6 64.7 L 38.2 69.0 Q 38.5 69.4, 38.9 70.2 Q 39.3 71.0, 39.4 71.0 L 39.4 64.7 L 40.4 64.7 L 40.4 72.8 L 39.3 72.8 L 36.5 68.1 Q 36.1 67.6, 35.8 66.9 Q 35.4 66.3, 35.3 66.1 L 35.3 72.8 L 34.3 72.8 L 34.3 64.7 L 35.6 64.7 \" fill=\"#0000FF\"/>\n",
              "<path class=\"atom-6\" d=\"M 7.9 61.6 L 9.1 60.4 L 7.5 60.1 L 7.7 59.3 L 9.2 60.0 L 9.0 58.4 L 9.8 58.4 L 9.6 60.0 L 11.1 59.3 L 11.3 60.1 L 9.7 60.4 L 10.9 61.6 L 10.2 62.1 L 9.4 60.6 L 8.6 62.1 L 7.9 61.6 \" fill=\"#191919\"/>\n",
              "<path class=\"atom-7\" d=\"M 44.4 95.2 L 45.6 94.0 L 44.0 93.6 L 44.3 92.8 L 45.7 93.6 L 45.5 92.0 L 46.4 92.0 L 46.1 93.6 L 47.6 92.9 L 47.9 93.6 L 46.3 93.9 L 47.4 95.2 L 46.7 95.7 L 45.9 94.2 L 45.1 95.7 L 44.4 95.2 \" fill=\"#191919\"/>\n",
              "</svg>"
            ],
            "text/plain": [
              "<IPython.core.display.SVG object>"
            ]
          },
          "metadata": {},
          "output_type": "display_data"
        },
        {
          "name": "stdout",
          "output_type": "stream",
          "text": [
            "Feature 2 (Bit 80):\n"
          ]
        },
        {
          "data": {
            "image/svg+xml": [
              "<svg xmlns=\"http://www.w3.org/2000/svg\" xmlns:rdkit=\"http://www.rdkit.org/xml\" xmlns:xlink=\"http://www.w3.org/1999/xlink\" version=\"1.1\" baseProfile=\"full\" xml:space=\"preserve\" width=\"150px\" height=\"150px\" viewBox=\"0 0 150 150\">\n",
              "<!-- END OF HEADER -->\n",
              "<rect style=\"opacity:1.0;fill:#FFFFFF;stroke:none\" width=\"150.0\" height=\"150.0\" x=\"0.0\" y=\"0.0\"> </rect>\n",
              "<ellipse cx=\"86.3\" cy=\"100.7\" rx=\"15.1\" ry=\"15.1\" class=\"atom-1\" style=\"fill:#9999E5;fill-rule:evenodd;stroke:#9999E5;stroke-width:1.0px;stroke-linecap:butt;stroke-linejoin:miter;stroke-opacity:1\"/>\n",
              "<path class=\"bond-0 atom-0 atom-1\" d=\"M 136.1,46.5 L 86.3,100.7\" style=\"fill:none;fill-rule:evenodd;stroke:#E5E5E5;stroke-width:4.0px;stroke-linecap:butt;stroke-linejoin:miter;stroke-opacity:1\"/>\n",
              "<path class=\"bond-1 atom-1 atom-2\" d=\"M 86.3,100.7 L 18.9,85.7\" style=\"fill:none;fill-rule:evenodd;stroke:#E5E5E5;stroke-width:4.0px;stroke-linecap:butt;stroke-linejoin:miter;stroke-opacity:1\"/>\n",
              "<path d=\"M 88.8,98.0 L 86.3,100.7 L 82.9,100.0\" style=\"fill:none;stroke:#E5E5E5;stroke-width:4.0px;stroke-linecap:butt;stroke-linejoin:miter;stroke-opacity:1;\"/>\n",
              "<path class=\"atom-0\" d=\"M 133.4 42.7 L 136.5 39.5 L 132.4 38.6 L 133.0 36.5 L 136.8 38.4 L 136.3 34.2 L 138.6 34.2 L 137.9 38.4 L 141.8 36.6 L 142.5 38.6 L 138.3 39.4 L 141.3 42.6 L 139.4 44.0 L 137.4 40.0 L 135.2 44.0 L 133.4 42.7 \" fill=\"#191919\"/>\n",
              "<path class=\"atom-2\" d=\"M 8.5 81.9 L 11.7 78.7 L 7.5 77.8 L 8.1 75.7 L 12.0 77.6 L 11.4 73.4 L 13.7 73.4 L 13.1 77.6 L 17.0 75.8 L 17.6 77.8 L 13.4 78.6 L 16.4 81.9 L 14.6 83.2 L 12.5 79.2 L 10.4 83.2 L 8.5 81.9 \" fill=\"#191919\"/>\n",
              "</svg>"
            ],
            "text/plain": [
              "<IPython.core.display.SVG object>"
            ]
          },
          "metadata": {},
          "output_type": "display_data"
        },
        {
          "name": "stdout",
          "output_type": "stream",
          "text": [
            "Feature 3 (Bit 278):\n"
          ]
        },
        {
          "data": {
            "image/svg+xml": [
              "<svg xmlns=\"http://www.w3.org/2000/svg\" xmlns:rdkit=\"http://www.rdkit.org/xml\" xmlns:xlink=\"http://www.w3.org/1999/xlink\" version=\"1.1\" baseProfile=\"full\" xml:space=\"preserve\" width=\"150px\" height=\"150px\" viewBox=\"0 0 150 150\">\n",
              "<!-- END OF HEADER -->\n",
              "<rect style=\"opacity:1.0;fill:#FFFFFF;stroke:none\" width=\"150.0\" height=\"150.0\" x=\"0.0\" y=\"0.0\"> </rect>\n",
              "<ellipse cx=\"95.5\" cy=\"43.8\" rx=\"5.7\" ry=\"5.7\" class=\"atom-1\" style=\"fill:#E5E533;fill-rule:evenodd;stroke:#E5E533;stroke-width:1.0px;stroke-linecap:butt;stroke-linejoin:miter;stroke-opacity:1\"/>\n",
              "<ellipse cx=\"48.2\" cy=\"58.6\" rx=\"5.7\" ry=\"5.7\" class=\"atom-3\" style=\"fill:#E5E533;fill-rule:evenodd;stroke:#E5E533;stroke-width:1.0px;stroke-linecap:butt;stroke-linejoin:miter;stroke-opacity:1\"/>\n",
              "<ellipse cx=\"56.7\" cy=\"85.9\" rx=\"5.7\" ry=\"5.7\" class=\"atom-4\" style=\"fill:#E5E533;fill-rule:evenodd;stroke:#E5E533;stroke-width:1.0px;stroke-linecap:butt;stroke-linejoin:miter;stroke-opacity:1\"/>\n",
              "<ellipse cx=\"84.7\" cy=\"92.2\" rx=\"5.7\" ry=\"5.7\" class=\"atom-7\" style=\"fill:#9999E5;fill-rule:evenodd;stroke:#9999E5;stroke-width:1.0px;stroke-linecap:butt;stroke-linejoin:miter;stroke-opacity:1\"/>\n",
              "<ellipse cx=\"93.3\" cy=\"119.5\" rx=\"5.7\" ry=\"5.7\" class=\"atom-8\" style=\"fill:#E5E533;fill-rule:evenodd;stroke:#E5E533;stroke-width:1.0px;stroke-linecap:butt;stroke-linejoin:miter;stroke-opacity:1\"/>\n",
              "<ellipse cx=\"121.2\" cy=\"125.7\" rx=\"5.7\" ry=\"5.7\" class=\"atom-9\" style=\"fill:#E5E533;fill-rule:evenodd;stroke:#E5E533;stroke-width:1.0px;stroke-linecap:butt;stroke-linejoin:miter;stroke-opacity:1\"/>\n",
              "<ellipse cx=\"132.0\" cy=\"77.3\" rx=\"5.7\" ry=\"5.7\" class=\"atom-11\" style=\"fill:#E5E533;fill-rule:evenodd;stroke:#E5E533;stroke-width:1.0px;stroke-linecap:butt;stroke-linejoin:miter;stroke-opacity:1\"/>\n",
              "<ellipse cx=\"104.1\" cy=\"71.1\" rx=\"5.7\" ry=\"5.7\" class=\"atom-12\" style=\"fill:#E5E533;fill-rule:evenodd;stroke:#E5E533;stroke-width:1.0px;stroke-linecap:butt;stroke-linejoin:miter;stroke-opacity:1\"/>\n",
              "<path class=\"bond-0 atom-0 atom-1\" d=\"M 114.4,23.2 L 95.5,43.8\" style=\"fill:none;fill-rule:evenodd;stroke:#E5E5E5;stroke-width:1.5px;stroke-linecap:butt;stroke-linejoin:miter;stroke-opacity:1\"/>\n",
              "<path class=\"bond-1 atom-1 atom-2\" d=\"M 95.5,43.8 L 69.9,38.1\" style=\"fill:none;fill-rule:evenodd;stroke:#E5E5E5;stroke-width:1.5px;stroke-linecap:butt;stroke-linejoin:miter;stroke-opacity:1\"/>\n",
              "<path class=\"bond-1 atom-1 atom-2\" d=\"M 92.1,47.4 L 69.0,42.3\" style=\"fill:none;fill-rule:evenodd;stroke:#E5E5E5;stroke-width:1.5px;stroke-linecap:butt;stroke-linejoin:miter;stroke-opacity:1\"/>\n",
              "<path class=\"bond-2 atom-2 atom-3\" d=\"M 67.0,38.1 L 48.2,58.6\" style=\"fill:none;fill-rule:evenodd;stroke:#E5E5E5;stroke-width:1.5px;stroke-linecap:butt;stroke-linejoin:miter;stroke-opacity:1\"/>\n",
              "<path class=\"bond-3 atom-3 atom-4\" d=\"M 48.2,58.6 L 56.7,85.9\" style=\"fill:none;fill-rule:evenodd;stroke:#000000;stroke-width:2.0px;stroke-linecap:butt;stroke-linejoin:miter;stroke-opacity:1\"/>\n",
              "<path class=\"bond-3 atom-3 atom-4\" d=\"M 53.0,59.7 L 60.1,82.3\" style=\"fill:none;fill-rule:evenodd;stroke:#000000;stroke-width:2.0px;stroke-linecap:butt;stroke-linejoin:miter;stroke-opacity:1\"/>\n",
              "<path class=\"bond-4 atom-4 atom-5\" d=\"M 56.7,85.9 L 37.4,107.0\" style=\"fill:none;fill-rule:evenodd;stroke:#000000;stroke-width:2.0px;stroke-linecap:butt;stroke-linejoin:miter;stroke-opacity:1\"/>\n",
              "<path class=\"bond-5 atom-5 atom-6\" d=\"M 37.4,107.0 L 11.8,101.3\" style=\"fill:none;fill-rule:evenodd;stroke:#E5E5E5;stroke-width:1.5px;stroke-linecap:butt;stroke-linejoin:miter;stroke-opacity:1\"/>\n",
              "<path class=\"bond-6 atom-4 atom-7\" d=\"M 56.7,85.9 L 84.7,92.2\" style=\"fill:none;fill-rule:evenodd;stroke:#000000;stroke-width:2.0px;stroke-linecap:butt;stroke-linejoin:miter;stroke-opacity:1\"/>\n",
              "<path class=\"bond-7 atom-7 atom-8\" d=\"M 84.7,92.2 L 93.3,119.5\" style=\"fill:none;fill-rule:evenodd;stroke:#000000;stroke-width:2.0px;stroke-linecap:butt;stroke-linejoin:miter;stroke-opacity:1\"/>\n",
              "<path class=\"bond-7 atom-7 atom-8\" d=\"M 89.5,93.3 L 96.6,115.8\" style=\"fill:none;fill-rule:evenodd;stroke:#000000;stroke-width:2.0px;stroke-linecap:butt;stroke-linejoin:miter;stroke-opacity:1\"/>\n",
              "<path class=\"bond-8 atom-8 atom-9\" d=\"M 93.3,119.5 L 121.2,125.7\" style=\"fill:none;fill-rule:evenodd;stroke:#000000;stroke-width:2.0px;stroke-linecap:butt;stroke-linejoin:miter;stroke-opacity:1\"/>\n",
              "<path class=\"bond-9 atom-9 atom-10\" d=\"M 121.2,125.7 L 140.1,105.2\" style=\"fill:none;fill-rule:evenodd;stroke:#E5E5E5;stroke-width:1.5px;stroke-linecap:butt;stroke-linejoin:miter;stroke-opacity:1\"/>\n",
              "<path class=\"bond-9 atom-9 atom-10\" d=\"M 119.7,121.0 L 136.9,102.3\" style=\"fill:none;fill-rule:evenodd;stroke:#E5E5E5;stroke-width:1.5px;stroke-linecap:butt;stroke-linejoin:miter;stroke-opacity:1\"/>\n",
              "<path class=\"bond-10 atom-10 atom-11\" d=\"M 139.0,99.6 L 133.6,82.3\" style=\"fill:none;fill-rule:evenodd;stroke:#E5E5E5;stroke-width:1.5px;stroke-linecap:butt;stroke-linejoin:miter;stroke-opacity:1\"/>\n",
              "<path class=\"bond-11 atom-11 atom-12\" d=\"M 128.0,76.4 L 116.0,73.8\" style=\"fill:none;fill-rule:evenodd;stroke:#0000FF;stroke-width:2.0px;stroke-linecap:butt;stroke-linejoin:miter;stroke-opacity:1\"/>\n",
              "<path class=\"bond-11 atom-11 atom-12\" d=\"M 116.0,73.8 L 104.1,71.1\" style=\"fill:none;fill-rule:evenodd;stroke:#000000;stroke-width:2.0px;stroke-linecap:butt;stroke-linejoin:miter;stroke-opacity:1\"/>\n",
              "<path class=\"bond-11 atom-11 atom-12\" d=\"M 127.0,80.6 L 116.3,78.2\" style=\"fill:none;fill-rule:evenodd;stroke:#0000FF;stroke-width:2.0px;stroke-linecap:butt;stroke-linejoin:miter;stroke-opacity:1\"/>\n",
              "<path class=\"bond-11 atom-11 atom-12\" d=\"M 116.3,78.2 L 105.5,75.8\" style=\"fill:none;fill-rule:evenodd;stroke:#000000;stroke-width:2.0px;stroke-linecap:butt;stroke-linejoin:miter;stroke-opacity:1\"/>\n",
              "<path class=\"bond-12 atom-12 atom-1\" d=\"M 104.1,71.1 L 95.5,43.8\" style=\"fill:none;fill-rule:evenodd;stroke:#000000;stroke-width:2.0px;stroke-linecap:butt;stroke-linejoin:miter;stroke-opacity:1\"/>\n",
              "<path class=\"bond-13 atom-12 atom-7\" d=\"M 104.1,71.1 L 84.7,92.2\" style=\"fill:none;fill-rule:evenodd;stroke:#000000;stroke-width:2.0px;stroke-linecap:butt;stroke-linejoin:miter;stroke-opacity:1\"/>\n",
              "<path d=\"M 48.6,58.1 L 48.2,58.6 L 48.4,59.3\" style=\"fill:none;stroke:#E5E5E5;stroke-width:1.5px;stroke-linecap:butt;stroke-linejoin:miter;stroke-opacity:1;\"/>\n",
              "<path d=\"M 37.9,106.5 L 37.4,107.0 L 36.7,106.9\" style=\"fill:none;stroke:#000000;stroke-width:2.0px;stroke-linecap:butt;stroke-linejoin:miter;stroke-opacity:1;\"/>\n",
              "<path d=\"M 92.8,118.1 L 93.3,119.5 L 94.7,119.8\" style=\"fill:none;stroke:#000000;stroke-width:2.0px;stroke-linecap:butt;stroke-linejoin:miter;stroke-opacity:1;\"/>\n",
              "<path d=\"M 120.5,125.6 L 121.2,125.7 L 121.7,125.2\" style=\"fill:none;stroke:#000000;stroke-width:2.0px;stroke-linecap:butt;stroke-linejoin:miter;stroke-opacity:1;\"/>\n",
              "<path class=\"atom-0\" d=\"M 113.3 21.8 L 114.5 20.6 L 112.9 20.2 L 113.2 19.4 L 114.6 20.2 L 114.4 18.6 L 115.3 18.6 L 115.0 20.1 L 116.5 19.5 L 116.8 20.2 L 115.2 20.5 L 116.3 21.8 L 115.6 22.3 L 114.8 20.8 L 114.0 22.3 L 113.3 21.8 \" fill=\"#191919\"/>\n",
              "<path class=\"atom-2\" d=\"M 66.0 36.6 L 67.2 35.4 L 65.6 35.1 L 65.8 34.3 L 67.3 35.0 L 67.1 33.4 L 68.0 33.4 L 67.7 35.0 L 69.2 34.3 L 69.4 35.1 L 67.8 35.4 L 69.0 36.6 L 68.3 37.1 L 67.5 35.6 L 66.7 37.1 L 66.0 36.6 \" fill=\"#191919\"/>\n",
              "<path class=\"atom-6\" d=\"M 7.9 99.9 L 9.1 98.7 L 7.5 98.4 L 7.7 97.5 L 9.2 98.3 L 9.0 96.7 L 9.8 96.7 L 9.6 98.3 L 11.1 97.6 L 11.3 98.4 L 9.7 98.7 L 10.9 99.9 L 10.2 100.4 L 9.4 98.9 L 8.6 100.4 L 7.9 99.9 \" fill=\"#191919\"/>\n",
              "<path class=\"atom-10\" d=\"M 139.1 103.7 L 140.2 102.5 L 138.7 102.2 L 138.9 101.4 L 140.4 102.1 L 140.2 100.5 L 141.0 100.5 L 140.8 102.1 L 142.2 101.4 L 142.5 102.2 L 140.9 102.5 L 142.0 103.7 L 141.3 104.2 L 140.6 102.7 L 139.8 104.2 L 139.1 103.7 \" fill=\"#191919\"/>\n",
              "<path class=\"atom-11\" d=\"M 130.2 73.3 L 132.9 77.6 Q 133.1 78.0, 133.6 78.7 Q 134.0 79.5, 134.0 79.6 L 134.0 73.3 L 135.1 73.3 L 135.1 81.4 L 134.0 81.4 L 131.1 76.7 Q 130.8 76.1, 130.4 75.5 Q 130.1 74.9, 130.0 74.7 L 130.0 81.4 L 128.9 81.4 L 128.9 73.3 L 130.2 73.3 \" fill=\"#0000FF\"/>\n",
              "</svg>"
            ],
            "text/plain": [
              "<IPython.core.display.SVG object>"
            ]
          },
          "metadata": {},
          "output_type": "display_data"
        },
        {
          "name": "stdout",
          "output_type": "stream",
          "text": [
            "Feature 4 (Bit 378):\n"
          ]
        },
        {
          "data": {
            "image/svg+xml": [
              "<svg xmlns=\"http://www.w3.org/2000/svg\" xmlns:rdkit=\"http://www.rdkit.org/xml\" xmlns:xlink=\"http://www.w3.org/1999/xlink\" version=\"1.1\" baseProfile=\"full\" xml:space=\"preserve\" width=\"150px\" height=\"150px\" viewBox=\"0 0 150 150\">\n",
              "<!-- END OF HEADER -->\n",
              "<rect style=\"opacity:1.0;fill:#FFFFFF;stroke:none\" width=\"150.0\" height=\"150.0\" x=\"0.0\" y=\"0.0\"> </rect>\n",
              "<ellipse cx=\"86.3\" cy=\"100.7\" rx=\"15.1\" ry=\"15.1\" class=\"atom-1\" style=\"fill:#9999E5;fill-rule:evenodd;stroke:#9999E5;stroke-width:1.0px;stroke-linecap:butt;stroke-linejoin:miter;stroke-opacity:1\"/>\n",
              "<path class=\"bond-0 atom-0 atom-1\" d=\"M 20.1,80.1 L 76.9,92.8\" style=\"fill:none;fill-rule:evenodd;stroke:#E5E5E5;stroke-width:4.0px;stroke-linecap:butt;stroke-linejoin:miter;stroke-opacity:1\"/>\n",
              "<path class=\"bond-0 atom-0 atom-1\" d=\"M 17.6,91.2 L 74.5,103.9\" style=\"fill:none;fill-rule:evenodd;stroke:#E5E5E5;stroke-width:4.0px;stroke-linecap:butt;stroke-linejoin:miter;stroke-opacity:1;stroke-dasharray:6,4\"/>\n",
              "<path class=\"bond-1 atom-1 atom-2\" d=\"M 101.1,93.0 L 140.3,50.3\" style=\"fill:none;fill-rule:evenodd;stroke:#E5E5E5;stroke-width:4.0px;stroke-linecap:butt;stroke-linejoin:miter;stroke-opacity:1\"/>\n",
              "<path class=\"bond-1 atom-1 atom-2\" d=\"M 92.8,85.3 L 132.0,42.6\" style=\"fill:none;fill-rule:evenodd;stroke:#E5E5E5;stroke-width:4.0px;stroke-linecap:butt;stroke-linejoin:miter;stroke-opacity:1;stroke-dasharray:6,4\"/>\n",
              "<path class=\"atom-0\" d=\"M 8.5 81.9 L 11.7 78.7 L 7.5 77.8 L 8.1 75.7 L 12.0 77.6 L 11.4 73.4 L 13.7 73.4 L 13.1 77.6 L 17.0 75.8 L 17.6 77.8 L 13.4 78.6 L 16.4 81.9 L 14.6 83.2 L 12.5 79.2 L 10.4 83.2 L 8.5 81.9 \" fill=\"#191919\"/>\n",
              "<path class=\"atom-1\" d=\"M 81.6 90.0 L 88.6 101.3 Q 89.3 102.5, 90.4 104.5 Q 91.5 106.5, 91.6 106.6 L 91.6 90.0 L 94.4 90.0 L 94.4 111.4 L 91.5 111.4 L 84.0 99.0 Q 83.1 97.6, 82.2 95.9 Q 81.3 94.2, 81.0 93.7 L 81.0 111.4 L 78.2 111.4 L 78.2 90.0 L 81.6 90.0 \" fill=\"#0000FF\"/>\n",
              "<path class=\"atom-2\" d=\"M 133.4 42.7 L 136.5 39.5 L 132.4 38.6 L 133.0 36.5 L 136.8 38.4 L 136.3 34.2 L 138.6 34.2 L 137.9 38.4 L 141.8 36.6 L 142.5 38.6 L 138.3 39.4 L 141.3 42.6 L 139.4 44.0 L 137.4 40.0 L 135.2 44.0 L 133.4 42.7 \" fill=\"#191919\"/>\n",
              "</svg>"
            ],
            "text/plain": [
              "<IPython.core.display.SVG object>"
            ]
          },
          "metadata": {},
          "output_type": "display_data"
        },
        {
          "name": "stdout",
          "output_type": "stream",
          "text": [
            "Feature 5 (Bit 407):\n"
          ]
        },
        {
          "data": {
            "image/svg+xml": [
              "<svg xmlns=\"http://www.w3.org/2000/svg\" xmlns:rdkit=\"http://www.rdkit.org/xml\" xmlns:xlink=\"http://www.w3.org/1999/xlink\" version=\"1.1\" baseProfile=\"full\" xml:space=\"preserve\" width=\"150px\" height=\"150px\" viewBox=\"0 0 150 150\">\n",
              "<!-- END OF HEADER -->\n",
              "<rect style=\"opacity:1.0;fill:#FFFFFF;stroke:none\" width=\"150.0\" height=\"150.0\" x=\"0.0\" y=\"0.0\"> </rect>\n",
              "<ellipse cx=\"101.6\" cy=\"49.2\" rx=\"7.9\" ry=\"7.9\" class=\"atom-1\" style=\"fill:#CCCCCC;fill-rule:evenodd;stroke:#CCCCCC;stroke-width:1.0px;stroke-linecap:butt;stroke-linejoin:miter;stroke-opacity:1\"/>\n",
              "<ellipse cx=\"75.0\" cy=\"78.1\" rx=\"7.9\" ry=\"7.9\" class=\"atom-2\" style=\"fill:#9999E5;fill-rule:evenodd;stroke:#9999E5;stroke-width:1.0px;stroke-linecap:butt;stroke-linejoin:miter;stroke-opacity:1\"/>\n",
              "<ellipse cx=\"36.7\" cy=\"69.6\" rx=\"7.9\" ry=\"7.9\" class=\"atom-3\" style=\"fill:#E5E533;fill-rule:evenodd;stroke:#E5E533;stroke-width:1.0px;stroke-linecap:butt;stroke-linejoin:miter;stroke-opacity:1\"/>\n",
              "<ellipse cx=\"86.8\" cy=\"115.6\" rx=\"7.9\" ry=\"7.9\" class=\"atom-5\" style=\"fill:#CCCCCC;fill-rule:evenodd;stroke:#CCCCCC;stroke-width:1.0px;stroke-linecap:butt;stroke-linejoin:miter;stroke-opacity:1\"/>\n",
              "<path class=\"bond-0 atom-0 atom-1\" d=\"M 135.9,56.9 L 101.6,49.2\" style=\"fill:none;fill-rule:evenodd;stroke:#E5E5E5;stroke-width:2.1px;stroke-linecap:butt;stroke-linejoin:miter;stroke-opacity:1\"/>\n",
              "<path class=\"bond-1 atom-1 atom-2\" d=\"M 101.6,49.2 L 91.0,60.7\" style=\"fill:none;fill-rule:evenodd;stroke:#000000;stroke-width:2.0px;stroke-linecap:butt;stroke-linejoin:miter;stroke-opacity:1\"/>\n",
              "<path class=\"bond-1 atom-1 atom-2\" d=\"M 91.0,60.7 L 80.5,72.1\" style=\"fill:none;fill-rule:evenodd;stroke:#0000FF;stroke-width:2.0px;stroke-linecap:butt;stroke-linejoin:miter;stroke-opacity:1\"/>\n",
              "<path class=\"bond-2 atom-2 atom-3\" d=\"M 69.5,76.9 L 53.1,73.2\" style=\"fill:none;fill-rule:evenodd;stroke:#0000FF;stroke-width:2.0px;stroke-linecap:butt;stroke-linejoin:miter;stroke-opacity:1\"/>\n",
              "<path class=\"bond-2 atom-2 atom-3\" d=\"M 53.1,73.2 L 36.7,69.6\" style=\"fill:none;fill-rule:evenodd;stroke:#000000;stroke-width:2.0px;stroke-linecap:butt;stroke-linejoin:miter;stroke-opacity:1\"/>\n",
              "<path class=\"bond-3 atom-3 atom-4\" d=\"M 40.0,70.3 L 28.0,32.0\" style=\"fill:none;fill-rule:evenodd;stroke:#E5E5E5;stroke-width:2.1px;stroke-linecap:butt;stroke-linejoin:miter;stroke-opacity:1\"/>\n",
              "<path class=\"bond-3 atom-3 atom-4\" d=\"M 34.4,72.1 L 22.3,33.7\" style=\"fill:none;fill-rule:evenodd;stroke:#E5E5E5;stroke-width:2.1px;stroke-linecap:butt;stroke-linejoin:miter;stroke-opacity:1;stroke-dasharray:6,4\"/>\n",
              "<path class=\"bond-4 atom-2 atom-5\" d=\"M 77.2,85.0 L 82.0,100.3\" style=\"fill:none;fill-rule:evenodd;stroke:#0000FF;stroke-width:2.0px;stroke-linecap:butt;stroke-linejoin:miter;stroke-opacity:1\"/>\n",
              "<path class=\"bond-4 atom-2 atom-5\" d=\"M 82.0,100.3 L 86.8,115.6\" style=\"fill:none;fill-rule:evenodd;stroke:#000000;stroke-width:2.0px;stroke-linecap:butt;stroke-linejoin:miter;stroke-opacity:1\"/>\n",
              "<path class=\"bond-5 atom-5 atom-6\" d=\"M 86.8,115.6 L 121.2,123.2\" style=\"fill:none;fill-rule:evenodd;stroke:#E5E5E5;stroke-width:2.1px;stroke-linecap:butt;stroke-linejoin:miter;stroke-opacity:1\"/>\n",
              "<path class=\"bond-6 atom-7 atom-3\" d=\"M 11.9,92.2 L 35.7,66.3\" style=\"fill:none;fill-rule:evenodd;stroke:#E5E5E5;stroke-width:2.1px;stroke-linecap:butt;stroke-linejoin:miter;stroke-opacity:1\"/>\n",
              "<path class=\"bond-6 atom-7 atom-3\" d=\"M 16.2,96.2 L 40.0,70.3\" style=\"fill:none;fill-rule:evenodd;stroke:#E5E5E5;stroke-width:2.1px;stroke-linecap:butt;stroke-linejoin:miter;stroke-opacity:1;stroke-dasharray:6,4\"/>\n",
              "<path d=\"M 102.4,49.4 L 101.6,49.2 L 101.3,49.5\" style=\"fill:none;stroke:#E5E5E5;stroke-width:2.1px;stroke-linecap:butt;stroke-linejoin:miter;stroke-opacity:1;\"/>\n",
              "<path d=\"M 86.6,115.2 L 86.8,115.6 L 87.6,115.8\" style=\"fill:none;stroke:#000000;stroke-width:2.0px;stroke-linecap:butt;stroke-linejoin:miter;stroke-opacity:1;\"/>\n",
              "<path class=\"atom-0\" d=\"M 137.8 56.5 L 139.4 54.8 L 137.2 54.4 L 137.6 53.3 L 139.6 54.3 L 139.3 52.1 L 140.5 52.1 L 140.1 54.3 L 142.2 53.3 L 142.5 54.4 L 140.3 54.8 L 141.9 56.5 L 140.9 57.2 L 139.8 55.1 L 138.7 57.2 L 137.8 56.5 \" fill=\"#191919\"/>\n",
              "<path class=\"atom-2\" d=\"M 72.5 72.6 L 76.2 78.4 Q 76.5 79.0, 77.1 80.1 Q 77.7 81.1, 77.7 81.2 L 77.7 72.6 L 79.2 72.6 L 79.2 83.7 L 77.7 83.7 L 73.8 77.2 Q 73.3 76.5, 72.8 75.6 Q 72.4 74.7, 72.2 74.5 L 72.2 83.7 L 70.8 83.7 L 70.8 72.6 L 72.5 72.6 \" fill=\"#0000FF\"/>\n",
              "<path class=\"atom-4\" d=\"M 22.8 30.9 L 24.5 29.2 L 22.3 28.8 L 22.6 27.7 L 24.6 28.7 L 24.3 26.5 L 25.5 26.5 L 25.2 28.6 L 27.2 27.7 L 27.6 28.8 L 25.4 29.2 L 26.9 30.9 L 26.0 31.6 L 24.9 29.5 L 23.8 31.6 L 22.8 30.9 \" fill=\"#191919\"/>\n",
              "<path class=\"atom-6\" d=\"M 123.0 122.9 L 124.6 121.2 L 122.4 120.8 L 122.8 119.6 L 124.8 120.6 L 124.5 118.5 L 125.7 118.4 L 125.3 120.6 L 127.4 119.7 L 127.7 120.8 L 125.5 121.2 L 127.1 122.8 L 126.1 123.5 L 125.0 121.5 L 123.9 123.5 L 123.0 122.9 \" fill=\"#191919\"/>\n",
              "<path class=\"atom-7\" d=\"M 8.0 97.2 L 9.7 95.6 L 7.5 95.1 L 7.8 94.0 L 9.8 95.0 L 9.5 92.8 L 10.7 92.8 L 10.4 95.0 L 12.4 94.1 L 12.8 95.1 L 10.6 95.5 L 12.1 97.2 L 11.2 97.9 L 10.1 95.8 L 9.0 97.9 L 8.0 97.2 \" fill=\"#191919\"/>\n",
              "</svg>"
            ],
            "text/plain": [
              "<IPython.core.display.SVG object>"
            ]
          },
          "metadata": {},
          "output_type": "display_data"
        }
      ],
      "source": [
        "def visualize_fingerprint_decomposition(mol, n_features=5, radius=2):\n",
        "    \"\"\"\n",
        "    Visualize the structural features that contribute to a molecule's fingerprint.\n",
        "\n",
        "    Parameters:\n",
        "    -----------\n",
        "    mol : rdkit.Chem.rdchem.Mol\n",
        "        RDKit molecule object\n",
        "    n_features : int\n",
        "        Number of fingerprint features to visualize\n",
        "    radius : int\n",
        "        Radius for the Morgan fingerprint\n",
        "\n",
        "    Returns:\n",
        "    --------\n",
        "    list\n",
        "        List of SVG images of the structural features\n",
        "    \"\"\"\n",
        "    # Function to draw a fragment from a specific bit\n",
        "    def draw_fragment_from_bit(mol, bit_number, bit_info):\n",
        "        \"\"\"Draw the fragment corresponding to a specific bit in the fingerprint\"\"\"\n",
        "        try:\n",
        "            svg = Draw.DrawMorganBit(mol, bit_number, bit_info, useSVG=True)\n",
        "            return svg\n",
        "        except Exception as e:\n",
        "            print(f\"Error drawing bit {bit_number}: {str(e)}\")\n",
        "            return None\n",
        "\n",
        "    # First, draw the entire molecule\n",
        "    mol_img = Draw.MolsToGridImage(\n",
        "        mols=[mol],\n",
        "        molsPerRow=1,\n",
        "        subImgSize=(400, 300),\n",
        "        useSVG=True,\n",
        "        drawOptions=rdkit_drawing_options,\n",
        "        legends=[\"Original Molecule\"]\n",
        "    )\n",
        "\n",
        "    print(\"Original Molecule:\")\n",
        "    display(mol_img)\n",
        "\n",
        "    # Save the original molecule image\n",
        "    with open(f\"figures/ch02/fp_decomposition_example_mol.svg\", \"w\") as f:\n",
        "        f.write(mol_img.data)\n",
        "\n",
        "    # Generate the fingerprint and get bit info\n",
        "    ao = AdditionalOutput()\n",
        "    ao.AllocateBitInfoMap()\n",
        "    morgan_generator = GetMorganGenerator(radius=radius, fpSize=2048)\n",
        "    fp = morgan_generator.GetFingerprint(mol, additionalOutput=ao)\n",
        "\n",
        "    # Get the indices of set bits\n",
        "    set_bits = [idx for idx, bit in enumerate(fp) if bit]\n",
        "    if not set_bits:\n",
        "        print(\"No bits set in the fingerprint\")\n",
        "        return []\n",
        "\n",
        "    # Limit to the requested number of features\n",
        "    feature_bits = set_bits[:n_features]\n",
        "    print(f\"\\nShowing {len(feature_bits)} of {len(set_bits)} total fingerprint features:\")\n",
        "\n",
        "    # Generate and display images for each feature\n",
        "    bit_images = []\n",
        "    for i, bit_idx in enumerate(feature_bits):\n",
        "        bit_img = draw_fragment_from_bit(mol, bit_idx, ao.GetBitInfoMap())\n",
        "        if bit_img:\n",
        "            print(f\"Feature {i+1} (Bit {bit_idx}):\")\n",
        "            display(bit_img)\n",
        "            bit_images.append(bit_img)\n",
        "\n",
        "            # Save the feature image\n",
        "            with open(f\"figures/ch02/fp_decomposition_bit{i}.svg\", \"w\") as f:\n",
        "                f.write(bit_img.data)\n",
        "\n",
        "    return bit_images\n",
        "\n",
        "# Visualize fingerprint decomposition for a sample molecule\n",
        "example_mol = specs_filtered.mol.iloc[0]\n",
        "feature_images = visualize_fingerprint_decomposition(example_mol, n_features=5)"
      ]
    },
    {
      "cell_type": "markdown",
      "metadata": {
        "id": "RvGSjQy9dMW1"
      },
      "source": [
        "## <b> <font color='#A20025'> 5️⃣ Similarity Searching"
      ]
    },
    {
      "cell_type": "markdown",
      "metadata": {
        "id": "aWD0yftC0J8H"
      },
      "source": [
        "Now that we have a filtered compound library and molecular fingerprints, we can perform similarity searching to identify compounds that are structurally similar to known active molecules.\n",
        "\n",
        "For this example, we'll use the Malaria Box, a set of compounds with known antimalarial activity, as our query molecules. The Malaria Box is a collection of 400 compounds with confirmed activity against malaria parasites. These compounds were selected from screening campaigns of millions of compounds and made freely available to researchers to catalyze drug development for malaria and other neglected diseases. We'll search our filtered library for compounds that are similar to these known actives, which might have similar biological activity."
      ]
    },
    {
      "cell_type": "code",
      "execution_count": null,
      "metadata": {
        "id": "SMM8e2PU0J8I",
        "outputId": "92f15bd4-99de-4209-ff0d-2bd34211e522"
      },
      "outputs": [
        {
          "name": "stdout",
          "output_type": "stream",
          "text": [
            "Error loading Malaria Box: Missing optional dependency 'xlrd'. Install xlrd >= 2.0.1 for xls Excel support Use pip or conda to install xlrd.\n",
            "Could not load Malaria Box. Similarity searching cannot proceed.\n"
          ]
        }
      ],
      "source": [
        "def load_malaria_box():\n",
        "    \"\"\"\n",
        "    Load the Malaria Box dataset.\n",
        "\n",
        "    Returns:\n",
        "    --------\n",
        "    pandas.DataFrame\n",
        "        DataFrame containing Malaria Box compounds\n",
        "    \"\"\"\n",
        "    try:\n",
        "        # Load the Excel file\n",
        "        malaria_df = pd.read_excel(\n",
        "            \"data/ch02/MalariaBox400compoundsDec2014.xls\",\n",
        "            usecols=[\"HEOS_COMPOUND_ID\", \"Smiles\"]\n",
        "        )\n",
        "\n",
        "        # Add RDKit molecules\n",
        "        PandasTools.AddMoleculeColumnToFrame(malaria_df, 'Smiles', 'mol')\n",
        "\n",
        "        # Remove invalid molecules\n",
        "        valid_mol_count = malaria_df['mol'].notnull().sum()\n",
        "        invalid_mol_count = malaria_df['mol'].isnull().sum()\n",
        "\n",
        "        if invalid_mol_count > 0:\n",
        "            print(f\"Removed {invalid_mol_count} invalid molecules from Malaria Box\")\n",
        "            malaria_df = malaria_df[malaria_df['mol'].notnull()]\n",
        "\n",
        "        print(f\"Loaded {len(malaria_df)} valid compounds from Malaria Box\")\n",
        "        return malaria_df\n",
        "\n",
        "    except Exception as e:\n",
        "        print(f\"Error loading Malaria Box: {str(e)}\")\n",
        "        return None\n",
        "\n",
        "# Load the Malaria Box\n",
        "malaria_box = load_malaria_box()\n",
        "\n",
        "if malaria_box is not None:\n",
        "    # Display a few example compounds\n",
        "    print(\"\\nExample Malaria Box compounds:\")\n",
        "    display(malaria_box.head(3))\n",
        "\n",
        "    # Generate fingerprints for Malaria Box compounds\n",
        "    malaria_box, malaria_fp_col = generate_morgan_fingerprints(malaria_box)\n",
        "else:\n",
        "    print(\"Could not load Malaria Box. Similarity searching cannot proceed.\")"
      ]
    },
    {
      "cell_type": "markdown",
      "metadata": {
        "id": "YbSM_-e82Ib_"
      },
      "source": [
        "### <b> <font color='#A20025'> Searching against a Query"
      ]
    },
    {
      "cell_type": "markdown",
      "metadata": {
        "id": "KPT7T46f0J8J"
      },
      "source": [
        "There are several methods to quantify the similarity between molecular fingerprints. The two most common are:\n",
        "\n",
        "1. **Tanimoto similarity** (also called Jaccard similarity): The ratio of the number of common bits to the total number of bits set in either fingerprint.\n",
        "2. **Dice similarity**: Similar to Tanimoto but gives more weight to common features.\n",
        "\n",
        "Let's compute both similarity metrics between a query molecule from the Malaria Box and our filtered compound library:\n"
      ]
    },
    {
      "cell_type": "code",
      "execution_count": null,
      "metadata": {
        "id": "pMWngA1X0J8J"
      },
      "outputs": [],
      "source": [
        "def compute_similarity_to_query(query_fp, fp_list):\n",
        "    \"\"\"\n",
        "    Compute similarity between a query fingerprint and a list of fingerprints.\n",
        "\n",
        "    Parameters:\n",
        "    -----------\n",
        "    query_fp : rdkit.DataStructs._VectInt\n",
        "        Query fingerprint\n",
        "    fp_list : list\n",
        "        List of fingerprints to compare against\n",
        "\n",
        "    Returns:\n",
        "    --------\n",
        "    tuple\n",
        "        Tanimoto and Dice similarity scores\n",
        "    \"\"\"\n",
        "    tanimoto_sim = DataStructs.BulkTanimotoSimilarity(query_fp, fp_list)\n",
        "    dice_sim = DataStructs.BulkDiceSimilarity(query_fp, fp_list)\n",
        "    return tanimoto_sim, dice_sim\n",
        "\n",
        "def analyze_similarity_scores(df, tanimoto_scores, dice_scores):\n",
        "    \"\"\"\n",
        "    Analyze similarity scores distribution.\n",
        "\n",
        "    Parameters:\n",
        "    -----------\n",
        "    df : pandas.DataFrame\n",
        "        DataFrame to add scores to\n",
        "    tanimoto_scores : list\n",
        "        Tanimoto similarity scores\n",
        "    dice_scores : list\n",
        "        Dice similarity scores\n",
        "\n",
        "    Returns:\n",
        "    --------\n",
        "    pandas.DataFrame\n",
        "        DataFrame with added similarity scores\n",
        "    \"\"\"\n",
        "    # Add scores to the dataframe\n",
        "    df['tanimoto_sim'] = tanimoto_scores\n",
        "    df['dice_sim'] = dice_scores\n",
        "\n",
        "    # Basic statistics\n",
        "    print(\"Similarity Score Statistics:\")\n",
        "    print(\"\\nTanimoto Similarity:\")\n",
        "    print(f\"Min: {min(tanimoto_scores):.4f}\")\n",
        "    print(f\"Max: {max(tanimoto_scores):.4f}\")\n",
        "    print(f\"Mean: {np.mean(tanimoto_scores):.4f}\")\n",
        "    print(f\"Median: {np.median(tanimoto_scores):.4f}\")\n",
        "\n",
        "    print(\"\\nDice Similarity:\")\n",
        "    print(f\"Min: {min(dice_scores):.4f}\")\n",
        "    print(f\"Max: {max(dice_scores):.4f}\")\n",
        "    print(f\"Mean: {np.mean(dice_scores):.4f}\")\n",
        "    print(f\"Median: {np.median(dice_scores):.4f}\")\n",
        "\n",
        "    return df\n",
        "\n",
        "# Check if we have both datasets before proceeding\n",
        "if 'malaria_box' in locals() and 'specs_filtered' in locals() and len(malaria_box) > 0:\n",
        "    # Select a query molecule from the Malaria Box (index 236 as in the original script)\n",
        "    query_idx = 236\n",
        "    if query_idx < len(malaria_box):\n",
        "        query_fp = malaria_box[malaria_fp_col].iloc[query_idx]\n",
        "        query_mol = malaria_box.mol.iloc[query_idx]\n",
        "\n",
        "        print(f\"Selected Malaria Box compound #{query_idx} as query:\")\n",
        "        query_img = Draw.MolsToGridImage(\n",
        "            mols=[query_mol],\n",
        "            molsPerRow=1,\n",
        "            subImgSize=(400, 300),\n",
        "            useSVG=True,\n",
        "            drawOptions=rdkit_drawing_options\n",
        "        )\n",
        "        display(query_img)\n",
        "\n",
        "        # Save the query molecule image\n",
        "        with open(\"figures/ch02/example_malaria_box_mol.svg\", \"w\") as f:\n",
        "            f.write(query_img.data)\n",
        "\n",
        "        # Get fingerprints from the filtered library\n",
        "        library_fps = specs_filtered[fp_col_name].tolist()\n",
        "\n",
        "        # Compute similarity scores\n",
        "        print(\"\\nComputing similarity scores...\")\n",
        "        tanimoto_scores, dice_scores = compute_similarity_to_query(query_fp, library_fps)\n",
        "\n",
        "        # Analyze scores\n",
        "        specs_filtered = analyze_similarity_scores(specs_filtered, tanimoto_scores, dice_scores)\n",
        "    else:\n",
        "        print(f\"Query index {query_idx} is out of range for Malaria Box with {len(malaria_box)} compounds\")\n",
        "else:\n",
        "    print(\"Similarity searching cannot proceed without both datasets\")"
      ]
    },
    {
      "cell_type": "markdown",
      "metadata": {
        "id": "5MD3Cl0z0J8K"
      },
      "source": [
        "Let's visualize molecules with high and low similarity to our query molecule to understand what structural features contribute to similarity:"
      ]
    },
    {
      "cell_type": "code",
      "execution_count": null,
      "metadata": {
        "id": "aOfqgNzp0J8L"
      },
      "outputs": [],
      "source": [
        "def visualize_similarity_extremes(df, sim_col, sim_col_2=None, n=3):\n",
        "    \"\"\"\n",
        "    Visualize molecules with highest and lowest similarity scores.\n",
        "\n",
        "    Parameters:\n",
        "    -----------\n",
        "    df : pandas.DataFrame\n",
        "        DataFrame containing molecules and similarity scores\n",
        "    sim_col : str\n",
        "        Name of the similarity score column\n",
        "    sim_col_2 : str\n",
        "        Name of a second similarity score column (optional)\n",
        "    n : int\n",
        "        Number of molecules to show from each extreme\n",
        "\n",
        "    Returns:\n",
        "    --------\n",
        "    rdkit.Chem.Draw._MolsToGridImage\n",
        "        Grid image of molecules\n",
        "    \"\"\"\n",
        "    # Order by similarity\n",
        "    df_ordered = df.sort_values([sim_col], ascending=False).reset_index(drop=True)\n",
        "\n",
        "    # Get highest and lowest similarity molecules\n",
        "    extremes = pd.concat([df_ordered[:n], df_ordered.dropna()[-n:]])\n",
        "\n",
        "    # Create legends\n",
        "    if sim_col_2:\n",
        "        legend_text = [f\"Tani: {x:.2f}\\nDice: {y:.2f}\" for x, y in\n",
        "                      zip(extremes[sim_col], extremes[sim_col_2])]\n",
        "    else:\n",
        "        legend_text = [f\"{x:.2f}\" for x in extremes[sim_col]]\n",
        "\n",
        "    # Create the visualization\n",
        "    img = Draw.MolsToGridImage(\n",
        "        extremes.mol,\n",
        "        molsPerRow=n,\n",
        "        subImgSize=(300, 250),\n",
        "        legends=legend_text,\n",
        "        useSVG=True,\n",
        "        drawOptions=rdkit_drawing_options\n",
        "    )\n",
        "\n",
        "    return img\n",
        "\n",
        "# Visualize similarity extremes if we have similarity scores\n",
        "if 'specs_filtered' in locals() and 'tanimoto_sim' in specs_filtered.columns:\n",
        "    sim_img = visualize_similarity_extremes(\n",
        "        specs_filtered,\n",
        "        sim_col=\"tanimoto_sim\",\n",
        "        sim_col_2=\"dice_sim\",\n",
        "        n=3\n",
        "    )\n",
        "    display(sim_img)\n",
        "\n",
        "    # Save the visualization\n",
        "    with open(\"figures/ch02/example_tani_dice_sim.svg\", \"w\") as f:\n",
        "        f.write(sim_img.data)\n",
        "    print(\"Similarity visualization saved to 'figures/ch02/example_tani_dice_sim.svg'\")\n",
        "\n",
        "    # Visualize the relationship between Tanimoto and Dice similarity\n",
        "    plt.figure(figsize=(10, 8))\n",
        "\n",
        "    # Create a joint plot\n",
        "    joint_plot = sns.jointplot(\n",
        "        data=specs_filtered,\n",
        "        x=\"tanimoto_sim\",\n",
        "        y=\"dice_sim\",\n",
        "        kind=\"hex\",\n",
        "        cmap=\"viridis\",\n",
        "        height=8\n",
        "    )\n",
        "\n",
        "    joint_plot.set_axis_labels(\"Tanimoto Similarity\", \"Dice Similarity\", fontsize=12)\n",
        "\n",
        "    # Add a title\n",
        "    plt.suptitle(\"Relationship Between Tanimoto and Dice Similarity\",\n",
        "                y=1.02, fontsize=16)\n",
        "\n",
        "    plt.tight_layout()\n",
        "\n",
        "    # Save the figure\n",
        "    plt.savefig('figures/ch02/sim_pairplot.png', bbox_inches='tight', dpi=600)\n",
        "    plt.savefig('figures/ch02/sim_pairplot.pdf', bbox_inches='tight', dpi=600)\n",
        ""
      ]
    },
    {
      "cell_type": "markdown",
      "metadata": {
        "id": "wGfS_sA80J8N"
      },
      "source": [
        "Instead of just searching against a single Malaria Box compound, let's identify all compounds in our library that are similar to any of the Malaria Box compounds. This is a more realistic virtual screening scenario, where we're looking for any compound that might have similar activity to our reference set."
      ]
    },
    {
      "cell_type": "code",
      "execution_count": null,
      "metadata": {
        "id": "EEmVpWX40J8N"
      },
      "outputs": [],
      "source": [
        "def search_similar_compounds(query_fps, library_fps, similarity_threshold=0.65):\n",
        "    \"\"\"\n",
        "    Find compounds in a library that are similar to any query compound.\n",
        "\n",
        "    Parameters:\n",
        "    -----------\n",
        "    query_fps : list\n",
        "        List of query fingerprints\n",
        "    library_fps : list\n",
        "        List of library fingerprints\n",
        "    similarity_threshold : float\n",
        "        Minimum similarity score to consider\n",
        "\n",
        "    Returns:\n",
        "    --------\n",
        "    dict\n",
        "        Dictionary mapping library compound indices to their maximum similarity score\n",
        "    \"\"\"\n",
        "    from collections import defaultdict\n",
        "\n",
        "    # Initialize matches dictionary with default value 0\n",
        "    matches = defaultdict(int)\n",
        "\n",
        "    print(f\"Searching for compounds with dice similarity ≥ {similarity_threshold}...\")\n",
        "    print(f\"Comparing {len(query_fps)} query compounds against {len(library_fps)} library compounds\")\n",
        "\n",
        "    # Progress counter\n",
        "    counter = 0\n",
        "    update_frequency = max(1, len(query_fps) // 10)  # Update progress 10 times\n",
        "\n",
        "    # Compare each query against the library\n",
        "    for query_fp in query_fps:\n",
        "        # Compute Dice similarity\n",
        "        dice_sim = DataStructs.BulkDiceSimilarity(query_fp, library_fps)\n",
        "\n",
        "        # Update matches with maximum similarity for each library compound\n",
        "        for idx, sim in enumerate(dice_sim):\n",
        "            if sim >= similarity_threshold:\n",
        "                matches[idx] = max(sim, matches[idx])\n",
        "\n",
        "        # Update progress\n",
        "        counter += 1\n",
        "        if counter % update_frequency == 0 or counter == len(query_fps):\n",
        "            print(f\"Progress: {counter}/{len(query_fps)} queries processed \"\n",
        "                  f\"({counter/len(query_fps)*100:.1f}%)\")\n",
        "\n",
        "    print(f\"Found {len(matches)} compounds with similarity ≥ {similarity_threshold}\")\n",
        "    return matches\n",
        "\n",
        "def select_top_matches(matches, budget=1000):\n",
        "    \"\"\"\n",
        "    Select the top matches up to a budget constraint.\n",
        "\n",
        "    Parameters:\n",
        "    -----------\n",
        "    matches : dict\n",
        "        Dictionary mapping compound indices to similarity scores\n",
        "    budget : int\n",
        "        Maximum number of compounds to select\n",
        "\n",
        "    Returns:\n",
        "    --------\n",
        "    list\n",
        "        Indices of the top compounds\n",
        "    \"\"\"\n",
        "    import heapq\n",
        "\n",
        "    # Convert to a list of (similarity, index) tuples\n",
        "    heap = []\n",
        "    for idx, sim in matches.items():\n",
        "        # Use negative similarity for max-heap (Python has min-heap by default)\n",
        "        heapq.heappush(heap, (-1 * sim, idx))\n",
        "\n",
        "    # Pop top matches up to budget\n",
        "    top_matches = []\n",
        "    for i in range(min(budget, len(heap))):\n",
        "        neg_sim, idx = heapq.heappop(heap)\n",
        "        sim = -1 * neg_sim  # Convert back to positive similarity\n",
        "        top_matches.append((idx, sim))\n",
        "\n",
        "    print(f\"Selected top {len(top_matches)} compounds (budget: {budget})\")\n",
        "    return top_matches\n",
        "\n",
        "# Check if we have both datasets before proceeding\n",
        "if 'malaria_box' in locals() and 'specs_filtered' in locals() and len(malaria_box) > 0:\n",
        "    # Get fingerprints\n",
        "    query_fps = malaria_box[malaria_fp_col].tolist()\n",
        "    library_fps = specs_filtered[fp_col_name].tolist()\n",
        "\n",
        "    # Search for similar compounds\n",
        "    matches = search_similar_compounds(query_fps, library_fps, similarity_threshold=0.65)\n",
        "\n",
        "    # Select top matches\n",
        "    top_matches = select_top_matches(matches, budget=1000)\n",
        "\n",
        "    if top_matches:\n",
        "        # Extract hits\n",
        "        hit_indices = [idx for idx, sim in top_matches]\n",
        "        hit_similarities = [sim for idx, sim in top_matches]\n",
        "\n",
        "        specs_hits = specs_filtered.iloc[hit_indices].copy()\n",
        "        specs_hits['max_dice_sim'] = hit_similarities\n",
        "\n",
        "        # Display statistics about the hits\n",
        "        print(\"\\nHit Statistics:\")\n",
        "        print(f\"Mean similarity: {np.mean(hit_similarities):.4f}\")\n",
        "        print(f\"Median similarity: {np.median(hit_similarities):.4f}\")\n",
        "        print(f\"Min similarity: {min(hit_similarities):.4f}\")\n",
        "        print(f\"Max similarity: {max(hit_similarities):.4f}\")\n",
        "\n",
        "        # Save the hits\n",
        "        output_file = \"artifacts/ch02/specs_hits_to_malaria_box.csv\"\n",
        "        specs_hits.to_csv(\n",
        "            output_file,\n",
        "            columns=[\"PUBCHEM_SUBSTANCE_ID\", \"smiles\", \"max_dice_sim\"],\n",
        "            index=False\n",
        "        )\n",
        "        print(f\"\\nSaved {len(specs_hits)} hits to {output_file}\")\n",
        "\n",
        "        # Visualize a few top hits\n",
        "        top_n = 6\n",
        "        if len(specs_hits) >= top_n:\n",
        "            print(f\"\\nVisualizing top {top_n} hits:\")\n",
        "            top_hits = specs_hits.sort_values('max_dice_sim', ascending=False).head(top_n)\n",
        "\n",
        "            hits_img = Draw.MolsToGridImage(\n",
        "                top_hits.mol,\n",
        "                molsPerRow=3,\n",
        "                subImgSize=(300, 250),\n",
        "                legends=[f\"Dice: {sim:.2f}\" for sim in top_hits.max_dice_sim],\n",
        "                useSVG=True,\n",
        "                drawOptions=rdkit_drawing_options\n",
        "            )\n",
        "            display(hits_img)\n",
        "    else:\n",
        "        print(\"No hits found meeting the similarity threshold\")\n",
        "else:\n",
        "    print(\"Similarity searching cannot proceed without both datasets\")"
      ]
    },
    {
      "cell_type": "markdown",
      "metadata": {
        "id": "eUmGywHr0J8O"
      },
      "source": [
        "## <b> <font color='#A20025'> Summary"
      ]
    },
    {
      "cell_type": "markdown",
      "metadata": {
        "id": "ltJAdnUz0J8O"
      },
      "source": [
        "In this notebook, we've covered:\n",
        "\n",
        "1. **Compound Library Preparation**:\n",
        "    - Loading a compound library from an SDF file\n",
        "    - Calculating molecular descriptors\n",
        "\n",
        "2. **Compound Filtering**:\n",
        "    - Property-based filtering using Lipinski's Rule of Five\n",
        "    - Structure-based filtering to remove problematic compounds (PAINS, BRENK, Glaxo Wellcome alerts)\n",
        "\n",
        "3. **Fingerprint Generation**:\n",
        "    - Creating Morgan fingerprints to represent molecules numerically\n",
        "    - Visualizing the structural features encoded in fingerprints\n",
        "\n",
        "4. **Similarity Searching**:\n",
        "    - Computing Tanimoto and Dice similarity between molecules\n",
        "    - Finding compounds in our library that are similar to known antimalarial compounds\n",
        "\n",
        "These techniques form the foundation of ligand-based virtual screening, which is a powerful approach for drug discovery, especially when the 3D structure of the target is unknown."
      ]
    },
    {
      "cell_type": "markdown",
      "metadata": {
        "id": "2EJuFwYc0J8P"
      },
      "source": [
        "## <b> <font color='#A20025'> Interactive Exploration"
      ]
    },
    {
      "cell_type": "markdown",
      "metadata": {
        "id": "xyniP4g00J8P"
      },
      "source": [
        "Here are some ideas for further exploration:\n",
        "\n",
        "1. Try different fingerprint types (MACCS keys, topological fingerprints) and compare their performance\n",
        "2. Experiment with different similarity thresholds and see how they affect the number and diversity of hits\n",
        "3. Apply different property filters to see their impact on the library composition\n",
        "4. Search for compounds similar to other bioactive molecules (e.g., from ChEMBL or PubChem)\n",
        "\n",
        "*See the book for more exercises.*"
      ]
    },
    {
      "cell_type": "markdown",
      "metadata": {
        "id": "UVtjgkDc0J8P"
      },
      "source": [
        "## <b> <font color='#A20025'> References"
      ]
    },
    {
      "cell_type": "markdown",
      "metadata": {
        "id": "STrTe24S0J8Q"
      },
      "source": [
        "[1] Zhang, M.Q., Wilkinson, B. (2007), Drug discovery beyond the ‘rule-of-five’. Curr. Opin. Biotechnol., 16 (6): 478-488. https://doi.org/10.1016/j.copbio.2007.10.005\n",
        "\n",
        "[2] Benet, L.Z., Hosey, C.M., Ursu, O., Oprea, T.I. (2016), BDDCS, the Rule of 5 and drugability. Adv. Drug. Deliv. Rev., 101: 89-98. https://doi.org/10.1016/j.addr.2016.05.007\n",
        "\n",
        "[3] Roy, K.K. (2017). Targeting the active sites of malarial proteases for antimalarial drug discovery: approaches, progress and challenges. International Journal of Antimicrobial Agents, 50 (3): 287-302\n",
        "\n",
        "[4] Shibeshi, M.A., Kifle, Z.D., & Atnafie, S.A. (2020). Antimalarial Drug Resistance and Novel Targets for Antimalarial Drug Discovery. Infection and drug resistance, 13, 4047–4060. https://doi.org/10.2147/IDR.S279433\n",
        "\n",
        "[5] Mesén-Ramírez, P., Bergmann, B., Tran, T.T., Garten, M., Stäcker, J., et al. (2019). EXP1 is critical for nutrient uptake across the parasitophorous vacuole membrane of malaria parasites. PLOS Biology, 17 (9). https://doi.org/10.1371/journal.pbio.3000473\n",
        "\n",
        "[6] Neves, B.J., Braga, R.C., Alves, V. M., Lima, M. N. N., Cassiano, G. C., et al. (2020). Deep Learning-driven research for drug discovery: Tackling Malaria. PLOS Comput. Biol., 16 (2). https://doi.org/10.1371/journal.pcbi.1007025\n",
        "\n",
        "[7] Zhang, L., Fourches, D., Sedykh, A., et al. (2013). Discovery of Novel Antimalarial Compounds Enabled by QSAR-Based Virtual Screening. J. Chem. Inf. Model., 53 (2): 475-492. https://doi.org/10.1021/ci300421n\n",
        "\n",
        "[8] Malaria Box supporting information. Medicines for Malaria Venture. https://www.mmv.org/mmv-open/malaria-box/malaria-box-supporting-information\n",
        "\n",
        "[9] Getting Started with the RDKit in Python. RDKit. https://www.rdkit.org/docs/GettingStartedInPython.html\n",
        "\n",
        "[10] RDKit Cookbook. RDKit. https://www.rdkit.org/docs/Cookbook.html\n",
        "\n",
        "[11] Handbook of Molecular Descriptors. https://onlinelibrary.wiley.com/doi/book/10.1002/9783527613106\n",
        "\n",
        "[12] Lipinski, C.A., Lombardo, F., Dominy, B.W., Feeney, P.J. (2001). Experimental and computational approaches to estimate solubility and permeability in drug discovery and development settings. Advanced Drug Delivery Reviews. 46 (1–3): 3–26. doi:10.1016/S0169-409X(00)00129-0. PMID 11259830\n",
        "\n",
        "[13] Brenk, R., Schipani, A., James, D., Krasowski, A., Gilbert, I.H., Frearson, J., & Wyatt, P.G. (2008). Lessons learnt from assembling screening libraries for drug discovery for neglected diseases. Chem. Med. Chem., 3 (3): 435–444. https://doi.org/10.1002/cmdc.200700139\n",
        "\n",
        "[14] Walters, W.P., Stahl, M.T., Murcko, M.A. (1998). Virtual Screening -- An Overview. Drug Discov. Today. 3: 160–178\n",
        "\n",
        "[15] SMARTS – A Language for Describing Molecular Patterns. Daylight Manual. https://www.daylight.com/dayhtml/doc/theory/theory.smarts.html\n",
        "\n",
        "[16] https://github.com/rdkit/rdkit/blob/master/rdkit/Chem/MACCSkeys.py\n",
        "\n",
        "[17] Fingerprints – Screening and Similarity. Daylight Manual. https://www.daylight.com/dayhtml/doc/theory/theory.finger.html#RTFToC83"
      ]
    },
    {
      "cell_type": "markdown",
      "metadata": {
        "id": "C0pan3Y50J8S"
      },
      "source": []
    }
  ],
  "metadata": {
    "colab": {
      "provenance": [],
      "include_colab_link": true
    },
    "kernelspec": {
      "display_name": "ml4dd2025",
      "language": "python",
      "name": "python3"
    },
    "language_info": {
      "codemirror_mode": {
        "name": "ipython",
        "version": 3
      },
      "file_extension": ".py",
      "mimetype": "text/x-python",
      "name": "python",
      "nbconvert_exporter": "python",
      "pygments_lexer": "ipython3",
      "version": "3.12.2"
    }
  },
  "nbformat": 4,
  "nbformat_minor": 0
}